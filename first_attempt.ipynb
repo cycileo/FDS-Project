{
 "cells": [
  {
   "cell_type": "markdown",
   "metadata": {},
   "source": [
    "### Enviroment Setup"
   ]
  },
  {
   "cell_type": "markdown",
   "metadata": {},
   "source": [
    "#### Install Torch with CUDA"
   ]
  },
  {
   "cell_type": "code",
   "execution_count": null,
   "metadata": {},
   "outputs": [],
   "source": [
    "# !pip3 install torch torchvision torchaudio --index-url https://download.pytorch.org/whl/cu118 -q"
   ]
  },
  {
   "cell_type": "code",
   "execution_count": 1,
   "metadata": {},
   "outputs": [
    {
     "name": "stdout",
     "output_type": "stream",
     "text": [
      "True\n"
     ]
    }
   ],
   "source": [
    "import torch\n",
    "print(torch.cuda.is_available())  # Should return True if GPU is available"
   ]
  },
  {
   "cell_type": "markdown",
   "metadata": {},
   "source": [
    "#### Download Dataset"
   ]
  },
  {
   "cell_type": "code",
   "execution_count": null,
   "metadata": {},
   "outputs": [],
   "source": [
    "# !pip install gdown -q"
   ]
  },
  {
   "cell_type": "markdown",
   "metadata": {},
   "source": [
    "This cell might take more than 1 minute to run"
   ]
  },
  {
   "cell_type": "code",
   "execution_count": null,
   "metadata": {},
   "outputs": [],
   "source": [
    "# import os\n",
    "# import gdown\n",
    "# import zipfile\n",
    "\n",
    "# # URL of the zip file on Google Drive\n",
    "# url = 'https://drive.google.com/file/d/1OXoi4UeZy726ILuPM6Y57sr4eZhqrhq2/view?usp=sharing'\n",
    "\n",
    "# # Function to download the zip file and extract it\n",
    "# def download_and_extract_zip(url, extract_to='PlantVillage'):\n",
    "#     # Generate the direct download URL for the file\n",
    "#     file_id = url.split('/d/')[1].split('/')[0]\n",
    "#     download_url = f'https://drive.google.com/uc?id={file_id}'\n",
    "\n",
    "#     # Download the zip file\n",
    "#     zip_file = 'PlantVillage.zip'\n",
    "#     gdown.download(download_url, zip_file, quiet=False)\n",
    "\n",
    "#     # Extract the zip file directly\n",
    "#     with zipfile.ZipFile(zip_file, 'r') as zip_ref:\n",
    "#         # Extract all the files directly into the 'extract_to' folder\n",
    "#         zip_ref.extractall(extract_to)\n",
    "\n",
    "#     # Remove the zip file after extraction\n",
    "#     os.remove(zip_file)\n",
    "\n",
    "# # Check if the 'PlantVillage' folder exists\n",
    "# if not os.path.exists('PlantVillage') or not os.listdir('PlantVillage'):\n",
    "#     download_and_extract_zip(url)"
   ]
  },
  {
   "cell_type": "code",
   "execution_count": 4,
   "metadata": {},
   "outputs": [],
   "source": [
    "import os\n",
    "from tqdm import tqdm\n",
    "import numpy as np\n",
    "import pandas as pd\n",
    "import matplotlib.pyplot as plt\n",
    "from collections import Counter\n",
    "from torchvision import datasets, transforms\n",
    "from torch.utils.data import DataLoader, random_split"
   ]
  },
  {
   "cell_type": "markdown",
   "metadata": {},
   "source": [
    "### Dataset Preprocessing"
   ]
  },
  {
   "cell_type": "code",
   "execution_count": 5,
   "metadata": {},
   "outputs": [
    {
     "name": "stdout",
     "output_type": "stream",
     "text": [
      "Class to index mapping: {'Apple___Apple_scab': 0, 'Apple___Black_rot': 1, 'Apple___Cedar_apple_rust': 2, 'Apple___healthy': 3, 'Blueberry___healthy': 4, 'Cherry_(including_sour)___Powdery_mildew': 5, 'Cherry_(including_sour)___healthy': 6, 'Corn_(maize)___Cercospora_leaf_spot Gray_leaf_spot': 7, 'Corn_(maize)___Common_rust_': 8, 'Corn_(maize)___Northern_Leaf_Blight': 9, 'Corn_(maize)___healthy': 10, 'Grape___Black_rot': 11, 'Grape___Esca_(Black_Measles)': 12, 'Grape___Leaf_blight_(Isariopsis_Leaf_Spot)': 13, 'Grape___healthy': 14, 'Orange___Haunglongbing_(Citrus_greening)': 15, 'Peach___Bacterial_spot': 16, 'Peach___healthy': 17, 'Pepper,_bell___Bacterial_spot': 18, 'Pepper,_bell___healthy': 19, 'Potato___Early_blight': 20, 'Potato___Late_blight': 21, 'Potato___healthy': 22, 'Raspberry___healthy': 23, 'Soybean___healthy': 24, 'Squash___Powdery_mildew': 25, 'Strawberry___Leaf_scorch': 26, 'Strawberry___healthy': 27, 'Tomato___Bacterial_spot': 28, 'Tomato___Early_blight': 29, 'Tomato___Late_blight': 30, 'Tomato___Leaf_Mold': 31, 'Tomato___Septoria_leaf_spot': 32, 'Tomato___Spider_mites Two-spotted_spider_mite': 33, 'Tomato___Target_Spot': 34, 'Tomato___Tomato_Yellow_Leaf_Curl_Virus': 35, 'Tomato___Tomato_mosaic_virus': 36, 'Tomato___healthy': 37}\n",
      "                                                Class  Count\n",
      "0                                    Potato___healthy    121\n",
      "1                            Apple___Cedar_apple_rust    220\n",
      "2                                     Peach___healthy    288\n",
      "3                                 Raspberry___healthy    297\n",
      "4                        Tomato___Tomato_mosaic_virus    299\n",
      "5                                     Grape___healthy    339\n",
      "6                                Strawberry___healthy    364\n",
      "7   Corn_(maize)___Cercospora_leaf_spot Gray_leaf_...    410\n",
      "8                                   Apple___Black_rot    496\n",
      "9                                  Apple___Apple_scab    504\n",
      "10                  Cherry_(including_sour)___healthy    684\n",
      "11                                 Tomato___Leaf_Mold    761\n",
      "12                Corn_(maize)___Northern_Leaf_Blight    788\n",
      "13                      Pepper,_bell___Bacterial_spot    797\n",
      "14                               Potato___Late_blight    800\n",
      "15                              Potato___Early_blight    800\n",
      "16                              Tomato___Early_blight    800\n",
      "17           Cherry_(including_sour)___Powdery_mildew    842\n",
      "18         Grape___Leaf_blight_(Isariopsis_Leaf_Spot)    861\n",
      "19                           Strawberry___Leaf_scorch    887\n",
      "20                             Corn_(maize)___healthy    929\n",
      "21                                  Grape___Black_rot    944\n",
      "22                        Corn_(maize)___Common_rust_    953\n",
      "23                       Grape___Esca_(Black_Measles)   1107\n",
      "24                               Tomato___Target_Spot   1123\n",
      "25                             Pepper,_bell___healthy   1183\n",
      "26                                Blueberry___healthy   1202\n",
      "27                                   Tomato___healthy   1273\n",
      "28                                    Apple___healthy   1316\n",
      "29      Tomato___Spider_mites Two-spotted_spider_mite   1341\n",
      "30                        Tomato___Septoria_leaf_spot   1417\n",
      "31                            Squash___Powdery_mildew   1468\n",
      "32                               Tomato___Late_blight   1527\n",
      "33                            Tomato___Bacterial_spot   1702\n",
      "34                             Peach___Bacterial_spot   1838\n",
      "35                                  Soybean___healthy   4072\n",
      "36             Tomato___Tomato_Yellow_Leaf_Curl_Virus   4286\n",
      "37           Orange___Haunglongbing_(Citrus_greening)   4405\n"
     ]
    }
   ],
   "source": [
    "# Define transformations for your dataset\n",
    "image_width = 32\n",
    "transform = transforms.Compose([\n",
    "    transforms.Resize((image_width, image_width)),  # Resize all images to 128x128\n",
    "    transforms.ToTensor(),          # Convert images to PyTorch tensors\n",
    "    transforms.Normalize(mean=[0.5, 0.5, 0.5], std=[0.5, 0.5, 0.5])  # Normalize to [-1, 1]\n",
    "])\n",
    "\n",
    "# Load train dataset\n",
    "train_path = os.path.join('PlantVillage', 'train')\n",
    "train_dataset = datasets.ImageFolder(root=train_path, transform=transform)\n",
    "\n",
    "# Load val dataset\n",
    "val_path = os.path.join('PlantVillage', 'val')\n",
    "val_dataset = datasets.ImageFolder(root=val_path, transform=transform)\n",
    "\n",
    "# Split val dataset into val and test\n",
    "test_split = 0.5  # Use 50% of the current val set as the test set\n",
    "test_size = int(test_split * len(val_dataset))\n",
    "val_size = len(val_dataset) - test_size\n",
    "\n",
    "val_dataset, test_dataset = random_split(val_dataset, [val_size, test_size])\n",
    "\n",
    "# Create DataLoaders for train, val, and test datasets\n",
    "batch_size = 32\n",
    "\n",
    "train_loader = DataLoader(train_dataset, batch_size=batch_size, shuffle=True, num_workers=4)\n",
    "val_loader = DataLoader(val_dataset, batch_size=batch_size, shuffle=False, num_workers=4)\n",
    "test_loader = DataLoader(test_dataset, batch_size=batch_size, shuffle=False, num_workers=4)\n",
    "\n",
    "# Function to count class instances with a progress bar\n",
    "def count_classes(dataset):\n",
    "    class_counter = Counter()\n",
    "    for _, label in tqdm(dataset, desc=\"Counting classes\"):\n",
    "        class_counter[label] += 1\n",
    "    return class_counter\n",
    "\n",
    "# Access class-to-index mapping\n",
    "class_to_idx = train_dataset.class_to_idx\n",
    "print(\"Class to index mapping:\", class_to_idx)\n",
    "\n",
    "def count_classes_in_folders(dataset_path):\n",
    "    \"\"\"\n",
    "    Count the number of items in each class folder in the dataset.\n",
    "    \"\"\"\n",
    "    class_counts = {}\n",
    "    for class_name in os.listdir(dataset_path):\n",
    "        class_folder = os.path.join(dataset_path, class_name)\n",
    "        if os.path.isdir(class_folder):  # Ensure it's a directory\n",
    "            class_counts[class_name] = len(os.listdir(class_folder))\n",
    "    return class_counts\n",
    "\n",
    "# Count classes\n",
    "train_class_counts = count_classes_in_folders(train_path)\n",
    "\n",
    "# Create a DataFrame from the train_class_counts dictionary\n",
    "class_df = pd.DataFrame(list(train_class_counts.items()), columns=[\"Class\", \"Count\"])\n",
    "\n",
    "# Sort the DataFrame by 'Count' in ascending order\n",
    "class_df_sorted = class_df.sort_values(by=\"Count\", ascending=True).reset_index(drop=True)\n",
    "\n",
    "# Print the sorted DataFrame\n",
    "print(class_df_sorted)"
   ]
  },
  {
   "cell_type": "code",
   "execution_count": null,
   "metadata": {},
   "outputs": [],
   "source": [
    "# import torch.optim as optim\n",
    "\n",
    "# # Model, loss function, optimizer\n",
    "# device = torch.device('cuda' if torch.cuda.is_available() else 'cpu')  # Use GPU if available\n",
    "# num_classes = len(train_dataset.classes)\n",
    "# model = SimpleCNN(num_classes=num_classes, image_width=image_width).to(device)  # Move model to device\n",
    "# criterion = nn.CrossEntropyLoss()\n",
    "# optimizer = optim.Adam(model.parameters(), lr=0.001)\n",
    "\n",
    "# # Set maximum number of epochs and patience for early stopping\n",
    "# max_epochs = 40\n",
    "# patience = 5  # Number of epochs with no improvement after which training will stop\n",
    "# best_val_loss = float('inf')  # Initialize best validation loss as infinity\n",
    "# epochs_without_improvement = 0\n",
    "\n",
    "# # Training loop\n",
    "# for epoch in range(max_epochs):\n",
    "#     model.train()\n",
    "#     running_loss = 0.0\n",
    "#     train_loader = tqdm(train_loader, desc=f\"Epoch {epoch+1}/{max_epochs}\", unit=\"batch\")  # Add tqdm to training loop\n",
    "    \n",
    "#     for images, labels in train_loader:\n",
    "#         images, labels = images.to(device), labels.to(device)  # Move data to device\n",
    "#         optimizer.zero_grad()\n",
    "#         outputs = model(images)\n",
    "#         loss = criterion(outputs, labels)\n",
    "#         loss.backward()\n",
    "#         optimizer.step()\n",
    "#         running_loss += loss.item()\n",
    "#         train_loader.set_postfix(loss=loss.item())  # Update tqdm progress bar with current loss\n",
    "    \n",
    "#     print(f\"Epoch {epoch+1}, Average Loss: {(running_loss / len(train_loader)):.4f}\")\n",
    "\n",
    "#     # Evaluate on the validation dataset\n",
    "#     model.eval()\n",
    "#     correct = 0\n",
    "#     total = 0\n",
    "#     val_loss = 0.0\n",
    "#     with torch.no_grad():  # Disable gradient computation during evaluation\n",
    "#         for images, labels in val_loader:  # Assuming val_loader is the DataLoader for the test/validation set\n",
    "#             images, labels = images.to(device), labels.to(device)\n",
    "#             outputs = model(images)\n",
    "#             loss = criterion(outputs, labels)\n",
    "#             val_loss += loss.item()\n",
    "            \n",
    "#             _, predicted = torch.max(outputs, 1)\n",
    "#             total += labels.size(0)\n",
    "#             correct += (predicted == labels).sum().item()\n",
    "    \n",
    "#     avg_val_loss = val_loss / len(val_loader)\n",
    "#     accuracy = 100 * correct / total\n",
    "#     print(f\"Validation Accuracy: {accuracy:.2f}%\")\n",
    "#     print(f\"Validation Loss: {avg_val_loss:.4f}\")\n",
    "    \n",
    "#     # Check for early stopping\n",
    "#     if avg_val_loss < best_val_loss:\n",
    "#         best_val_loss = avg_val_loss\n",
    "#         epochs_without_improvement = 0  # Reset counter\n",
    "#     else:\n",
    "#         epochs_without_improvement += 1\n",
    "#         if epochs_without_improvement >= patience:\n",
    "#             print(f\"Early stopping triggered after {epoch+1} epochs.\")\n",
    "#             break  # Stop training early if no improvement\n",
    "\n",
    "#     # Check if we have reached the maximum number of epochs\n",
    "#     if epoch + 1 == max_epochs:\n",
    "#         print(\"Maximum number of epochs reached.\")\n",
    "#         break"
   ]
  },
  {
   "cell_type": "markdown",
   "metadata": {},
   "source": [
    "### Training function"
   ]
  },
  {
   "cell_type": "code",
   "execution_count": 6,
   "metadata": {},
   "outputs": [],
   "source": [
    "import torch.optim as optim\n",
    "\n",
    "def train_model(model, criterion, optimizer, num_classes, train_loader, epoch=50):\n",
    "    # Model, loss function, optimizer\n",
    "    device = torch.device('cuda' if torch.cuda.is_available() else 'cpu')  # Use GPU if available\n",
    "    # num_classes = len(train_dataset.classes)\n",
    "    # model = SimpleCNN(num_classes=num_classes, image_width=image_width).to(device)  # Move model to device\n",
    "    # criterion = nn.CrossEntropyLoss()\n",
    "    # optimizer = optim.Adam(model.parameters(), lr=0.001)\n",
    "\n",
    "    # Set maximum number of epochs and patience for early stopping\n",
    "    max_epochs = epoch\n",
    "    patience = 5  # Number of epochs with no improvement after which training will stop\n",
    "    best_val_loss = float('inf')  # Initialize best validation loss as infinity\n",
    "    epochs_without_improvement = 0\n",
    "\n",
    "    # Training loop\n",
    "    for epoch in range(max_epochs):\n",
    "        model.train()\n",
    "        running_loss = 0.0\n",
    "        train_loader = tqdm(train_loader, desc=f\"Epoch {epoch+1}/{max_epochs}\", unit=\"batch\")  # Add tqdm to training loop\n",
    "        \n",
    "        for images, labels in train_loader:\n",
    "            images, labels = images.to(device), labels.to(device)  # Move data to device\n",
    "            optimizer.zero_grad()\n",
    "            outputs = model(images)\n",
    "            loss = criterion(outputs, labels)\n",
    "            loss.backward()\n",
    "            optimizer.step()\n",
    "            running_loss += loss.item()\n",
    "            train_loader.set_postfix(loss=loss.item())  # Update tqdm progress bar with current loss\n",
    "        \n",
    "        print(f\"Epoch {epoch+1}, Average Loss: {(running_loss / len(train_loader)):.4f}\")\n",
    "\n",
    "        # Evaluate on the validation dataset\n",
    "        model.eval()\n",
    "        correct = 0\n",
    "        total = 0\n",
    "        val_loss = 0.0\n",
    "        with torch.no_grad():  # Disable gradient computation during evaluation\n",
    "            for images, labels in val_loader:  # Assuming val_loader is the DataLoader for the test/validation set\n",
    "                images, labels = images.to(device), labels.to(device)\n",
    "                outputs = model(images)\n",
    "                loss = criterion(outputs, labels)\n",
    "                val_loss += loss.item()\n",
    "                \n",
    "                _, predicted = torch.max(outputs, 1)\n",
    "                total += labels.size(0)\n",
    "                correct += (predicted == labels).sum().item()\n",
    "        \n",
    "        avg_val_loss = val_loss / len(val_loader)\n",
    "        accuracy = 100 * correct / total\n",
    "        print(f\"Validation Accuracy: {accuracy:.2f}%\")\n",
    "        print(f\"Validation Loss: {avg_val_loss:.4f}\")\n",
    "        \n",
    "        # Check for early stopping\n",
    "        if avg_val_loss < best_val_loss:\n",
    "            best_val_loss = avg_val_loss\n",
    "            epochs_without_improvement = 0  # Reset counter\n",
    "        else:\n",
    "            epochs_without_improvement += 1\n",
    "            if epochs_without_improvement >= patience:\n",
    "                print(f\"Early stopping triggered after {epoch+1} epochs.\")\n",
    "                break  # Stop training early if no improvement\n",
    "\n",
    "        # Check if we have reached the maximum number of epochs\n",
    "        if epoch + 1 == max_epochs:\n",
    "            print(\"Maximum number of epochs reached.\")\n",
    "            break"
   ]
  },
  {
   "cell_type": "code",
   "execution_count": null,
   "metadata": {},
   "outputs": [],
   "source": [
    "# from sklearn.metrics import f1_score\n",
    "\n",
    "# # Evaluate on the test dataset with tqdm\n",
    "# model.eval()\n",
    "# correct = 0\n",
    "# total = 0\n",
    "# all_labels = []  # To store true labels\n",
    "# all_preds = []   # To store predicted labels\n",
    "# test_loader = tqdm(test_loader, desc=\"Testing\", unit=\"batch\")  # Add tqdm for the test loop\n",
    "\n",
    "# with torch.no_grad():  # Disable gradient computation during evaluation\n",
    "#     for images, labels in test_loader:  # Loop through test dataset\n",
    "#         images, labels = images.to(device), labels.to(device)\n",
    "#         outputs = model(images)\n",
    "#         _, predicted = torch.max(outputs, 1)\n",
    "#         total += labels.size(0)\n",
    "#         correct += (predicted == labels).sum().item()\n",
    "        \n",
    "#         all_labels.extend(labels.cpu().numpy())  # Append true labels\n",
    "#         all_preds.extend(predicted.cpu().numpy())  # Append predicted labels\n",
    "        \n",
    "#         # Update tqdm bar with current accuracy\n",
    "#         test_loader.set_postfix(accuracy=(100 * correct / total))  \n",
    "\n",
    "# # Compute test accuracy\n",
    "# test_accuracy = 100 * correct / total\n",
    "\n",
    "# # Compute F1 score for the whole dataset\n",
    "# f1 = f1_score(all_labels, all_preds, average='weighted')  # You can also use 'macro' or 'micro' as needed\n",
    "\n",
    "# print(f\"\\nTest Accuracy: {test_accuracy:.2f}%\")\n",
    "# print(f\"Test F1 Score (Weighted): {f1:.4f}\")"
   ]
  },
  {
   "cell_type": "markdown",
   "metadata": {},
   "source": [
    "### Testing function"
   ]
  },
  {
   "cell_type": "code",
   "execution_count": 7,
   "metadata": {},
   "outputs": [],
   "source": [
    "from sklearn.metrics import f1_score\n",
    "\n",
    "def test_model(model, test_loader):\n",
    "\n",
    "    device = torch.device('cuda' if torch.cuda.is_available() else 'cpu')  # Use GPU if available\n",
    "\n",
    "    # Evaluate on the test dataset with tqdm\n",
    "    model.eval()\n",
    "    correct = 0\n",
    "    total = 0\n",
    "    all_labels = []  # To store true labels\n",
    "    all_preds = []   # To store predicted labels\n",
    "    test_loader = tqdm(test_loader, desc=\"Testing\", unit=\"batch\")  # Add tqdm for the test loop\n",
    "\n",
    "    with torch.no_grad():  # Disable gradient computation during evaluation\n",
    "        for images, labels in test_loader:  # Loop through test dataset\n",
    "            images, labels = images.to(device), labels.to(device)\n",
    "            outputs = model(images)\n",
    "            _, predicted = torch.max(outputs, 1)\n",
    "            total += labels.size(0)\n",
    "            correct += (predicted == labels).sum().item()\n",
    "            \n",
    "            all_labels.extend(labels.cpu().numpy())  # Append true labels\n",
    "            all_preds.extend(predicted.cpu().numpy())  # Append predicted labels\n",
    "            \n",
    "            # Update tqdm bar with current accuracy\n",
    "            test_loader.set_postfix(accuracy=(100 * correct / total))  \n",
    "\n",
    "    # Compute test accuracy\n",
    "    test_accuracy = 100 * correct / total\n",
    "\n",
    "    # Compute F1 score for the whole dataset\n",
    "    f1 = f1_score(all_labels, all_preds, average='weighted')  # You can also use 'macro' or 'micro' as needed\n",
    "\n",
    "    print(f\"\\nTest Accuracy: {test_accuracy:.2f}%\")\n",
    "    print(f\"Test F1 Score (Weighted): {f1:.4f}\")"
   ]
  },
  {
   "cell_type": "markdown",
   "metadata": {},
   "source": [
    "### Evaluation function"
   ]
  },
  {
   "cell_type": "code",
   "execution_count": 8,
   "metadata": {},
   "outputs": [],
   "source": [
    "from sklearn.metrics import classification_report, confusion_matrix\n",
    "\n",
    "class_names = train_dataset.classes\n",
    "\n",
    "def evaluate_model(model, val_loader, class_names):\n",
    "    model.eval()\n",
    "    all_preds, all_labels = [], []\n",
    "    with torch.no_grad():\n",
    "        for inputs, labels in val_loader:\n",
    "            inputs, labels = inputs.to(device), labels.to(device)\n",
    "            outputs = model(inputs)\n",
    "            _, preds = torch.max(outputs, 1)\n",
    "            all_preds.extend(preds.cpu().numpy())\n",
    "            all_labels.extend(labels.cpu().numpy())\n",
    "\n",
    "    metrics_report = classification_report(all_labels, all_preds, target_names=class_names)\n",
    "    print(metrics_report)\n",
    "\n",
    "    # Confusion Matrix\n",
    "    cm = confusion_matrix(all_labels, all_preds)\n",
    "    plt.figure(figsize=(10, 8))\n",
    "    plt.imshow(cm, interpolation='nearest', cmap='Blues')\n",
    "    plt.title(\"Confusion Matrix\")\n",
    "    plt.colorbar()\n",
    "    plt.show()\n",
    "\n",
    "    return cm, metrics_report"
   ]
  },
  {
   "cell_type": "markdown",
   "metadata": {},
   "source": [
    "### Simple CNN Model Training and Testing"
   ]
  },
  {
   "cell_type": "markdown",
   "metadata": {},
   "source": [
    "#### Model definition"
   ]
  },
  {
   "cell_type": "code",
   "execution_count": 27,
   "metadata": {},
   "outputs": [],
   "source": [
    "import torch\n",
    "import torch.nn as nn\n",
    "\n",
    "\n",
    "class SimpleCNN(nn.Module):\n",
    "    def __init__(self, num_classes, image_width):\n",
    "        super(SimpleCNN, self).__init__()  # Call the parent class constructor\n",
    "        self.features = nn.Sequential(\n",
    "            nn.Conv2d(3, 16, kernel_size=3, stride=1, padding=1),\n",
    "            nn.ReLU(),\n",
    "            nn.MaxPool2d(kernel_size=2, stride=2),\n",
    "            \n",
    "            nn.Conv2d(16, 32, kernel_size=3, stride=1, padding=1),\n",
    "            nn.ReLU(),\n",
    "            nn.MaxPool2d(kernel_size=2, stride=2),\n",
    "\n",
    "            # nn.Conv2d(35, 60, kernel_size=3, stride=1, padding=1),\n",
    "            # nn.BatchNorm2d(60),\n",
    "            # nn.ReLU(),\n",
    "            # nn.MaxPool2d(kernel_size=2, stride=2),\n",
    "            \n",
    "            nn.Dropout(0.20)\n",
    "        )\n",
    "        self.classifier = nn.Sequential(\n",
    "            nn.Linear(32 * (image_width//4)**2, 512),\n",
    "            nn.ReLU(),\n",
    "            nn.Dropout(0.45),\n",
    "            nn.Linear(512, num_classes)\n",
    "        )\n",
    "    def forward(self, x):\n",
    "        x = self.features(x)\n",
    "        x = x.view(x.size(0), -1)  # Flatten\n",
    "        x = self.classifier(x)\n",
    "        return x"
   ]
  },
  {
   "cell_type": "markdown",
   "metadata": {},
   "source": [
    "Another Model"
   ]
  },
  {
   "cell_type": "code",
   "execution_count": 9,
   "metadata": {},
   "outputs": [],
   "source": [
    "import torch.nn as nn\n",
    "\n",
    "class SimpleCNN(nn.Module):\n",
    "    def __init__(self, num_classes, image_width, num_layers=2, first_layer_filters=16):\n",
    "        super(SimpleCNN, self).__init__()\n",
    "\n",
    "        self.num_layers = num_layers\n",
    "        self.first_layer_filters = first_layer_filters\n",
    "\n",
    "        layers = []\n",
    "        in_channels = 3\n",
    "        out_channels = first_layer_filters\n",
    "\n",
    "        for i in range(num_layers):\n",
    "            layers.append(nn.Conv2d(in_channels, out_channels, kernel_size=3, stride=1, padding=1))\n",
    "            layers.append(nn.ReLU())\n",
    "            layers.append(nn.MaxPool2d(kernel_size=2, stride=2))  # Halves spatial dimensions\n",
    "\n",
    "            in_channels = out_channels\n",
    "            out_channels *= 2  # Double the number of filters for each subsequent layer\n",
    "\n",
    "        layers.append(nn.Dropout(0.2))\n",
    "\n",
    "        self.features = nn.Sequential(*layers)\n",
    "\n",
    "        # Calculate the output size after the convolutional layers\n",
    "        final_width = image_width // (2 ** num_layers)\n",
    "        self.classifier = nn.Sequential(\n",
    "            nn.Linear(in_channels * (final_width ** 2), 512),\n",
    "            nn.ReLU(),\n",
    "            nn.Dropout(0.45),\n",
    "            nn.Linear(512, num_classes)\n",
    "        )\n",
    "\n",
    "    def forward(self, x):\n",
    "        x = self.features(x)\n",
    "        x = x.view(x.size(0), -1)  # Flatten\n",
    "        x = self.classifier(x)\n",
    "        return x"
   ]
  },
  {
   "cell_type": "markdown",
   "metadata": {},
   "source": [
    "#### Training"
   ]
  },
  {
   "cell_type": "code",
   "execution_count": 29,
   "metadata": {},
   "outputs": [
    {
     "name": "stderr",
     "output_type": "stream",
     "text": [
      "Epoch 1/40:   0%|          | 0/1358 [00:00<?, ?batch/s]"
     ]
    },
    {
     "name": "stderr",
     "output_type": "stream",
     "text": [
      "Epoch 1/40: 100%|██████████| 1358/1358 [00:11<00:00, 117.72batch/s, loss=0.784]"
     ]
    },
    {
     "name": "stdout",
     "output_type": "stream",
     "text": [
      "Epoch 1, Average Loss: 1.2777\n"
     ]
    },
    {
     "name": "stderr",
     "output_type": "stream",
     "text": [
      "\n"
     ]
    },
    {
     "name": "stdout",
     "output_type": "stream",
     "text": [
      "Validation Accuracy: 79.76%\n",
      "Validation Loss: 0.6596\n"
     ]
    },
    {
     "name": "stderr",
     "output_type": "stream",
     "text": [
      "Epoch 2/40: 100%|██████████| 1358/1358 [00:07<00:00, 181.47batch/s, loss=0.187]"
     ]
    },
    {
     "name": "stdout",
     "output_type": "stream",
     "text": [
      "Epoch 2, Average Loss: 0.5985\n"
     ]
    },
    {
     "name": "stderr",
     "output_type": "stream",
     "text": [
      "\n"
     ]
    },
    {
     "name": "stdout",
     "output_type": "stream",
     "text": [
      "Validation Accuracy: 87.11%\n",
      "Validation Loss: 0.4098\n"
     ]
    },
    {
     "name": "stderr",
     "output_type": "stream",
     "text": [
      "Epoch 3/40: 100%|██████████| 1358/1358 [00:08<00:00, 166.21batch/s, loss=0.29]  \n"
     ]
    },
    {
     "name": "stdout",
     "output_type": "stream",
     "text": [
      "Epoch 3, Average Loss: 0.4203\n",
      "Validation Accuracy: 90.43%\n",
      "Validation Loss: 0.2879\n"
     ]
    },
    {
     "name": "stderr",
     "output_type": "stream",
     "text": [
      "Epoch 4/40: 100%|██████████| 1358/1358 [00:08<00:00, 166.59batch/s, loss=0.177] "
     ]
    },
    {
     "name": "stdout",
     "output_type": "stream",
     "text": [
      "Epoch 4, Average Loss: 0.3431\n"
     ]
    },
    {
     "name": "stderr",
     "output_type": "stream",
     "text": [
      "\n"
     ]
    },
    {
     "name": "stdout",
     "output_type": "stream",
     "text": [
      "Validation Accuracy: 91.18%\n",
      "Validation Loss: 0.2659\n"
     ]
    },
    {
     "name": "stderr",
     "output_type": "stream",
     "text": [
      "Epoch 5/40: 100%|██████████| 1358/1358 [00:08<00:00, 166.98batch/s, loss=0.124] "
     ]
    },
    {
     "name": "stdout",
     "output_type": "stream",
     "text": [
      "Epoch 5, Average Loss: 0.2867\n"
     ]
    },
    {
     "name": "stderr",
     "output_type": "stream",
     "text": [
      "\n"
     ]
    },
    {
     "name": "stdout",
     "output_type": "stream",
     "text": [
      "Validation Accuracy: 92.69%\n",
      "Validation Loss: 0.2225\n"
     ]
    },
    {
     "name": "stderr",
     "output_type": "stream",
     "text": [
      "Epoch 6/40: 100%|██████████| 1358/1358 [00:08<00:00, 168.49batch/s, loss=0.169] \n"
     ]
    },
    {
     "name": "stdout",
     "output_type": "stream",
     "text": [
      "Epoch 6, Average Loss: 0.2397\n",
      "Validation Accuracy: 93.52%\n",
      "Validation Loss: 0.2091\n"
     ]
    },
    {
     "name": "stderr",
     "output_type": "stream",
     "text": [
      "Epoch 7/40: 100%|██████████| 1358/1358 [00:07<00:00, 187.59batch/s, loss=0.296] \n"
     ]
    },
    {
     "name": "stdout",
     "output_type": "stream",
     "text": [
      "Epoch 7, Average Loss: 0.2165\n",
      "Validation Accuracy: 94.26%\n",
      "Validation Loss: 0.1683\n"
     ]
    },
    {
     "name": "stderr",
     "output_type": "stream",
     "text": [
      "Epoch 8/40: 100%|██████████| 1358/1358 [00:08<00:00, 167.01batch/s, loss=0.413] "
     ]
    },
    {
     "name": "stdout",
     "output_type": "stream",
     "text": [
      "Epoch 8, Average Loss: 0.1960\n"
     ]
    },
    {
     "name": "stderr",
     "output_type": "stream",
     "text": [
      "\n"
     ]
    },
    {
     "name": "stdout",
     "output_type": "stream",
     "text": [
      "Validation Accuracy: 93.65%\n",
      "Validation Loss: 0.1992\n"
     ]
    },
    {
     "name": "stderr",
     "output_type": "stream",
     "text": [
      "Epoch 9/40: 100%|██████████| 1358/1358 [00:08<00:00, 167.44batch/s, loss=0.444]  "
     ]
    },
    {
     "name": "stdout",
     "output_type": "stream",
     "text": [
      "Epoch 9, Average Loss: 0.1705\n"
     ]
    },
    {
     "name": "stderr",
     "output_type": "stream",
     "text": [
      "\n"
     ]
    },
    {
     "name": "stdout",
     "output_type": "stream",
     "text": [
      "Validation Accuracy: 94.51%\n",
      "Validation Loss: 0.1651\n"
     ]
    },
    {
     "name": "stderr",
     "output_type": "stream",
     "text": [
      "Epoch 10/40: 100%|██████████| 1358/1358 [00:08<00:00, 168.50batch/s, loss=0.0514] "
     ]
    },
    {
     "name": "stdout",
     "output_type": "stream",
     "text": [
      "Epoch 10, Average Loss: 0.1577\n"
     ]
    },
    {
     "name": "stderr",
     "output_type": "stream",
     "text": [
      "\n"
     ]
    },
    {
     "name": "stdout",
     "output_type": "stream",
     "text": [
      "Validation Accuracy: 94.72%\n",
      "Validation Loss: 0.1700\n"
     ]
    },
    {
     "name": "stderr",
     "output_type": "stream",
     "text": [
      "Epoch 11/40: 100%|██████████| 1358/1358 [00:08<00:00, 165.05batch/s, loss=0.0454] "
     ]
    },
    {
     "name": "stdout",
     "output_type": "stream",
     "text": [
      "Epoch 11, Average Loss: 0.1451\n"
     ]
    },
    {
     "name": "stderr",
     "output_type": "stream",
     "text": [
      "\n"
     ]
    },
    {
     "name": "stdout",
     "output_type": "stream",
     "text": [
      "Validation Accuracy: 94.75%\n",
      "Validation Loss: 0.1652\n"
     ]
    },
    {
     "name": "stderr",
     "output_type": "stream",
     "text": [
      "Epoch 12/40: 100%|██████████| 1358/1358 [00:07<00:00, 190.10batch/s, loss=0.147]  "
     ]
    },
    {
     "name": "stdout",
     "output_type": "stream",
     "text": [
      "Epoch 12, Average Loss: 0.1348\n"
     ]
    },
    {
     "name": "stderr",
     "output_type": "stream",
     "text": [
      "\n"
     ]
    },
    {
     "name": "stdout",
     "output_type": "stream",
     "text": [
      "Validation Accuracy: 94.81%\n",
      "Validation Loss: 0.1788\n"
     ]
    },
    {
     "name": "stderr",
     "output_type": "stream",
     "text": [
      "Epoch 13/40: 100%|██████████| 1358/1358 [00:08<00:00, 167.33batch/s, loss=0.0608] "
     ]
    },
    {
     "name": "stdout",
     "output_type": "stream",
     "text": [
      "Epoch 13, Average Loss: 0.1313\n"
     ]
    },
    {
     "name": "stderr",
     "output_type": "stream",
     "text": [
      "\n"
     ]
    },
    {
     "name": "stdout",
     "output_type": "stream",
     "text": [
      "Validation Accuracy: 94.33%\n",
      "Validation Loss: 0.1798\n"
     ]
    },
    {
     "name": "stderr",
     "output_type": "stream",
     "text": [
      "Epoch 14/40: 100%|██████████| 1358/1358 [00:08<00:00, 165.51batch/s, loss=0.119]  "
     ]
    },
    {
     "name": "stdout",
     "output_type": "stream",
     "text": [
      "Epoch 14, Average Loss: 0.1196\n"
     ]
    },
    {
     "name": "stderr",
     "output_type": "stream",
     "text": [
      "\n"
     ]
    },
    {
     "name": "stdout",
     "output_type": "stream",
     "text": [
      "Validation Accuracy: 95.36%\n",
      "Validation Loss: 0.1532\n"
     ]
    },
    {
     "name": "stderr",
     "output_type": "stream",
     "text": [
      "Epoch 15/40: 100%|██████████| 1358/1358 [00:08<00:00, 167.09batch/s, loss=0.0661] \n"
     ]
    },
    {
     "name": "stdout",
     "output_type": "stream",
     "text": [
      "Epoch 15, Average Loss: 0.1184\n",
      "Validation Accuracy: 94.33%\n",
      "Validation Loss: 0.2019\n"
     ]
    },
    {
     "name": "stderr",
     "output_type": "stream",
     "text": [
      "Epoch 16/40: 100%|██████████| 1358/1358 [00:07<00:00, 181.36batch/s, loss=0.0583] "
     ]
    },
    {
     "name": "stdout",
     "output_type": "stream",
     "text": [
      "Epoch 16, Average Loss: 0.1160\n"
     ]
    },
    {
     "name": "stderr",
     "output_type": "stream",
     "text": [
      "\n"
     ]
    },
    {
     "name": "stdout",
     "output_type": "stream",
     "text": [
      "Validation Accuracy: 95.86%\n",
      "Validation Loss: 0.1371\n"
     ]
    },
    {
     "name": "stderr",
     "output_type": "stream",
     "text": [
      "Epoch 17/40: 100%|██████████| 1358/1358 [00:08<00:00, 168.60batch/s, loss=0.0795] "
     ]
    },
    {
     "name": "stdout",
     "output_type": "stream",
     "text": [
      "Epoch 17, Average Loss: 0.1096\n"
     ]
    },
    {
     "name": "stderr",
     "output_type": "stream",
     "text": [
      "\n"
     ]
    },
    {
     "name": "stdout",
     "output_type": "stream",
     "text": [
      "Validation Accuracy: 95.47%\n",
      "Validation Loss: 0.1540\n"
     ]
    },
    {
     "name": "stderr",
     "output_type": "stream",
     "text": [
      "Epoch 18/40: 100%|██████████| 1358/1358 [00:08<00:00, 166.78batch/s, loss=0.517]  "
     ]
    },
    {
     "name": "stdout",
     "output_type": "stream",
     "text": [
      "Epoch 18, Average Loss: 0.1049\n"
     ]
    },
    {
     "name": "stderr",
     "output_type": "stream",
     "text": [
      "\n"
     ]
    },
    {
     "name": "stdout",
     "output_type": "stream",
     "text": [
      "Validation Accuracy: 95.30%\n",
      "Validation Loss: 0.1681\n"
     ]
    },
    {
     "name": "stderr",
     "output_type": "stream",
     "text": [
      "Epoch 19/40: 100%|██████████| 1358/1358 [00:07<00:00, 180.39batch/s, loss=0.0141]  "
     ]
    },
    {
     "name": "stdout",
     "output_type": "stream",
     "text": [
      "Epoch 19, Average Loss: 0.0975\n"
     ]
    },
    {
     "name": "stderr",
     "output_type": "stream",
     "text": [
      "\n"
     ]
    },
    {
     "name": "stdout",
     "output_type": "stream",
     "text": [
      "Validation Accuracy: 96.00%\n",
      "Validation Loss: 0.1541\n"
     ]
    },
    {
     "name": "stderr",
     "output_type": "stream",
     "text": [
      "Epoch 20/40: 100%|██████████| 1358/1358 [00:08<00:00, 167.11batch/s, loss=0.0579]  "
     ]
    },
    {
     "name": "stdout",
     "output_type": "stream",
     "text": [
      "Epoch 20, Average Loss: 0.1006\n"
     ]
    },
    {
     "name": "stderr",
     "output_type": "stream",
     "text": [
      "\n"
     ]
    },
    {
     "name": "stdout",
     "output_type": "stream",
     "text": [
      "Validation Accuracy: 95.84%\n",
      "Validation Loss: 0.1473\n"
     ]
    },
    {
     "name": "stderr",
     "output_type": "stream",
     "text": [
      "Epoch 21/40: 100%|██████████| 1358/1358 [00:08<00:00, 165.82batch/s, loss=0.263]   "
     ]
    },
    {
     "name": "stdout",
     "output_type": "stream",
     "text": [
      "Epoch 21, Average Loss: 0.0931\n"
     ]
    },
    {
     "name": "stderr",
     "output_type": "stream",
     "text": [
      "\n"
     ]
    },
    {
     "name": "stdout",
     "output_type": "stream",
     "text": [
      "Validation Accuracy: 95.99%\n",
      "Validation Loss: 0.1415\n",
      "Early stopping triggered after 21 epochs.\n"
     ]
    }
   ],
   "source": [
    "num_classes = len(train_dataset.classes)\n",
    "device = torch.device('cuda' if torch.cuda.is_available() else 'cpu')  # Use GPU if available\n",
    "model = SimpleCNN(num_classes=num_classes, image_width=image_width, num_layers=2, first_layer_filters=16).to(device)  # Move model to device\n",
    "\n",
    "criterion = nn.CrossEntropyLoss()\n",
    "optimizer = optim.Adam(model.parameters(), lr=0.001)\n",
    "\n",
    "train_model(model, criterion, optimizer, num_classes, train_loader, epoch=40)"
   ]
  },
  {
   "cell_type": "markdown",
   "metadata": {},
   "source": [
    "#### Testing"
   ]
  },
  {
   "cell_type": "code",
   "execution_count": 30,
   "metadata": {},
   "outputs": [
    {
     "name": "stderr",
     "output_type": "stream",
     "text": [
      "Testing: 100%|██████████| 170/170 [00:01<00:00, 133.89batch/s, accuracy=96.3]\n"
     ]
    },
    {
     "name": "stdout",
     "output_type": "stream",
     "text": [
      "\n",
      "Test Accuracy: 96.30%\n",
      "Test F1 Score (Weighted): 0.9631\n"
     ]
    }
   ],
   "source": [
    "test_model(model, test_loader)"
   ]
  },
  {
   "cell_type": "markdown",
   "metadata": {},
   "source": [
    "#### Evaluation"
   ]
  },
  {
   "cell_type": "code",
   "execution_count": 41,
   "metadata": {},
   "outputs": [
    {
     "name": "stdout",
     "output_type": "stream",
     "text": [
      "                                                    precision    recall  f1-score   support\n",
      "\n",
      "                                Apple___Apple_scab       0.85      0.70      0.76        56\n",
      "                                 Apple___Black_rot       0.91      0.98      0.95        65\n",
      "                          Apple___Cedar_apple_rust       0.88      0.71      0.79        21\n",
      "                                   Apple___healthy       0.92      0.87      0.89       164\n",
      "                               Blueberry___healthy       0.88      0.99      0.94       160\n",
      "          Cherry_(including_sour)___Powdery_mildew       0.92      0.99      0.95       111\n",
      "                 Cherry_(including_sour)___healthy       0.96      0.93      0.94        72\n",
      "Corn_(maize)___Cercospora_leaf_spot Gray_leaf_spot       0.75      0.95      0.84        41\n",
      "                       Corn_(maize)___Common_rust_       1.00      0.95      0.98       108\n",
      "               Corn_(maize)___Northern_Leaf_Blight       0.94      0.83      0.88        99\n",
      "                            Corn_(maize)___healthy       0.97      1.00      0.99       133\n",
      "                                 Grape___Black_rot       0.84      0.85      0.84       125\n",
      "                      Grape___Esca_(Black_Measles)       0.83      0.92      0.88       130\n",
      "        Grape___Leaf_blight_(Isariopsis_Leaf_Spot)       0.96      0.90      0.93       108\n",
      "                                   Grape___healthy       0.95      0.95      0.95        41\n",
      "          Orange___Haunglongbing_(Citrus_greening)       0.99      0.99      0.99       545\n",
      "                            Peach___Bacterial_spot       0.96      0.83      0.89       229\n",
      "                                   Peach___healthy       0.81      0.90      0.85        49\n",
      "                     Pepper,_bell___Bacterial_spot       0.93      0.85      0.89        89\n",
      "                            Pepper,_bell___healthy       0.90      0.90      0.90       158\n",
      "                             Potato___Early_blight       0.87      0.95      0.91       103\n",
      "                              Potato___Late_blight       0.92      0.87      0.89        91\n",
      "                                  Potato___healthy       0.81      0.81      0.81        16\n",
      "                               Raspberry___healthy       0.80      0.93      0.86        43\n",
      "                                 Soybean___healthy       0.93      0.99      0.96       518\n",
      "                           Squash___Powdery_mildew       0.98      0.97      0.98       183\n",
      "                          Strawberry___Leaf_scorch       0.97      0.92      0.94        99\n",
      "                              Strawberry___healthy       0.93      0.74      0.82        53\n",
      "                           Tomato___Bacterial_spot       0.89      0.96      0.92       205\n",
      "                             Tomato___Early_blight       0.74      0.59      0.66        96\n",
      "                              Tomato___Late_blight       0.77      0.79      0.78       174\n",
      "                                Tomato___Leaf_Mold       0.84      0.89      0.87        91\n",
      "                       Tomato___Septoria_leaf_spot       0.91      0.71      0.80       178\n",
      "     Tomato___Spider_mites Two-spotted_spider_mite       0.91      0.88      0.89       172\n",
      "                              Tomato___Target_Spot       0.84      0.91      0.87       150\n",
      "            Tomato___Tomato_Yellow_Leaf_Curl_Virus       0.95      0.99      0.97       552\n",
      "                      Tomato___Tomato_mosaic_virus       0.95      0.88      0.91        41\n",
      "                                  Tomato___healthy       0.98      0.99      0.98       161\n",
      "\n",
      "                                          accuracy                           0.92      5430\n",
      "                                         macro avg       0.90      0.89      0.89      5430\n",
      "                                      weighted avg       0.92      0.92      0.92      5430\n",
      "\n"
     ]
    },
    {
     "data": {
      "image/png": "[encoded data removed]",
      "text/plain": [
       "<Figure size 1000x800 with 2 Axes>"
      ]
     },
     "metadata": {},
     "output_type": "display_data"
    },
    {
     "data": {
      "text/plain": [
       "(array([[ 39,   2,   0, ...,   0,   0,   0],\n",
       "        [  0,  64,   0, ...,   0,   0,   0],\n",
       "        [  0,   0,  15, ...,   1,   0,   0],\n",
       "        ...,\n",
       "        [  0,   0,   0, ..., 546,   0,   0],\n",
       "        [  0,   0,   0, ...,   0,  36,   0],\n",
       "        [  0,   0,   0, ...,   0,   0, 160]]),\n",
       " '                                                    precision    recall  f1-score   support\\n\\n                                Apple___Apple_scab       0.85      0.70      0.76        56\\n                                 Apple___Black_rot       0.91      0.98      0.95        65\\n                          Apple___Cedar_apple_rust       0.88      0.71      0.79        21\\n                                   Apple___healthy       0.92      0.87      0.89       164\\n                               Blueberry___healthy       0.88      0.99      0.94       160\\n          Cherry_(including_sour)___Powdery_mildew       0.92      0.99      0.95       111\\n                 Cherry_(including_sour)___healthy       0.96      0.93      0.94        72\\nCorn_(maize)___Cercospora_leaf_spot Gray_leaf_spot       0.75      0.95      0.84        41\\n                       Corn_(maize)___Common_rust_       1.00      0.95      0.98       108\\n               Corn_(maize)___Northern_Leaf_Blight       0.94      0.83      0.88        99\\n                            Corn_(maize)___healthy       0.97      1.00      0.99       133\\n                                 Grape___Black_rot       0.84      0.85      0.84       125\\n                      Grape___Esca_(Black_Measles)       0.83      0.92      0.88       130\\n        Grape___Leaf_blight_(Isariopsis_Leaf_Spot)       0.96      0.90      0.93       108\\n                                   Grape___healthy       0.95      0.95      0.95        41\\n          Orange___Haunglongbing_(Citrus_greening)       0.99      0.99      0.99       545\\n                            Peach___Bacterial_spot       0.96      0.83      0.89       229\\n                                   Peach___healthy       0.81      0.90      0.85        49\\n                     Pepper,_bell___Bacterial_spot       0.93      0.85      0.89        89\\n                            Pepper,_bell___healthy       0.90      0.90      0.90       158\\n                             Potato___Early_blight       0.87      0.95      0.91       103\\n                              Potato___Late_blight       0.92      0.87      0.89        91\\n                                  Potato___healthy       0.81      0.81      0.81        16\\n                               Raspberry___healthy       0.80      0.93      0.86        43\\n                                 Soybean___healthy       0.93      0.99      0.96       518\\n                           Squash___Powdery_mildew       0.98      0.97      0.98       183\\n                          Strawberry___Leaf_scorch       0.97      0.92      0.94        99\\n                              Strawberry___healthy       0.93      0.74      0.82        53\\n                           Tomato___Bacterial_spot       0.89      0.96      0.92       205\\n                             Tomato___Early_blight       0.74      0.59      0.66        96\\n                              Tomato___Late_blight       0.77      0.79      0.78       174\\n                                Tomato___Leaf_Mold       0.84      0.89      0.87        91\\n                       Tomato___Septoria_leaf_spot       0.91      0.71      0.80       178\\n     Tomato___Spider_mites Two-spotted_spider_mite       0.91      0.88      0.89       172\\n                              Tomato___Target_Spot       0.84      0.91      0.87       150\\n            Tomato___Tomato_Yellow_Leaf_Curl_Virus       0.95      0.99      0.97       552\\n                      Tomato___Tomato_mosaic_virus       0.95      0.88      0.91        41\\n                                  Tomato___healthy       0.98      0.99      0.98       161\\n\\n                                          accuracy                           0.92      5430\\n                                         macro avg       0.90      0.89      0.89      5430\\n                                      weighted avg       0.92      0.92      0.92      5430\\n')"
      ]
     },
     "execution_count": 41,
     "metadata": {},
     "output_type": "execute_result"
    }
   ],
   "source": [
    "# Retrieve model from file \n",
    "\n",
    "num_classes = len(train_dataset.classes)\n",
    "device = torch.device('cuda' if torch.cuda.is_available() else 'cpu')  # Use GPU if available\n",
    "model = SimpleCNN(num_classes=num_classes, image_width=256, num_layers=2, first_layer_filters=16).to(device)  # Move model to device\n",
    "\n",
    "criterion = nn.CrossEntropyLoss()\n",
    "optimizer = optim.Adam(model.parameters(), lr=0.001)\n",
    "\n",
    "model.load_state_dict(torch.load('plant_disease_model_256.pth'))\n",
    "model = model.to(device)\n",
    "\n",
    "evaluate_model(model, test_loader, class_names)"
   ]
  },
  {
   "cell_type": "markdown",
   "metadata": {},
   "source": [
    "#### Model saving"
   ]
  },
  {
   "cell_type": "code",
   "execution_count": 32,
   "metadata": {},
   "outputs": [],
   "source": [
    "# Save model to file\n",
    "torch.save(model.state_dict(), 'plant_disease_model_32_3layer_32initial.pth')"
   ]
  },
  {
   "cell_type": "markdown",
   "metadata": {},
   "source": [
    "#### Model Loading from file"
   ]
  },
  {
   "cell_type": "code",
   "execution_count": 10,
   "metadata": {},
   "outputs": [],
   "source": [
    "# Retrieve model from file \n",
    "\n",
    "num_classes = len(train_dataset.classes)\n",
    "device = torch.device('cuda' if torch.cuda.is_available() else 'cpu')  # Use GPU if available\n",
    "model = SimpleCNN(num_classes=num_classes, image_width=image_width).to(device)  # Move model to device\n",
    "\n",
    "criterion = nn.CrossEntropyLoss()\n",
    "optimizer = optim.Adam(model.parameters(), lr=0.001)\n",
    "\n",
    "model.load_state_dict(torch.load('plant_disease_model.pth'))\n",
    "model = model.to(device)"
   ]
  },
  {
   "cell_type": "markdown",
   "metadata": {},
   "source": [
    "#### Predict single image from external JPG image"
   ]
  },
  {
   "cell_type": "code",
   "execution_count": 49,
   "metadata": {},
   "outputs": [
    {
     "name": "stdout",
     "output_type": "stream",
     "text": [
      "The predicted class is: Blueberry___healthy with probability 1.0000\n"
     ]
    }
   ],
   "source": [
    "from PIL import Image\n",
    "import torch\n",
    "import torchvision.transforms as transforms\n",
    "\n",
    "# Load the trained model\n",
    "model.load_state_dict(torch.load('plant_disease_model_256.pth'))\n",
    "model.eval()\n",
    "model.to(device)\n",
    "\n",
    "image_width = 256\n",
    "\n",
    "# Define the transformations\n",
    "transform = transforms.Compose([\n",
    "    transforms.Resize((image_width, image_width)),\n",
    "    transforms.ToTensor(),\n",
    "    transforms.Normalize(mean=[0.5, 0.5, 0.5], std=[0.5, 0.5, 0.5])\n",
    "])\n",
    "\n",
    "# Load and preprocess the image\n",
    "image_path = \"/home/alessio/FDS-Project/testImages/tomato_late_blight.jpg\"  # Replace with your image path\n",
    "image = Image.open(image_path).convert(\"RGB\")\n",
    "image_tensor = transform(image).unsqueeze(0).to(device)\n",
    "\n",
    "# Perform the prediction\n",
    "with torch.no_grad():\n",
    "    outputs = model(image_tensor)\n",
    "    _, predicted_class = torch.max(outputs, 1)\n",
    "\n",
    "# Map index to class label\n",
    "predicted_label = train_dataset.classes[predicted_class.item()]\n",
    "probabilities = torch.nn.functional.softmax(outputs, dim=1)\n",
    "predicted_prob = probabilities[0, predicted_class].item()\n",
    "\n",
    "print(f\"The predicted class is: {predicted_label} with probability {predicted_prob:.4f}\")"
   ]
  },
  {
   "cell_type": "markdown",
   "metadata": {},
   "source": [
    "### ResNet Model Training and Testing"
   ]
  },
  {
   "cell_type": "code",
   "execution_count": 8,
   "metadata": {},
   "outputs": [
    {
     "name": "stderr",
     "output_type": "stream",
     "text": [
      "/home/alessio/.local/lib/python3.10/site-packages/torchvision/models/_utils.py:208: UserWarning: The parameter 'pretrained' is deprecated since 0.13 and may be removed in the future, please use 'weights' instead.\n",
      "  warnings.warn(\n",
      "/home/alessio/.local/lib/python3.10/site-packages/torchvision/models/_utils.py:223: UserWarning: Arguments other than a weight enum or `None` for 'weights' are deprecated since 0.13 and may be removed in the future. The current behavior is equivalent to passing `weights=ResNet18_Weights.IMAGENET1K_V1`. You can also use `weights=ResNet18_Weights.DEFAULT` to get the most up-to-date weights.\n",
      "  warnings.warn(msg)\n"
     ]
    }
   ],
   "source": [
    "import torch\n",
    "import torch.nn as nn\n",
    "import torch.optim as optim\n",
    "from torchvision import models\n",
    "\n",
    "# Caricare ResNet-18 pre-addestrato\n",
    "model = models.resnet18(pretrained=True)\n",
    "\n",
    "# Congelare i layer pre-addestrati\n",
    "# for param in model.parameters():\n",
    "#     param.requires_grad = False\n",
    "\n",
    "# Modificare l'ultimo livello fully connected\n",
    "num_classes = len(train_dataset.classes)\n",
    "model.fc = nn.Linear(model.fc.in_features, num_classes)\n",
    "\n",
    "# Muovere il modello su GPU o CPU\n",
    "model = model.to(device)\n",
    "\n",
    "# Loss e ottimizzatore\n",
    "criterion = nn.CrossEntropyLoss()\n",
    "optimizer = optim.Adam(model.fc.parameters(), lr=0.001)"
   ]
  },
  {
   "cell_type": "code",
   "execution_count": 10,
   "metadata": {},
   "outputs": [
    {
     "name": "stdout",
     "output_type": "stream",
     "text": [
      "Class to index mapping: {'Apple___Apple_scab': 0, 'Apple___Black_rot': 1, 'Apple___Cedar_apple_rust': 2, 'Apple___healthy': 3, 'Blueberry___healthy': 4, 'Cherry_(including_sour)___Powdery_mildew': 5, 'Cherry_(including_sour)___healthy': 6, 'Corn_(maize)___Cercospora_leaf_spot Gray_leaf_spot': 7, 'Corn_(maize)___Common_rust_': 8, 'Corn_(maize)___Northern_Leaf_Blight': 9, 'Corn_(maize)___healthy': 10, 'Grape___Black_rot': 11, 'Grape___Esca_(Black_Measles)': 12, 'Grape___Leaf_blight_(Isariopsis_Leaf_Spot)': 13, 'Grape___healthy': 14, 'Orange___Haunglongbing_(Citrus_greening)': 15, 'Peach___Bacterial_spot': 16, 'Peach___healthy': 17, 'Pepper,_bell___Bacterial_spot': 18, 'Pepper,_bell___healthy': 19, 'Potato___Early_blight': 20, 'Potato___Late_blight': 21, 'Potato___healthy': 22, 'Raspberry___healthy': 23, 'Soybean___healthy': 24, 'Squash___Powdery_mildew': 25, 'Strawberry___Leaf_scorch': 26, 'Strawberry___healthy': 27, 'Tomato___Bacterial_spot': 28, 'Tomato___Early_blight': 29, 'Tomato___Late_blight': 30, 'Tomato___Leaf_Mold': 31, 'Tomato___Septoria_leaf_spot': 32, 'Tomato___Spider_mites Two-spotted_spider_mite': 33, 'Tomato___Target_Spot': 34, 'Tomato___Tomato_Yellow_Leaf_Curl_Virus': 35, 'Tomato___Tomato_mosaic_virus': 36, 'Tomato___healthy': 37}\n",
      "                                                Class  Count\n",
      "0                                    Potato___healthy    121\n",
      "1                            Apple___Cedar_apple_rust    220\n",
      "2                                     Peach___healthy    288\n",
      "3                                 Raspberry___healthy    297\n",
      "4                        Tomato___Tomato_mosaic_virus    299\n",
      "5                                     Grape___healthy    339\n",
      "6                                Strawberry___healthy    364\n",
      "7   Corn_(maize)___Cercospora_leaf_spot Gray_leaf_...    410\n",
      "8                                   Apple___Black_rot    496\n",
      "9                                  Apple___Apple_scab    504\n",
      "10                  Cherry_(including_sour)___healthy    684\n",
      "11                                 Tomato___Leaf_Mold    761\n",
      "12                Corn_(maize)___Northern_Leaf_Blight    788\n",
      "13                      Pepper,_bell___Bacterial_spot    797\n",
      "14                               Potato___Late_blight    800\n",
      "15                              Potato___Early_blight    800\n",
      "16                              Tomato___Early_blight    800\n",
      "17           Cherry_(including_sour)___Powdery_mildew    842\n",
      "18         Grape___Leaf_blight_(Isariopsis_Leaf_Spot)    861\n",
      "19                           Strawberry___Leaf_scorch    887\n",
      "20                             Corn_(maize)___healthy    929\n",
      "21                                  Grape___Black_rot    944\n",
      "22                        Corn_(maize)___Common_rust_    953\n",
      "23                       Grape___Esca_(Black_Measles)   1107\n",
      "24                               Tomato___Target_Spot   1123\n",
      "25                             Pepper,_bell___healthy   1183\n",
      "26                                Blueberry___healthy   1202\n",
      "27                                   Tomato___healthy   1273\n",
      "28                                    Apple___healthy   1316\n",
      "29      Tomato___Spider_mites Two-spotted_spider_mite   1341\n",
      "30                        Tomato___Septoria_leaf_spot   1417\n",
      "31                            Squash___Powdery_mildew   1468\n",
      "32                               Tomato___Late_blight   1527\n",
      "33                            Tomato___Bacterial_spot   1702\n",
      "34                             Peach___Bacterial_spot   1838\n",
      "35                                  Soybean___healthy   4072\n",
      "36             Tomato___Tomato_Yellow_Leaf_Curl_Virus   4286\n",
      "37           Orange___Haunglongbing_(Citrus_greening)   4405\n"
     ]
    }
   ],
   "source": [
    "import os\n",
    "from tqdm import tqdm\n",
    "import numpy as np\n",
    "import pandas as pd\n",
    "import matplotlib.pyplot as plt\n",
    "from collections import Counter\n",
    "from torchvision import datasets, transforms\n",
    "from torch.utils.data import DataLoader, random_split\n",
    "\n",
    "# Define transformations for your dataset\n",
    "image_width = 224\n",
    "transform = transforms.Compose([\n",
    "    transforms.Resize((image_width, image_width)),  # Resize all images to 128x128\n",
    "    transforms.ToTensor(),          # Convert images to PyTorch tensors\n",
    "    transforms.Normalize(mean=[0.5, 0.5, 0.5], std=[0.5, 0.5, 0.5])  # Normalize to [-1, 1]\n",
    "])\n",
    "\n",
    "# Load train dataset\n",
    "train_path = os.path.join('PlantVillage', 'train')\n",
    "train_dataset = datasets.ImageFolder(root=train_path, transform=transform)\n",
    "\n",
    "# Load val dataset\n",
    "val_path = os.path.join('PlantVillage', 'val')\n",
    "val_dataset = datasets.ImageFolder(root=val_path, transform=transform)\n",
    "\n",
    "# Split val dataset into val and test\n",
    "test_split = 0.5  # Use 50% of the current val set as the test set\n",
    "test_size = int(test_split * len(val_dataset))\n",
    "val_size = len(val_dataset) - test_size\n",
    "\n",
    "val_dataset, test_dataset = random_split(val_dataset, [val_size, test_size])\n",
    "\n",
    "# Create DataLoaders for train, val, and test datasets\n",
    "batch_size = 32\n",
    "\n",
    "train_loader = DataLoader(train_dataset, batch_size=batch_size, shuffle=True, num_workers=4)\n",
    "val_loader = DataLoader(val_dataset, batch_size=batch_size, shuffle=False, num_workers=4)\n",
    "test_loader = DataLoader(test_dataset, batch_size=batch_size, shuffle=False, num_workers=4)\n",
    "\n",
    "# Function to count class instances with a progress bar\n",
    "def count_classes(dataset):\n",
    "    class_counter = Counter()\n",
    "    for _, label in tqdm(dataset, desc=\"Counting classes\"):\n",
    "        class_counter[label] += 1\n",
    "    return class_counter\n",
    "\n",
    "# Access class-to-index mapping\n",
    "class_to_idx = train_dataset.class_to_idx\n",
    "print(\"Class to index mapping:\", class_to_idx)\n",
    "\n",
    "def count_classes_in_folders(dataset_path):\n",
    "    \"\"\"\n",
    "    Count the number of items in each class folder in the dataset.\n",
    "    \"\"\"\n",
    "    class_counts = {}\n",
    "    for class_name in os.listdir(dataset_path):\n",
    "        class_folder = os.path.join(dataset_path, class_name)\n",
    "        if os.path.isdir(class_folder):  # Ensure it's a directory\n",
    "            class_counts[class_name] = len(os.listdir(class_folder))\n",
    "    return class_counts\n",
    "\n",
    "# Count classes\n",
    "train_class_counts = count_classes_in_folders(train_path)\n",
    "\n",
    "# Create a DataFrame from the train_class_counts dictionary\n",
    "class_df = pd.DataFrame(list(train_class_counts.items()), columns=[\"Class\", \"Count\"])\n",
    "\n",
    "# Sort the DataFrame by 'Count' in ascending order\n",
    "class_df_sorted = class_df.sort_values(by=\"Count\", ascending=True).reset_index(drop=True)\n",
    "\n",
    "# Print the sorted DataFrame\n",
    "print(class_df_sorted)"
   ]
  },
  {
   "cell_type": "markdown",
   "metadata": {},
   "source": [
    "#### ResNet Training"
   ]
  },
  {
   "cell_type": "code",
   "execution_count": 11,
   "metadata": {},
   "outputs": [
    {
     "name": "stderr",
     "output_type": "stream",
     "text": [
      "Epoch 1/10: 100%|██████████| 1358/1358 [01:11<00:00, 18.93batch/s, loss=0.386] "
     ]
    },
    {
     "name": "stdout",
     "output_type": "stream",
     "text": [
      "Epoch 1, Average Loss: 0.5714\n"
     ]
    },
    {
     "name": "stderr",
     "output_type": "stream",
     "text": [
      "\n"
     ]
    },
    {
     "name": "stdout",
     "output_type": "stream",
     "text": [
      "Validation Accuracy: 93.67%\n",
      "Validation Loss: 0.2324\n"
     ]
    },
    {
     "name": "stderr",
     "output_type": "stream",
     "text": [
      "Epoch 2/10: 100%|██████████| 1358/1358 [01:07<00:00, 20.20batch/s, loss=0.22]  "
     ]
    },
    {
     "name": "stdout",
     "output_type": "stream",
     "text": [
      "Epoch 2, Average Loss: 0.2252\n"
     ]
    },
    {
     "name": "stderr",
     "output_type": "stream",
     "text": [
      "\n"
     ]
    },
    {
     "name": "stdout",
     "output_type": "stream",
     "text": [
      "Validation Accuracy: 94.55%\n",
      "Validation Loss: 0.1739\n"
     ]
    },
    {
     "name": "stderr",
     "output_type": "stream",
     "text": [
      "Epoch 3/10: 100%|██████████| 1358/1358 [01:10<00:00, 19.39batch/s, loss=0.179] "
     ]
    },
    {
     "name": "stdout",
     "output_type": "stream",
     "text": [
      "Epoch 3, Average Loss: 0.1724\n"
     ]
    },
    {
     "name": "stderr",
     "output_type": "stream",
     "text": [
      "\n"
     ]
    },
    {
     "name": "stdout",
     "output_type": "stream",
     "text": [
      "Validation Accuracy: 95.32%\n",
      "Validation Loss: 0.1481\n"
     ]
    },
    {
     "name": "stderr",
     "output_type": "stream",
     "text": [
      "Epoch 4/10: 100%|██████████| 1358/1358 [01:07<00:00, 20.07batch/s, loss=0.0503]"
     ]
    },
    {
     "name": "stdout",
     "output_type": "stream",
     "text": [
      "Epoch 4, Average Loss: 0.1491\n"
     ]
    },
    {
     "name": "stderr",
     "output_type": "stream",
     "text": [
      "\n"
     ]
    },
    {
     "name": "stdout",
     "output_type": "stream",
     "text": [
      "Validation Accuracy: 95.53%\n",
      "Validation Loss: 0.1315\n"
     ]
    },
    {
     "name": "stderr",
     "output_type": "stream",
     "text": [
      "Epoch 5/10: 100%|██████████| 1358/1358 [01:06<00:00, 20.43batch/s, loss=0.11]  "
     ]
    },
    {
     "name": "stdout",
     "output_type": "stream",
     "text": [
      "Epoch 5, Average Loss: 0.1300\n"
     ]
    },
    {
     "name": "stderr",
     "output_type": "stream",
     "text": [
      "\n"
     ]
    },
    {
     "name": "stdout",
     "output_type": "stream",
     "text": [
      "Validation Accuracy: 96.34%\n",
      "Validation Loss: 0.1163\n"
     ]
    },
    {
     "name": "stderr",
     "output_type": "stream",
     "text": [
      "Epoch 6/10: 100%|██████████| 1358/1358 [01:01<00:00, 22.10batch/s, loss=0.201]  "
     ]
    },
    {
     "name": "stdout",
     "output_type": "stream",
     "text": [
      "Epoch 6, Average Loss: 0.1192\n"
     ]
    },
    {
     "name": "stderr",
     "output_type": "stream",
     "text": [
      "\n"
     ]
    },
    {
     "name": "stdout",
     "output_type": "stream",
     "text": [
      "Validation Accuracy: 95.80%\n",
      "Validation Loss: 0.1243\n"
     ]
    },
    {
     "name": "stderr",
     "output_type": "stream",
     "text": [
      "Epoch 7/10: 100%|██████████| 1358/1358 [01:02<00:00, 21.62batch/s, loss=0.0226] "
     ]
    },
    {
     "name": "stdout",
     "output_type": "stream",
     "text": [
      "Epoch 7, Average Loss: 0.1134\n"
     ]
    },
    {
     "name": "stderr",
     "output_type": "stream",
     "text": [
      "\n"
     ]
    },
    {
     "name": "stdout",
     "output_type": "stream",
     "text": [
      "Validation Accuracy: 96.19%\n",
      "Validation Loss: 0.1124\n"
     ]
    },
    {
     "name": "stderr",
     "output_type": "stream",
     "text": [
      "Epoch 8/10: 100%|██████████| 1358/1358 [01:01<00:00, 21.91batch/s, loss=0.0631] "
     ]
    },
    {
     "name": "stdout",
     "output_type": "stream",
     "text": [
      "Epoch 8, Average Loss: 0.1038\n"
     ]
    },
    {
     "name": "stderr",
     "output_type": "stream",
     "text": [
      "\n"
     ]
    },
    {
     "name": "stdout",
     "output_type": "stream",
     "text": [
      "Validation Accuracy: 96.21%\n",
      "Validation Loss: 0.1162\n"
     ]
    },
    {
     "name": "stderr",
     "output_type": "stream",
     "text": [
      "Epoch 9/10: 100%|██████████| 1358/1358 [01:03<00:00, 21.50batch/s, loss=0.0553] "
     ]
    },
    {
     "name": "stdout",
     "output_type": "stream",
     "text": [
      "Epoch 9, Average Loss: 0.1015\n"
     ]
    },
    {
     "name": "stderr",
     "output_type": "stream",
     "text": [
      "\n"
     ]
    },
    {
     "name": "stdout",
     "output_type": "stream",
     "text": [
      "Validation Accuracy: 96.43%\n",
      "Validation Loss: 0.1016\n"
     ]
    },
    {
     "name": "stderr",
     "output_type": "stream",
     "text": [
      "Epoch 10/10: 100%|██████████| 1358/1358 [01:05<00:00, 20.80batch/s, loss=0.157]  "
     ]
    },
    {
     "name": "stdout",
     "output_type": "stream",
     "text": [
      "Epoch 10, Average Loss: 0.0955\n"
     ]
    },
    {
     "name": "stderr",
     "output_type": "stream",
     "text": [
      "\n"
     ]
    },
    {
     "name": "stdout",
     "output_type": "stream",
     "text": [
      "Validation Accuracy: 96.43%\n",
      "Validation Loss: 0.1125\n",
      "Maximum number of epochs reached.\n"
     ]
    }
   ],
   "source": [
    "import torch.optim as optim\n",
    "\n",
    "train_model(model, criterion, optimizer, num_classes, train_loader, epoch=10)"
   ]
  },
  {
   "cell_type": "markdown",
   "metadata": {},
   "source": [
    "#### ResNet Testing"
   ]
  },
  {
   "cell_type": "code",
   "execution_count": null,
   "metadata": {},
   "outputs": [],
   "source": [
    "from sklearn.metrics import f1_score\n",
    "\n",
    "# Evaluate on the test dataset with tqdm\n",
    "model.eval()\n",
    "correct = 0\n",
    "total = 0\n",
    "all_labels = []  # To store true labels\n",
    "all_preds = []   # To store predicted labels\n",
    "test_loader = tqdm(test_loader, desc=\"Testing\", unit=\"batch\")  # Add tqdm for the test loop\n",
    "\n",
    "with torch.no_grad():  # Disable gradient computation during evaluation\n",
    "    for images, labels in test_loader:  # Loop through test dataset\n",
    "        images, labels = images.to(device), labels.to(device)\n",
    "        outputs = model(images)\n",
    "        _, predicted = torch.max(outputs, 1)\n",
    "        total += labels.size(0)\n",
    "        correct += (predicted == labels).sum().item()\n",
    "        \n",
    "        all_labels.extend(labels.cpu().numpy())  # Append true labels\n",
    "        all_preds.extend(predicted.cpu().numpy())  # Append predicted labels\n",
    "        \n",
    "        # Update tqdm bar with current accuracy\n",
    "        test_loader.set_postfix(accuracy=(100 * correct / total))  \n",
    "\n",
    "# Compute test accuracy\n",
    "test_accuracy = 100 * correct / total\n",
    "\n",
    "# Compute F1 score for the whole dataset\n",
    "f1 = f1_score(all_labels, all_preds, average='weighted')  # You can also use 'macro' or 'micro' as needed\n",
    "\n",
    "print(f\"\\nTest Accuracy: {test_accuracy:.2f}%\")\n",
    "print(f\"Test F1 Score (Weighted): {f1:.4f}\")"
   ]
  },
  {
   "cell_type": "markdown",
   "metadata": {},
   "source": [
    "#### ResNet Evaluation"
   ]
  },
  {
   "cell_type": "code",
   "execution_count": null,
   "metadata": {},
   "outputs": [],
   "source": [
    "class_names = train_dataset.classes\n",
    "evaluate_model(model, val_loader, class_names)"
   ]
  },
  {
   "cell_type": "markdown",
   "metadata": {},
   "source": [
    "#### Save ResNet Model"
   ]
  },
  {
   "cell_type": "code",
   "execution_count": 21,
   "metadata": {},
   "outputs": [],
   "source": [
    "torch.save(model.state_dict(), 'resNet_plant_disease_model.pth')"
   ]
  },
  {
   "cell_type": "code",
   "execution_count": 19,
   "metadata": {},
   "outputs": [
    {
     "name": "stdout",
     "output_type": "stream",
     "text": [
      "Top 3 predicted classes:\n",
      "1. Potato___Late_blight: 0.7101\n",
      "2. Strawberry___Leaf_scorch: 0.2756\n",
      "3. Potato___Early_blight: 0.0100\n",
      "4. Strawberry___healthy: 0.0024\n",
      "5. Tomato___Septoria_leaf_spot: 0.0010\n"
     ]
    }
   ],
   "source": [
    "from PIL import Image\n",
    "import torch\n",
    "import torchvision.transforms as transforms\n",
    "\n",
    "# Load the trained model\n",
    "model.load_state_dict(torch.load('plant_disease_model_256.pth'))\n",
    "model.eval()\n",
    "model.to(device)\n",
    "\n",
    "image_width = 256\n",
    "\n",
    "# Define the transformations\n",
    "transform = transforms.Compose([\n",
    "    transforms.Resize((image_width, image_width)),\n",
    "    transforms.ToTensor(),\n",
    "    transforms.Normalize(mean=[0.5, 0.5, 0.5], std=[0.5, 0.5, 0.5])\n",
    "])\n",
    "\n",
    "# Load and preprocess the image\n",
    "image_path = \"testImages/1d3d9fb0-9c00-4763-b023-8fa65f591940___RS_L.Scorch 1336.JPG\"  # Replace with your image path\n",
    "image = Image.open(image_path).convert(\"RGB\")\n",
    "image_tensor = transform(image).unsqueeze(0).to(device)\n",
    "\n",
    "# Perform the prediction\n",
    "with torch.no_grad():\n",
    "    outputs = model(image_tensor)\n",
    "    probabilities = torch.nn.functional.softmax(outputs, dim=1)\n",
    "    top3_prob, top3_classes = torch.topk(probabilities, 5)  # Get top 3 probabilities and class indices\n",
    "\n",
    "# Print the top 3 classes and their probabilities\n",
    "print(\"Top 3 predicted classes:\")\n",
    "for i in range(5):\n",
    "    class_index = top3_classes[0, i].item()\n",
    "    class_label = train_dataset.classes[class_index]\n",
    "    class_prob = top3_prob[0, i].item()\n",
    "    print(f\"{i+1}. {class_label}: {class_prob:.4f}\")"
   ]
  },
  {
   "cell_type": "markdown",
   "metadata": {},
   "source": [
    "Extract wrong predicted images"
   ]
  },
  {
   "cell_type": "code",
   "execution_count": 9,
   "metadata": {},
   "outputs": [
    {
     "name": "stderr",
     "output_type": "stream",
     "text": [
      "Validating: 100%|██████████| 170/170 [00:01<00:00, 106.17it/s]"
     ]
    },
    {
     "name": "stdout",
     "output_type": "stream",
     "text": [
      "Saved 253 wrong predictions in 'wrong_predictions'.\n"
     ]
    },
    {
     "name": "stderr",
     "output_type": "stream",
     "text": [
      "\n"
     ]
    }
   ],
   "source": [
    "import os\n",
    "from torchvision.utils import save_image\n",
    "from tqdm import tqdm\n",
    "\n",
    "# Directory per salvare le immagini errate\n",
    "output_dir = \"wrong_predictions\"\n",
    "os.makedirs(output_dir, exist_ok=True)\n",
    "\n",
    "# Preparare il modello per la valutazione\n",
    "model.eval()\n",
    "wrong_count = 0  # Contatore per le immagini errate\n",
    "\n",
    "# Loop sul test_loader\n",
    "with torch.no_grad():\n",
    "    for images, labels in tqdm(test_loader, desc=\"Validating\"):\n",
    "        images, labels = images.to(device), labels.to(device)\n",
    "        outputs = model(images)\n",
    "        _, predicted = torch.max(outputs, 1)\n",
    "\n",
    "        # Identificare le predizioni errate\n",
    "        incorrect_indices = (predicted != labels).nonzero(as_tuple=True)[0]\n",
    "\n",
    "        # Salvare le immagini errate\n",
    "        for idx in incorrect_indices:\n",
    "            wrong_count += 1\n",
    "            image = images[idx].cpu()  # Riporta l'immagine alla CPU\n",
    "            true_label = train_dataset.classes[labels[idx].item()]  # Classe reale\n",
    "            predicted_label = train_dataset.classes[predicted[idx].item()]  # Classe predetta\n",
    "\n",
    "            # Salva l'immagine con un nome rappresentativo\n",
    "            filename = os.path.join(\n",
    "                output_dir,\n",
    "                f\"wrong_{wrong_count}_true_{true_label}_pred_{predicted_label}.png\"\n",
    "            )\n",
    "            save_image(image, filename)\n",
    "\n",
    "print(f\"Saved {wrong_count} wrong predictions in '{output_dir}'.\")\n"
   ]
  },
  {
   "cell_type": "markdown",
   "metadata": {},
   "source": [
    "### GridSearch Testing"
   ]
  },
  {
   "cell_type": "markdown",
   "metadata": {},
   "source": [
    "CNN Model updated for testings"
   ]
  },
  {
   "cell_type": "code",
   "execution_count": 19,
   "metadata": {},
   "outputs": [],
   "source": [
    "import torch\n",
    "import torch.nn as nn\n",
    "\n",
    "class SimpleCNN(nn.Module):\n",
    "    def __init__(self, num_classes, image_width, num_layers, first_layer_filters):\n",
    "        super(SimpleCNN, self).__init__()\n",
    "\n",
    "        # Lista di moduli convoluzionali\n",
    "        layers = []\n",
    "        in_channels = 3  # Input ha 3 canali (RGB)\n",
    "\n",
    "        # Primo layer, numero di filtri dato dal parametro first_layer_filters\n",
    "        layers.append(nn.Conv2d(in_channels, first_layer_filters, kernel_size=3, stride=1, padding=1))\n",
    "        layers.append(nn.ReLU())\n",
    "        layers.append(nn.MaxPool2d(kernel_size=2, stride=2))\n",
    "\n",
    "        in_channels = first_layer_filters  # Aggiorniamo il numero di canali per il prossimo layer\n",
    "\n",
    "        # Aggiungiamo layer convoluzionali in base al parametro num_layers\n",
    "        for i in range(1, num_layers):\n",
    "            out_channels = in_channels * 2  # Raddoppia il numero di filtri ad ogni layer\n",
    "            layers.append(nn.Conv2d(in_channels, out_channels, kernel_size=3, stride=1, padding=1))\n",
    "            layers.append(nn.ReLU())\n",
    "            layers.append(nn.MaxPool2d(kernel_size=2, stride=2))\n",
    "            in_channels = out_channels  # Aggiorniamo il numero di canali per il prossimo layer\n",
    "\n",
    "        # Dropout finale\n",
    "        layers.append(nn.Dropout(0.20))\n",
    "\n",
    "        self.features = nn.Sequential(*layers)\n",
    "\n",
    "        # Calcolare la dimensione dell'input per il classificatore\n",
    "        # Assumiamo che l'immagine venga ridotta in dimensioni con i maxpool\n",
    "        feature_dim = in_channels * (image_width // (2 ** num_layers)) ** 2\n",
    "        \n",
    "        self.classifier = nn.Sequential(\n",
    "            nn.Linear(feature_dim, 512),\n",
    "            nn.ReLU(),\n",
    "            nn.Dropout(0.45),\n",
    "            nn.Linear(512, num_classes)\n",
    "        )\n",
    "\n",
    "    def forward(self, x):\n",
    "        x = self.features(x)\n",
    "        x = x.view(x.size(0), -1)  # Flatten\n",
    "        x = self.classifier(x)\n",
    "        return x\n"
   ]
  },
  {
   "cell_type": "markdown",
   "metadata": {},
   "source": [
    "#### Classe Wrapper per il modello PyTorch\n",
    "\n",
    "Questa classe permetterà di utilizzare il modello PyTorch con l'API di scikit-learn:"
   ]
  },
  {
   "cell_type": "code",
   "execution_count": 20,
   "metadata": {},
   "outputs": [],
   "source": [
    "from sklearn.base import BaseEstimator, ClassifierMixin\n",
    "import torch\n",
    "import torch.optim as optim\n",
    "import torch.nn as nn\n",
    "import numpy as np\n",
    "from torch.utils.data import DataLoader, TensorDataset\n",
    "\n",
    "class PyTorchClassifier(BaseEstimator, ClassifierMixin):\n",
    "    def __init__(self, num_classes, image_width, num_layers, first_layer_filters, lr=0.001, epochs=10):\n",
    "        self.num_classes = num_classes\n",
    "        self.image_width = image_width\n",
    "        self.num_layers = num_layers\n",
    "        self.first_layer_filters = first_layer_filters\n",
    "        self.lr = lr\n",
    "        self.epochs = epochs\n",
    "        self.device = torch.device('cuda' if torch.cuda.is_available() else 'cpu')\n",
    "        self.model = None\n",
    "    \n",
    "    def _initialize_model(self):\n",
    "        self.model = SimpleCNN(\n",
    "            num_classes=self.num_classes,\n",
    "            image_width=self.image_width,\n",
    "            num_layers=self.num_layers,\n",
    "            first_layer_filters=self.first_layer_filters\n",
    "        ).to(self.device)\n",
    "    \n",
    "    def fit(self, X, y):\n",
    "        self._initialize_model()\n",
    "        optimizer = optim.Adam(self.model.parameters(), lr=self.lr)\n",
    "        criterion = nn.CrossEntropyLoss()\n",
    "\n",
    "        # Convert X and y to DataLoader\n",
    "        train_dataset = TensorDataset(torch.tensor(X, dtype=torch.float32), torch.tensor(y, dtype=torch.long))\n",
    "        train_loader = DataLoader(train_dataset, batch_size=32, shuffle=True)\n",
    "\n",
    "        for epoch in range(self.epochs):\n",
    "            self.model.train()\n",
    "            running_loss = 0.0\n",
    "            for images, labels in train_loader:\n",
    "                images, labels = images.to(self.device), labels.to(self.device)\n",
    "                optimizer.zero_grad()\n",
    "                outputs = self.model(images)\n",
    "                loss = criterion(outputs, labels)\n",
    "                loss.backward()\n",
    "                optimizer.step()\n",
    "                running_loss += loss.item()\n",
    "        \n",
    "        return self\n",
    "    \n",
    "    def predict(self, X):\n",
    "        self.model.eval()\n",
    "        all_preds = []\n",
    "        with torch.no_grad():\n",
    "            for images in X:\n",
    "                images = torch.tensor(images, dtype=torch.float32).to(self.device)\n",
    "                outputs = self.model(images)\n",
    "                _, preds = torch.max(outputs, 1)\n",
    "                all_preds.append(preds.cpu().numpy())\n",
    "        return np.concatenate(all_preds)\n",
    "    \n",
    "    def score(self, X, y):\n",
    "        preds = self.predict(X)\n",
    "        return (preds == y).mean()\n"
   ]
  },
  {
   "cell_type": "markdown",
   "metadata": {},
   "source": [
    "#### Data Preprocessing\n",
    "\n",
    "Devi adattare i tuoi dataset per usarli con GridSearchCV. La libreria si aspetta dati e etichette in formato array-like:"
   ]
  },
  {
   "cell_type": "code",
   "execution_count": 22,
   "metadata": {},
   "outputs": [],
   "source": [
    "from sklearn.model_selection import train_test_split\n",
    "\n",
    "# Estrapola dati e label dai DataLoader\n",
    "def extract_data_from_loader(loader):\n",
    "    data, labels = [], []\n",
    "    for images, lbls in loader:\n",
    "        data.append(images)\n",
    "        labels.append(lbls)\n",
    "    \n",
    "    # Unisci i dati e le etichette in un unico tensore\n",
    "    data = torch.cat(data)  # Questo è un tensore\n",
    "    labels = torch.cat(labels)  # Questo è un tensore\n",
    "    \n",
    "    # Converte i tensori in numpy arrays\n",
    "    data = data.numpy()\n",
    "    labels = labels.numpy()\n",
    "    \n",
    "    return data, labels\n",
    "\n",
    "# Estrai i dati dai DataLoader\n",
    "X_train, y_train = extract_data_from_loader(train_loader)\n",
    "X_val, y_val = extract_data_from_loader(val_loader)\n",
    "X_test, y_test = extract_data_from_loader(test_loader)\n",
    "\n",
    "# Ora usa train_test_split per suddividere i dati\n",
    "X_train, X_val, y_train, y_val = train_test_split(X_train, y_train, test_size=0.2, random_state=42)\n"
   ]
  },
  {
   "cell_type": "markdown",
   "metadata": {},
   "source": [
    "#### Execute GridSearch\n",
    "Ora puoi definire i parametri da testare e utilizzare GridSearchCV per trovare la migliore combinazione:"
   ]
  },
  {
   "cell_type": "code",
   "execution_count": 23,
   "metadata": {},
   "outputs": [
    {
     "name": "stdout",
     "output_type": "stream",
     "text": [
      "Fitting 3 folds for each of 16 candidates, totalling 48 fits\n"
     ]
    },
    {
     "name": "stderr",
     "output_type": "stream",
     "text": [
      "/home/alessio/.local/lib/python3.10/site-packages/sklearn/model_selection/_validation.py:960: UserWarning: Scoring failed. The score on this train-test partition for these parameters will be set to nan. Details: \n",
      "Traceback (most recent call last):\n",
      "  File \"/home/alessio/.local/lib/python3.10/site-packages/sklearn/model_selection/_validation.py\", line 949, in _score\n",
      "    scores = scorer(estimator, X_test, y_test, **score_params)\n",
      "  File \"/home/alessio/.local/lib/python3.10/site-packages/sklearn/metrics/_scorer.py\", line 288, in __call__\n",
      "    return self._score(partial(_cached_call, None), estimator, X, y_true, **_kwargs)\n",
      "  File \"/home/alessio/.local/lib/python3.10/site-packages/sklearn/metrics/_scorer.py\", line 380, in _score\n",
      "    y_pred = method_caller(\n",
      "  File \"/home/alessio/.local/lib/python3.10/site-packages/sklearn/metrics/_scorer.py\", line 90, in _cached_call\n",
      "    result, _ = _get_response_values(\n",
      "  File \"/home/alessio/.local/lib/python3.10/site-packages/sklearn/utils/_response.py\", line 242, in _get_response_values\n",
      "    y_pred, pos_label = prediction_method(X), None\n",
      "  File \"/tmp/ipykernel_5971/3720028784.py\", line 26, in predict\n",
      "    return self.model.predict(X)\n",
      "  File \"/tmp/ipykernel_5971/2522499177.py\", line 56, in predict\n",
      "    outputs = self.model(images)\n",
      "  File \"/home/alessio/.local/lib/python3.10/site-packages/torch/nn/modules/module.py\", line 1518, in _wrapped_call_impl\n",
      "    return self._call_impl(*args, **kwargs)\n",
      "  File \"/home/alessio/.local/lib/python3.10/site-packages/torch/nn/modules/module.py\", line 1527, in _call_impl\n",
      "    return forward_call(*args, **kwargs)\n",
      "  File \"/tmp/ipykernel_5971/2885653683.py\", line 46, in forward\n",
      "    x = self.classifier(x)\n",
      "  File \"/home/alessio/.local/lib/python3.10/site-packages/torch/nn/modules/module.py\", line 1518, in _wrapped_call_impl\n",
      "    return self._call_impl(*args, **kwargs)\n",
      "  File \"/home/alessio/.local/lib/python3.10/site-packages/torch/nn/modules/module.py\", line 1527, in _call_impl\n",
      "    return forward_call(*args, **kwargs)\n",
      "  File \"/home/alessio/.local/lib/python3.10/site-packages/torch/nn/modules/container.py\", line 215, in forward\n",
      "    input = module(input)\n",
      "  File \"/home/alessio/.local/lib/python3.10/site-packages/torch/nn/modules/module.py\", line 1518, in _wrapped_call_impl\n",
      "    return self._call_impl(*args, **kwargs)\n",
      "  File \"/home/alessio/.local/lib/python3.10/site-packages/torch/nn/modules/module.py\", line 1527, in _call_impl\n",
      "    return forward_call(*args, **kwargs)\n",
      "  File \"/home/alessio/.local/lib/python3.10/site-packages/torch/nn/modules/linear.py\", line 114, in forward\n",
      "    return F.linear(input, self.weight, self.bias)\n",
      "RuntimeError: mat1 and mat2 shapes cannot be multiplied (32x64 and 2048x512)\n",
      "\n",
      "  warnings.warn(\n"
     ]
    },
    {
     "name": "stdout",
     "output_type": "stream",
     "text": [
      "[CV 1/3] END first_layer_filters=16, image_width=32, lr=0.001, num_layers=2;, score=nan total time=  17.3s\n",
      "[CV 2/3] END first_layer_filters=16, image_width=32, lr=0.001, num_layers=2;, score=nan total time=  16.6s\n",
      "[CV 3/3] END first_layer_filters=16, image_width=32, lr=0.001, num_layers=2;, score=nan total time=  16.7s\n"
     ]
    },
    {
     "name": "stderr",
     "output_type": "stream",
     "text": [
      "/home/alessio/.local/lib/python3.10/site-packages/sklearn/model_selection/_validation.py:960: UserWarning: Scoring failed. The score on this train-test partition for these parameters will be set to nan. Details: \n",
      "Traceback (most recent call last):\n",
      "  File \"/home/alessio/.local/lib/python3.10/site-packages/sklearn/model_selection/_validation.py\", line 949, in _score\n",
      "    scores = scorer(estimator, X_test, y_test, **score_params)\n",
      "  File \"/home/alessio/.local/lib/python3.10/site-packages/sklearn/metrics/_scorer.py\", line 288, in __call__\n",
      "    return self._score(partial(_cached_call, None), estimator, X, y_true, **_kwargs)\n",
      "  File \"/home/alessio/.local/lib/python3.10/site-packages/sklearn/metrics/_scorer.py\", line 380, in _score\n",
      "    y_pred = method_caller(\n",
      "  File \"/home/alessio/.local/lib/python3.10/site-packages/sklearn/metrics/_scorer.py\", line 90, in _cached_call\n",
      "    result, _ = _get_response_values(\n",
      "  File \"/home/alessio/.local/lib/python3.10/site-packages/sklearn/utils/_response.py\", line 242, in _get_response_values\n",
      "    y_pred, pos_label = prediction_method(X), None\n",
      "  File \"/tmp/ipykernel_5971/3720028784.py\", line 26, in predict\n",
      "    return self.model.predict(X)\n",
      "  File \"/tmp/ipykernel_5971/2522499177.py\", line 56, in predict\n",
      "    outputs = self.model(images)\n",
      "  File \"/home/alessio/.local/lib/python3.10/site-packages/torch/nn/modules/module.py\", line 1518, in _wrapped_call_impl\n",
      "    return self._call_impl(*args, **kwargs)\n",
      "  File \"/home/alessio/.local/lib/python3.10/site-packages/torch/nn/modules/module.py\", line 1527, in _call_impl\n",
      "    return forward_call(*args, **kwargs)\n",
      "  File \"/tmp/ipykernel_5971/2885653683.py\", line 46, in forward\n",
      "    x = self.classifier(x)\n",
      "  File \"/home/alessio/.local/lib/python3.10/site-packages/torch/nn/modules/module.py\", line 1518, in _wrapped_call_impl\n",
      "    return self._call_impl(*args, **kwargs)\n",
      "  File \"/home/alessio/.local/lib/python3.10/site-packages/torch/nn/modules/module.py\", line 1527, in _call_impl\n",
      "    return forward_call(*args, **kwargs)\n",
      "  File \"/home/alessio/.local/lib/python3.10/site-packages/torch/nn/modules/container.py\", line 215, in forward\n",
      "    input = module(input)\n",
      "  File \"/home/alessio/.local/lib/python3.10/site-packages/torch/nn/modules/module.py\", line 1518, in _wrapped_call_impl\n",
      "    return self._call_impl(*args, **kwargs)\n",
      "  File \"/home/alessio/.local/lib/python3.10/site-packages/torch/nn/modules/module.py\", line 1527, in _call_impl\n",
      "    return forward_call(*args, **kwargs)\n",
      "  File \"/home/alessio/.local/lib/python3.10/site-packages/torch/nn/modules/linear.py\", line 114, in forward\n",
      "    return F.linear(input, self.weight, self.bias)\n",
      "RuntimeError: mat1 and mat2 shapes cannot be multiplied (64x16 and 1024x512)\n",
      "\n",
      "  warnings.warn(\n"
     ]
    },
    {
     "name": "stdout",
     "output_type": "stream",
     "text": [
      "[CV 1/3] END first_layer_filters=16, image_width=32, lr=0.001, num_layers=3;, score=nan total time=  18.2s\n",
      "[CV 2/3] END first_layer_filters=16, image_width=32, lr=0.001, num_layers=3;, score=nan total time=  18.1s\n",
      "[CV 3/3] END first_layer_filters=16, image_width=32, lr=0.001, num_layers=3;, score=nan total time=  18.2s\n"
     ]
    },
    {
     "ename": "KeyboardInterrupt",
     "evalue": "",
     "output_type": "error",
     "traceback": [
      "\u001b[0;31m---------------------------------------------------------------------------\u001b[0m",
      "\u001b[0;31mKeyboardInterrupt\u001b[0m                         Traceback (most recent call last)",
      "Cell \u001b[0;32mIn[23], line 44\u001b[0m\n\u001b[1;32m     42\u001b[0m \u001b[38;5;66;03m# Esegui GridSearchCV\u001b[39;00m\n\u001b[1;32m     43\u001b[0m grid_search \u001b[38;5;241m=\u001b[39m GridSearchCV(estimator\u001b[38;5;241m=\u001b[39mpytorch_clf, param_grid\u001b[38;5;241m=\u001b[39mparam_grid, cv\u001b[38;5;241m=\u001b[39m\u001b[38;5;241m3\u001b[39m, scoring\u001b[38;5;241m=\u001b[39m\u001b[38;5;124m'\u001b[39m\u001b[38;5;124maccuracy\u001b[39m\u001b[38;5;124m'\u001b[39m, verbose\u001b[38;5;241m=\u001b[39m\u001b[38;5;241m3\u001b[39m)\n\u001b[0;32m---> 44\u001b[0m \u001b[43mgrid_search\u001b[49m\u001b[38;5;241;43m.\u001b[39;49m\u001b[43mfit\u001b[49m\u001b[43m(\u001b[49m\u001b[43mX_train\u001b[49m\u001b[43m,\u001b[49m\u001b[43m \u001b[49m\u001b[43my_train\u001b[49m\u001b[43m)\u001b[49m\n\u001b[1;32m     46\u001b[0m \u001b[38;5;66;03m# Stampa i migliori parametri\u001b[39;00m\n\u001b[1;32m     47\u001b[0m \u001b[38;5;28mprint\u001b[39m(\u001b[38;5;124m\"\u001b[39m\u001b[38;5;124mBest parameters found:\u001b[39m\u001b[38;5;124m\"\u001b[39m, grid_search\u001b[38;5;241m.\u001b[39mbest_params_)\n",
      "File \u001b[0;32m~/.local/lib/python3.10/site-packages/sklearn/base.py:1389\u001b[0m, in \u001b[0;36m_fit_context.<locals>.decorator.<locals>.wrapper\u001b[0;34m(estimator, *args, **kwargs)\u001b[0m\n\u001b[1;32m   1382\u001b[0m     estimator\u001b[38;5;241m.\u001b[39m_validate_params()\n\u001b[1;32m   1384\u001b[0m \u001b[38;5;28;01mwith\u001b[39;00m config_context(\n\u001b[1;32m   1385\u001b[0m     skip_parameter_validation\u001b[38;5;241m=\u001b[39m(\n\u001b[1;32m   1386\u001b[0m         prefer_skip_nested_validation \u001b[38;5;129;01mor\u001b[39;00m global_skip_validation\n\u001b[1;32m   1387\u001b[0m     )\n\u001b[1;32m   1388\u001b[0m ):\n\u001b[0;32m-> 1389\u001b[0m     \u001b[38;5;28;01mreturn\u001b[39;00m \u001b[43mfit_method\u001b[49m\u001b[43m(\u001b[49m\u001b[43mestimator\u001b[49m\u001b[43m,\u001b[49m\u001b[43m \u001b[49m\u001b[38;5;241;43m*\u001b[39;49m\u001b[43margs\u001b[49m\u001b[43m,\u001b[49m\u001b[43m \u001b[49m\u001b[38;5;241;43m*\u001b[39;49m\u001b[38;5;241;43m*\u001b[39;49m\u001b[43mkwargs\u001b[49m\u001b[43m)\u001b[49m\n",
      "File \u001b[0;32m~/.local/lib/python3.10/site-packages/sklearn/model_selection/_search.py:1023\u001b[0m, in \u001b[0;36mBaseSearchCV.fit\u001b[0;34m(self, X, y, **params)\u001b[0m\n\u001b[1;32m   1017\u001b[0m     results \u001b[38;5;241m=\u001b[39m \u001b[38;5;28mself\u001b[39m\u001b[38;5;241m.\u001b[39m_format_results(\n\u001b[1;32m   1018\u001b[0m         all_candidate_params, n_splits, all_out, all_more_results\n\u001b[1;32m   1019\u001b[0m     )\n\u001b[1;32m   1021\u001b[0m     \u001b[38;5;28;01mreturn\u001b[39;00m results\n\u001b[0;32m-> 1023\u001b[0m \u001b[38;5;28;43mself\u001b[39;49m\u001b[38;5;241;43m.\u001b[39;49m\u001b[43m_run_search\u001b[49m\u001b[43m(\u001b[49m\u001b[43mevaluate_candidates\u001b[49m\u001b[43m)\u001b[49m\n\u001b[1;32m   1025\u001b[0m \u001b[38;5;66;03m# multimetric is determined here because in the case of a callable\u001b[39;00m\n\u001b[1;32m   1026\u001b[0m \u001b[38;5;66;03m# self.scoring the return type is only known after calling\u001b[39;00m\n\u001b[1;32m   1027\u001b[0m first_test_score \u001b[38;5;241m=\u001b[39m all_out[\u001b[38;5;241m0\u001b[39m][\u001b[38;5;124m\"\u001b[39m\u001b[38;5;124mtest_scores\u001b[39m\u001b[38;5;124m\"\u001b[39m]\n",
      "File \u001b[0;32m~/.local/lib/python3.10/site-packages/sklearn/model_selection/_search.py:1570\u001b[0m, in \u001b[0;36mGridSearchCV._run_search\u001b[0;34m(self, evaluate_candidates)\u001b[0m\n\u001b[1;32m   1568\u001b[0m \u001b[38;5;28;01mdef\u001b[39;00m \u001b[38;5;21m_run_search\u001b[39m(\u001b[38;5;28mself\u001b[39m, evaluate_candidates):\n\u001b[1;32m   1569\u001b[0m \u001b[38;5;250m    \u001b[39m\u001b[38;5;124;03m\"\"\"Search all candidates in param_grid\"\"\"\u001b[39;00m\n\u001b[0;32m-> 1570\u001b[0m     \u001b[43mevaluate_candidates\u001b[49m\u001b[43m(\u001b[49m\u001b[43mParameterGrid\u001b[49m\u001b[43m(\u001b[49m\u001b[38;5;28;43mself\u001b[39;49m\u001b[38;5;241;43m.\u001b[39;49m\u001b[43mparam_grid\u001b[49m\u001b[43m)\u001b[49m\u001b[43m)\u001b[49m\n",
      "File \u001b[0;32m~/.local/lib/python3.10/site-packages/sklearn/model_selection/_search.py:969\u001b[0m, in \u001b[0;36mBaseSearchCV.fit.<locals>.evaluate_candidates\u001b[0;34m(candidate_params, cv, more_results)\u001b[0m\n\u001b[1;32m    961\u001b[0m \u001b[38;5;28;01mif\u001b[39;00m \u001b[38;5;28mself\u001b[39m\u001b[38;5;241m.\u001b[39mverbose \u001b[38;5;241m>\u001b[39m \u001b[38;5;241m0\u001b[39m:\n\u001b[1;32m    962\u001b[0m     \u001b[38;5;28mprint\u001b[39m(\n\u001b[1;32m    963\u001b[0m         \u001b[38;5;124m\"\u001b[39m\u001b[38;5;124mFitting \u001b[39m\u001b[38;5;132;01m{0}\u001b[39;00m\u001b[38;5;124m folds for each of \u001b[39m\u001b[38;5;132;01m{1}\u001b[39;00m\u001b[38;5;124m candidates,\u001b[39m\u001b[38;5;124m\"\u001b[39m\n\u001b[1;32m    964\u001b[0m         \u001b[38;5;124m\"\u001b[39m\u001b[38;5;124m totalling \u001b[39m\u001b[38;5;132;01m{2}\u001b[39;00m\u001b[38;5;124m fits\u001b[39m\u001b[38;5;124m\"\u001b[39m\u001b[38;5;241m.\u001b[39mformat(\n\u001b[1;32m    965\u001b[0m             n_splits, n_candidates, n_candidates \u001b[38;5;241m*\u001b[39m n_splits\n\u001b[1;32m    966\u001b[0m         )\n\u001b[1;32m    967\u001b[0m     )\n\u001b[0;32m--> 969\u001b[0m out \u001b[38;5;241m=\u001b[39m \u001b[43mparallel\u001b[49m\u001b[43m(\u001b[49m\n\u001b[1;32m    970\u001b[0m \u001b[43m    \u001b[49m\u001b[43mdelayed\u001b[49m\u001b[43m(\u001b[49m\u001b[43m_fit_and_score\u001b[49m\u001b[43m)\u001b[49m\u001b[43m(\u001b[49m\n\u001b[1;32m    971\u001b[0m \u001b[43m        \u001b[49m\u001b[43mclone\u001b[49m\u001b[43m(\u001b[49m\u001b[43mbase_estimator\u001b[49m\u001b[43m)\u001b[49m\u001b[43m,\u001b[49m\n\u001b[1;32m    972\u001b[0m \u001b[43m        \u001b[49m\u001b[43mX\u001b[49m\u001b[43m,\u001b[49m\n\u001b[1;32m    973\u001b[0m \u001b[43m        \u001b[49m\u001b[43my\u001b[49m\u001b[43m,\u001b[49m\n\u001b[1;32m    974\u001b[0m \u001b[43m        \u001b[49m\u001b[43mtrain\u001b[49m\u001b[38;5;241;43m=\u001b[39;49m\u001b[43mtrain\u001b[49m\u001b[43m,\u001b[49m\n\u001b[1;32m    975\u001b[0m \u001b[43m        \u001b[49m\u001b[43mtest\u001b[49m\u001b[38;5;241;43m=\u001b[39;49m\u001b[43mtest\u001b[49m\u001b[43m,\u001b[49m\n\u001b[1;32m    976\u001b[0m \u001b[43m        \u001b[49m\u001b[43mparameters\u001b[49m\u001b[38;5;241;43m=\u001b[39;49m\u001b[43mparameters\u001b[49m\u001b[43m,\u001b[49m\n\u001b[1;32m    977\u001b[0m \u001b[43m        \u001b[49m\u001b[43msplit_progress\u001b[49m\u001b[38;5;241;43m=\u001b[39;49m\u001b[43m(\u001b[49m\u001b[43msplit_idx\u001b[49m\u001b[43m,\u001b[49m\u001b[43m \u001b[49m\u001b[43mn_splits\u001b[49m\u001b[43m)\u001b[49m\u001b[43m,\u001b[49m\n\u001b[1;32m    978\u001b[0m \u001b[43m        \u001b[49m\u001b[43mcandidate_progress\u001b[49m\u001b[38;5;241;43m=\u001b[39;49m\u001b[43m(\u001b[49m\u001b[43mcand_idx\u001b[49m\u001b[43m,\u001b[49m\u001b[43m \u001b[49m\u001b[43mn_candidates\u001b[49m\u001b[43m)\u001b[49m\u001b[43m,\u001b[49m\n\u001b[1;32m    979\u001b[0m \u001b[43m        \u001b[49m\u001b[38;5;241;43m*\u001b[39;49m\u001b[38;5;241;43m*\u001b[39;49m\u001b[43mfit_and_score_kwargs\u001b[49m\u001b[43m,\u001b[49m\n\u001b[1;32m    980\u001b[0m \u001b[43m    \u001b[49m\u001b[43m)\u001b[49m\n\u001b[1;32m    981\u001b[0m \u001b[43m    \u001b[49m\u001b[38;5;28;43;01mfor\u001b[39;49;00m\u001b[43m \u001b[49m\u001b[43m(\u001b[49m\u001b[43mcand_idx\u001b[49m\u001b[43m,\u001b[49m\u001b[43m \u001b[49m\u001b[43mparameters\u001b[49m\u001b[43m)\u001b[49m\u001b[43m,\u001b[49m\u001b[43m \u001b[49m\u001b[43m(\u001b[49m\u001b[43msplit_idx\u001b[49m\u001b[43m,\u001b[49m\u001b[43m \u001b[49m\u001b[43m(\u001b[49m\u001b[43mtrain\u001b[49m\u001b[43m,\u001b[49m\u001b[43m \u001b[49m\u001b[43mtest\u001b[49m\u001b[43m)\u001b[49m\u001b[43m)\u001b[49m\u001b[43m \u001b[49m\u001b[38;5;129;43;01min\u001b[39;49;00m\u001b[43m \u001b[49m\u001b[43mproduct\u001b[49m\u001b[43m(\u001b[49m\n\u001b[1;32m    982\u001b[0m \u001b[43m        \u001b[49m\u001b[38;5;28;43menumerate\u001b[39;49m\u001b[43m(\u001b[49m\u001b[43mcandidate_params\u001b[49m\u001b[43m)\u001b[49m\u001b[43m,\u001b[49m\n\u001b[1;32m    983\u001b[0m \u001b[43m        \u001b[49m\u001b[38;5;28;43menumerate\u001b[39;49m\u001b[43m(\u001b[49m\u001b[43mcv\u001b[49m\u001b[38;5;241;43m.\u001b[39;49m\u001b[43msplit\u001b[49m\u001b[43m(\u001b[49m\u001b[43mX\u001b[49m\u001b[43m,\u001b[49m\u001b[43m \u001b[49m\u001b[43my\u001b[49m\u001b[43m,\u001b[49m\u001b[43m \u001b[49m\u001b[38;5;241;43m*\u001b[39;49m\u001b[38;5;241;43m*\u001b[39;49m\u001b[43mrouted_params\u001b[49m\u001b[38;5;241;43m.\u001b[39;49m\u001b[43msplitter\u001b[49m\u001b[38;5;241;43m.\u001b[39;49m\u001b[43msplit\u001b[49m\u001b[43m)\u001b[49m\u001b[43m)\u001b[49m\u001b[43m,\u001b[49m\n\u001b[1;32m    984\u001b[0m \u001b[43m    \u001b[49m\u001b[43m)\u001b[49m\n\u001b[1;32m    985\u001b[0m \u001b[43m\u001b[49m\u001b[43m)\u001b[49m\n\u001b[1;32m    987\u001b[0m \u001b[38;5;28;01mif\u001b[39;00m \u001b[38;5;28mlen\u001b[39m(out) \u001b[38;5;241m<\u001b[39m \u001b[38;5;241m1\u001b[39m:\n\u001b[1;32m    988\u001b[0m     \u001b[38;5;28;01mraise\u001b[39;00m \u001b[38;5;167;01mValueError\u001b[39;00m(\n\u001b[1;32m    989\u001b[0m         \u001b[38;5;124m\"\u001b[39m\u001b[38;5;124mNo fits were performed. \u001b[39m\u001b[38;5;124m\"\u001b[39m\n\u001b[1;32m    990\u001b[0m         \u001b[38;5;124m\"\u001b[39m\u001b[38;5;124mWas the CV iterator empty? \u001b[39m\u001b[38;5;124m\"\u001b[39m\n\u001b[1;32m    991\u001b[0m         \u001b[38;5;124m\"\u001b[39m\u001b[38;5;124mWere there no candidates?\u001b[39m\u001b[38;5;124m\"\u001b[39m\n\u001b[1;32m    992\u001b[0m     )\n",
      "File \u001b[0;32m~/.local/lib/python3.10/site-packages/sklearn/utils/parallel.py:77\u001b[0m, in \u001b[0;36mParallel.__call__\u001b[0;34m(self, iterable)\u001b[0m\n\u001b[1;32m     72\u001b[0m config \u001b[38;5;241m=\u001b[39m get_config()\n\u001b[1;32m     73\u001b[0m iterable_with_config \u001b[38;5;241m=\u001b[39m (\n\u001b[1;32m     74\u001b[0m     (_with_config(delayed_func, config), args, kwargs)\n\u001b[1;32m     75\u001b[0m     \u001b[38;5;28;01mfor\u001b[39;00m delayed_func, args, kwargs \u001b[38;5;129;01min\u001b[39;00m iterable\n\u001b[1;32m     76\u001b[0m )\n\u001b[0;32m---> 77\u001b[0m \u001b[38;5;28;01mreturn\u001b[39;00m \u001b[38;5;28;43msuper\u001b[39;49m\u001b[43m(\u001b[49m\u001b[43m)\u001b[49m\u001b[38;5;241;43m.\u001b[39;49m\u001b[38;5;21;43m__call__\u001b[39;49m\u001b[43m(\u001b[49m\u001b[43miterable_with_config\u001b[49m\u001b[43m)\u001b[49m\n",
      "File \u001b[0;32m~/.local/lib/python3.10/site-packages/joblib/parallel.py:1918\u001b[0m, in \u001b[0;36mParallel.__call__\u001b[0;34m(self, iterable)\u001b[0m\n\u001b[1;32m   1916\u001b[0m     output \u001b[38;5;241m=\u001b[39m \u001b[38;5;28mself\u001b[39m\u001b[38;5;241m.\u001b[39m_get_sequential_output(iterable)\n\u001b[1;32m   1917\u001b[0m     \u001b[38;5;28mnext\u001b[39m(output)\n\u001b[0;32m-> 1918\u001b[0m     \u001b[38;5;28;01mreturn\u001b[39;00m output \u001b[38;5;28;01mif\u001b[39;00m \u001b[38;5;28mself\u001b[39m\u001b[38;5;241m.\u001b[39mreturn_generator \u001b[38;5;28;01melse\u001b[39;00m \u001b[38;5;28;43mlist\u001b[39;49m\u001b[43m(\u001b[49m\u001b[43moutput\u001b[49m\u001b[43m)\u001b[49m\n\u001b[1;32m   1920\u001b[0m \u001b[38;5;66;03m# Let's create an ID that uniquely identifies the current call. If the\u001b[39;00m\n\u001b[1;32m   1921\u001b[0m \u001b[38;5;66;03m# call is interrupted early and that the same instance is immediately\u001b[39;00m\n\u001b[1;32m   1922\u001b[0m \u001b[38;5;66;03m# re-used, this id will be used to prevent workers that were\u001b[39;00m\n\u001b[1;32m   1923\u001b[0m \u001b[38;5;66;03m# concurrently finalizing a task from the previous call to run the\u001b[39;00m\n\u001b[1;32m   1924\u001b[0m \u001b[38;5;66;03m# callback.\u001b[39;00m\n\u001b[1;32m   1925\u001b[0m \u001b[38;5;28;01mwith\u001b[39;00m \u001b[38;5;28mself\u001b[39m\u001b[38;5;241m.\u001b[39m_lock:\n",
      "File \u001b[0;32m~/.local/lib/python3.10/site-packages/joblib/parallel.py:1847\u001b[0m, in \u001b[0;36mParallel._get_sequential_output\u001b[0;34m(self, iterable)\u001b[0m\n\u001b[1;32m   1845\u001b[0m \u001b[38;5;28mself\u001b[39m\u001b[38;5;241m.\u001b[39mn_dispatched_batches \u001b[38;5;241m+\u001b[39m\u001b[38;5;241m=\u001b[39m \u001b[38;5;241m1\u001b[39m\n\u001b[1;32m   1846\u001b[0m \u001b[38;5;28mself\u001b[39m\u001b[38;5;241m.\u001b[39mn_dispatched_tasks \u001b[38;5;241m+\u001b[39m\u001b[38;5;241m=\u001b[39m \u001b[38;5;241m1\u001b[39m\n\u001b[0;32m-> 1847\u001b[0m res \u001b[38;5;241m=\u001b[39m \u001b[43mfunc\u001b[49m\u001b[43m(\u001b[49m\u001b[38;5;241;43m*\u001b[39;49m\u001b[43margs\u001b[49m\u001b[43m,\u001b[49m\u001b[43m \u001b[49m\u001b[38;5;241;43m*\u001b[39;49m\u001b[38;5;241;43m*\u001b[39;49m\u001b[43mkwargs\u001b[49m\u001b[43m)\u001b[49m\n\u001b[1;32m   1848\u001b[0m \u001b[38;5;28mself\u001b[39m\u001b[38;5;241m.\u001b[39mn_completed_tasks \u001b[38;5;241m+\u001b[39m\u001b[38;5;241m=\u001b[39m \u001b[38;5;241m1\u001b[39m\n\u001b[1;32m   1849\u001b[0m \u001b[38;5;28mself\u001b[39m\u001b[38;5;241m.\u001b[39mprint_progress()\n",
      "File \u001b[0;32m~/.local/lib/python3.10/site-packages/sklearn/utils/parallel.py:139\u001b[0m, in \u001b[0;36m_FuncWrapper.__call__\u001b[0;34m(self, *args, **kwargs)\u001b[0m\n\u001b[1;32m    137\u001b[0m     config \u001b[38;5;241m=\u001b[39m {}\n\u001b[1;32m    138\u001b[0m \u001b[38;5;28;01mwith\u001b[39;00m config_context(\u001b[38;5;241m*\u001b[39m\u001b[38;5;241m*\u001b[39mconfig):\n\u001b[0;32m--> 139\u001b[0m     \u001b[38;5;28;01mreturn\u001b[39;00m \u001b[38;5;28;43mself\u001b[39;49m\u001b[38;5;241;43m.\u001b[39;49m\u001b[43mfunction\u001b[49m\u001b[43m(\u001b[49m\u001b[38;5;241;43m*\u001b[39;49m\u001b[43margs\u001b[49m\u001b[43m,\u001b[49m\u001b[43m \u001b[49m\u001b[38;5;241;43m*\u001b[39;49m\u001b[38;5;241;43m*\u001b[39;49m\u001b[43mkwargs\u001b[49m\u001b[43m)\u001b[49m\n",
      "File \u001b[0;32m~/.local/lib/python3.10/site-packages/sklearn/model_selection/_validation.py:866\u001b[0m, in \u001b[0;36m_fit_and_score\u001b[0;34m(estimator, X, y, scorer, train, test, verbose, parameters, fit_params, score_params, return_train_score, return_parameters, return_n_test_samples, return_times, return_estimator, split_progress, candidate_progress, error_score)\u001b[0m\n\u001b[1;32m    864\u001b[0m         estimator\u001b[38;5;241m.\u001b[39mfit(X_train, \u001b[38;5;241m*\u001b[39m\u001b[38;5;241m*\u001b[39mfit_params)\n\u001b[1;32m    865\u001b[0m     \u001b[38;5;28;01melse\u001b[39;00m:\n\u001b[0;32m--> 866\u001b[0m         \u001b[43mestimator\u001b[49m\u001b[38;5;241;43m.\u001b[39;49m\u001b[43mfit\u001b[49m\u001b[43m(\u001b[49m\u001b[43mX_train\u001b[49m\u001b[43m,\u001b[49m\u001b[43m \u001b[49m\u001b[43my_train\u001b[49m\u001b[43m,\u001b[49m\u001b[43m \u001b[49m\u001b[38;5;241;43m*\u001b[39;49m\u001b[38;5;241;43m*\u001b[39;49m\u001b[43mfit_params\u001b[49m\u001b[43m)\u001b[49m\n\u001b[1;32m    868\u001b[0m \u001b[38;5;28;01mexcept\u001b[39;00m \u001b[38;5;167;01mException\u001b[39;00m:\n\u001b[1;32m    869\u001b[0m     \u001b[38;5;66;03m# Note fit time as time until error\u001b[39;00m\n\u001b[1;32m    870\u001b[0m     fit_time \u001b[38;5;241m=\u001b[39m time\u001b[38;5;241m.\u001b[39mtime() \u001b[38;5;241m-\u001b[39m start_time\n",
      "Cell \u001b[0;32mIn[23], line 22\u001b[0m, in \u001b[0;36mPyTorchClassifierWrapper.fit\u001b[0;34m(self, X, y)\u001b[0m\n\u001b[1;32m     13\u001b[0m \u001b[38;5;28;01mdef\u001b[39;00m \u001b[38;5;21mfit\u001b[39m(\u001b[38;5;28mself\u001b[39m, X, y):\n\u001b[1;32m     14\u001b[0m     \u001b[38;5;28mself\u001b[39m\u001b[38;5;241m.\u001b[39mmodel \u001b[38;5;241m=\u001b[39m PyTorchClassifier(\n\u001b[1;32m     15\u001b[0m         num_classes\u001b[38;5;241m=\u001b[39m\u001b[38;5;28mself\u001b[39m\u001b[38;5;241m.\u001b[39mnum_classes,\n\u001b[1;32m     16\u001b[0m         image_width\u001b[38;5;241m=\u001b[39m\u001b[38;5;28mself\u001b[39m\u001b[38;5;241m.\u001b[39mimage_width,\n\u001b[0;32m   (...)\u001b[0m\n\u001b[1;32m     20\u001b[0m         epochs\u001b[38;5;241m=\u001b[39m\u001b[38;5;28mself\u001b[39m\u001b[38;5;241m.\u001b[39mepochs\n\u001b[1;32m     21\u001b[0m     )\n\u001b[0;32m---> 22\u001b[0m     \u001b[38;5;28;43mself\u001b[39;49m\u001b[38;5;241;43m.\u001b[39;49m\u001b[43mmodel\u001b[49m\u001b[38;5;241;43m.\u001b[39;49m\u001b[43mfit\u001b[49m\u001b[43m(\u001b[49m\u001b[43mX\u001b[49m\u001b[43m,\u001b[49m\u001b[43m \u001b[49m\u001b[43my\u001b[49m\u001b[43m)\u001b[49m\n\u001b[1;32m     23\u001b[0m     \u001b[38;5;28;01mreturn\u001b[39;00m \u001b[38;5;28mself\u001b[39m\n",
      "Cell \u001b[0;32mIn[20], line 44\u001b[0m, in \u001b[0;36mPyTorchClassifier.fit\u001b[0;34m(self, X, y)\u001b[0m\n\u001b[1;32m     42\u001b[0m outputs \u001b[38;5;241m=\u001b[39m \u001b[38;5;28mself\u001b[39m\u001b[38;5;241m.\u001b[39mmodel(images)\n\u001b[1;32m     43\u001b[0m loss \u001b[38;5;241m=\u001b[39m criterion(outputs, labels)\n\u001b[0;32m---> 44\u001b[0m \u001b[43mloss\u001b[49m\u001b[38;5;241;43m.\u001b[39;49m\u001b[43mbackward\u001b[49m\u001b[43m(\u001b[49m\u001b[43m)\u001b[49m\n\u001b[1;32m     45\u001b[0m optimizer\u001b[38;5;241m.\u001b[39mstep()\n\u001b[1;32m     46\u001b[0m running_loss \u001b[38;5;241m+\u001b[39m\u001b[38;5;241m=\u001b[39m loss\u001b[38;5;241m.\u001b[39mitem()\n",
      "File \u001b[0;32m~/.local/lib/python3.10/site-packages/torch/_tensor.py:492\u001b[0m, in \u001b[0;36mTensor.backward\u001b[0;34m(self, gradient, retain_graph, create_graph, inputs)\u001b[0m\n\u001b[1;32m    482\u001b[0m \u001b[38;5;28;01mif\u001b[39;00m has_torch_function_unary(\u001b[38;5;28mself\u001b[39m):\n\u001b[1;32m    483\u001b[0m     \u001b[38;5;28;01mreturn\u001b[39;00m handle_torch_function(\n\u001b[1;32m    484\u001b[0m         Tensor\u001b[38;5;241m.\u001b[39mbackward,\n\u001b[1;32m    485\u001b[0m         (\u001b[38;5;28mself\u001b[39m,),\n\u001b[0;32m   (...)\u001b[0m\n\u001b[1;32m    490\u001b[0m         inputs\u001b[38;5;241m=\u001b[39minputs,\n\u001b[1;32m    491\u001b[0m     )\n\u001b[0;32m--> 492\u001b[0m \u001b[43mtorch\u001b[49m\u001b[38;5;241;43m.\u001b[39;49m\u001b[43mautograd\u001b[49m\u001b[38;5;241;43m.\u001b[39;49m\u001b[43mbackward\u001b[49m\u001b[43m(\u001b[49m\n\u001b[1;32m    493\u001b[0m \u001b[43m    \u001b[49m\u001b[38;5;28;43mself\u001b[39;49m\u001b[43m,\u001b[49m\u001b[43m \u001b[49m\u001b[43mgradient\u001b[49m\u001b[43m,\u001b[49m\u001b[43m \u001b[49m\u001b[43mretain_graph\u001b[49m\u001b[43m,\u001b[49m\u001b[43m \u001b[49m\u001b[43mcreate_graph\u001b[49m\u001b[43m,\u001b[49m\u001b[43m \u001b[49m\u001b[43minputs\u001b[49m\u001b[38;5;241;43m=\u001b[39;49m\u001b[43minputs\u001b[49m\n\u001b[1;32m    494\u001b[0m \u001b[43m\u001b[49m\u001b[43m)\u001b[49m\n",
      "File \u001b[0;32m~/.local/lib/python3.10/site-packages/torch/autograd/__init__.py:251\u001b[0m, in \u001b[0;36mbackward\u001b[0;34m(tensors, grad_tensors, retain_graph, create_graph, grad_variables, inputs)\u001b[0m\n\u001b[1;32m    246\u001b[0m     retain_graph \u001b[38;5;241m=\u001b[39m create_graph\n\u001b[1;32m    248\u001b[0m \u001b[38;5;66;03m# The reason we repeat the same comment below is that\u001b[39;00m\n\u001b[1;32m    249\u001b[0m \u001b[38;5;66;03m# some Python versions print out the first line of a multi-line function\u001b[39;00m\n\u001b[1;32m    250\u001b[0m \u001b[38;5;66;03m# calls in the traceback and some print out the last line\u001b[39;00m\n\u001b[0;32m--> 251\u001b[0m \u001b[43mVariable\u001b[49m\u001b[38;5;241;43m.\u001b[39;49m\u001b[43m_execution_engine\u001b[49m\u001b[38;5;241;43m.\u001b[39;49m\u001b[43mrun_backward\u001b[49m\u001b[43m(\u001b[49m\u001b[43m  \u001b[49m\u001b[38;5;66;43;03m# Calls into the C++ engine to run the backward pass\u001b[39;49;00m\n\u001b[1;32m    252\u001b[0m \u001b[43m    \u001b[49m\u001b[43mtensors\u001b[49m\u001b[43m,\u001b[49m\n\u001b[1;32m    253\u001b[0m \u001b[43m    \u001b[49m\u001b[43mgrad_tensors_\u001b[49m\u001b[43m,\u001b[49m\n\u001b[1;32m    254\u001b[0m \u001b[43m    \u001b[49m\u001b[43mretain_graph\u001b[49m\u001b[43m,\u001b[49m\n\u001b[1;32m    255\u001b[0m \u001b[43m    \u001b[49m\u001b[43mcreate_graph\u001b[49m\u001b[43m,\u001b[49m\n\u001b[1;32m    256\u001b[0m \u001b[43m    \u001b[49m\u001b[43minputs\u001b[49m\u001b[43m,\u001b[49m\n\u001b[1;32m    257\u001b[0m \u001b[43m    \u001b[49m\u001b[43mallow_unreachable\u001b[49m\u001b[38;5;241;43m=\u001b[39;49m\u001b[38;5;28;43;01mTrue\u001b[39;49;00m\u001b[43m,\u001b[49m\n\u001b[1;32m    258\u001b[0m \u001b[43m    \u001b[49m\u001b[43maccumulate_grad\u001b[49m\u001b[38;5;241;43m=\u001b[39;49m\u001b[38;5;28;43;01mTrue\u001b[39;49;00m\u001b[43m,\u001b[49m\n\u001b[1;32m    259\u001b[0m \u001b[43m\u001b[49m\u001b[43m)\u001b[49m\n",
      "\u001b[0;31mKeyboardInterrupt\u001b[0m: "
     ]
    }
   ],
   "source": [
    "from sklearn.model_selection import GridSearchCV\n",
    "\n",
    "class PyTorchClassifierWrapper(BaseEstimator):\n",
    "    def __init__(self, num_classes, image_width=32, num_layers=2, first_layer_filters=16, lr=0.001, epochs=10):\n",
    "        self.num_classes = num_classes\n",
    "        self.image_width = image_width\n",
    "        self.num_layers = num_layers\n",
    "        self.first_layer_filters = first_layer_filters\n",
    "        self.lr = lr\n",
    "        self.epochs = epochs\n",
    "        self.model = None\n",
    "\n",
    "    def fit(self, X, y):\n",
    "        self.model = PyTorchClassifier(\n",
    "            num_classes=self.num_classes,\n",
    "            image_width=self.image_width,\n",
    "            num_layers=self.num_layers,\n",
    "            first_layer_filters=self.first_layer_filters,\n",
    "            lr=self.lr,\n",
    "            epochs=self.epochs\n",
    "        )\n",
    "        self.model.fit(X, y)\n",
    "        return self\n",
    "\n",
    "    def predict(self, X):\n",
    "        return self.model.predict(X)\n",
    "\n",
    "    def score(self, X, y):\n",
    "        return self.model.score(X, y)\n",
    "\n",
    "# Parametri per GridSearchCV\n",
    "param_grid = {\n",
    "    'image_width': [32, 256],\n",
    "    'num_layers': [2, 3],\n",
    "    'first_layer_filters': [16, 32],\n",
    "    'lr': [0.001, 0.0001],\n",
    "}\n",
    "\n",
    "# Creazione del wrapper\n",
    "pytorch_clf = PyTorchClassifierWrapper(num_classes=len(train_dataset.classes))\n",
    "\n",
    "# Esegui GridSearchCV\n",
    "grid_search = GridSearchCV(estimator=pytorch_clf, param_grid=param_grid, cv=3, scoring='accuracy', verbose=3)\n",
    "grid_search.fit(X_train, y_train)\n",
    "\n",
    "# Stampa i migliori parametri\n",
    "print(\"Best parameters found:\", grid_search.best_params_)\n",
    "print(\"Best score:\", grid_search.best_score_)\n"
   ]
  },
  {
   "cell_type": "markdown",
   "metadata": {},
   "source": [
    "#### Save results\n",
    "Puoi salvare i risultati della GridSearchCV per un'analisi successiva:"
   ]
  },
  {
   "cell_type": "code",
   "execution_count": null,
   "metadata": {},
   "outputs": [],
   "source": [
    "import pandas as pd\n",
    "\n",
    "# Salva i risultati in un DataFrame\n",
    "results = pd.DataFrame(grid_search.cv_results_)\n",
    "results.to_csv(\"grid_search_results.csv\", index=False)\n"
   ]
  },
  {
   "cell_type": "markdown",
   "metadata": {},
   "source": [
    "#### Evaluate best model\n",
    "Usa il miglior modello trovato per testare sul set di test:"
   ]
  },
  {
   "cell_type": "code",
   "execution_count": null,
   "metadata": {},
   "outputs": [],
   "source": [
    "best_model = grid_search.best_estimator_\n",
    "test_score = best_model.score(X_test, y_test)\n",
    "print(f\"Test Accuracy: {test_score:.2f}\")"
   ]
  },
  {
   "cell_type": "markdown",
   "metadata": {},
   "source": [
    "### Hyperparam combination testing (no GridSearch)"
   ]
  },
  {
   "cell_type": "markdown",
   "metadata": {},
   "source": [
    "#### Define Params to test\n",
    "Crea un dizionario o una lista con le combinazioni di parametri da esplorare. Per esempio:"
   ]
  },
  {
   "cell_type": "code",
   "execution_count": 11,
   "metadata": {},
   "outputs": [],
   "source": [
    "from itertools import product\n",
    "\n",
    "# Parametri da testare\n",
    "image_sizes = [32, 256]\n",
    "layers = [2, 3]\n",
    "first_layer_filters = [16, 32]\n",
    "\n",
    "# Combinazioni di parametri\n",
    "parameter_combinations = list(product(image_sizes, layers, first_layer_filters))"
   ]
  },
  {
   "cell_type": "markdown",
   "metadata": {},
   "source": [
    "#### Update model of CNN\n",
    "Aggiorna il modello per accettare il numero di layer e la dimensione delle convoluzioni come argomenti:"
   ]
  },
  {
   "cell_type": "code",
   "execution_count": 15,
   "metadata": {},
   "outputs": [],
   "source": [
    "class SimpleCNN(nn.Module):\n",
    "    def __init__(self, num_classes, image_width, num_layers=2, first_layer_filters=16):\n",
    "        super(SimpleCNN, self).__init__()\n",
    "        layers = []\n",
    "        \n",
    "        # Primo layer convolutivo\n",
    "        in_channels = 3\n",
    "        layers.append(nn.Conv2d(in_channels, first_layer_filters, kernel_size=3, stride=1, padding=1))\n",
    "        layers.append(nn.ReLU())\n",
    "        layers.append(nn.MaxPool2d(kernel_size=2, stride=2))\n",
    "        \n",
    "        # Altri layer convolutivi\n",
    "        out_channels = first_layer_filters\n",
    "        for i in range(1, num_layers):\n",
    "            in_channels = out_channels\n",
    "            out_channels = out_channels * 2 if first_layer_filters == 32 else out_channels\n",
    "            layers.append(nn.Conv2d(in_channels, out_channels, kernel_size=3, stride=1, padding=1))\n",
    "            layers.append(nn.ReLU())\n",
    "            layers.append(nn.MaxPool2d(kernel_size=2, stride=2))\n",
    "        \n",
    "        layers.append(nn.Dropout(0.2))\n",
    "        self.features = nn.Sequential(*layers)\n",
    "\n",
    "        # Classificatore\n",
    "        self.classifier = nn.Sequential(\n",
    "            nn.Linear(out_channels * (image_width // (2 ** num_layers))**2, 512),\n",
    "            nn.ReLU(),\n",
    "            nn.Dropout(0.45),\n",
    "            nn.Linear(512, num_classes)\n",
    "        )\n",
    "    \n",
    "    def forward(self, x):\n",
    "        x = self.features(x)\n",
    "        x = x.view(x.size(0), -1)  # Flatten\n",
    "        x = self.classifier(x)\n",
    "        return x"
   ]
  },
  {
   "cell_type": "markdown",
   "metadata": {},
   "source": [
    "#### Test combinations\n",
    "Crea un ciclo per eseguire il training, testing ed evaluation per ogni combinazione:"
   ]
  },
  {
   "cell_type": "code",
   "execution_count": 16,
   "metadata": {},
   "outputs": [
    {
     "name": "stdout",
     "output_type": "stream",
     "text": [
      "Testing configuration: image_size=32, layers=2, first_layer_filters=16\n"
     ]
    },
    {
     "name": "stderr",
     "output_type": "stream",
     "text": [
      "Epoch 1/50: 100%|██████████| 1358/1358 [00:07<00:00, 178.76batch/s, loss=1.23] "
     ]
    },
    {
     "name": "stdout",
     "output_type": "stream",
     "text": [
      "Epoch 1, Average Loss: 1.6679\n"
     ]
    },
    {
     "name": "stderr",
     "output_type": "stream",
     "text": [
      "\n"
     ]
    },
    {
     "name": "stdout",
     "output_type": "stream",
     "text": [
      "Validation Accuracy: 24.97%\n",
      "Validation Loss: 13.7360\n"
     ]
    },
    {
     "name": "stderr",
     "output_type": "stream",
     "text": [
      "Epoch 2/50: 100%|██████████| 1358/1358 [00:06<00:00, 206.75batch/s, loss=0.182]"
     ]
    },
    {
     "name": "stdout",
     "output_type": "stream",
     "text": [
      "Epoch 2, Average Loss: 0.9761\n"
     ]
    },
    {
     "name": "stderr",
     "output_type": "stream",
     "text": [
      "\n"
     ]
    },
    {
     "name": "stdout",
     "output_type": "stream",
     "text": [
      "Validation Accuracy: 20.22%\n",
      "Validation Loss: 18.2804\n"
     ]
    },
    {
     "name": "stderr",
     "output_type": "stream",
     "text": [
      "Epoch 3/50: 100%|██████████| 1358/1358 [00:07<00:00, 186.95batch/s, loss=0.895]"
     ]
    },
    {
     "name": "stdout",
     "output_type": "stream",
     "text": [
      "Epoch 3, Average Loss: 0.7938\n"
     ]
    },
    {
     "name": "stderr",
     "output_type": "stream",
     "text": [
      "\n"
     ]
    },
    {
     "name": "stdout",
     "output_type": "stream",
     "text": [
      "Validation Accuracy: 22.56%\n",
      "Validation Loss: 18.3012\n"
     ]
    },
    {
     "name": "stderr",
     "output_type": "stream",
     "text": [
      "Epoch 4/50: 100%|██████████| 1358/1358 [00:07<00:00, 184.33batch/s, loss=0.643]"
     ]
    },
    {
     "name": "stdout",
     "output_type": "stream",
     "text": [
      "Epoch 4, Average Loss: 0.6854\n"
     ]
    },
    {
     "name": "stderr",
     "output_type": "stream",
     "text": [
      "\n"
     ]
    },
    {
     "name": "stdout",
     "output_type": "stream",
     "text": [
      "Validation Accuracy: 23.42%\n",
      "Validation Loss: 22.2256\n"
     ]
    },
    {
     "name": "stderr",
     "output_type": "stream",
     "text": [
      "Epoch 5/50: 100%|██████████| 1358/1358 [00:07<00:00, 181.26batch/s, loss=0.434]"
     ]
    },
    {
     "name": "stdout",
     "output_type": "stream",
     "text": [
      "Epoch 5, Average Loss: 0.6081\n"
     ]
    },
    {
     "name": "stderr",
     "output_type": "stream",
     "text": [
      "\n"
     ]
    },
    {
     "name": "stdout",
     "output_type": "stream",
     "text": [
      "Validation Accuracy: 20.33%\n",
      "Validation Loss: 24.8789\n"
     ]
    },
    {
     "name": "stderr",
     "output_type": "stream",
     "text": [
      "Epoch 6/50: 100%|██████████| 1358/1358 [00:06<00:00, 206.42batch/s, loss=0.517]\n"
     ]
    },
    {
     "name": "stdout",
     "output_type": "stream",
     "text": [
      "Epoch 6, Average Loss: 0.5643\n",
      "Validation Accuracy: 18.91%\n",
      "Validation Loss: 26.3303\n",
      "Early stopping triggered after 6 epochs.\n"
     ]
    },
    {
     "name": "stderr",
     "output_type": "stream",
     "text": [
      "Testing: 100%|██████████| 170/170 [00:01<00:00, 162.47batch/s, accuracy=18.9]"
     ]
    },
    {
     "name": "stdout",
     "output_type": "stream",
     "text": [
      "\n",
      "Test Accuracy: 18.88%\n",
      "Test F1 Score (Weighted): 0.1289\n"
     ]
    },
    {
     "name": "stderr",
     "output_type": "stream",
     "text": [
      "\n"
     ]
    },
    {
     "name": "stdout",
     "output_type": "stream",
     "text": [
      "                                                    precision    recall  f1-score   support\n",
      "\n",
      "                                Apple___Apple_scab       0.00      0.00      0.00        70\n",
      "                                 Apple___Black_rot       0.25      0.02      0.03        58\n",
      "                          Apple___Cedar_apple_rust       0.00      0.00      0.00        29\n",
      "                                   Apple___healthy       0.00      0.00      0.00       157\n",
      "                               Blueberry___healthy       0.25      0.23      0.24       157\n",
      "          Cherry_(including_sour)___Powdery_mildew       0.00      0.00      0.00       102\n",
      "                 Cherry_(including_sour)___healthy       1.00      0.02      0.04        90\n",
      "Corn_(maize)___Cercospora_leaf_spot Gray_leaf_spot       0.00      0.00      0.00        40\n",
      "                       Corn_(maize)___Common_rust_       0.64      0.79      0.70       113\n",
      "               Corn_(maize)___Northern_Leaf_Blight       0.00      0.00      0.00        94\n",
      "                            Corn_(maize)___healthy       1.00      0.42      0.59       124\n",
      "                                 Grape___Black_rot       0.20      0.03      0.05       118\n",
      "                      Grape___Esca_(Black_Measles)       1.00      0.01      0.01       146\n",
      "        Grape___Leaf_blight_(Isariopsis_Leaf_Spot)       0.00      0.00      0.00       108\n",
      "                                   Grape___healthy       0.00      0.00      0.00        42\n",
      "          Orange___Haunglongbing_(Citrus_greening)       0.86      0.24      0.37       555\n",
      "                            Peach___Bacterial_spot       0.64      0.14      0.24       235\n",
      "                                   Peach___healthy       0.00      0.00      0.00        34\n",
      "                     Pepper,_bell___Bacterial_spot       0.06      0.66      0.10       104\n",
      "                            Pepper,_bell___healthy       0.43      0.02      0.04       147\n",
      "                             Potato___Early_blight       0.00      0.00      0.00       113\n",
      "                              Potato___Late_blight       0.00      0.00      0.00       102\n",
      "                                  Potato___healthy       0.00      0.00      0.00        16\n",
      "                               Raspberry___healthy       0.00      0.00      0.00        43\n",
      "                                 Soybean___healthy       0.00      0.00      0.00       469\n",
      "                           Squash___Powdery_mildew       0.00      0.00      0.00       193\n",
      "                          Strawberry___Leaf_scorch       1.00      0.02      0.04       102\n",
      "                              Strawberry___healthy       0.00      0.00      0.00        48\n",
      "                           Tomato___Bacterial_spot       0.00      0.00      0.00       210\n",
      "                             Tomato___Early_blight       0.00      0.00      0.00        94\n",
      "                              Tomato___Late_blight       0.07      0.69      0.13       186\n",
      "                                Tomato___Leaf_Mold       0.00      0.00      0.00        87\n",
      "                       Tomato___Septoria_leaf_spot       0.00      0.00      0.00       172\n",
      "     Tomato___Spider_mites Two-spotted_spider_mite       0.00      0.00      0.00       177\n",
      "                              Tomato___Target_Spot       0.00      0.00      0.00       151\n",
      "            Tomato___Tomato_Yellow_Leaf_Curl_Virus       0.25      0.89      0.39       535\n",
      "                      Tomato___Tomato_mosaic_virus       0.00      0.00      0.00        39\n",
      "                                  Tomato___healthy       0.00      0.00      0.00       171\n",
      "\n",
      "                                          accuracy                           0.19      5431\n",
      "                                         macro avg       0.20      0.11      0.08      5431\n",
      "                                      weighted avg       0.27      0.19      0.13      5431\n",
      "\n"
     ]
    },
    {
     "name": "stderr",
     "output_type": "stream",
     "text": [
      "/home/alessio/.local/lib/python3.10/site-packages/sklearn/metrics/_classification.py:1565: UndefinedMetricWarning: Precision is ill-defined and being set to 0.0 in labels with no predicted samples. Use `zero_division` parameter to control this behavior.\n",
      "  _warn_prf(average, modifier, f\"{metric.capitalize()} is\", len(result))\n",
      "/home/alessio/.local/lib/python3.10/site-packages/sklearn/metrics/_classification.py:1565: UndefinedMetricWarning: Precision is ill-defined and being set to 0.0 in labels with no predicted samples. Use `zero_division` parameter to control this behavior.\n",
      "  _warn_prf(average, modifier, f\"{metric.capitalize()} is\", len(result))\n",
      "/home/alessio/.local/lib/python3.10/site-packages/sklearn/metrics/_classification.py:1565: UndefinedMetricWarning: Precision is ill-defined and being set to 0.0 in labels with no predicted samples. Use `zero_division` parameter to control this behavior.\n",
      "  _warn_prf(average, modifier, f\"{metric.capitalize()} is\", len(result))\n"
     ]
    },
    {
     "data": {
      "image/png": "[encoded data removed]",
      "text/plain": [
       "<Figure size 1000x800 with 2 Axes>"
      ]
     },
     "metadata": {},
     "output_type": "display_data"
    },
    {
     "name": "stdout",
     "output_type": "stream",
     "text": [
      "Testing configuration: image_size=32, layers=2, first_layer_filters=32\n"
     ]
    },
    {
     "name": "stderr",
     "output_type": "stream",
     "text": [
      "Epoch 1/50: 100%|██████████| 1358/1358 [00:07<00:00, 171.27batch/s, loss=0.707]"
     ]
    },
    {
     "name": "stdout",
     "output_type": "stream",
     "text": [
      "Epoch 1, Average Loss: 1.4235\n"
     ]
    },
    {
     "name": "stderr",
     "output_type": "stream",
     "text": [
      "\n"
     ]
    },
    {
     "name": "stdout",
     "output_type": "stream",
     "text": [
      "Validation Accuracy: 19.35%\n",
      "Validation Loss: 15.2405\n"
     ]
    },
    {
     "name": "stderr",
     "output_type": "stream",
     "text": [
      "Epoch 2/50: 100%|██████████| 1358/1358 [00:07<00:00, 173.52batch/s, loss=0.983]\n"
     ]
    },
    {
     "name": "stdout",
     "output_type": "stream",
     "text": [
      "Epoch 2, Average Loss: 0.7979\n",
      "Validation Accuracy: 10.90%\n",
      "Validation Loss: 24.3536\n"
     ]
    },
    {
     "name": "stderr",
     "output_type": "stream",
     "text": [
      "Epoch 3/50: 100%|██████████| 1358/1358 [00:07<00:00, 173.96batch/s, loss=0.521]"
     ]
    },
    {
     "name": "stdout",
     "output_type": "stream",
     "text": [
      "Epoch 3, Average Loss: 0.6299\n"
     ]
    },
    {
     "name": "stderr",
     "output_type": "stream",
     "text": [
      "\n"
     ]
    },
    {
     "name": "stdout",
     "output_type": "stream",
     "text": [
      "Validation Accuracy: 23.97%\n",
      "Validation Loss: 17.9857\n"
     ]
    },
    {
     "name": "stderr",
     "output_type": "stream",
     "text": [
      "Epoch 4/50: 100%|██████████| 1358/1358 [00:07<00:00, 192.05batch/s, loss=0.856]"
     ]
    },
    {
     "name": "stdout",
     "output_type": "stream",
     "text": [
      "Epoch 4, Average Loss: 0.5403\n"
     ]
    },
    {
     "name": "stderr",
     "output_type": "stream",
     "text": [
      "\n"
     ]
    },
    {
     "name": "stdout",
     "output_type": "stream",
     "text": [
      "Validation Accuracy: 22.92%\n",
      "Validation Loss: 23.3113\n"
     ]
    },
    {
     "name": "stderr",
     "output_type": "stream",
     "text": [
      "Epoch 5/50: 100%|██████████| 1358/1358 [00:07<00:00, 172.15batch/s, loss=0.478] "
     ]
    },
    {
     "name": "stdout",
     "output_type": "stream",
     "text": [
      "Epoch 5, Average Loss: 0.4641\n"
     ]
    },
    {
     "name": "stderr",
     "output_type": "stream",
     "text": [
      "\n"
     ]
    },
    {
     "name": "stdout",
     "output_type": "stream",
     "text": [
      "Validation Accuracy: 25.10%\n",
      "Validation Loss: 21.4377\n"
     ]
    },
    {
     "name": "stderr",
     "output_type": "stream",
     "text": [
      "Epoch 6/50: 100%|██████████| 1358/1358 [00:07<00:00, 172.58batch/s, loss=0.45]  \n"
     ]
    },
    {
     "name": "stdout",
     "output_type": "stream",
     "text": [
      "Epoch 6, Average Loss: 0.4167\n",
      "Validation Accuracy: 27.34%\n",
      "Validation Loss: 24.3212\n",
      "Early stopping triggered after 6 epochs.\n"
     ]
    },
    {
     "name": "stderr",
     "output_type": "stream",
     "text": [
      "Testing: 100%|██████████| 170/170 [00:01<00:00, 153.50batch/s, accuracy=26.9]\n"
     ]
    },
    {
     "name": "stdout",
     "output_type": "stream",
     "text": [
      "\n",
      "Test Accuracy: 26.85%\n",
      "Test F1 Score (Weighted): 0.1952\n",
      "                                                    precision    recall  f1-score   support\n",
      "\n",
      "                                Apple___Apple_scab       0.00      0.00      0.00        70\n",
      "                                 Apple___Black_rot       0.77      0.17      0.28        58\n",
      "                          Apple___Cedar_apple_rust       0.00      0.00      0.00        29\n",
      "                                   Apple___healthy       0.32      0.23      0.27       157\n",
      "                               Blueberry___healthy       0.28      0.14      0.19       157\n",
      "          Cherry_(including_sour)___Powdery_mildew       0.00      0.00      0.00       102\n",
      "                 Cherry_(including_sour)___healthy       1.00      0.03      0.06        90\n",
      "Corn_(maize)___Cercospora_leaf_spot Gray_leaf_spot       0.00      0.00      0.00        40\n",
      "                       Corn_(maize)___Common_rust_       0.77      0.81      0.79       113\n",
      "               Corn_(maize)___Northern_Leaf_Blight       0.00      0.00      0.00        94\n",
      "                            Corn_(maize)___healthy       1.00      0.59      0.74       124\n",
      "                                 Grape___Black_rot       0.00      0.00      0.00       118\n",
      "                      Grape___Esca_(Black_Measles)       0.00      0.00      0.00       146\n",
      "        Grape___Leaf_blight_(Isariopsis_Leaf_Spot)       0.00      0.00      0.00       108\n",
      "                                   Grape___healthy       0.00      0.00      0.00        42\n",
      "          Orange___Haunglongbing_(Citrus_greening)       0.76      0.73      0.75       555\n",
      "                            Peach___Bacterial_spot       0.54      0.27      0.36       235\n",
      "                                   Peach___healthy       0.00      0.00      0.00        34\n",
      "                     Pepper,_bell___Bacterial_spot       0.06      0.83      0.12       104\n",
      "                            Pepper,_bell___healthy       0.19      0.52      0.28       147\n",
      "                             Potato___Early_blight       0.00      0.00      0.00       113\n",
      "                              Potato___Late_blight       0.00      0.00      0.00       102\n",
      "                                  Potato___healthy       0.00      0.00      0.00        16\n",
      "                               Raspberry___healthy       0.00      0.00      0.00        43\n",
      "                                 Soybean___healthy       0.00      0.00      0.00       469\n",
      "                           Squash___Powdery_mildew       0.00      0.00      0.00       193\n",
      "                          Strawberry___Leaf_scorch       1.00      0.01      0.02       102\n",
      "                              Strawberry___healthy       0.00      0.00      0.00        48\n",
      "                           Tomato___Bacterial_spot       0.00      0.00      0.00       210\n",
      "                             Tomato___Early_blight       0.06      0.01      0.02        94\n",
      "                              Tomato___Late_blight       0.11      0.45      0.18       186\n",
      "                                Tomato___Leaf_Mold       0.16      0.22      0.18        87\n",
      "                       Tomato___Septoria_leaf_spot       0.00      0.00      0.00       172\n",
      "     Tomato___Spider_mites Two-spotted_spider_mite       0.00      0.00      0.00       177\n",
      "                              Tomato___Target_Spot       0.00      0.00      0.00       151\n",
      "            Tomato___Tomato_Yellow_Leaf_Curl_Virus       0.29      0.96      0.45       535\n",
      "                      Tomato___Tomato_mosaic_virus       0.00      0.00      0.00        39\n",
      "                                  Tomato___healthy       0.00      0.00      0.00       171\n",
      "\n",
      "                                          accuracy                           0.27      5431\n",
      "                                         macro avg       0.19      0.16      0.12      5431\n",
      "                                      weighted avg       0.24      0.27      0.21      5431\n",
      "\n"
     ]
    },
    {
     "name": "stderr",
     "output_type": "stream",
     "text": [
      "/home/alessio/.local/lib/python3.10/site-packages/sklearn/metrics/_classification.py:1565: UndefinedMetricWarning: Precision is ill-defined and being set to 0.0 in labels with no predicted samples. Use `zero_division` parameter to control this behavior.\n",
      "  _warn_prf(average, modifier, f\"{metric.capitalize()} is\", len(result))\n",
      "/home/alessio/.local/lib/python3.10/site-packages/sklearn/metrics/_classification.py:1565: UndefinedMetricWarning: Precision is ill-defined and being set to 0.0 in labels with no predicted samples. Use `zero_division` parameter to control this behavior.\n",
      "  _warn_prf(average, modifier, f\"{metric.capitalize()} is\", len(result))\n",
      "/home/alessio/.local/lib/python3.10/site-packages/sklearn/metrics/_classification.py:1565: UndefinedMetricWarning: Precision is ill-defined and being set to 0.0 in labels with no predicted samples. Use `zero_division` parameter to control this behavior.\n",
      "  _warn_prf(average, modifier, f\"{metric.capitalize()} is\", len(result))\n"
     ]
    },
    {
     "data": {
      "image/png": "[encoded data removed]",
      "text/plain": [
       "<Figure size 1000x800 with 2 Axes>"
      ]
     },
     "metadata": {},
     "output_type": "display_data"
    },
    {
     "name": "stdout",
     "output_type": "stream",
     "text": [
      "Testing configuration: image_size=32, layers=3, first_layer_filters=16\n"
     ]
    },
    {
     "name": "stderr",
     "output_type": "stream",
     "text": [
      "Epoch 1/50: 100%|██████████| 1358/1358 [00:07<00:00, 192.33batch/s, loss=1.67] "
     ]
    },
    {
     "name": "stdout",
     "output_type": "stream",
     "text": [
      "Epoch 1, Average Loss: 1.9313\n"
     ]
    },
    {
     "name": "stderr",
     "output_type": "stream",
     "text": [
      "\n"
     ]
    },
    {
     "name": "stdout",
     "output_type": "stream",
     "text": [
      "Validation Accuracy: 15.50%\n",
      "Validation Loss: 9.1026\n"
     ]
    },
    {
     "name": "stderr",
     "output_type": "stream",
     "text": [
      "Epoch 2/50: 100%|██████████| 1358/1358 [00:07<00:00, 174.63batch/s, loss=1.77] "
     ]
    },
    {
     "name": "stdout",
     "output_type": "stream",
     "text": [
      "Epoch 2, Average Loss: 1.1098\n"
     ]
    },
    {
     "name": "stderr",
     "output_type": "stream",
     "text": [
      "\n"
     ]
    },
    {
     "name": "stdout",
     "output_type": "stream",
     "text": [
      "Validation Accuracy: 18.65%\n",
      "Validation Loss: 10.7252\n"
     ]
    },
    {
     "name": "stderr",
     "output_type": "stream",
     "text": [
      "Epoch 3/50: 100%|██████████| 1358/1358 [00:07<00:00, 173.48batch/s, loss=0.515]"
     ]
    },
    {
     "name": "stdout",
     "output_type": "stream",
     "text": [
      "Epoch 3, Average Loss: 0.8922\n"
     ]
    },
    {
     "name": "stderr",
     "output_type": "stream",
     "text": [
      "\n"
     ]
    },
    {
     "name": "stdout",
     "output_type": "stream",
     "text": [
      "Validation Accuracy: 17.29%\n",
      "Validation Loss: 12.9444\n"
     ]
    },
    {
     "name": "stderr",
     "output_type": "stream",
     "text": [
      "Epoch 4/50: 100%|██████████| 1358/1358 [00:07<00:00, 177.42batch/s, loss=0.498]"
     ]
    },
    {
     "name": "stdout",
     "output_type": "stream",
     "text": [
      "Epoch 4, Average Loss: 0.7652\n"
     ]
    },
    {
     "name": "stderr",
     "output_type": "stream",
     "text": [
      "\n"
     ]
    },
    {
     "name": "stdout",
     "output_type": "stream",
     "text": [
      "Validation Accuracy: 20.31%\n",
      "Validation Loss: 13.4844\n"
     ]
    },
    {
     "name": "stderr",
     "output_type": "stream",
     "text": [
      "Epoch 5/50: 100%|██████████| 1358/1358 [00:07<00:00, 177.22batch/s, loss=0.655]"
     ]
    },
    {
     "name": "stdout",
     "output_type": "stream",
     "text": [
      "Epoch 5, Average Loss: 0.6795\n"
     ]
    },
    {
     "name": "stderr",
     "output_type": "stream",
     "text": [
      "\n"
     ]
    },
    {
     "name": "stdout",
     "output_type": "stream",
     "text": [
      "Validation Accuracy: 21.17%\n",
      "Validation Loss: 14.6892\n"
     ]
    },
    {
     "name": "stderr",
     "output_type": "stream",
     "text": [
      "Epoch 6/50: 100%|██████████| 1358/1358 [00:06<00:00, 208.15batch/s, loss=0.655]"
     ]
    },
    {
     "name": "stdout",
     "output_type": "stream",
     "text": [
      "Epoch 6, Average Loss: 0.6228\n"
     ]
    },
    {
     "name": "stderr",
     "output_type": "stream",
     "text": [
      "\n"
     ]
    },
    {
     "name": "stdout",
     "output_type": "stream",
     "text": [
      "Validation Accuracy: 17.92%\n",
      "Validation Loss: 16.8769\n",
      "Early stopping triggered after 6 epochs.\n"
     ]
    },
    {
     "name": "stderr",
     "output_type": "stream",
     "text": [
      "Testing: 100%|██████████| 170/170 [00:01<00:00, 158.30batch/s, accuracy=17.5]\n"
     ]
    },
    {
     "name": "stdout",
     "output_type": "stream",
     "text": [
      "\n",
      "Test Accuracy: 17.46%\n",
      "Test F1 Score (Weighted): 0.1260\n",
      "                                                    precision    recall  f1-score   support\n",
      "\n",
      "                                Apple___Apple_scab       0.00      0.00      0.00        70\n",
      "                                 Apple___Black_rot       0.00      0.00      0.00        58\n",
      "                          Apple___Cedar_apple_rust       0.00      0.00      0.00        29\n",
      "                                   Apple___healthy       0.00      0.00      0.00       157\n",
      "                               Blueberry___healthy       0.13      0.75      0.22       157\n",
      "          Cherry_(including_sour)___Powdery_mildew       0.00      0.00      0.00       102\n",
      "                 Cherry_(including_sour)___healthy       1.00      0.01      0.02        90\n",
      "Corn_(maize)___Cercospora_leaf_spot Gray_leaf_spot       0.00      0.00      0.00        40\n",
      "                       Corn_(maize)___Common_rust_       0.57      0.12      0.19       113\n",
      "               Corn_(maize)___Northern_Leaf_Blight       0.00      0.00      0.00        94\n",
      "                            Corn_(maize)___healthy       0.88      0.79      0.83       124\n",
      "                                 Grape___Black_rot       0.00      0.00      0.00       118\n",
      "                      Grape___Esca_(Black_Measles)       1.00      0.01      0.03       146\n",
      "        Grape___Leaf_blight_(Isariopsis_Leaf_Spot)       0.00      0.00      0.00       108\n",
      "                                   Grape___healthy       0.00      0.00      0.00        42\n",
      "          Orange___Haunglongbing_(Citrus_greening)       0.41      0.28      0.33       555\n",
      "                            Peach___Bacterial_spot       0.67      0.31      0.42       235\n",
      "                                   Peach___healthy       0.00      0.00      0.00        34\n",
      "                     Pepper,_bell___Bacterial_spot       0.09      0.21      0.12       104\n",
      "                            Pepper,_bell___healthy       0.09      0.12      0.10       147\n",
      "                             Potato___Early_blight       0.00      0.00      0.00       113\n",
      "                              Potato___Late_blight       0.00      0.00      0.00       102\n",
      "                                  Potato___healthy       0.00      0.00      0.00        16\n",
      "                               Raspberry___healthy       0.00      0.00      0.00        43\n",
      "                                 Soybean___healthy       0.00      0.00      0.00       469\n",
      "                           Squash___Powdery_mildew       1.00      0.01      0.01       193\n",
      "                          Strawberry___Leaf_scorch       1.00      0.05      0.09       102\n",
      "                              Strawberry___healthy       0.00      0.00      0.00        48\n",
      "                           Tomato___Bacterial_spot       0.00      0.00      0.00       210\n",
      "                             Tomato___Early_blight       0.00      0.00      0.00        94\n",
      "                              Tomato___Late_blight       0.05      0.68      0.10       186\n",
      "                                Tomato___Leaf_Mold       0.00      0.00      0.00        87\n",
      "                       Tomato___Septoria_leaf_spot       0.00      0.00      0.00       172\n",
      "     Tomato___Spider_mites Two-spotted_spider_mite       0.00      0.00      0.00       177\n",
      "                              Tomato___Target_Spot       0.00      0.00      0.00       151\n",
      "            Tomato___Tomato_Yellow_Leaf_Curl_Virus       0.30      0.65      0.41       535\n",
      "                      Tomato___Tomato_mosaic_virus       0.00      0.00      0.00        39\n",
      "                                  Tomato___healthy       0.00      0.00      0.00       171\n",
      "\n",
      "                                          accuracy                           0.18      5431\n",
      "                                         macro avg       0.19      0.10      0.08      5431\n",
      "                                      weighted avg       0.24      0.18      0.13      5431\n",
      "\n"
     ]
    },
    {
     "name": "stderr",
     "output_type": "stream",
     "text": [
      "/home/alessio/.local/lib/python3.10/site-packages/sklearn/metrics/_classification.py:1565: UndefinedMetricWarning: Precision is ill-defined and being set to 0.0 in labels with no predicted samples. Use `zero_division` parameter to control this behavior.\n",
      "  _warn_prf(average, modifier, f\"{metric.capitalize()} is\", len(result))\n",
      "/home/alessio/.local/lib/python3.10/site-packages/sklearn/metrics/_classification.py:1565: UndefinedMetricWarning: Precision is ill-defined and being set to 0.0 in labels with no predicted samples. Use `zero_division` parameter to control this behavior.\n",
      "  _warn_prf(average, modifier, f\"{metric.capitalize()} is\", len(result))\n",
      "/home/alessio/.local/lib/python3.10/site-packages/sklearn/metrics/_classification.py:1565: UndefinedMetricWarning: Precision is ill-defined and being set to 0.0 in labels with no predicted samples. Use `zero_division` parameter to control this behavior.\n",
      "  _warn_prf(average, modifier, f\"{metric.capitalize()} is\", len(result))\n"
     ]
    },
    {
     "data": {
      "image/png": "[encoded data removed]",
      "text/plain": [
       "<Figure size 1000x800 with 2 Axes>"
      ]
     },
     "metadata": {},
     "output_type": "display_data"
    },
    {
     "name": "stdout",
     "output_type": "stream",
     "text": [
      "Testing configuration: image_size=32, layers=3, first_layer_filters=32\n"
     ]
    },
    {
     "name": "stderr",
     "output_type": "stream",
     "text": [
      "Epoch 1/50: 100%|██████████| 1358/1358 [00:08<00:00, 169.15batch/s, loss=0.475]"
     ]
    },
    {
     "name": "stdout",
     "output_type": "stream",
     "text": [
      "Epoch 1, Average Loss: 1.4959\n"
     ]
    },
    {
     "name": "stderr",
     "output_type": "stream",
     "text": [
      "\n"
     ]
    },
    {
     "name": "stdout",
     "output_type": "stream",
     "text": [
      "Validation Accuracy: 14.58%\n",
      "Validation Loss: 17.2489\n"
     ]
    },
    {
     "name": "stderr",
     "output_type": "stream",
     "text": [
      "Epoch 2/50: 100%|██████████| 1358/1358 [00:08<00:00, 168.87batch/s, loss=0.605]"
     ]
    },
    {
     "name": "stdout",
     "output_type": "stream",
     "text": [
      "Epoch 2, Average Loss: 0.7201\n"
     ]
    },
    {
     "name": "stderr",
     "output_type": "stream",
     "text": [
      "\n"
     ]
    },
    {
     "name": "stdout",
     "output_type": "stream",
     "text": [
      "Validation Accuracy: 21.38%\n",
      "Validation Loss: 16.4225\n"
     ]
    },
    {
     "name": "stderr",
     "output_type": "stream",
     "text": [
      "Epoch 3/50: 100%|██████████| 1358/1358 [00:08<00:00, 167.06batch/s, loss=0.873]"
     ]
    },
    {
     "name": "stdout",
     "output_type": "stream",
     "text": [
      "Epoch 3, Average Loss: 0.5435\n"
     ]
    },
    {
     "name": "stderr",
     "output_type": "stream",
     "text": [
      "\n"
     ]
    },
    {
     "name": "stdout",
     "output_type": "stream",
     "text": [
      "Validation Accuracy: 14.80%\n",
      "Validation Loss: 23.8788\n"
     ]
    },
    {
     "name": "stderr",
     "output_type": "stream",
     "text": [
      "Epoch 4/50: 100%|██████████| 1358/1358 [00:07<00:00, 182.53batch/s, loss=0.345] "
     ]
    },
    {
     "name": "stdout",
     "output_type": "stream",
     "text": [
      "Epoch 4, Average Loss: 0.4465\n"
     ]
    },
    {
     "name": "stderr",
     "output_type": "stream",
     "text": [
      "\n"
     ]
    },
    {
     "name": "stdout",
     "output_type": "stream",
     "text": [
      "Validation Accuracy: 10.68%\n",
      "Validation Loss: 30.2984\n"
     ]
    },
    {
     "name": "stderr",
     "output_type": "stream",
     "text": [
      "Epoch 5/50: 100%|██████████| 1358/1358 [00:08<00:00, 169.58batch/s, loss=0.581] "
     ]
    },
    {
     "name": "stdout",
     "output_type": "stream",
     "text": [
      "Epoch 5, Average Loss: 0.3779\n"
     ]
    },
    {
     "name": "stderr",
     "output_type": "stream",
     "text": [
      "\n"
     ]
    },
    {
     "name": "stdout",
     "output_type": "stream",
     "text": [
      "Validation Accuracy: 11.67%\n",
      "Validation Loss: 29.4623\n"
     ]
    },
    {
     "name": "stderr",
     "output_type": "stream",
     "text": [
      "Epoch 6/50: 100%|██████████| 1358/1358 [00:08<00:00, 168.96batch/s, loss=0.0721]\n"
     ]
    },
    {
     "name": "stdout",
     "output_type": "stream",
     "text": [
      "Epoch 6, Average Loss: 0.3281\n",
      "Validation Accuracy: 10.40%\n",
      "Validation Loss: 32.6285\n"
     ]
    },
    {
     "name": "stderr",
     "output_type": "stream",
     "text": [
      "Epoch 7/50: 100%|██████████| 1358/1358 [00:07<00:00, 176.19batch/s, loss=0.2]   "
     ]
    },
    {
     "name": "stdout",
     "output_type": "stream",
     "text": [
      "Epoch 7, Average Loss: 0.2866\n"
     ]
    },
    {
     "name": "stderr",
     "output_type": "stream",
     "text": [
      "\n"
     ]
    },
    {
     "name": "stdout",
     "output_type": "stream",
     "text": [
      "Validation Accuracy: 8.36%\n",
      "Validation Loss: 48.8215\n",
      "Early stopping triggered after 7 epochs.\n"
     ]
    },
    {
     "name": "stderr",
     "output_type": "stream",
     "text": [
      "Testing: 100%|██████████| 170/170 [00:01<00:00, 149.74batch/s, accuracy=8.4] \n"
     ]
    },
    {
     "name": "stdout",
     "output_type": "stream",
     "text": [
      "\n",
      "Test Accuracy: 8.40%\n",
      "Test F1 Score (Weighted): 0.0534\n",
      "                                                    precision    recall  f1-score   support\n",
      "\n",
      "                                Apple___Apple_scab       0.00      0.00      0.00        70\n",
      "                                 Apple___Black_rot       0.62      0.09      0.15        58\n",
      "                          Apple___Cedar_apple_rust       0.00      0.00      0.00        29\n",
      "                                   Apple___healthy       0.00      0.00      0.00       157\n",
      "                               Blueberry___healthy       0.21      0.04      0.07       157\n",
      "          Cherry_(including_sour)___Powdery_mildew       0.00      0.00      0.00       102\n",
      "                 Cherry_(including_sour)___healthy       1.00      0.03      0.06        90\n",
      "Corn_(maize)___Cercospora_leaf_spot Gray_leaf_spot       0.00      0.00      0.00        40\n",
      "                       Corn_(maize)___Common_rust_       0.92      0.39      0.55       113\n",
      "               Corn_(maize)___Northern_Leaf_Blight       0.00      0.00      0.00        94\n",
      "                            Corn_(maize)___healthy       0.99      0.65      0.79       124\n",
      "                                 Grape___Black_rot       0.00      0.00      0.00       118\n",
      "                      Grape___Esca_(Black_Measles)       0.00      0.00      0.00       146\n",
      "        Grape___Leaf_blight_(Isariopsis_Leaf_Spot)       0.00      0.00      0.00       108\n",
      "                                   Grape___healthy       0.00      0.00      0.00        42\n",
      "          Orange___Haunglongbing_(Citrus_greening)       1.00      0.00      0.00       555\n",
      "                            Peach___Bacterial_spot       0.50      0.01      0.02       235\n",
      "                                   Peach___healthy       0.00      0.00      0.00        34\n",
      "                     Pepper,_bell___Bacterial_spot       0.03      0.87      0.06       104\n",
      "                            Pepper,_bell___healthy       0.12      0.59      0.20       147\n",
      "                             Potato___Early_blight       0.00      0.00      0.00       113\n",
      "                              Potato___Late_blight       0.00      0.00      0.00       102\n",
      "                                  Potato___healthy       0.00      0.00      0.00        16\n",
      "                               Raspberry___healthy       0.00      0.00      0.00        43\n",
      "                                 Soybean___healthy       0.00      0.00      0.00       469\n",
      "                           Squash___Powdery_mildew       0.00      0.00      0.00       193\n",
      "                          Strawberry___Leaf_scorch       0.00      0.00      0.00       102\n",
      "                              Strawberry___healthy       0.00      0.00      0.00        48\n",
      "                           Tomato___Bacterial_spot       0.00      0.00      0.00       210\n",
      "                             Tomato___Early_blight       0.00      0.00      0.00        94\n",
      "                              Tomato___Late_blight       0.07      0.54      0.12       186\n",
      "                                Tomato___Leaf_Mold       0.00      0.00      0.00        87\n",
      "                       Tomato___Septoria_leaf_spot       0.00      0.00      0.00       172\n",
      "     Tomato___Spider_mites Two-spotted_spider_mite       0.00      0.00      0.00       177\n",
      "                              Tomato___Target_Spot       0.00      0.00      0.00       151\n",
      "            Tomato___Tomato_Yellow_Leaf_Curl_Virus       0.70      0.06      0.11       535\n",
      "                      Tomato___Tomato_mosaic_virus       0.00      0.00      0.00        39\n",
      "                                  Tomato___healthy       0.00      0.00      0.00       171\n",
      "\n",
      "                                          accuracy                           0.08      5431\n",
      "                                         macro avg       0.16      0.09      0.06      5431\n",
      "                                      weighted avg       0.27      0.08      0.06      5431\n",
      "\n"
     ]
    },
    {
     "name": "stderr",
     "output_type": "stream",
     "text": [
      "/home/alessio/.local/lib/python3.10/site-packages/sklearn/metrics/_classification.py:1565: UndefinedMetricWarning: Precision is ill-defined and being set to 0.0 in labels with no predicted samples. Use `zero_division` parameter to control this behavior.\n",
      "  _warn_prf(average, modifier, f\"{metric.capitalize()} is\", len(result))\n",
      "/home/alessio/.local/lib/python3.10/site-packages/sklearn/metrics/_classification.py:1565: UndefinedMetricWarning: Precision is ill-defined and being set to 0.0 in labels with no predicted samples. Use `zero_division` parameter to control this behavior.\n",
      "  _warn_prf(average, modifier, f\"{metric.capitalize()} is\", len(result))\n",
      "/home/alessio/.local/lib/python3.10/site-packages/sklearn/metrics/_classification.py:1565: UndefinedMetricWarning: Precision is ill-defined and being set to 0.0 in labels with no predicted samples. Use `zero_division` parameter to control this behavior.\n",
      "  _warn_prf(average, modifier, f\"{metric.capitalize()} is\", len(result))\n"
     ]
    },
    {
     "data": {
      "image/png": "[encoded data removed]",
      "text/plain": [
       "<Figure size 1000x800 with 2 Axes>"
      ]
     },
     "metadata": {},
     "output_type": "display_data"
    },
    {
     "name": "stdout",
     "output_type": "stream",
     "text": [
      "Testing configuration: image_size=256, layers=2, first_layer_filters=16\n"
     ]
    },
    {
     "name": "stderr",
     "output_type": "stream",
     "text": [
      "Epoch 1/50: 100%|██████████| 1358/1358 [01:19<00:00, 17.09batch/s, loss=0.62] "
     ]
    },
    {
     "name": "stdout",
     "output_type": "stream",
     "text": [
      "Epoch 1, Average Loss: 1.2475\n"
     ]
    },
    {
     "name": "stderr",
     "output_type": "stream",
     "text": [
      "\n"
     ]
    },
    {
     "ename": "RuntimeError",
     "evalue": "mat1 and mat2 shapes cannot be multiplied (32x1024 and 65536x512)",
     "output_type": "error",
     "traceback": [
      "\u001b[0;31m---------------------------------------------------------------------------\u001b[0m",
      "\u001b[0;31mRuntimeError\u001b[0m                              Traceback (most recent call last)",
      "Cell \u001b[0;32mIn[16], line 28\u001b[0m\n\u001b[1;32m     25\u001b[0m criterion \u001b[38;5;241m=\u001b[39m nn\u001b[38;5;241m.\u001b[39mCrossEntropyLoss()\n\u001b[1;32m     27\u001b[0m \u001b[38;5;66;03m# Esegui il training\u001b[39;00m\n\u001b[0;32m---> 28\u001b[0m \u001b[43mtrain_model\u001b[49m\u001b[43m(\u001b[49m\u001b[43mmodel\u001b[49m\u001b[43m,\u001b[49m\u001b[43m \u001b[49m\u001b[43mcriterion\u001b[49m\u001b[43m,\u001b[49m\u001b[43m \u001b[49m\u001b[43moptimizer\u001b[49m\u001b[43m,\u001b[49m\u001b[43m \u001b[49m\u001b[38;5;28;43mlen\u001b[39;49m\u001b[43m(\u001b[49m\u001b[43mtrain_dataset\u001b[49m\u001b[38;5;241;43m.\u001b[39;49m\u001b[43mclasses\u001b[49m\u001b[43m)\u001b[49m\u001b[43m,\u001b[49m\u001b[43m \u001b[49m\u001b[43mtrain_loader\u001b[49m\u001b[43m)\u001b[49m\n\u001b[1;32m     30\u001b[0m \u001b[38;5;66;03m# Testa il modello\u001b[39;00m\n\u001b[1;32m     31\u001b[0m test_model(model, test_loader)\n",
      "Cell \u001b[0;32mIn[2], line 43\u001b[0m, in \u001b[0;36mtrain_model\u001b[0;34m(model, criterion, optimizer, num_classes, train_loader, epoch)\u001b[0m\n\u001b[1;32m     41\u001b[0m \u001b[38;5;28;01mfor\u001b[39;00m images, labels \u001b[38;5;129;01min\u001b[39;00m val_loader:  \u001b[38;5;66;03m# Assuming val_loader is the DataLoader for the test/validation set\u001b[39;00m\n\u001b[1;32m     42\u001b[0m     images, labels \u001b[38;5;241m=\u001b[39m images\u001b[38;5;241m.\u001b[39mto(device), labels\u001b[38;5;241m.\u001b[39mto(device)\n\u001b[0;32m---> 43\u001b[0m     outputs \u001b[38;5;241m=\u001b[39m \u001b[43mmodel\u001b[49m\u001b[43m(\u001b[49m\u001b[43mimages\u001b[49m\u001b[43m)\u001b[49m\n\u001b[1;32m     44\u001b[0m     loss \u001b[38;5;241m=\u001b[39m criterion(outputs, labels)\n\u001b[1;32m     45\u001b[0m     val_loss \u001b[38;5;241m+\u001b[39m\u001b[38;5;241m=\u001b[39m loss\u001b[38;5;241m.\u001b[39mitem()\n",
      "File \u001b[0;32m~/.local/lib/python3.10/site-packages/torch/nn/modules/module.py:1518\u001b[0m, in \u001b[0;36mModule._wrapped_call_impl\u001b[0;34m(self, *args, **kwargs)\u001b[0m\n\u001b[1;32m   1516\u001b[0m     \u001b[38;5;28;01mreturn\u001b[39;00m \u001b[38;5;28mself\u001b[39m\u001b[38;5;241m.\u001b[39m_compiled_call_impl(\u001b[38;5;241m*\u001b[39margs, \u001b[38;5;241m*\u001b[39m\u001b[38;5;241m*\u001b[39mkwargs)  \u001b[38;5;66;03m# type: ignore[misc]\u001b[39;00m\n\u001b[1;32m   1517\u001b[0m \u001b[38;5;28;01melse\u001b[39;00m:\n\u001b[0;32m-> 1518\u001b[0m     \u001b[38;5;28;01mreturn\u001b[39;00m \u001b[38;5;28;43mself\u001b[39;49m\u001b[38;5;241;43m.\u001b[39;49m\u001b[43m_call_impl\u001b[49m\u001b[43m(\u001b[49m\u001b[38;5;241;43m*\u001b[39;49m\u001b[43margs\u001b[49m\u001b[43m,\u001b[49m\u001b[43m \u001b[49m\u001b[38;5;241;43m*\u001b[39;49m\u001b[38;5;241;43m*\u001b[39;49m\u001b[43mkwargs\u001b[49m\u001b[43m)\u001b[49m\n",
      "File \u001b[0;32m~/.local/lib/python3.10/site-packages/torch/nn/modules/module.py:1527\u001b[0m, in \u001b[0;36mModule._call_impl\u001b[0;34m(self, *args, **kwargs)\u001b[0m\n\u001b[1;32m   1522\u001b[0m \u001b[38;5;66;03m# If we don't have any hooks, we want to skip the rest of the logic in\u001b[39;00m\n\u001b[1;32m   1523\u001b[0m \u001b[38;5;66;03m# this function, and just call forward.\u001b[39;00m\n\u001b[1;32m   1524\u001b[0m \u001b[38;5;28;01mif\u001b[39;00m \u001b[38;5;129;01mnot\u001b[39;00m (\u001b[38;5;28mself\u001b[39m\u001b[38;5;241m.\u001b[39m_backward_hooks \u001b[38;5;129;01mor\u001b[39;00m \u001b[38;5;28mself\u001b[39m\u001b[38;5;241m.\u001b[39m_backward_pre_hooks \u001b[38;5;129;01mor\u001b[39;00m \u001b[38;5;28mself\u001b[39m\u001b[38;5;241m.\u001b[39m_forward_hooks \u001b[38;5;129;01mor\u001b[39;00m \u001b[38;5;28mself\u001b[39m\u001b[38;5;241m.\u001b[39m_forward_pre_hooks\n\u001b[1;32m   1525\u001b[0m         \u001b[38;5;129;01mor\u001b[39;00m _global_backward_pre_hooks \u001b[38;5;129;01mor\u001b[39;00m _global_backward_hooks\n\u001b[1;32m   1526\u001b[0m         \u001b[38;5;129;01mor\u001b[39;00m _global_forward_hooks \u001b[38;5;129;01mor\u001b[39;00m _global_forward_pre_hooks):\n\u001b[0;32m-> 1527\u001b[0m     \u001b[38;5;28;01mreturn\u001b[39;00m \u001b[43mforward_call\u001b[49m\u001b[43m(\u001b[49m\u001b[38;5;241;43m*\u001b[39;49m\u001b[43margs\u001b[49m\u001b[43m,\u001b[49m\u001b[43m \u001b[49m\u001b[38;5;241;43m*\u001b[39;49m\u001b[38;5;241;43m*\u001b[39;49m\u001b[43mkwargs\u001b[49m\u001b[43m)\u001b[49m\n\u001b[1;32m   1529\u001b[0m \u001b[38;5;28;01mtry\u001b[39;00m:\n\u001b[1;32m   1530\u001b[0m     result \u001b[38;5;241m=\u001b[39m \u001b[38;5;28;01mNone\u001b[39;00m\n",
      "Cell \u001b[0;32mIn[15], line 35\u001b[0m, in \u001b[0;36mSimpleCNN.forward\u001b[0;34m(self, x)\u001b[0m\n\u001b[1;32m     33\u001b[0m x \u001b[38;5;241m=\u001b[39m \u001b[38;5;28mself\u001b[39m\u001b[38;5;241m.\u001b[39mfeatures(x)\n\u001b[1;32m     34\u001b[0m x \u001b[38;5;241m=\u001b[39m x\u001b[38;5;241m.\u001b[39mview(x\u001b[38;5;241m.\u001b[39msize(\u001b[38;5;241m0\u001b[39m), \u001b[38;5;241m-\u001b[39m\u001b[38;5;241m1\u001b[39m)  \u001b[38;5;66;03m# Flatten\u001b[39;00m\n\u001b[0;32m---> 35\u001b[0m x \u001b[38;5;241m=\u001b[39m \u001b[38;5;28;43mself\u001b[39;49m\u001b[38;5;241;43m.\u001b[39;49m\u001b[43mclassifier\u001b[49m\u001b[43m(\u001b[49m\u001b[43mx\u001b[49m\u001b[43m)\u001b[49m\n\u001b[1;32m     36\u001b[0m \u001b[38;5;28;01mreturn\u001b[39;00m x\n",
      "File \u001b[0;32m~/.local/lib/python3.10/site-packages/torch/nn/modules/module.py:1518\u001b[0m, in \u001b[0;36mModule._wrapped_call_impl\u001b[0;34m(self, *args, **kwargs)\u001b[0m\n\u001b[1;32m   1516\u001b[0m     \u001b[38;5;28;01mreturn\u001b[39;00m \u001b[38;5;28mself\u001b[39m\u001b[38;5;241m.\u001b[39m_compiled_call_impl(\u001b[38;5;241m*\u001b[39margs, \u001b[38;5;241m*\u001b[39m\u001b[38;5;241m*\u001b[39mkwargs)  \u001b[38;5;66;03m# type: ignore[misc]\u001b[39;00m\n\u001b[1;32m   1517\u001b[0m \u001b[38;5;28;01melse\u001b[39;00m:\n\u001b[0;32m-> 1518\u001b[0m     \u001b[38;5;28;01mreturn\u001b[39;00m \u001b[38;5;28;43mself\u001b[39;49m\u001b[38;5;241;43m.\u001b[39;49m\u001b[43m_call_impl\u001b[49m\u001b[43m(\u001b[49m\u001b[38;5;241;43m*\u001b[39;49m\u001b[43margs\u001b[49m\u001b[43m,\u001b[49m\u001b[43m \u001b[49m\u001b[38;5;241;43m*\u001b[39;49m\u001b[38;5;241;43m*\u001b[39;49m\u001b[43mkwargs\u001b[49m\u001b[43m)\u001b[49m\n",
      "File \u001b[0;32m~/.local/lib/python3.10/site-packages/torch/nn/modules/module.py:1527\u001b[0m, in \u001b[0;36mModule._call_impl\u001b[0;34m(self, *args, **kwargs)\u001b[0m\n\u001b[1;32m   1522\u001b[0m \u001b[38;5;66;03m# If we don't have any hooks, we want to skip the rest of the logic in\u001b[39;00m\n\u001b[1;32m   1523\u001b[0m \u001b[38;5;66;03m# this function, and just call forward.\u001b[39;00m\n\u001b[1;32m   1524\u001b[0m \u001b[38;5;28;01mif\u001b[39;00m \u001b[38;5;129;01mnot\u001b[39;00m (\u001b[38;5;28mself\u001b[39m\u001b[38;5;241m.\u001b[39m_backward_hooks \u001b[38;5;129;01mor\u001b[39;00m \u001b[38;5;28mself\u001b[39m\u001b[38;5;241m.\u001b[39m_backward_pre_hooks \u001b[38;5;129;01mor\u001b[39;00m \u001b[38;5;28mself\u001b[39m\u001b[38;5;241m.\u001b[39m_forward_hooks \u001b[38;5;129;01mor\u001b[39;00m \u001b[38;5;28mself\u001b[39m\u001b[38;5;241m.\u001b[39m_forward_pre_hooks\n\u001b[1;32m   1525\u001b[0m         \u001b[38;5;129;01mor\u001b[39;00m _global_backward_pre_hooks \u001b[38;5;129;01mor\u001b[39;00m _global_backward_hooks\n\u001b[1;32m   1526\u001b[0m         \u001b[38;5;129;01mor\u001b[39;00m _global_forward_hooks \u001b[38;5;129;01mor\u001b[39;00m _global_forward_pre_hooks):\n\u001b[0;32m-> 1527\u001b[0m     \u001b[38;5;28;01mreturn\u001b[39;00m \u001b[43mforward_call\u001b[49m\u001b[43m(\u001b[49m\u001b[38;5;241;43m*\u001b[39;49m\u001b[43margs\u001b[49m\u001b[43m,\u001b[49m\u001b[43m \u001b[49m\u001b[38;5;241;43m*\u001b[39;49m\u001b[38;5;241;43m*\u001b[39;49m\u001b[43mkwargs\u001b[49m\u001b[43m)\u001b[49m\n\u001b[1;32m   1529\u001b[0m \u001b[38;5;28;01mtry\u001b[39;00m:\n\u001b[1;32m   1530\u001b[0m     result \u001b[38;5;241m=\u001b[39m \u001b[38;5;28;01mNone\u001b[39;00m\n",
      "File \u001b[0;32m~/.local/lib/python3.10/site-packages/torch/nn/modules/container.py:215\u001b[0m, in \u001b[0;36mSequential.forward\u001b[0;34m(self, input)\u001b[0m\n\u001b[1;32m    213\u001b[0m \u001b[38;5;28;01mdef\u001b[39;00m \u001b[38;5;21mforward\u001b[39m(\u001b[38;5;28mself\u001b[39m, \u001b[38;5;28minput\u001b[39m):\n\u001b[1;32m    214\u001b[0m     \u001b[38;5;28;01mfor\u001b[39;00m module \u001b[38;5;129;01min\u001b[39;00m \u001b[38;5;28mself\u001b[39m:\n\u001b[0;32m--> 215\u001b[0m         \u001b[38;5;28minput\u001b[39m \u001b[38;5;241m=\u001b[39m \u001b[43mmodule\u001b[49m\u001b[43m(\u001b[49m\u001b[38;5;28;43minput\u001b[39;49m\u001b[43m)\u001b[49m\n\u001b[1;32m    216\u001b[0m     \u001b[38;5;28;01mreturn\u001b[39;00m \u001b[38;5;28minput\u001b[39m\n",
      "File \u001b[0;32m~/.local/lib/python3.10/site-packages/torch/nn/modules/module.py:1518\u001b[0m, in \u001b[0;36mModule._wrapped_call_impl\u001b[0;34m(self, *args, **kwargs)\u001b[0m\n\u001b[1;32m   1516\u001b[0m     \u001b[38;5;28;01mreturn\u001b[39;00m \u001b[38;5;28mself\u001b[39m\u001b[38;5;241m.\u001b[39m_compiled_call_impl(\u001b[38;5;241m*\u001b[39margs, \u001b[38;5;241m*\u001b[39m\u001b[38;5;241m*\u001b[39mkwargs)  \u001b[38;5;66;03m# type: ignore[misc]\u001b[39;00m\n\u001b[1;32m   1517\u001b[0m \u001b[38;5;28;01melse\u001b[39;00m:\n\u001b[0;32m-> 1518\u001b[0m     \u001b[38;5;28;01mreturn\u001b[39;00m \u001b[38;5;28;43mself\u001b[39;49m\u001b[38;5;241;43m.\u001b[39;49m\u001b[43m_call_impl\u001b[49m\u001b[43m(\u001b[49m\u001b[38;5;241;43m*\u001b[39;49m\u001b[43margs\u001b[49m\u001b[43m,\u001b[49m\u001b[43m \u001b[49m\u001b[38;5;241;43m*\u001b[39;49m\u001b[38;5;241;43m*\u001b[39;49m\u001b[43mkwargs\u001b[49m\u001b[43m)\u001b[49m\n",
      "File \u001b[0;32m~/.local/lib/python3.10/site-packages/torch/nn/modules/module.py:1527\u001b[0m, in \u001b[0;36mModule._call_impl\u001b[0;34m(self, *args, **kwargs)\u001b[0m\n\u001b[1;32m   1522\u001b[0m \u001b[38;5;66;03m# If we don't have any hooks, we want to skip the rest of the logic in\u001b[39;00m\n\u001b[1;32m   1523\u001b[0m \u001b[38;5;66;03m# this function, and just call forward.\u001b[39;00m\n\u001b[1;32m   1524\u001b[0m \u001b[38;5;28;01mif\u001b[39;00m \u001b[38;5;129;01mnot\u001b[39;00m (\u001b[38;5;28mself\u001b[39m\u001b[38;5;241m.\u001b[39m_backward_hooks \u001b[38;5;129;01mor\u001b[39;00m \u001b[38;5;28mself\u001b[39m\u001b[38;5;241m.\u001b[39m_backward_pre_hooks \u001b[38;5;129;01mor\u001b[39;00m \u001b[38;5;28mself\u001b[39m\u001b[38;5;241m.\u001b[39m_forward_hooks \u001b[38;5;129;01mor\u001b[39;00m \u001b[38;5;28mself\u001b[39m\u001b[38;5;241m.\u001b[39m_forward_pre_hooks\n\u001b[1;32m   1525\u001b[0m         \u001b[38;5;129;01mor\u001b[39;00m _global_backward_pre_hooks \u001b[38;5;129;01mor\u001b[39;00m _global_backward_hooks\n\u001b[1;32m   1526\u001b[0m         \u001b[38;5;129;01mor\u001b[39;00m _global_forward_hooks \u001b[38;5;129;01mor\u001b[39;00m _global_forward_pre_hooks):\n\u001b[0;32m-> 1527\u001b[0m     \u001b[38;5;28;01mreturn\u001b[39;00m \u001b[43mforward_call\u001b[49m\u001b[43m(\u001b[49m\u001b[38;5;241;43m*\u001b[39;49m\u001b[43margs\u001b[49m\u001b[43m,\u001b[49m\u001b[43m \u001b[49m\u001b[38;5;241;43m*\u001b[39;49m\u001b[38;5;241;43m*\u001b[39;49m\u001b[43mkwargs\u001b[49m\u001b[43m)\u001b[49m\n\u001b[1;32m   1529\u001b[0m \u001b[38;5;28;01mtry\u001b[39;00m:\n\u001b[1;32m   1530\u001b[0m     result \u001b[38;5;241m=\u001b[39m \u001b[38;5;28;01mNone\u001b[39;00m\n",
      "File \u001b[0;32m~/.local/lib/python3.10/site-packages/torch/nn/modules/linear.py:114\u001b[0m, in \u001b[0;36mLinear.forward\u001b[0;34m(self, input)\u001b[0m\n\u001b[1;32m    113\u001b[0m \u001b[38;5;28;01mdef\u001b[39;00m \u001b[38;5;21mforward\u001b[39m(\u001b[38;5;28mself\u001b[39m, \u001b[38;5;28minput\u001b[39m: Tensor) \u001b[38;5;241m-\u001b[39m\u001b[38;5;241m>\u001b[39m Tensor:\n\u001b[0;32m--> 114\u001b[0m     \u001b[38;5;28;01mreturn\u001b[39;00m \u001b[43mF\u001b[49m\u001b[38;5;241;43m.\u001b[39;49m\u001b[43mlinear\u001b[49m\u001b[43m(\u001b[49m\u001b[38;5;28;43minput\u001b[39;49m\u001b[43m,\u001b[49m\u001b[43m \u001b[49m\u001b[38;5;28;43mself\u001b[39;49m\u001b[38;5;241;43m.\u001b[39;49m\u001b[43mweight\u001b[49m\u001b[43m,\u001b[49m\u001b[43m \u001b[49m\u001b[38;5;28;43mself\u001b[39;49m\u001b[38;5;241;43m.\u001b[39;49m\u001b[43mbias\u001b[49m\u001b[43m)\u001b[49m\n",
      "\u001b[0;31mRuntimeError\u001b[0m: mat1 and mat2 shapes cannot be multiplied (32x1024 and 65536x512)"
     ]
    }
   ],
   "source": [
    "results = []  # Per salvare i risultati\n",
    "\n",
    "for image_size, num_layers, first_layer_filters in parameter_combinations:\n",
    "    print(f\"Testing configuration: image_size={image_size}, layers={num_layers}, first_layer_filters={first_layer_filters}\")\n",
    "    \n",
    "    # Prepara i dati\n",
    "    transform = transforms.Compose([\n",
    "        transforms.Resize((image_size, image_size)),\n",
    "        transforms.ToTensor()\n",
    "    ])\n",
    "    train_dataset.transform = transform\n",
    "    val_dataset.transform = transform\n",
    "    test_dataset.transform = transform\n",
    "    \n",
    "    # Inizializza il modello\n",
    "    model = SimpleCNN(\n",
    "        num_classes=len(train_dataset.classes),\n",
    "        image_width=image_size,\n",
    "        num_layers=num_layers,\n",
    "        first_layer_filters=first_layer_filters\n",
    "    ).to(device)\n",
    "    \n",
    "    # Ottimizzatore e criterio\n",
    "    optimizer = optim.Adam(model.parameters(), lr=0.001)\n",
    "    criterion = nn.CrossEntropyLoss()\n",
    "\n",
    "    # Esegui il training\n",
    "    train_model(model, criterion, optimizer, len(train_dataset.classes), train_loader)\n",
    "\n",
    "    # Testa il modello\n",
    "    test_model(model, test_loader)\n",
    "\n",
    "    # Valuta il modello\n",
    "    cm, report = evaluate_model(model, val_loader, class_names)\n",
    "\n",
    "    # Salva i risultati\n",
    "    results.append({\n",
    "        \"image_size\": image_size,\n",
    "        \"num_layers\": num_layers,\n",
    "        \"first_layer_filters\": first_layer_filters,\n",
    "        \"confusion_matrix\": cm,\n",
    "        \"classification_report\": report\n",
    "    })"
   ]
  },
  {
   "cell_type": "markdown",
   "metadata": {},
   "source": [
    "#### Save results \n",
    "Puoi salvare i risultati in un file JSON o esportarli in un CSV:"
   ]
  },
  {
   "cell_type": "code",
   "execution_count": null,
   "metadata": {},
   "outputs": [],
   "source": [
    "import json\n",
    "\n",
    "# Salva i risultati in un file JSON\n",
    "with open(\"results.json\", \"w\") as f:\n",
    "    json.dump(results, f, indent=4)\n",
    "\n",
    "# Esporta solo le metriche principali in un CSV\n",
    "import pandas as pd\n",
    "\n",
    "metrics = []\n",
    "for result in results:\n",
    "    metrics.append({\n",
    "        \"image_size\": result[\"image_size\"],\n",
    "        \"num_layers\": result[\"num_layers\"],\n",
    "        \"first_layer_filters\": result[\"first_layer_filters\"],\n",
    "        \"accuracy\": result[\"classification_report\"][\"accuracy\"],\n",
    "        \"f1_score\": result[\"classification_report\"][\"weighted avg\"][\"f1-score\"]\n",
    "    })\n",
    "\n",
    "df = pd.DataFrame(metrics)\n",
    "df.to_csv(\"results.csv\", index=False)\n"
   ]
  },
  {
   "cell_type": "markdown",
   "metadata": {},
   "source": [
    "#### Analyze results"
   ]
  },
  {
   "cell_type": "markdown",
   "metadata": {},
   "source": [
    "Dopo aver salvato i risultati, puoi analizzare il file CSV o visualizzarli graficamente con Matplotlib/Seaborn:"
   ]
  },
  {
   "cell_type": "code",
   "execution_count": null,
   "metadata": {},
   "outputs": [],
   "source": [
    "import seaborn as sns\n",
    "import matplotlib.pyplot as plt\n",
    "\n",
    "sns.set(style=\"whitegrid\")\n",
    "df = pd.read_csv(\"results.csv\")\n",
    "sns.barplot(data=df, x=\"image_size\", y=\"accuracy\", hue=\"num_layers\")\n",
    "plt.title(\"Accuracy vs Image Size and Number of Layers\")\n",
    "plt.show()"
   ]
  },
  {
   "cell_type": "markdown",
   "metadata": {},
   "source": [
    "### Heatmap sulle varie classi"
   ]
  },
  {
   "cell_type": "markdown",
   "metadata": {},
   "source": [
    "Heatmap su campione di immagini per ciascuna classe"
   ]
  },
  {
   "cell_type": "code",
   "execution_count": null,
   "metadata": {},
   "outputs": [],
   "source": [
    "import numpy as np\n",
    "\n",
    "# Funzione per calcolare la heatmap per una singola immagine\n",
    "def generate_heatmap(model, img, class_idx):\n",
    "    # Calcola i gradiente rispetto alla classe specificata\n",
    "    model.zero_grad()\n",
    "    output = model(img)\n",
    "    output[0, class_idx].backward()  # Calcola il gradiente per la classe specifica\n",
    "    \n",
    "    # Estrai le feature map e i gradienti\n",
    "    gradients = last_conv_layer.weight.grad[0]\n",
    "    weights = torch.mean(gradients, dim=(1, 2), keepdim=True)\n",
    "    cam = torch.sum(weights * feature_map, dim=1, keepdim=True)\n",
    "    cam = F.relu(cam)\n",
    "    cam = cam.squeeze().cpu().detach().numpy()\n",
    "    cam = cv2.resize(cam, (224, 224))\n",
    "    cam = np.uint8(255 * cam / np.max(cam))\n",
    "    \n",
    "    return cam\n",
    "\n",
    "# Lista di immagini (un campione per classe)\n",
    "sample_images_per_class = [...]  # Le tue immagini per ogni classe\n",
    "heatmaps_by_class = {}\n",
    "\n",
    "for class_idx in range(num_classes):  # num_classes è il numero di classi\n",
    "    heatmap_list = []\n",
    "    \n",
    "    for img in sample_images_per_class[class_idx]:\n",
    "        heatmap = generate_heatmap(model, img, class_idx)\n",
    "        heatmap_list.append(heatmap)\n",
    "    \n",
    "    # Media delle heatmap per la classe\n",
    "    aggregated_heatmap = np.mean(heatmap_list, axis=0)\n",
    "    heatmaps_by_class[class_idx] = aggregated_heatmap\n",
    "\n",
    "# Ora `heatmaps_by_class` contiene una heatmap media per ogni classe\n"
   ]
  },
  {
   "cell_type": "markdown",
   "metadata": {},
   "source": [
    "Heatmap aggregata per ciascuna classe"
   ]
  },
  {
   "cell_type": "code",
   "execution_count": 50,
   "metadata": {},
   "outputs": [
    {
     "name": "stdout",
     "output_type": "stream",
     "text": [
      "Defaulting to user installation because normal site-packages is not writeable\n",
      "Collecting opencv-python\n",
      "  Downloading opencv_python-4.10.0.84-cp37-abi3-manylinux_2_17_x86_64.manylinux2014_x86_64.whl.metadata (20 kB)\n",
      "Requirement already satisfied: numpy>=1.21.2 in /home/alessio/.local/lib/python3.10/site-packages (from opencv-python) (1.26.4)\n",
      "Downloading opencv_python-4.10.0.84-cp37-abi3-manylinux_2_17_x86_64.manylinux2014_x86_64.whl (62.5 MB)\n",
      "\u001b[2K   \u001b[90m━━━━━━━━━━━━━━━━━━━━━━━━━━━━━━━━━━━━━━━━\u001b[0m \u001b[32m62.5/62.5 MB\u001b[0m \u001b[31m43.4 MB/s\u001b[0m eta \u001b[36m0:00:00\u001b[0m00:01\u001b[0m00:01\u001b[0m\n",
      "\u001b[?25hInstalling collected packages: opencv-python\n",
      "Successfully installed opencv-python-4.10.0.84\n"
     ]
    }
   ],
   "source": [
    "!pip install opencv-python"
   ]
  },
  {
   "cell_type": "code",
   "execution_count": 30,
   "metadata": {},
   "outputs": [],
   "source": [
    "import torch.nn as nn\n",
    "\n",
    "class SimpleCNN(nn.Module):\n",
    "    def __init__(self, num_classes, image_width, num_layers=2, first_layer_filters=16):\n",
    "        super(SimpleCNN, self).__init__()\n",
    "\n",
    "        self.num_layers = num_layers\n",
    "        self.first_layer_filters = first_layer_filters\n",
    "\n",
    "        layers = []\n",
    "        in_channels = 3\n",
    "        out_channels = first_layer_filters\n",
    "\n",
    "        for i in range(num_layers):\n",
    "            layers.append(nn.Conv2d(in_channels, out_channels, kernel_size=3, stride=1, padding=1))\n",
    "            layers.append(nn.ReLU())\n",
    "            layers.append(nn.MaxPool2d(kernel_size=2, stride=2))  # Halves spatial dimensions\n",
    "\n",
    "            in_channels = out_channels\n",
    "            out_channels *= 2  # Double the number of filters for each subsequent layer\n",
    "\n",
    "        layers.append(nn.Dropout(0.2))\n",
    "\n",
    "        self.features = nn.Sequential(*layers)\n",
    "\n",
    "        # Calculate the output size after the convolutional layers\n",
    "        final_width = image_width // (2 ** num_layers)\n",
    "        self.classifier = nn.Sequential(\n",
    "            nn.Linear(in_channels * (final_width ** 2), 512),\n",
    "            nn.ReLU(),\n",
    "            nn.Dropout(0.45),\n",
    "            nn.Linear(512, num_classes)\n",
    "        )\n",
    "\n",
    "    def forward(self, x):\n",
    "        x = self.features(x)\n",
    "        x = x.view(x.size(0), -1)  # Flatten\n",
    "        x = self.classifier(x)\n",
    "        return x"
   ]
  },
  {
   "cell_type": "code",
   "execution_count": 47,
   "metadata": {},
   "outputs": [],
   "source": [
    "# Retrieve model from file \n",
    "\n",
    "num_classes = len(train_dataset.classes)\n",
    "device = torch.device('cuda' if torch.cuda.is_available() else 'cpu')  # Use GPU if available\n",
    "model = SimpleCNN(num_classes=num_classes, image_width=image_width).to(device)  # Move model to device\n",
    "\n",
    "criterion = nn.CrossEntropyLoss()\n",
    "optimizer = optim.Adam(model.parameters(), lr=0.001)\n",
    "\n",
    "model.load_state_dict(torch.load('plant_disease_model.pth'))\n",
    "model = model.to(device)"
   ]
  },
  {
   "cell_type": "code",
   "execution_count": 46,
   "metadata": {},
   "outputs": [],
   "source": [
    "from torchvision import datasets, transforms\n",
    "\n",
    "# Esempio di trasformazioni per immagini ridimensionate\n",
    "transform_resized = transforms.Compose([\n",
    "    transforms.Resize((32, 32)),\n",
    "    transforms.ToTensor(),\n",
    "])\n",
    "\n",
    "# Trasformazione per immagini originali (non ridimensionate)\n",
    "transform_original = transforms.Compose([\n",
    "    transforms.ToTensor(),\n",
    "])\n",
    "\n",
    "# Carica il dataset per immagini ridimensionate\n",
    "dataset_resized = datasets.ImageFolder(root='PlantVillage/val', transform=transform_resized)\n",
    "\n",
    "# Carica il dataset per immagini originali\n",
    "dataset_original = datasets.ImageFolder(root='PlantVillage/val', transform=transform_original)\n",
    "\n",
    "# Suddividi le immagini per classe\n",
    "from collections import defaultdict\n",
    "\n",
    "sample_images_per_class_resized = defaultdict(list)\n",
    "sample_images_per_class_original = defaultdict(list)\n",
    "\n",
    "for (img_resized, label_resized), (img_original, label_original) in zip(dataset_resized, dataset_original):\n",
    "    sample_images_per_class_resized[label_resized].append(img_resized)\n",
    "    sample_images_per_class_original[label_original].append(img_original)\n",
    "\n",
    "# Ora `sample_images_per_class_resized` contiene le immagini ridimensionate,\n",
    "# mentre `sample_images_per_class_original` contiene le immagini originali.\n"
   ]
  },
  {
   "cell_type": "code",
   "execution_count": 32,
   "metadata": {},
   "outputs": [
    {
     "name": "stdout",
     "output_type": "stream",
     "text": [
      "Conv2d(3, 16, kernel_size=(3, 3), stride=(1, 1), padding=(1, 1))\n"
     ]
    }
   ],
   "source": [
    "print(model.features[0])"
   ]
  },
  {
   "cell_type": "code",
   "execution_count": 34,
   "metadata": {},
   "outputs": [],
   "source": [
    "import numpy as np\n",
    "import torch\n",
    "import cv2\n",
    "import matplotlib.pyplot as plt\n",
    "import torch.nn.functional as F\n",
    "\n",
    "def generate_heatmap(model, img, class_idx):\n",
    "    feature_map = None\n",
    "    gradients = None\n",
    "\n",
    "    # Hook per catturare la feature map\n",
    "    def forward_hook(module, input, output):\n",
    "        nonlocal feature_map\n",
    "        feature_map = output.detach()\n",
    "\n",
    "    # Hook per catturare i gradienti\n",
    "    def backward_hook(module, grad_in, grad_out):\n",
    "        nonlocal gradients\n",
    "        gradients = grad_out[0].detach()\n",
    "\n",
    "    # Seleziona l'ultimo layer convoluzionale\n",
    "    last_conv_layer = model.features[-4]  # Assumiamo che sia l'ultimo layer convoluzionale\n",
    "\n",
    "    # Registra gli hook\n",
    "    forward_handle = last_conv_layer.register_forward_hook(forward_hook)\n",
    "    backward_handle = last_conv_layer.register_backward_hook(backward_hook)\n",
    "\n",
    "    # Esegui la forward e calcola il gradiente per la classe specifica\n",
    "    model.zero_grad()\n",
    "    img = img.unsqueeze(0).cuda()  # Aggiungi dimensione batch e invia a GPU se necessario\n",
    "    output = model(img)\n",
    "    output[0, class_idx].backward()  # Calcola il gradiente rispetto alla classe\n",
    "\n",
    "    # Rimuovi gli hook\n",
    "    forward_handle.remove()\n",
    "    backward_handle.remove()\n",
    "\n",
    "    # Calcola i pesi per la Grad-CAM\n",
    "    weights = torch.mean(gradients, dim=(2, 3), keepdim=True)  # Media sui gradienti spaziali\n",
    "    cam = torch.sum(weights * feature_map, dim=1).squeeze()  # Somma pesata delle feature map\n",
    "    cam = F.relu(cam)  # Applica ReLU per rimuovere i valori negativi\n",
    "\n",
    "    # Normalizza e ridimensiona la heatmap\n",
    "    cam = cam.cpu().numpy()\n",
    "    cam = cv2.resize(cam, (img.shape[2], img.shape[3]))  # Ridimensiona alla dimensione dell'immagine originale\n",
    "    cam = cam - np.min(cam)\n",
    "    cam = cam / np.max(cam)  # Normalizzazione tra 0 e 1\n",
    "    cam = np.uint8(255 * cam)\n",
    "\n",
    "    return cam"
   ]
  },
  {
   "cell_type": "code",
   "execution_count": 36,
   "metadata": {},
   "outputs": [
    {
     "data": {
      "image/png": "[encoded data removed]",
      "text/plain": [
       "<Figure size 640x480 with 2 Axes>"
      ]
     },
     "metadata": {},
     "output_type": "display_data"
    }
   ],
   "source": [
    "img = torch.randn(3, 32, 32).cuda()  # Esempio di immagine su GPU\n",
    "class_idx = 0  # Indice della classe target\n",
    "\n",
    "heatmap = generate_heatmap(model, img, class_idx)\n",
    "\n",
    "# Visualizza la heatmap\n",
    "plt.imshow(heatmap, cmap='jet')\n",
    "plt.colorbar()\n",
    "plt.title(f\"Grad-CAM Heatmap for Class {class_idx}\")\n",
    "plt.show()\n"
   ]
  },
  {
   "cell_type": "code",
   "execution_count": 45,
   "metadata": {},
   "outputs": [
    {
     "name": "stdout",
     "output_type": "stream",
     "text": [
      "Generazione heatmap per la classe 0...\n"
     ]
    },
    {
     "name": "stderr",
     "output_type": "stream",
     "text": [
      "/tmp/ipykernel_602/3826727648.py:47: RuntimeWarning: invalid value encountered in divide\n",
      "  cam = cam / np.max(cam)  # Normalizzazione tra 0 e 1\n",
      "/tmp/ipykernel_602/3826727648.py:48: RuntimeWarning: invalid value encountered in cast\n",
      "  cam = np.uint8(255 * cam)\n"
     ]
    },
    {
     "name": "stdout",
     "output_type": "stream",
     "text": [
      "Generazione heatmap per la classe 1...\n",
      "Generazione heatmap per la classe 2...\n",
      "Visualizzazione heatmap per la classe 0...\n"
     ]
    },
    {
     "data": {
      "image/png": "[encoded data removed]",
      "text/plain": [
       "<Figure size 1800x600 with 3 Axes>"
      ]
     },
     "metadata": {},
     "output_type": "display_data"
    },
    {
     "name": "stdout",
     "output_type": "stream",
     "text": [
      "Visualizzazione heatmap per la classe 1...\n"
     ]
    },
    {
     "data": {
      "image/png": "[encoded data removed]",
      "text/plain": [
       "<Figure size 1800x600 with 3 Axes>"
      ]
     },
     "metadata": {},
     "output_type": "display_data"
    },
    {
     "name": "stdout",
     "output_type": "stream",
     "text": [
      "Visualizzazione heatmap per la classe 2...\n"
     ]
    },
    {
     "data": {
      "image/png": "[encoded data removed]",
      "text/plain": [
       "<Figure size 1800x600 with 3 Axes>"
      ]
     },
     "metadata": {},
     "output_type": "display_data"
    }
   ],
   "source": [
    "import numpy as np\n",
    "import matplotlib.pyplot as plt\n",
    "import cv2\n",
    "\n",
    "# Funzione per calcolare la heatmap aggregata per ciascuna classe\n",
    "def generate_class_heatmaps(model, dataset, num_classes, num_samples_per_class):\n",
    "    heatmaps_by_class = {}\n",
    "\n",
    "    # Per ogni classe\n",
    "    for class_idx in range(num_classes):\n",
    "        heatmap_list = []\n",
    "        print(f\"Generazione heatmap per la classe {class_idx}...\")\n",
    "\n",
    "        # Campiona immagini per la classe\n",
    "        class_images = [\n",
    "            (img, label) for img, label in dataset if label == class_idx\n",
    "        ][:num_samples_per_class]\n",
    "\n",
    "        # Calcola la heatmap per ogni immagine\n",
    "        for img, _ in class_images:\n",
    "            heatmap = generate_heatmap(model, img.cuda(), class_idx)\n",
    "            heatmap_list.append(heatmap)\n",
    "\n",
    "        # Media delle heatmap per la classe\n",
    "        aggregated_heatmap = np.mean(heatmap_list, axis=0)\n",
    "        heatmaps_by_class[class_idx] = aggregated_heatmap\n",
    "\n",
    "    return heatmaps_by_class\n",
    "\n",
    "# Visualizza le heatmap aggregate per ciascuna classe\n",
    "def plot_heatmaps_with_comparison(heatmaps_by_class, dataset):\n",
    "    for class_idx, aggregated_heatmap in heatmaps_by_class.items():\n",
    "        print(f\"Visualizzazione heatmap per la classe {class_idx}...\")\n",
    "\n",
    "        # Recupera un'immagine di esempio per la classe\n",
    "        sample_img = next(img for img, label in dataset if label == class_idx)\n",
    "        original_img = sample_img.permute(1, 2, 0).cpu().numpy()  # Converti in formato HWC\n",
    "\n",
    "        # Normalizza original_img a 0-255 e convertilo a uint8\n",
    "        original_img_normalized = (original_img - original_img.min()) / (original_img.max() - original_img.min()) * 255\n",
    "        original_img_normalized = original_img_normalized.astype(np.uint8)\n",
    "\n",
    "        # Ridimensiona l'immagine originale alla stessa dimensione della heatmap\n",
    "        resized_img = cv2.resize(original_img_normalized, (aggregated_heatmap.shape[1], aggregated_heatmap.shape[0]))\n",
    "\n",
    "        # Colora la heatmap\n",
    "        heatmap_colored = cv2.applyColorMap(aggregated_heatmap.astype(np.uint8), cv2.COLORMAP_JET)\n",
    "\n",
    "        # Sovrapponi immagine ridimensionata e heatmap\n",
    "        superimposed_img = cv2.addWeighted(resized_img, 0.6, heatmap_colored, 0.4, 0)\n",
    "\n",
    "        # Visualizza immagine originale, ridimensionata e heatmap sovrapposta fianco a fianco\n",
    "        plt.figure(figsize=(18, 6))\n",
    "\n",
    "        # Mostra immagine originale (non ridimensionata)\n",
    "        plt.subplot(1, 3, 1)\n",
    "        plt.imshow(cv2.cvtColor(original_img_normalized, cv2.COLOR_BGR2RGB))  # Converti da BGR a RGB per matplotlib\n",
    "        plt.title(f\"Immagine Originale - Classe {class_idx}\")\n",
    "        plt.axis('off')\n",
    "\n",
    "        # Mostra immagine ridimensionata\n",
    "        plt.subplot(1, 3, 2)\n",
    "        plt.imshow(cv2.cvtColor(resized_img, cv2.COLOR_BGR2RGB))\n",
    "        plt.title(f\"Immagine Ridimensionata - Classe {class_idx}\")\n",
    "        plt.axis('off')\n",
    "\n",
    "        # Mostra immagine sovrapposta con heatmap\n",
    "        plt.subplot(1, 3, 3)\n",
    "        plt.imshow(cv2.cvtColor(superimposed_img, cv2.COLOR_BGR2RGB))\n",
    "        plt.title(f\"Heatmap Sovrapposta - Classe {class_idx}\")\n",
    "        plt.axis('off')\n",
    "\n",
    "        # Mostra il grafico\n",
    "        plt.show()\n",
    "\n",
    "# Generazione heatmap per ciascuna classe\n",
    "num_classes = 3  # Numero di classi nel dataset\n",
    "num_samples_per_class = 10  # Numero di immagini per classe\n",
    "heatmaps_by_class = generate_class_heatmaps(model, dataset, num_classes, num_samples_per_class)\n",
    "\n",
    "# Visualizzazione heatmap aggregate\n",
    "plot_heatmaps_with_comparison(heatmaps_by_class, dataset)\n"
   ]
  }
 ],
 "metadata": {
  "kernelspec": {
   "display_name": "Python 3",
   "language": "python",
   "name": "python3"
  },
  "language_info": {
   "codemirror_mode": {
    "name": "ipython",
    "version": 3
   },
   "file_extension": ".py",
   "mimetype": "text/x-python",
   "name": "python",
   "nbconvert_exporter": "python",
   "pygments_lexer": "ipython3",
   "version": "3.10.12"
  }
 },
 "nbformat": 4,
 "nbformat_minor": 2
}
