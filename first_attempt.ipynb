{
 "cells": [
  {
   "cell_type": "code",
   "execution_count": 12,
   "metadata": {},
   "outputs": [
    {
     "name": "stdout",
     "output_type": "stream",
     "text": [
      "Class to index mapping: {'Apple___Apple_scab': 0, 'Apple___Black_rot': 1, 'Apple___Cedar_apple_rust': 2, 'Apple___healthy': 3, 'Blueberry___healthy': 4, 'Cherry_(including_sour)___Powdery_mildew': 5, 'Cherry_(including_sour)___healthy': 6, 'Corn_(maize)___Cercospora_leaf_spot Gray_leaf_spot': 7, 'Corn_(maize)___Common_rust_': 8, 'Corn_(maize)___Northern_Leaf_Blight': 9, 'Corn_(maize)___healthy': 10, 'Grape___Black_rot': 11, 'Grape___Esca_(Black_Measles)': 12, 'Grape___Leaf_blight_(Isariopsis_Leaf_Spot)': 13, 'Grape___healthy': 14, 'Orange___Haunglongbing_(Citrus_greening)': 15, 'Peach___Bacterial_spot': 16, 'Peach___healthy': 17, 'Pepper,_bell___Bacterial_spot': 18, 'Pepper,_bell___healthy': 19, 'Potato___Early_blight': 20, 'Potato___Late_blight': 21, 'Potato___healthy': 22, 'Raspberry___healthy': 23, 'Soybean___healthy': 24, 'Squash___Powdery_mildew': 25, 'Strawberry___Leaf_scorch': 26, 'Strawberry___healthy': 27, 'Tomato___Bacterial_spot': 28, 'Tomato___Early_blight': 29, 'Tomato___Late_blight': 30, 'Tomato___Leaf_Mold': 31, 'Tomato___Septoria_leaf_spot': 32, 'Tomato___Spider_mites Two-spotted_spider_mite': 33, 'Tomato___Target_Spot': 34, 'Tomato___Tomato_Yellow_Leaf_Curl_Virus': 35, 'Tomato___Tomato_mosaic_virus': 36, 'Tomato___healthy': 37}\n",
      "                                                Class  Count\n",
      "0                                    Potato___healthy    121\n",
      "1                            Apple___Cedar_apple_rust    220\n",
      "2                                     Peach___healthy    288\n",
      "3                                 Raspberry___healthy    297\n",
      "4                        Tomato___Tomato_mosaic_virus    299\n",
      "5                                     Grape___healthy    339\n",
      "6                                Strawberry___healthy    364\n",
      "7   Corn_(maize)___Cercospora_leaf_spot Gray_leaf_...    410\n",
      "8                                   Apple___Black_rot    496\n",
      "9                                  Apple___Apple_scab    504\n",
      "10                  Cherry_(including_sour)___healthy    684\n",
      "11                                 Tomato___Leaf_Mold    761\n",
      "12                Corn_(maize)___Northern_Leaf_Blight    788\n",
      "13                      Pepper,_bell___Bacterial_spot    797\n",
      "14                               Potato___Late_blight    800\n",
      "15                              Tomato___Early_blight    800\n",
      "16                              Potato___Early_blight    800\n",
      "17           Cherry_(including_sour)___Powdery_mildew    842\n",
      "18         Grape___Leaf_blight_(Isariopsis_Leaf_Spot)    861\n",
      "19                           Strawberry___Leaf_scorch    887\n",
      "20                             Corn_(maize)___healthy    929\n",
      "21                                  Grape___Black_rot    944\n",
      "22                        Corn_(maize)___Common_rust_    953\n",
      "23                       Grape___Esca_(Black_Measles)   1107\n",
      "24                               Tomato___Target_Spot   1123\n",
      "25                             Pepper,_bell___healthy   1183\n",
      "26                                Blueberry___healthy   1202\n",
      "27                                   Tomato___healthy   1273\n",
      "28                                    Apple___healthy   1316\n",
      "29      Tomato___Spider_mites Two-spotted_spider_mite   1341\n",
      "30                        Tomato___Septoria_leaf_spot   1417\n",
      "31                            Squash___Powdery_mildew   1468\n",
      "32                               Tomato___Late_blight   1527\n",
      "33                            Tomato___Bacterial_spot   1702\n",
      "34                             Peach___Bacterial_spot   1838\n",
      "35                                  Soybean___healthy   4072\n",
      "36             Tomato___Tomato_Yellow_Leaf_Curl_Virus   4286\n",
      "37           Orange___Haunglongbing_(Citrus_greening)   4405\n"
     ]
    }
   ],
   "source": [
    "from tqdm import tqdm\n",
    "import os\n",
    "import numpy as np\n",
    "import pandas as pd\n",
    "import matplotlib.pyplot as plt\n",
    "from collections import Counter\n",
    "from torchvision import datasets, transforms\n",
    "from torch.utils.data import DataLoader, random_split\n",
    "\n",
    "# Define transformations for your dataset\n",
    "image_width = 32\n",
    "transform = transforms.Compose([\n",
    "    transforms.Resize((image_width, image_width)),  # Resize all images to 128x128\n",
    "    transforms.ToTensor(),          # Convert images to PyTorch tensors\n",
    "    transforms.Normalize(mean=[0.5, 0.5, 0.5], std=[0.5, 0.5, 0.5])  # Normalize to [-1, 1]\n",
    "])\n",
    "\n",
    "# Load train dataset\n",
    "train_path = os.path.join('PlantVillage', 'train')\n",
    "train_dataset = datasets.ImageFolder(root=train_path, transform=transform)\n",
    "\n",
    "# Load val dataset\n",
    "val_path = os.path.join('PlantVillage', 'val')\n",
    "val_dataset = datasets.ImageFolder(root=val_path, transform=transform)\n",
    "\n",
    "# Split val dataset into val and test\n",
    "test_split = 0.5  # Use 50% of the current val set as the test set\n",
    "test_size = int(test_split * len(val_dataset))\n",
    "val_size = len(val_dataset) - test_size\n",
    "\n",
    "val_dataset, test_dataset = random_split(val_dataset, [val_size, test_size])\n",
    "\n",
    "# Create DataLoaders for train, val, and test datasets\n",
    "batch_size = 32\n",
    "\n",
    "train_loader = DataLoader(train_dataset, batch_size=batch_size, shuffle=True, num_workers=4)\n",
    "val_loader = DataLoader(val_dataset, batch_size=batch_size, shuffle=False, num_workers=4)\n",
    "test_loader = DataLoader(test_dataset, batch_size=batch_size, shuffle=False, num_workers=4)\n",
    "\n",
    "# Function to count class instances with a progress bar\n",
    "def count_classes(dataset):\n",
    "    class_counter = Counter()\n",
    "    for _, label in tqdm(dataset, desc=\"Counting classes\"):\n",
    "        class_counter[label] += 1\n",
    "    return class_counter\n",
    "\n",
    "# Access class-to-index mapping\n",
    "class_to_idx = train_dataset.class_to_idx\n",
    "print(\"Class to index mapping:\", class_to_idx)\n",
    "\n",
    "def count_classes_in_folders(dataset_path):\n",
    "    \"\"\"\n",
    "    Count the number of items in each class folder in the dataset.\n",
    "    \"\"\"\n",
    "    class_counts = {}\n",
    "    for class_name in os.listdir(dataset_path):\n",
    "        class_folder = os.path.join(dataset_path, class_name)\n",
    "        if os.path.isdir(class_folder):  # Ensure it's a directory\n",
    "            class_counts[class_name] = len(os.listdir(class_folder))\n",
    "    return class_counts\n",
    "\n",
    "# Count classes\n",
    "train_class_counts = count_classes_in_folders(train_path)\n",
    "\n",
    "# Create a DataFrame from the train_class_counts dictionary\n",
    "class_df = pd.DataFrame(list(train_class_counts.items()), columns=[\"Class\", \"Count\"])\n",
    "\n",
    "# Sort the DataFrame by 'Count' in ascending order\n",
    "class_df_sorted = class_df.sort_values(by=\"Count\", ascending=True).reset_index(drop=True)\n",
    "\n",
    "# Print the sorted DataFrame\n",
    "print(class_df_sorted)"
   ]
  },
  {
   "cell_type": "code",
   "execution_count": 10,
   "metadata": {},
   "outputs": [
    {
     "name": "stdout",
     "output_type": "stream",
     "text": [
      "Class names: ['Apple___Apple_scab', 'Apple___Black_rot', 'Apple___Cedar_apple_rust', 'Apple___healthy', 'Blueberry___healthy', 'Cherry_(including_sour)___Powdery_mildew', 'Cherry_(including_sour)___healthy', 'Corn_(maize)___Cercospora_leaf_spot Gray_leaf_spot', 'Corn_(maize)___Common_rust_', 'Corn_(maize)___Northern_Leaf_Blight', 'Corn_(maize)___healthy', 'Grape___Black_rot', 'Grape___Esca_(Black_Measles)', 'Grape___Leaf_blight_(Isariopsis_Leaf_Spot)', 'Grape___healthy', 'Orange___Haunglongbing_(Citrus_greening)', 'Peach___Bacterial_spot', 'Peach___healthy', 'Pepper,_bell___Bacterial_spot', 'Pepper,_bell___healthy', 'Potato___Early_blight', 'Potato___Late_blight', 'Potato___healthy', 'Raspberry___healthy', 'Soybean___healthy', 'Squash___Powdery_mildew', 'Strawberry___Leaf_scorch', 'Strawberry___healthy', 'Tomato___Bacterial_spot', 'Tomato___Early_blight', 'Tomato___Late_blight', 'Tomato___Leaf_Mold', 'Tomato___Septoria_leaf_spot', 'Tomato___Spider_mites Two-spotted_spider_mite', 'Tomato___Target_Spot', 'Tomato___Tomato_Yellow_Leaf_Curl_Virus', 'Tomato___Tomato_mosaic_virus', 'Tomato___healthy']\n"
     ]
    }
   ],
   "source": [
    "class_names = [name for name in train_dataset.classes]\n",
    "print(\"Class names:\", class_names)\n"
   ]
  },
  {
   "cell_type": "code",
   "execution_count": null,
   "metadata": {},
   "outputs": [
    {
     "name": "stderr",
     "output_type": "stream",
     "text": [
      "Epoch 1/10: 100%|██████████| 1358/1358 [01:43<00:00, 13.13batch/s, loss=0.997]\n"
     ]
    },
    {
     "name": "stdout",
     "output_type": "stream",
     "text": [
      "Epoch 1, Average Loss: 1.3131740384231787\n",
      "Validation Accuracy: 80.94%\n"
     ]
    },
    {
     "name": "stderr",
     "output_type": "stream",
     "text": [
      "Epoch 2/10: 100%|██████████| 1358/1358 [02:15<00:00, 10.02batch/s, loss=0.446]\n"
     ]
    },
    {
     "name": "stdout",
     "output_type": "stream",
     "text": [
      "Epoch 2, Average Loss: 0.6891044465076063\n",
      "Validation Accuracy: 85.75%\n"
     ]
    },
    {
     "name": "stderr",
     "output_type": "stream",
     "text": [
      "Epoch 3/10: 100%|██████████| 1358/1358 [01:46<00:00, 12.71batch/s, loss=0.682] \n"
     ]
    },
    {
     "name": "stdout",
     "output_type": "stream",
     "text": [
      "Epoch 3, Average Loss: 0.5300986022964141\n",
      "Validation Accuracy: 88.09%\n"
     ]
    },
    {
     "name": "stderr",
     "output_type": "stream",
     "text": [
      "Epoch 4/10: 100%|██████████| 1358/1358 [02:03<00:00, 11.02batch/s, loss=0.368] \n"
     ]
    },
    {
     "name": "stdout",
     "output_type": "stream",
     "text": [
      "Epoch 4, Average Loss: 0.4394156155347912\n",
      "Validation Accuracy: 90.83%\n"
     ]
    },
    {
     "name": "stderr",
     "output_type": "stream",
     "text": [
      "Epoch 5/10: 100%|██████████| 1358/1358 [01:51<00:00, 12.20batch/s, loss=0.173] \n"
     ]
    },
    {
     "name": "stdout",
     "output_type": "stream",
     "text": [
      "Epoch 5, Average Loss: 0.3728049454746963\n",
      "Validation Accuracy: 90.74%\n"
     ]
    },
    {
     "name": "stderr",
     "output_type": "stream",
     "text": [
      "Epoch 6/10: 100%|██████████| 1358/1358 [04:03<00:00,  5.59batch/s, loss=0.483] \n"
     ]
    },
    {
     "name": "stdout",
     "output_type": "stream",
     "text": [
      "Epoch 6, Average Loss: 0.3325787985036273\n",
      "Validation Accuracy: 91.81%\n"
     ]
    },
    {
     "name": "stderr",
     "output_type": "stream",
     "text": [
      "Epoch 7/10:   0%|          | 0/1358 [00:00<?, ?batch/s]"
     ]
    }
   ],
   "source": [
    "import torch\n",
    "import torch.nn as nn\n",
    "import torch.optim as optim\n",
    "\n",
    "# Example CNN model\n",
    "class SimpleCNN(nn.Module):\n",
    "    def __init__(self, num_classes, image_width):\n",
    "        super(SimpleCNN, self).__init__()  # Call the parent class constructor\n",
    "        self.features = nn.Sequential(\n",
    "            nn.Conv2d(3, 16, kernel_size=3, stride=1, padding=1),\n",
    "            nn.ReLU(),\n",
    "            nn.MaxPool2d(kernel_size=2, stride=2),\n",
    "            \n",
    "            nn.Conv2d(16, 32, kernel_size=3, stride=1, padding=1),\n",
    "            nn.ReLU(),\n",
    "            nn.MaxPool2d(kernel_size=2, stride=2),\n",
    "\n",
    "            # nn.Conv2d(35, 60, kernel_size=3, stride=1, padding=1),\n",
    "            # nn.BatchNorm2d(60),\n",
    "            # nn.ReLU(),\n",
    "            # nn.MaxPool2d(kernel_size=2, stride=2),\n",
    "            \n",
    "            nn.Dropout(0.20)\n",
    "        )\n",
    "        self.classifier = nn.Sequential(\n",
    "            nn.Linear(32 * (image_width//4)**2, 512),\n",
    "            nn.ReLU(),\n",
    "            nn.Dropout(0.45),\n",
    "            nn.Linear(512, num_classes)\n",
    "        )\n",
    "\n",
    "\n",
    "    \n",
    "    def forward(self, x):\n",
    "        x = self.features(x)\n",
    "        x = x.view(x.size(0), -1)  # Flatten\n",
    "        x = self.classifier(x)\n",
    "        return x\n",
    "\n",
    "\n",
    "# Model, loss function, optimizer\n",
    "device = torch.device('cuda' if torch.cuda.is_available() else 'cpu')  # Use GPU if available\n",
    "num_classes = len(train_dataset.classes)\n",
    "model = SimpleCNN(num_classes=num_classes, image_width=image_width).to(device)  # Move model to device\n",
    "criterion = nn.CrossEntropyLoss()\n",
    "optimizer = optim.Adam(model.parameters(), lr=0.001)\n",
    "\n",
    "# Early stopping parameters\n",
    "patience = 3  # Number of epochs to wait for improvement before stopping\n",
    "best_val_loss = float('inf')  # Initialize the best validation loss as infinity\n",
    "epochs_without_improvement = 0  # Counter for epochs without improvement\n",
    "\n",
    "# Training loop\n",
    "for epoch in range(10):  # 10 epochs\n",
    "    model.train()\n",
    "    running_loss = 0.0\n",
    "    train_loader = tqdm(train_loader, desc=f\"Epoch {epoch+1}/{10}\", unit=\"batch\")  # Add tqdm to training loop\n",
    "    \n",
    "    for images, labels in train_loader:\n",
    "        images, labels = images.to(device), labels.to(device)  # Move data to device\n",
    "        optimizer.zero_grad()\n",
    "        outputs = model(images)\n",
    "        loss = criterion(outputs, labels)\n",
    "        loss.backward()\n",
    "        optimizer.step()\n",
    "        running_loss += loss.item()\n",
    "        train_loader.set_postfix(loss=loss.item())  # Update tqdm progress bar with current loss\n",
    "    \n",
    "    print(f\"Epoch {epoch+1}, Average Loss: {running_loss / len(train_loader)}\")\n",
    "\n",
    "    # Evaluate on the validation dataset\n",
    "    model.eval()\n",
    "    correct = 0\n",
    "    total = 0\n",
    "    val_loss = 0.0\n",
    "    with torch.no_grad():  # Disable gradient computation during evaluation\n",
    "        for images, labels in val_loader:  # Assuming val_loader is the DataLoader for the test/validation set\n",
    "            images, labels = images.to(device), labels.to(device)\n",
    "            outputs = model(images)\n",
    "            loss = criterion(outputs, labels)\n",
    "            val_loss += loss.item()\n",
    "            \n",
    "            _, predicted = torch.max(outputs, 1)\n",
    "            total += labels.size(0)\n",
    "            correct += (predicted == labels).sum().item()\n",
    "    \n",
    "    avg_val_loss = val_loss / len(val_loader)\n",
    "    accuracy = 100 * correct / total\n",
    "    print(f\"Validation Accuracy: {accuracy:.2f}%\")\n",
    "    print(f\"Validation Loss: {avg_val_loss:.4f}\")\n",
    "    \n",
    "    # Check for early stopping\n",
    "    if avg_val_loss < best_val_loss:\n",
    "        best_val_loss = avg_val_loss\n",
    "        epochs_without_improvement = 0  # Reset counter\n",
    "    else:\n",
    "        epochs_without_improvement += 1\n",
    "        if epochs_without_improvement >= patience:\n",
    "            print(f\"Early stopping triggered after {epoch+1} epochs.\")\n",
    "            break"
   ]
  },
  {
   "cell_type": "code",
   "execution_count": null,
   "metadata": {},
   "outputs": [
    {
     "name": "stderr",
     "output_type": "stream",
     "text": [
      "Testing: 100%|██████████| 65/65 [00:41<00:00,  1.56batch/s, accuracy=93.1]"
     ]
    },
    {
     "name": "stdout",
     "output_type": "stream",
     "text": [
      "\n",
      "Test Accuracy: 93.07%\n"
     ]
    },
    {
     "name": "stderr",
     "output_type": "stream",
     "text": [
      "\n"
     ]
    }
   ],
   "source": [
    "from sklearn.metrics import f1_score\n",
    "\n",
    "# Evaluate on the test dataset with tqdm\n",
    "model.eval()\n",
    "correct = 0\n",
    "total = 0\n",
    "all_labels = []  # To store true labels\n",
    "all_preds = []   # To store predicted labels\n",
    "test_loader = tqdm(test_loader, desc=\"Testing\", unit=\"batch\")  # Add tqdm for the test loop\n",
    "\n",
    "with torch.no_grad():  # Disable gradient computation during evaluation\n",
    "    for images, labels in test_loader:  # Loop through test dataset\n",
    "        images, labels = images.to(device), labels.to(device)\n",
    "        outputs = model(images)\n",
    "        _, predicted = torch.max(outputs, 1)\n",
    "        total += labels.size(0)\n",
    "        correct += (predicted == labels).sum().item()\n",
    "        \n",
    "        all_labels.extend(labels.cpu().numpy())  # Append true labels\n",
    "        all_preds.extend(predicted.cpu().numpy())  # Append predicted labels\n",
    "        \n",
    "        # Update tqdm bar with current accuracy\n",
    "        test_loader.set_postfix(accuracy=(100 * correct / total))  \n",
    "\n",
    "# Compute test accuracy\n",
    "test_accuracy = 100 * correct / total\n",
    "\n",
    "# Compute F1 score for the whole dataset\n",
    "f1 = f1_score(all_labels, all_preds, average='weighted')  # You can also use 'macro' or 'micro' as needed\n",
    "\n",
    "print(f\"\\nTest Accuracy: {test_accuracy:.2f}%\")\n",
    "print(f\"Test F1 Score (Weighted): {f1:.4f}\")"
   ]
  },
  {
   "cell_type": "code",
   "execution_count": null,
   "metadata": {},
   "outputs": [],
   "source": []
  }
 ],
 "metadata": {
  "kernelspec": {
   "display_name": "base",
   "language": "python",
   "name": "python3"
  },
  "language_info": {
   "codemirror_mode": {
    "name": "ipython",
    "version": 3
   },
   "file_extension": ".py",
   "mimetype": "text/x-python",
   "name": "python",
   "nbconvert_exporter": "python",
   "pygments_lexer": "ipython3",
   "version": "3.12.4"
  }
 },
 "nbformat": 4,
 "nbformat_minor": 2
}
