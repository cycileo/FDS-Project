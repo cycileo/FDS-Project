{
 "cells": [
  {
   "cell_type": "code",
   "execution_count": 1,
   "metadata": {},
   "outputs": [],
   "source": [
    "import os\n",
    "import numpy as np\n",
    "import pandas as pd\n",
    "import matplotlib.pyplot as plt\n",
    "import torch"
   ]
  },
  {
   "cell_type": "markdown",
   "metadata": {},
   "source": [
    "### **Download Dataset**"
   ]
  },
  {
   "cell_type": "code",
   "execution_count": 2,
   "metadata": {},
   "outputs": [],
   "source": [
    "import os\n",
    "from functions import download_and_extract_zip\n",
    "\n",
    "# URL of the zip file on Google Drive\n",
    "url = 'https://drive.google.com/file/d/1iePsqUVQjv_fVZQzFy7pntcTUtGmb_wx/view?usp=sharing'\n",
    "\n",
    "# Check if the 'PlantVillage' folder exists\n",
    "if not os.path.exists('PlantVillage') or not os.listdir('PlantVillage'):\n",
    "    download_and_extract_zip(url)"
   ]
  },
  {
   "cell_type": "markdown",
   "metadata": {},
   "source": [
    "# **Training and evaluating Models**"
   ]
  },
  {
   "cell_type": "code",
   "execution_count": 16,
   "metadata": {},
   "outputs": [],
   "source": [
    "import importlib\n",
    "import model_fun\n",
    "importlib.reload(model_fun); "
   ]
  },
  {
   "cell_type": "code",
   "execution_count": 18,
   "metadata": {},
   "outputs": [],
   "source": [
    "from model_fun import load_data, SimpleCNN, train_model, evaluate_model, load_model\n",
    "\n",
    "device = torch.device('cuda' if torch.cuda.is_available() else 'cpu')  # Use GPU if available\n",
    "num_classes = 38"
   ]
  },
  {
   "cell_type": "code",
   "execution_count": 19,
   "metadata": {},
   "outputs": [
    {
     "name": "stderr",
     "output_type": "stream",
     "text": [
      "Epoch 1/50: 100%|██████████| 1358/1358 [01:36<00:00, 14.12batch/s, loss=0.865]\n"
     ]
    },
    {
     "name": "stdout",
     "output_type": "stream",
     "text": [
      "Epoch 1, Average Loss: 1.5623\n",
      "Validation Accuracy: 76.54%\n",
      "Validation Loss: 0.7721\n"
     ]
    },
    {
     "name": "stderr",
     "output_type": "stream",
     "text": [
      "Epoch 2/50: 100%|██████████| 1358/1358 [01:36<00:00, 14.14batch/s, loss=0.218]\n"
     ]
    },
    {
     "name": "stdout",
     "output_type": "stream",
     "text": [
      "Epoch 2, Average Loss: 0.5667\n",
      "Validation Accuracy: 87.96%\n",
      "Validation Loss: 0.3880\n"
     ]
    },
    {
     "name": "stderr",
     "output_type": "stream",
     "text": [
      "Epoch 3/50: 100%|██████████| 1358/1358 [01:36<00:00, 14.08batch/s, loss=0.0993]\n"
     ]
    },
    {
     "name": "stdout",
     "output_type": "stream",
     "text": [
      "Epoch 3, Average Loss: 0.3451\n",
      "Validation Accuracy: 91.03%\n",
      "Validation Loss: 0.2892\n"
     ]
    },
    {
     "name": "stderr",
     "output_type": "stream",
     "text": [
      "Epoch 4/50: 100%|██████████| 1358/1358 [01:36<00:00, 14.10batch/s, loss=0.0271]\n"
     ]
    },
    {
     "name": "stdout",
     "output_type": "stream",
     "text": [
      "Epoch 4, Average Loss: 0.2617\n",
      "Validation Accuracy: 91.14%\n",
      "Validation Loss: 0.3022\n"
     ]
    },
    {
     "name": "stderr",
     "output_type": "stream",
     "text": [
      "Epoch 5/50: 100%|██████████| 1358/1358 [01:36<00:00, 14.12batch/s, loss=0.103]  \n"
     ]
    },
    {
     "name": "stdout",
     "output_type": "stream",
     "text": [
      "Epoch 5, Average Loss: 0.2084\n",
      "Validation Accuracy: 91.51%\n",
      "Validation Loss: 0.3051\n"
     ]
    },
    {
     "name": "stderr",
     "output_type": "stream",
     "text": [
      "Epoch 6/50: 100%|██████████| 1358/1358 [01:34<00:00, 14.44batch/s, loss=0.107]  \n"
     ]
    },
    {
     "name": "stdout",
     "output_type": "stream",
     "text": [
      "Epoch 6, Average Loss: 0.1807\n",
      "Validation Accuracy: 93.25%\n",
      "Validation Loss: 0.2502\n"
     ]
    },
    {
     "name": "stderr",
     "output_type": "stream",
     "text": [
      "Epoch 7/50: 100%|██████████| 1358/1358 [01:37<00:00, 13.89batch/s, loss=0.028]  \n"
     ]
    },
    {
     "name": "stdout",
     "output_type": "stream",
     "text": [
      "Epoch 7, Average Loss: 0.1656\n",
      "Validation Accuracy: 93.16%\n",
      "Validation Loss: 0.2465\n"
     ]
    },
    {
     "name": "stderr",
     "output_type": "stream",
     "text": [
      "Epoch 8/50: 100%|██████████| 1358/1358 [01:36<00:00, 14.06batch/s, loss=0.436]   \n"
     ]
    },
    {
     "name": "stdout",
     "output_type": "stream",
     "text": [
      "Epoch 8, Average Loss: 0.1313\n",
      "Validation Accuracy: 91.23%\n",
      "Validation Loss: 0.3935\n"
     ]
    },
    {
     "name": "stderr",
     "output_type": "stream",
     "text": [
      "Epoch 9/50: 100%|██████████| 1358/1358 [01:36<00:00, 14.03batch/s, loss=0.88]   \n"
     ]
    },
    {
     "name": "stdout",
     "output_type": "stream",
     "text": [
      "Epoch 9, Average Loss: 0.1352\n",
      "Validation Accuracy: 93.23%\n",
      "Validation Loss: 0.2614\n"
     ]
    },
    {
     "name": "stderr",
     "output_type": "stream",
     "text": [
      "Epoch 10/50: 100%|██████████| 1358/1358 [01:36<00:00, 14.14batch/s, loss=0.425]   \n"
     ]
    },
    {
     "name": "stdout",
     "output_type": "stream",
     "text": [
      "Epoch 10, Average Loss: 0.1194\n",
      "Validation Accuracy: 92.74%\n",
      "Validation Loss: 0.2983\n"
     ]
    },
    {
     "name": "stderr",
     "output_type": "stream",
     "text": [
      "Epoch 11/50: 100%|██████████| 1358/1358 [01:36<00:00, 14.10batch/s, loss=0.0637]  \n"
     ]
    },
    {
     "name": "stdout",
     "output_type": "stream",
     "text": [
      "Epoch 11, Average Loss: 0.1151\n",
      "Validation Accuracy: 94.01%\n",
      "Validation Loss: 0.2773\n"
     ]
    },
    {
     "name": "stderr",
     "output_type": "stream",
     "text": [
      "Epoch 12/50: 100%|██████████| 1358/1358 [01:37<00:00, 13.99batch/s, loss=0.00194] \n"
     ]
    },
    {
     "name": "stdout",
     "output_type": "stream",
     "text": [
      "Epoch 12, Average Loss: 0.1084\n",
      "Validation Accuracy: 94.28%\n",
      "Validation Loss: 0.2484\n",
      "Early stopping triggered after 12 epochs.\n"
     ]
    }
   ],
   "source": [
    "image_width = 32\n",
    "train_loader, val_loader, test_loader, class_names = load_data(image_width)\n",
    "\n",
    "model = SimpleCNN(num_classes, image_width, num_layers=5, first_layer_filters=64).to(device)  # Move model to device\n",
    "\n",
    "train_model(model, num_classes, train_loader, val_loader, epoch = 50)"
   ]
  },
  {
   "cell_type": "code",
   "execution_count": 20,
   "metadata": {},
   "outputs": [
    {
     "name": "stdout",
     "output_type": "stream",
     "text": [
      "F1 Score: 0.9475\n",
      "Accuracy: 0.9478\n"
     ]
    }
   ],
   "source": [
    "cm, report = evaluate_model(model, test_loader, class_names)\n",
    "\n",
    "f1 = report['weighted avg']['f1-score']\n",
    "accuracy = report['accuracy']\n",
    "\n",
    "print(f\"F1 Score: {f1:.4f}\")\n",
    "print(f\"Accuracy: {accuracy:.4f}\")"
   ]
  },
  {
   "cell_type": "markdown",
   "metadata": {},
   "source": [
    "## **Finding best hyperparameters**"
   ]
  },
  {
   "cell_type": "code",
   "execution_count": 21,
   "metadata": {},
   "outputs": [],
   "source": [
    "from itertools import product\n",
    "\n",
    "# Parametri da testare\n",
    "image_sizes = [32]\n",
    "layers = [2, 3, 4, 5]\n",
    "first_layer_filters = [8, 16, 32, 64]\n",
    "\n",
    "# Combinazioni di parametri\n",
    "parameter_combinations = list(product(image_sizes, layers, first_layer_filters))"
   ]
  },
  {
   "cell_type": "code",
   "execution_count": null,
   "metadata": {},
   "outputs": [
    {
     "name": "stdout",
     "output_type": "stream",
     "text": [
      "\n",
      "\n",
      "--Testing configuration: image_size=32, layers=2, first_layer_filters=8\n"
     ]
    },
    {
     "name": "stderr",
     "output_type": "stream",
     "text": [
      "Epoch 1/50: 100%|██████████| 1358/1358 [00:45<00:00, 29.76batch/s, loss=0.858]\n"
     ]
    },
    {
     "name": "stdout",
     "output_type": "stream",
     "text": [
      "Epoch 1, Average Loss: 1.4828\n",
      "Validation Accuracy: 75.53%\n",
      "Validation Loss: 0.8019\n"
     ]
    },
    {
     "name": "stderr",
     "output_type": "stream",
     "text": [
      "Epoch 2/50:  96%|█████████▌| 1303/1358 [00:44<00:01, 47.07batch/s, loss=0.922]"
     ]
    }
   ],
   "source": [
    "results = []  # Per salvare i risultati\n",
    "\n",
    "for image_size, num_layers, first_layer_filters in parameter_combinations:\n",
    "    \n",
    "    print(f\"\\n\\n--Testing configuration: image_size={image_size}, layers={num_layers}, first_layer_filters={first_layer_filters}\")\n",
    "    \n",
    "    train_loader, val_loader, test_loader, class_names = load_data(image_width)\n",
    "\n",
    "    model = SimpleCNN(num_classes, image_width, num_layers, first_layer_filters).to(device)  # Move model to device\n",
    "\n",
    "    train_model(model, num_classes, train_loader, val_loader, epoch = 50)\n",
    "\n",
    "    # Valuta il modello\n",
    "    cm, report = evaluate_model(model, val_loader, class_names)\n",
    "\n",
    "    # Salva i risultati\n",
    "    results.append({\n",
    "        \"image_size\": image_size,\n",
    "        \"num_layers\": num_layers,\n",
    "        \"first_layer_filters\": first_layer_filters,\n",
    "        \"confusion_matrix\": cm,\n",
    "        \"classification_report\": report\n",
    "    })"
   ]
  },
  {
   "cell_type": "markdown",
   "metadata": {},
   "source": [
    "## **Model trained on downscaled images vs fullscaled**"
   ]
  },
  {
   "cell_type": "code",
   "execution_count": null,
   "metadata": {},
   "outputs": [
    {
     "name": "stdout",
     "output_type": "stream",
     "text": [
      "F1 Score with downscaled images (32x32): 0.9602\n"
     ]
    }
   ],
   "source": [
    "model = load_model('plant_disease_model_32_3layer_32initial.pth', num_classes, image_width=32, num_layers=3, first_layer_filters=32)\n",
    "train_loader, val_loader, test_loader, class_names = load_data(32)\n",
    "\n",
    "_, report = evaluate_model(model, test_loader, class_names)\n",
    "\n",
    "f1 = report['weighted avg']['f1-score']\n",
    "\n",
    "print(f\"F1 Score with downscaled images (32x32): {f1:.4f}\")"
   ]
  },
  {
   "cell_type": "code",
   "execution_count": null,
   "metadata": {},
   "outputs": [],
   "source": [
    "model = load_model('?', num_classes, image_width=256, num_layers=3, first_layer_filters=32)\n",
    "train_loader, val_loader, test_loader, class_names = load_data(256)\n",
    "\n",
    "_, report = evaluate_model(model, test_loader, class_names)\n",
    "f1 = report['weighted avg']['f1-score']\n",
    "\n",
    "print(f\"F1 Score with original images: {f1}\")"
   ]
  },
  {
   "cell_type": "markdown",
   "metadata": {},
   "source": [
    "## **Analysis of mismatched classes**"
   ]
  },
  {
   "cell_type": "code",
   "execution_count": null,
   "metadata": {},
   "outputs": [],
   "source": []
  },
  {
   "cell_type": "markdown",
   "metadata": {},
   "source": [
    "## **Heat Map**"
   ]
  },
  {
   "cell_type": "code",
   "execution_count": null,
   "metadata": {},
   "outputs": [],
   "source": []
  },
  {
   "cell_type": "markdown",
   "metadata": {},
   "source": [
    "## **Multilabel test with missing classes**"
   ]
  },
  {
   "cell_type": "code",
   "execution_count": null,
   "metadata": {},
   "outputs": [],
   "source": []
  },
  {
   "cell_type": "markdown",
   "metadata": {},
   "source": [
    "## **Test on real Dataset**"
   ]
  },
  {
   "cell_type": "markdown",
   "metadata": {},
   "source": []
  }
 ],
 "metadata": {
  "kernelspec": {
   "display_name": "base",
   "language": "python",
   "name": "python3"
  },
  "language_info": {
   "codemirror_mode": {
    "name": "ipython",
    "version": 3
   },
   "file_extension": ".py",
   "mimetype": "text/x-python",
   "name": "python",
   "nbconvert_exporter": "python",
   "pygments_lexer": "ipython3",
   "version": "3.12.7"
  }
 },
 "nbformat": 4,
 "nbformat_minor": 2
}
