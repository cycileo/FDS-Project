{
 "cells": [
  {
   "cell_type": "code",
   "execution_count": 1,
   "metadata": {},
   "outputs": [],
   "source": [
    "import os\n",
    "import numpy as np\n",
    "import pandas as pd\n",
    "import matplotlib.pyplot as plt\n",
    "import torch"
   ]
  },
  {
   "cell_type": "markdown",
   "metadata": {},
   "source": [
    "### **Download Dataset**"
   ]
  },
  {
   "cell_type": "code",
   "execution_count": 6,
   "metadata": {},
   "outputs": [
    {
     "name": "stderr",
     "output_type": "stream",
     "text": [
      "Downloading...\n",
      "From (original): https://drive.google.com/uc?id=1iePsqUVQjv_fVZQzFy7pntcTUtGmb_wx\n",
      "From (redirected): https://drive.google.com/uc?id=1iePsqUVQjv_fVZQzFy7pntcTUtGmb_wx&confirm=t&uuid=a525d052-d241-47ca-ae19-7196048c18aa\n",
      "To: /home/alessio/FDS-Project/PlantVillage(split).zip\n",
      "100%|██████████| 855M/855M [00:12<00:00, 66.2MB/s] \n"
     ]
    }
   ],
   "source": [
    "import os\n",
    "from functions import download_and_extract_zip\n",
    "\n",
    "# URL of the zip file on Google Drive\n",
    "url = 'https://drive.google.com/file/d/1iePsqUVQjv_fVZQzFy7pntcTUtGmb_wx/view?usp=sharing'\n",
    "\n",
    "# Check if the 'PlantVillage' folder exists\n",
    "if not os.path.exists('PlantVillage') or not os.listdir('PlantVillage'):\n",
    "    download_and_extract_zip(url)"
   ]
  },
  {
   "cell_type": "markdown",
   "metadata": {},
   "source": [
    "# **Training and evaluating Models**"
   ]
  },
  {
   "cell_type": "code",
   "execution_count": 35,
   "metadata": {},
   "outputs": [],
   "source": [
    "import importlib\n",
    "import model_fun\n",
    "importlib.reload(model_fun); "
   ]
  },
  {
   "cell_type": "code",
   "execution_count": 36,
   "metadata": {},
   "outputs": [],
   "source": [
    "from model_fun import load_data, SimpleCNN, train_model, evaluate_model, load_model\n",
    "\n",
    "device = torch.device('cuda' if torch.cuda.is_available() else 'cpu')  # Use GPU if available\n",
    "num_classes = 38"
   ]
  },
  {
   "cell_type": "code",
   "execution_count": 38,
   "metadata": {},
   "outputs": [
    {
     "name": "stderr",
     "output_type": "stream",
     "text": [
      "Epoch 1/50: 100%|██████████| 1358/1358 [00:11<00:00, 118.78batch/s, loss=0.839]"
     ]
    },
    {
     "name": "stdout",
     "output_type": "stream",
     "text": [
      "Epoch 1, Average Loss: 1.4846\n"
     ]
    },
    {
     "name": "stderr",
     "output_type": "stream",
     "text": [
      "\n"
     ]
    },
    {
     "name": "stdout",
     "output_type": "stream",
     "text": [
      "Validation Accuracy: 75.95%\n",
      "Validation Loss: 0.7882\n"
     ]
    },
    {
     "name": "stderr",
     "output_type": "stream",
     "text": [
      "Epoch 2/50: 100%|██████████| 1358/1358 [00:08<00:00, 156.06batch/s, loss=0.302]"
     ]
    },
    {
     "name": "stdout",
     "output_type": "stream",
     "text": [
      "Epoch 2, Average Loss: 0.8131\n"
     ]
    },
    {
     "name": "stderr",
     "output_type": "stream",
     "text": [
      "\n"
     ]
    },
    {
     "name": "stdout",
     "output_type": "stream",
     "text": [
      "Validation Accuracy: 82.97%\n",
      "Validation Loss: 0.5558\n"
     ]
    },
    {
     "name": "stderr",
     "output_type": "stream",
     "text": [
      "Epoch 3/50: 100%|██████████| 1358/1358 [00:07<00:00, 188.19batch/s, loss=0.393]\n"
     ]
    },
    {
     "name": "stdout",
     "output_type": "stream",
     "text": [
      "Epoch 3, Average Loss: 0.6323\n",
      "Validation Accuracy: 85.93%\n",
      "Validation Loss: 0.4454\n"
     ]
    },
    {
     "name": "stderr",
     "output_type": "stream",
     "text": [
      "Epoch 4/50: 100%|██████████| 1358/1358 [00:08<00:00, 166.82batch/s, loss=0.998]"
     ]
    },
    {
     "name": "stdout",
     "output_type": "stream",
     "text": [
      "Epoch 4, Average Loss: 0.5368\n"
     ]
    },
    {
     "name": "stderr",
     "output_type": "stream",
     "text": [
      "\n"
     ]
    },
    {
     "name": "stdout",
     "output_type": "stream",
     "text": [
      "Validation Accuracy: 88.18%\n",
      "Validation Loss: 0.3712\n"
     ]
    },
    {
     "name": "stderr",
     "output_type": "stream",
     "text": [
      "Epoch 5/50: 100%|██████████| 1358/1358 [00:08<00:00, 166.86batch/s, loss=0.714] "
     ]
    },
    {
     "name": "stdout",
     "output_type": "stream",
     "text": [
      "Epoch 5, Average Loss: 0.4839\n"
     ]
    },
    {
     "name": "stderr",
     "output_type": "stream",
     "text": [
      "\n"
     ]
    },
    {
     "name": "stdout",
     "output_type": "stream",
     "text": [
      "Validation Accuracy: 89.58%\n",
      "Validation Loss: 0.3309\n"
     ]
    },
    {
     "name": "stderr",
     "output_type": "stream",
     "text": [
      "Epoch 6/50: 100%|██████████| 1358/1358 [00:08<00:00, 169.54batch/s, loss=0.47] \n"
     ]
    },
    {
     "name": "stdout",
     "output_type": "stream",
     "text": [
      "Epoch 6, Average Loss: 0.4349\n",
      "Validation Accuracy: 89.91%\n",
      "Validation Loss: 0.3172\n"
     ]
    },
    {
     "name": "stderr",
     "output_type": "stream",
     "text": [
      "Epoch 7/50: 100%|██████████| 1358/1358 [00:07<00:00, 187.61batch/s, loss=0.41]  "
     ]
    },
    {
     "name": "stdout",
     "output_type": "stream",
     "text": [
      "Epoch 7, Average Loss: 0.4050\n"
     ]
    },
    {
     "name": "stderr",
     "output_type": "stream",
     "text": [
      "\n"
     ]
    },
    {
     "name": "stdout",
     "output_type": "stream",
     "text": [
      "Validation Accuracy: 90.84%\n",
      "Validation Loss: 0.2857\n"
     ]
    },
    {
     "name": "stderr",
     "output_type": "stream",
     "text": [
      "Epoch 8/50: 100%|██████████| 1358/1358 [00:07<00:00, 169.85batch/s, loss=0.373] "
     ]
    },
    {
     "name": "stdout",
     "output_type": "stream",
     "text": [
      "Epoch 8, Average Loss: 0.3694\n"
     ]
    },
    {
     "name": "stderr",
     "output_type": "stream",
     "text": [
      "\n"
     ]
    },
    {
     "name": "stdout",
     "output_type": "stream",
     "text": [
      "Validation Accuracy: 90.72%\n",
      "Validation Loss: 0.2821\n"
     ]
    },
    {
     "name": "stderr",
     "output_type": "stream",
     "text": [
      "Epoch 9/50: 100%|██████████| 1358/1358 [00:08<00:00, 168.73batch/s, loss=0.655] "
     ]
    },
    {
     "name": "stdout",
     "output_type": "stream",
     "text": [
      "Epoch 9, Average Loss: 0.3451\n"
     ]
    },
    {
     "name": "stderr",
     "output_type": "stream",
     "text": [
      "\n"
     ]
    },
    {
     "name": "stdout",
     "output_type": "stream",
     "text": [
      "Validation Accuracy: 91.73%\n",
      "Validation Loss: 0.2557\n"
     ]
    },
    {
     "name": "stderr",
     "output_type": "stream",
     "text": [
      "Epoch 10/50: 100%|██████████| 1358/1358 [00:08<00:00, 169.06batch/s, loss=0.454] "
     ]
    },
    {
     "name": "stdout",
     "output_type": "stream",
     "text": [
      "Epoch 10, Average Loss: 0.3280\n"
     ]
    },
    {
     "name": "stderr",
     "output_type": "stream",
     "text": [
      "\n"
     ]
    },
    {
     "name": "stdout",
     "output_type": "stream",
     "text": [
      "Validation Accuracy: 91.67%\n",
      "Validation Loss: 0.2583\n"
     ]
    },
    {
     "name": "stderr",
     "output_type": "stream",
     "text": [
      "Epoch 11/50: 100%|██████████| 1358/1358 [00:08<00:00, 167.55batch/s, loss=0.79]  "
     ]
    },
    {
     "name": "stdout",
     "output_type": "stream",
     "text": [
      "Epoch 11, Average Loss: 0.3142\n"
     ]
    },
    {
     "name": "stderr",
     "output_type": "stream",
     "text": [
      "\n"
     ]
    },
    {
     "name": "stdout",
     "output_type": "stream",
     "text": [
      "Validation Accuracy: 92.39%\n",
      "Validation Loss: 0.2399\n"
     ]
    },
    {
     "name": "stderr",
     "output_type": "stream",
     "text": [
      "Epoch 12/50: 100%|██████████| 1358/1358 [00:07<00:00, 170.35batch/s, loss=0.598] "
     ]
    },
    {
     "name": "stdout",
     "output_type": "stream",
     "text": [
      "Epoch 12, Average Loss: 0.2945\n"
     ]
    },
    {
     "name": "stderr",
     "output_type": "stream",
     "text": [
      "\n"
     ]
    },
    {
     "name": "stdout",
     "output_type": "stream",
     "text": [
      "Validation Accuracy: 92.33%\n",
      "Validation Loss: 0.2371\n"
     ]
    },
    {
     "name": "stderr",
     "output_type": "stream",
     "text": [
      "Epoch 13/50: 100%|██████████| 1358/1358 [00:07<00:00, 174.79batch/s, loss=0.336] "
     ]
    },
    {
     "name": "stdout",
     "output_type": "stream",
     "text": [
      "Epoch 13, Average Loss: 0.2814\n"
     ]
    },
    {
     "name": "stderr",
     "output_type": "stream",
     "text": [
      "\n"
     ]
    },
    {
     "name": "stdout",
     "output_type": "stream",
     "text": [
      "Validation Accuracy: 92.57%\n",
      "Validation Loss: 0.2301\n"
     ]
    },
    {
     "name": "stderr",
     "output_type": "stream",
     "text": [
      "Epoch 14/50: 100%|██████████| 1358/1358 [00:07<00:00, 175.38batch/s, loss=0.194] "
     ]
    },
    {
     "name": "stdout",
     "output_type": "stream",
     "text": [
      "Epoch 14, Average Loss: 0.2754\n"
     ]
    },
    {
     "name": "stderr",
     "output_type": "stream",
     "text": [
      "\n"
     ]
    },
    {
     "name": "stdout",
     "output_type": "stream",
     "text": [
      "Validation Accuracy: 92.65%\n",
      "Validation Loss: 0.2299\n"
     ]
    },
    {
     "name": "stderr",
     "output_type": "stream",
     "text": [
      "Epoch 15/50: 100%|██████████| 1358/1358 [00:07<00:00, 184.09batch/s, loss=0.289] "
     ]
    },
    {
     "name": "stdout",
     "output_type": "stream",
     "text": [
      "Epoch 15, Average Loss: 0.2566\n"
     ]
    },
    {
     "name": "stderr",
     "output_type": "stream",
     "text": [
      "\n"
     ]
    },
    {
     "name": "stdout",
     "output_type": "stream",
     "text": [
      "Validation Accuracy: 93.31%\n",
      "Validation Loss: 0.2086\n"
     ]
    },
    {
     "name": "stderr",
     "output_type": "stream",
     "text": [
      "Epoch 16/50: 100%|██████████| 1358/1358 [00:07<00:00, 171.14batch/s, loss=0.0929]"
     ]
    },
    {
     "name": "stdout",
     "output_type": "stream",
     "text": [
      "Epoch 16, Average Loss: 0.2494\n"
     ]
    },
    {
     "name": "stderr",
     "output_type": "stream",
     "text": [
      "\n"
     ]
    },
    {
     "name": "stdout",
     "output_type": "stream",
     "text": [
      "Validation Accuracy: 93.40%\n",
      "Validation Loss: 0.2144\n"
     ]
    },
    {
     "name": "stderr",
     "output_type": "stream",
     "text": [
      "Epoch 17/50: 100%|██████████| 1358/1358 [00:07<00:00, 175.53batch/s, loss=0.0318]\n"
     ]
    },
    {
     "name": "stdout",
     "output_type": "stream",
     "text": [
      "Epoch 17, Average Loss: 0.2420\n",
      "Validation Accuracy: 93.49%\n",
      "Validation Loss: 0.2022\n"
     ]
    },
    {
     "name": "stderr",
     "output_type": "stream",
     "text": [
      "Epoch 18/50: 100%|██████████| 1358/1358 [00:07<00:00, 172.42batch/s, loss=0.4]   "
     ]
    },
    {
     "name": "stdout",
     "output_type": "stream",
     "text": [
      "Epoch 18, Average Loss: 0.2311\n"
     ]
    },
    {
     "name": "stderr",
     "output_type": "stream",
     "text": [
      "\n"
     ]
    },
    {
     "name": "stdout",
     "output_type": "stream",
     "text": [
      "Validation Accuracy: 93.38%\n",
      "Validation Loss: 0.1959\n"
     ]
    },
    {
     "name": "stderr",
     "output_type": "stream",
     "text": [
      "Epoch 19/50: 100%|██████████| 1358/1358 [00:08<00:00, 167.11batch/s, loss=0.411] \n"
     ]
    },
    {
     "name": "stdout",
     "output_type": "stream",
     "text": [
      "Epoch 19, Average Loss: 0.2220\n",
      "Validation Accuracy: 93.60%\n",
      "Validation Loss: 0.2081\n"
     ]
    },
    {
     "name": "stderr",
     "output_type": "stream",
     "text": [
      "Epoch 20/50: 100%|██████████| 1358/1358 [00:08<00:00, 168.63batch/s, loss=0.16]  \n"
     ]
    },
    {
     "name": "stdout",
     "output_type": "stream",
     "text": [
      "Epoch 20, Average Loss: 0.2162\n",
      "Validation Accuracy: 93.82%\n",
      "Validation Loss: 0.2056\n"
     ]
    },
    {
     "name": "stderr",
     "output_type": "stream",
     "text": [
      "Epoch 21/50: 100%|██████████| 1358/1358 [00:07<00:00, 181.77batch/s, loss=0.218] "
     ]
    },
    {
     "name": "stdout",
     "output_type": "stream",
     "text": [
      "Epoch 21, Average Loss: 0.2080\n"
     ]
    },
    {
     "name": "stderr",
     "output_type": "stream",
     "text": [
      "\n"
     ]
    },
    {
     "name": "stdout",
     "output_type": "stream",
     "text": [
      "Validation Accuracy: 94.23%\n",
      "Validation Loss: 0.1863\n"
     ]
    },
    {
     "name": "stderr",
     "output_type": "stream",
     "text": [
      "Epoch 22/50: 100%|██████████| 1358/1358 [00:08<00:00, 167.07batch/s, loss=0.343] "
     ]
    },
    {
     "name": "stdout",
     "output_type": "stream",
     "text": [
      "Epoch 22, Average Loss: 0.2075\n"
     ]
    },
    {
     "name": "stderr",
     "output_type": "stream",
     "text": [
      "\n"
     ]
    },
    {
     "name": "stdout",
     "output_type": "stream",
     "text": [
      "Validation Accuracy: 93.60%\n",
      "Validation Loss: 0.2117\n"
     ]
    },
    {
     "name": "stderr",
     "output_type": "stream",
     "text": [
      "Epoch 23/50: 100%|██████████| 1358/1358 [00:08<00:00, 168.94batch/s, loss=0.247] "
     ]
    },
    {
     "name": "stdout",
     "output_type": "stream",
     "text": [
      "Epoch 23, Average Loss: 0.2018\n"
     ]
    },
    {
     "name": "stderr",
     "output_type": "stream",
     "text": [
      "\n"
     ]
    },
    {
     "name": "stdout",
     "output_type": "stream",
     "text": [
      "Validation Accuracy: 94.04%\n",
      "Validation Loss: 0.1927\n"
     ]
    },
    {
     "name": "stderr",
     "output_type": "stream",
     "text": [
      "Epoch 24/50: 100%|██████████| 1358/1358 [00:07<00:00, 184.08batch/s, loss=0.265] "
     ]
    },
    {
     "name": "stdout",
     "output_type": "stream",
     "text": [
      "Epoch 24, Average Loss: 0.1959\n"
     ]
    },
    {
     "name": "stderr",
     "output_type": "stream",
     "text": [
      "\n"
     ]
    },
    {
     "name": "stdout",
     "output_type": "stream",
     "text": [
      "Validation Accuracy: 94.01%\n",
      "Validation Loss: 0.1999\n"
     ]
    },
    {
     "name": "stderr",
     "output_type": "stream",
     "text": [
      "Epoch 25/50: 100%|██████████| 1358/1358 [00:08<00:00, 164.56batch/s, loss=0.0444]"
     ]
    },
    {
     "name": "stdout",
     "output_type": "stream",
     "text": [
      "Epoch 25, Average Loss: 0.1904\n"
     ]
    },
    {
     "name": "stderr",
     "output_type": "stream",
     "text": [
      "\n"
     ]
    },
    {
     "name": "stdout",
     "output_type": "stream",
     "text": [
      "Validation Accuracy: 94.17%\n",
      "Validation Loss: 0.1895\n"
     ]
    },
    {
     "name": "stderr",
     "output_type": "stream",
     "text": [
      "Epoch 26/50: 100%|██████████| 1358/1358 [00:08<00:00, 168.82batch/s, loss=0.0823]\n"
     ]
    },
    {
     "name": "stdout",
     "output_type": "stream",
     "text": [
      "Epoch 26, Average Loss: 0.1835\n",
      "Validation Accuracy: 94.54%\n",
      "Validation Loss: 0.1795\n"
     ]
    },
    {
     "name": "stderr",
     "output_type": "stream",
     "text": [
      "Epoch 27/50: 100%|██████████| 1358/1358 [00:08<00:00, 168.48batch/s, loss=0.253]  "
     ]
    },
    {
     "name": "stdout",
     "output_type": "stream",
     "text": [
      "Epoch 27, Average Loss: 0.1771\n"
     ]
    },
    {
     "name": "stderr",
     "output_type": "stream",
     "text": [
      "\n"
     ]
    },
    {
     "name": "stdout",
     "output_type": "stream",
     "text": [
      "Validation Accuracy: 94.21%\n",
      "Validation Loss: 0.1880\n"
     ]
    },
    {
     "name": "stderr",
     "output_type": "stream",
     "text": [
      "Epoch 28/50: 100%|██████████| 1358/1358 [00:07<00:00, 179.34batch/s, loss=0.36]   "
     ]
    },
    {
     "name": "stdout",
     "output_type": "stream",
     "text": [
      "Epoch 28, Average Loss: 0.1750\n"
     ]
    },
    {
     "name": "stderr",
     "output_type": "stream",
     "text": [
      "\n"
     ]
    },
    {
     "name": "stdout",
     "output_type": "stream",
     "text": [
      "Validation Accuracy: 93.86%\n",
      "Validation Loss: 0.1930\n"
     ]
    },
    {
     "name": "stderr",
     "output_type": "stream",
     "text": [
      "Epoch 29/50: 100%|██████████| 1358/1358 [00:08<00:00, 165.02batch/s, loss=0.0305] "
     ]
    },
    {
     "name": "stdout",
     "output_type": "stream",
     "text": [
      "Epoch 29, Average Loss: 0.1737\n"
     ]
    },
    {
     "name": "stderr",
     "output_type": "stream",
     "text": [
      "\n"
     ]
    },
    {
     "name": "stdout",
     "output_type": "stream",
     "text": [
      "Validation Accuracy: 94.47%\n",
      "Validation Loss: 0.1845\n"
     ]
    },
    {
     "name": "stderr",
     "output_type": "stream",
     "text": [
      "Epoch 30/50: 100%|██████████| 1358/1358 [00:07<00:00, 169.81batch/s, loss=0.0355] "
     ]
    },
    {
     "name": "stdout",
     "output_type": "stream",
     "text": [
      "Epoch 30, Average Loss: 0.1675\n"
     ]
    },
    {
     "name": "stderr",
     "output_type": "stream",
     "text": [
      "\n"
     ]
    },
    {
     "name": "stdout",
     "output_type": "stream",
     "text": [
      "Validation Accuracy: 94.43%\n",
      "Validation Loss: 0.1963\n"
     ]
    },
    {
     "name": "stderr",
     "output_type": "stream",
     "text": [
      "Epoch 31/50: 100%|██████████| 1358/1358 [00:08<00:00, 169.55batch/s, loss=0.21]   "
     ]
    },
    {
     "name": "stdout",
     "output_type": "stream",
     "text": [
      "Epoch 31, Average Loss: 0.1631\n"
     ]
    },
    {
     "name": "stderr",
     "output_type": "stream",
     "text": [
      "\n"
     ]
    },
    {
     "name": "stdout",
     "output_type": "stream",
     "text": [
      "Validation Accuracy: 94.30%\n",
      "Validation Loss: 0.1952\n",
      "Early stopping triggered after 31 epochs.\n"
     ]
    },
    {
     "data": {
      "image/png": "[encoded data removed]",
      "text/plain": [
       "<Figure size 1200x600 with 2 Axes>"
      ]
     },
     "metadata": {},
     "output_type": "display_data"
    }
   ],
   "source": [
    "image_width = 32\n",
    "train_loader, val_loader, test_loader, class_names = load_data(image_width)\n",
    "\n",
    "model = SimpleCNN(num_classes, image_width, 2, 8).to(device)  # Move model to device\n",
    "\n",
    "train_model(model, num_classes, train_loader, val_loader, epoch = 50)"
   ]
  },
  {
   "cell_type": "code",
   "execution_count": 10,
   "metadata": {},
   "outputs": [
    {
     "name": "stdout",
     "output_type": "stream",
     "text": [
      "F1 Score: 0.9476\n",
      "Accuracy: 0.9478\n"
     ]
    }
   ],
   "source": [
    "cm, report = evaluate_model(model, test_loader, class_names)\n",
    "\n",
    "f1 = report['weighted avg']['f1-score']\n",
    "accuracy = report['accuracy']\n",
    "\n",
    "print(f\"F1 Score: {f1:.4f}\")\n",
    "print(f\"Accuracy: {accuracy:.4f}\")"
   ]
  },
  {
   "cell_type": "markdown",
   "metadata": {},
   "source": [
    "## **Finding best hyperparameters**"
   ]
  },
  {
   "cell_type": "code",
   "execution_count": 11,
   "metadata": {},
   "outputs": [],
   "source": [
    "from itertools import product\n",
    "\n",
    "# Parametri da testare\n",
    "image_sizes = [32]\n",
    "layers = [2, 3, 4, 5]\n",
    "first_layer_filters = [8, 16, 32, 64]\n",
    "\n",
    "# Combinazioni di parametri\n",
    "parameter_combinations = list(product(image_sizes, layers, first_layer_filters))"
   ]
  },
  {
   "cell_type": "code",
   "execution_count": 12,
   "metadata": {},
   "outputs": [
    {
     "name": "stdout",
     "output_type": "stream",
     "text": [
      "\n",
      "\n",
      "--Testing configuration: image_size=32, layers=2, first_layer_filters=8\n"
     ]
    },
    {
     "name": "stderr",
     "output_type": "stream",
     "text": [
      "Epoch 1/50: 100%|██████████| 1358/1358 [00:07<00:00, 171.95batch/s, loss=1.07] "
     ]
    },
    {
     "name": "stdout",
     "output_type": "stream",
     "text": [
      "Epoch 1, Average Loss: 1.4905\n"
     ]
    },
    {
     "name": "stderr",
     "output_type": "stream",
     "text": [
      "\n"
     ]
    },
    {
     "name": "stdout",
     "output_type": "stream",
     "text": [
      "Validation Accuracy: 76.06%\n",
      "Validation Loss: 0.7872\n"
     ]
    },
    {
     "name": "stderr",
     "output_type": "stream",
     "text": [
      "Epoch 2/50: 100%|██████████| 1358/1358 [00:06<00:00, 198.53batch/s, loss=0.468]"
     ]
    },
    {
     "name": "stdout",
     "output_type": "stream",
     "text": [
      "Epoch 2, Average Loss: 0.7870\n"
     ]
    },
    {
     "name": "stderr",
     "output_type": "stream",
     "text": [
      "\n"
     ]
    },
    {
     "name": "stdout",
     "output_type": "stream",
     "text": [
      "Validation Accuracy: 84.13%\n",
      "Validation Loss: 0.5223\n"
     ]
    },
    {
     "name": "stderr",
     "output_type": "stream",
     "text": [
      "Epoch 3/50: 100%|██████████| 1358/1358 [00:07<00:00, 177.62batch/s, loss=0.462]"
     ]
    },
    {
     "name": "stdout",
     "output_type": "stream",
     "text": [
      "Epoch 3, Average Loss: 0.6017\n"
     ]
    },
    {
     "name": "stderr",
     "output_type": "stream",
     "text": [
      "\n"
     ]
    },
    {
     "name": "stdout",
     "output_type": "stream",
     "text": [
      "Validation Accuracy: 86.76%\n",
      "Validation Loss: 0.4381\n"
     ]
    },
    {
     "name": "stderr",
     "output_type": "stream",
     "text": [
      "Epoch 4/50: 100%|██████████| 1358/1358 [00:07<00:00, 177.75batch/s, loss=0.535]"
     ]
    },
    {
     "name": "stdout",
     "output_type": "stream",
     "text": [
      "Epoch 4, Average Loss: 0.5132\n"
     ]
    },
    {
     "name": "stderr",
     "output_type": "stream",
     "text": [
      "\n"
     ]
    },
    {
     "name": "stdout",
     "output_type": "stream",
     "text": [
      "Validation Accuracy: 88.29%\n",
      "Validation Loss: 0.3639\n"
     ]
    },
    {
     "name": "stderr",
     "output_type": "stream",
     "text": [
      "Epoch 5/50: 100%|██████████| 1358/1358 [00:06<00:00, 194.85batch/s, loss=0.391] "
     ]
    },
    {
     "name": "stdout",
     "output_type": "stream",
     "text": [
      "Epoch 5, Average Loss: 0.4469\n"
     ]
    },
    {
     "name": "stderr",
     "output_type": "stream",
     "text": [
      "\n"
     ]
    },
    {
     "name": "stdout",
     "output_type": "stream",
     "text": [
      "Validation Accuracy: 89.59%\n",
      "Validation Loss: 0.3224\n"
     ]
    },
    {
     "name": "stderr",
     "output_type": "stream",
     "text": [
      "Epoch 6/50: 100%|██████████| 1358/1358 [00:07<00:00, 177.93batch/s, loss=0.626] "
     ]
    },
    {
     "name": "stdout",
     "output_type": "stream",
     "text": [
      "Epoch 6, Average Loss: 0.4023\n"
     ]
    },
    {
     "name": "stderr",
     "output_type": "stream",
     "text": [
      "\n"
     ]
    },
    {
     "name": "stdout",
     "output_type": "stream",
     "text": [
      "Validation Accuracy: 89.96%\n",
      "Validation Loss: 0.2993\n"
     ]
    },
    {
     "name": "stderr",
     "output_type": "stream",
     "text": [
      "Epoch 7/50: 100%|██████████| 1358/1358 [00:07<00:00, 177.45batch/s, loss=0.322] "
     ]
    },
    {
     "name": "stdout",
     "output_type": "stream",
     "text": [
      "Epoch 7, Average Loss: 0.3627\n"
     ]
    },
    {
     "name": "stderr",
     "output_type": "stream",
     "text": [
      "\n"
     ]
    },
    {
     "name": "stdout",
     "output_type": "stream",
     "text": [
      "Validation Accuracy: 90.66%\n",
      "Validation Loss: 0.2948\n"
     ]
    },
    {
     "name": "stderr",
     "output_type": "stream",
     "text": [
      "Epoch 8/50: 100%|██████████| 1358/1358 [00:07<00:00, 178.07batch/s, loss=0.39]  "
     ]
    },
    {
     "name": "stdout",
     "output_type": "stream",
     "text": [
      "Epoch 8, Average Loss: 0.3399\n"
     ]
    },
    {
     "name": "stderr",
     "output_type": "stream",
     "text": [
      "\n"
     ]
    },
    {
     "name": "stdout",
     "output_type": "stream",
     "text": [
      "Validation Accuracy: 91.62%\n",
      "Validation Loss: 0.2549\n"
     ]
    },
    {
     "name": "stderr",
     "output_type": "stream",
     "text": [
      "Epoch 9/50: 100%|██████████| 1358/1358 [00:06<00:00, 198.06batch/s, loss=0.3]   \n"
     ]
    },
    {
     "name": "stdout",
     "output_type": "stream",
     "text": [
      "Epoch 9, Average Loss: 0.3186\n",
      "Validation Accuracy: 92.11%\n",
      "Validation Loss: 0.2437\n"
     ]
    },
    {
     "name": "stderr",
     "output_type": "stream",
     "text": [
      "Epoch 10/50: 100%|██████████| 1358/1358 [00:07<00:00, 173.41batch/s, loss=0.297] "
     ]
    },
    {
     "name": "stdout",
     "output_type": "stream",
     "text": [
      "Epoch 10, Average Loss: 0.2985\n"
     ]
    },
    {
     "name": "stderr",
     "output_type": "stream",
     "text": [
      "\n"
     ]
    },
    {
     "name": "stdout",
     "output_type": "stream",
     "text": [
      "Validation Accuracy: 92.48%\n",
      "Validation Loss: 0.2322\n"
     ]
    },
    {
     "name": "stderr",
     "output_type": "stream",
     "text": [
      "Epoch 11/50: 100%|██████████| 1358/1358 [00:07<00:00, 171.32batch/s, loss=0.141] \n"
     ]
    },
    {
     "name": "stdout",
     "output_type": "stream",
     "text": [
      "Epoch 11, Average Loss: 0.2773\n",
      "Validation Accuracy: 93.36%\n",
      "Validation Loss: 0.2052\n"
     ]
    },
    {
     "name": "stderr",
     "output_type": "stream",
     "text": [
      "Epoch 12/50: 100%|██████████| 1358/1358 [00:07<00:00, 180.37batch/s, loss=0.514] "
     ]
    },
    {
     "name": "stdout",
     "output_type": "stream",
     "text": [
      "Epoch 12, Average Loss: 0.2653\n"
     ]
    },
    {
     "name": "stderr",
     "output_type": "stream",
     "text": [
      "\n"
     ]
    },
    {
     "name": "stdout",
     "output_type": "stream",
     "text": [
      "Validation Accuracy: 92.98%\n",
      "Validation Loss: 0.2165\n"
     ]
    },
    {
     "name": "stderr",
     "output_type": "stream",
     "text": [
      "Epoch 13/50: 100%|██████████| 1358/1358 [00:06<00:00, 208.77batch/s, loss=0.312] "
     ]
    },
    {
     "name": "stdout",
     "output_type": "stream",
     "text": [
      "Epoch 13, Average Loss: 0.2509\n"
     ]
    },
    {
     "name": "stderr",
     "output_type": "stream",
     "text": [
      "\n"
     ]
    },
    {
     "name": "stdout",
     "output_type": "stream",
     "text": [
      "Validation Accuracy: 92.88%\n",
      "Validation Loss: 0.2218\n"
     ]
    },
    {
     "name": "stderr",
     "output_type": "stream",
     "text": [
      "Epoch 14/50: 100%|██████████| 1358/1358 [00:07<00:00, 178.91batch/s, loss=0.191] "
     ]
    },
    {
     "name": "stdout",
     "output_type": "stream",
     "text": [
      "Epoch 14, Average Loss: 0.2443\n"
     ]
    },
    {
     "name": "stderr",
     "output_type": "stream",
     "text": [
      "\n"
     ]
    },
    {
     "name": "stdout",
     "output_type": "stream",
     "text": [
      "Validation Accuracy: 93.05%\n",
      "Validation Loss: 0.2098\n"
     ]
    },
    {
     "name": "stderr",
     "output_type": "stream",
     "text": [
      "Epoch 15/50: 100%|██████████| 1358/1358 [00:07<00:00, 186.43batch/s, loss=0.321] \n"
     ]
    },
    {
     "name": "stdout",
     "output_type": "stream",
     "text": [
      "Epoch 15, Average Loss: 0.2316\n",
      "Validation Accuracy: 93.44%\n",
      "Validation Loss: 0.2042\n"
     ]
    },
    {
     "name": "stderr",
     "output_type": "stream",
     "text": [
      "Epoch 16/50: 100%|██████████| 1358/1358 [00:07<00:00, 183.49batch/s, loss=0.0204]"
     ]
    },
    {
     "name": "stdout",
     "output_type": "stream",
     "text": [
      "Epoch 16, Average Loss: 0.2210\n"
     ]
    },
    {
     "name": "stderr",
     "output_type": "stream",
     "text": [
      "\n"
     ]
    },
    {
     "name": "stdout",
     "output_type": "stream",
     "text": [
      "Validation Accuracy: 93.44%\n",
      "Validation Loss: 0.2109\n"
     ]
    },
    {
     "name": "stderr",
     "output_type": "stream",
     "text": [
      "Epoch 17/50: 100%|██████████| 1358/1358 [00:06<00:00, 199.82batch/s, loss=0.248]  "
     ]
    },
    {
     "name": "stdout",
     "output_type": "stream",
     "text": [
      "Epoch 17, Average Loss: 0.2131\n"
     ]
    },
    {
     "name": "stderr",
     "output_type": "stream",
     "text": [
      "\n"
     ]
    },
    {
     "name": "stdout",
     "output_type": "stream",
     "text": [
      "Validation Accuracy: 94.04%\n",
      "Validation Loss: 0.1909\n"
     ]
    },
    {
     "name": "stderr",
     "output_type": "stream",
     "text": [
      "Epoch 18/50: 100%|██████████| 1358/1358 [00:07<00:00, 183.22batch/s, loss=0.076] "
     ]
    },
    {
     "name": "stdout",
     "output_type": "stream",
     "text": [
      "Epoch 18, Average Loss: 0.2034\n"
     ]
    },
    {
     "name": "stderr",
     "output_type": "stream",
     "text": [
      "\n"
     ]
    },
    {
     "name": "stdout",
     "output_type": "stream",
     "text": [
      "Validation Accuracy: 93.86%\n",
      "Validation Loss: 0.1885\n"
     ]
    },
    {
     "name": "stderr",
     "output_type": "stream",
     "text": [
      "Epoch 19/50: 100%|██████████| 1358/1358 [00:07<00:00, 174.53batch/s, loss=0.0772]"
     ]
    },
    {
     "name": "stdout",
     "output_type": "stream",
     "text": [
      "Epoch 19, Average Loss: 0.1991\n"
     ]
    },
    {
     "name": "stderr",
     "output_type": "stream",
     "text": [
      "\n"
     ]
    },
    {
     "name": "stdout",
     "output_type": "stream",
     "text": [
      "Validation Accuracy: 93.31%\n",
      "Validation Loss: 0.2075\n"
     ]
    },
    {
     "name": "stderr",
     "output_type": "stream",
     "text": [
      "Epoch 20/50: 100%|██████████| 1358/1358 [00:06<00:00, 198.92batch/s, loss=0.163] "
     ]
    },
    {
     "name": "stdout",
     "output_type": "stream",
     "text": [
      "Epoch 20, Average Loss: 0.1959\n"
     ]
    },
    {
     "name": "stderr",
     "output_type": "stream",
     "text": [
      "\n"
     ]
    },
    {
     "name": "stdout",
     "output_type": "stream",
     "text": [
      "Validation Accuracy: 93.25%\n",
      "Validation Loss: 0.2036\n"
     ]
    },
    {
     "name": "stderr",
     "output_type": "stream",
     "text": [
      "Epoch 21/50: 100%|██████████| 1358/1358 [00:07<00:00, 175.43batch/s, loss=0.379]  "
     ]
    },
    {
     "name": "stdout",
     "output_type": "stream",
     "text": [
      "Epoch 21, Average Loss: 0.1905\n"
     ]
    },
    {
     "name": "stderr",
     "output_type": "stream",
     "text": [
      "\n"
     ]
    },
    {
     "name": "stdout",
     "output_type": "stream",
     "text": [
      "Validation Accuracy: 94.52%\n",
      "Validation Loss: 0.1786\n"
     ]
    },
    {
     "name": "stderr",
     "output_type": "stream",
     "text": [
      "Epoch 22/50: 100%|██████████| 1358/1358 [00:07<00:00, 175.38batch/s, loss=0.0396] "
     ]
    },
    {
     "name": "stdout",
     "output_type": "stream",
     "text": [
      "Epoch 22, Average Loss: 0.1846\n"
     ]
    },
    {
     "name": "stderr",
     "output_type": "stream",
     "text": [
      "\n"
     ]
    },
    {
     "name": "stdout",
     "output_type": "stream",
     "text": [
      "Validation Accuracy: 93.69%\n",
      "Validation Loss: 0.2034\n"
     ]
    },
    {
     "name": "stderr",
     "output_type": "stream",
     "text": [
      "Epoch 23/50: 100%|██████████| 1358/1358 [00:07<00:00, 178.24batch/s, loss=0.224]  "
     ]
    },
    {
     "name": "stdout",
     "output_type": "stream",
     "text": [
      "Epoch 23, Average Loss: 0.1753\n"
     ]
    },
    {
     "name": "stderr",
     "output_type": "stream",
     "text": [
      "\n"
     ]
    },
    {
     "name": "stdout",
     "output_type": "stream",
     "text": [
      "Validation Accuracy: 94.32%\n",
      "Validation Loss: 0.1740\n"
     ]
    },
    {
     "name": "stderr",
     "output_type": "stream",
     "text": [
      "Epoch 24/50: 100%|██████████| 1358/1358 [00:06<00:00, 206.67batch/s, loss=0.162]  \n"
     ]
    },
    {
     "name": "stdout",
     "output_type": "stream",
     "text": [
      "Epoch 24, Average Loss: 0.1757\n",
      "Validation Accuracy: 93.71%\n",
      "Validation Loss: 0.1955\n"
     ]
    },
    {
     "name": "stderr",
     "output_type": "stream",
     "text": [
      "Epoch 25/50: 100%|██████████| 1358/1358 [00:07<00:00, 181.28batch/s, loss=0.0594] \n"
     ]
    },
    {
     "name": "stdout",
     "output_type": "stream",
     "text": [
      "Epoch 25, Average Loss: 0.1708\n",
      "Validation Accuracy: 93.90%\n",
      "Validation Loss: 0.1900\n"
     ]
    },
    {
     "name": "stderr",
     "output_type": "stream",
     "text": [
      "Epoch 26/50: 100%|██████████| 1358/1358 [00:07<00:00, 178.99batch/s, loss=0.191] "
     ]
    },
    {
     "name": "stdout",
     "output_type": "stream",
     "text": [
      "Epoch 26, Average Loss: 0.1680\n"
     ]
    },
    {
     "name": "stderr",
     "output_type": "stream",
     "text": [
      "\n"
     ]
    },
    {
     "name": "stdout",
     "output_type": "stream",
     "text": [
      "Validation Accuracy: 94.41%\n",
      "Validation Loss: 0.1802\n"
     ]
    },
    {
     "name": "stderr",
     "output_type": "stream",
     "text": [
      "Epoch 27/50: 100%|██████████| 1358/1358 [00:07<00:00, 171.01batch/s, loss=0.12]   "
     ]
    },
    {
     "name": "stdout",
     "output_type": "stream",
     "text": [
      "Epoch 27, Average Loss: 0.1600\n"
     ]
    },
    {
     "name": "stderr",
     "output_type": "stream",
     "text": [
      "\n"
     ]
    },
    {
     "name": "stdout",
     "output_type": "stream",
     "text": [
      "Validation Accuracy: 94.26%\n",
      "Validation Loss: 0.1859\n"
     ]
    },
    {
     "name": "stderr",
     "output_type": "stream",
     "text": [
      "Epoch 28/50: 100%|██████████| 1358/1358 [00:06<00:00, 207.76batch/s, loss=0.146] "
     ]
    },
    {
     "name": "stdout",
     "output_type": "stream",
     "text": [
      "Epoch 28, Average Loss: 0.1626\n"
     ]
    },
    {
     "name": "stderr",
     "output_type": "stream",
     "text": [
      "\n"
     ]
    },
    {
     "name": "stdout",
     "output_type": "stream",
     "text": [
      "Validation Accuracy: 94.43%\n",
      "Validation Loss: 0.1761\n",
      "Early stopping triggered after 28 epochs.\n",
      "\n",
      "\n",
      "--Testing configuration: image_size=32, layers=2, first_layer_filters=16\n"
     ]
    },
    {
     "name": "stderr",
     "output_type": "stream",
     "text": [
      "Epoch 1/50: 100%|██████████| 1358/1358 [00:07<00:00, 173.20batch/s, loss=0.844]"
     ]
    },
    {
     "name": "stdout",
     "output_type": "stream",
     "text": [
      "Epoch 1, Average Loss: 1.3038\n"
     ]
    },
    {
     "name": "stderr",
     "output_type": "stream",
     "text": [
      "\n"
     ]
    },
    {
     "name": "stdout",
     "output_type": "stream",
     "text": [
      "Validation Accuracy: 80.82%\n",
      "Validation Loss: 0.6410\n"
     ]
    },
    {
     "name": "stderr",
     "output_type": "stream",
     "text": [
      "Epoch 2/50: 100%|██████████| 1358/1358 [00:07<00:00, 182.75batch/s, loss=0.442]"
     ]
    },
    {
     "name": "stdout",
     "output_type": "stream",
     "text": [
      "Epoch 2, Average Loss: 0.6531\n"
     ]
    },
    {
     "name": "stderr",
     "output_type": "stream",
     "text": [
      "\n"
     ]
    },
    {
     "name": "stdout",
     "output_type": "stream",
     "text": [
      "Validation Accuracy: 87.48%\n",
      "Validation Loss: 0.4100\n"
     ]
    },
    {
     "name": "stderr",
     "output_type": "stream",
     "text": [
      "Epoch 3/50: 100%|██████████| 1358/1358 [00:06<00:00, 201.93batch/s, loss=0.417]"
     ]
    },
    {
     "name": "stdout",
     "output_type": "stream",
     "text": [
      "Epoch 3, Average Loss: 0.4841\n"
     ]
    },
    {
     "name": "stderr",
     "output_type": "stream",
     "text": [
      "\n"
     ]
    },
    {
     "name": "stdout",
     "output_type": "stream",
     "text": [
      "Validation Accuracy: 89.08%\n",
      "Validation Loss: 0.3441\n"
     ]
    },
    {
     "name": "stderr",
     "output_type": "stream",
     "text": [
      "Epoch 4/50: 100%|██████████| 1358/1358 [00:07<00:00, 174.58batch/s, loss=0.658] "
     ]
    },
    {
     "name": "stdout",
     "output_type": "stream",
     "text": [
      "Epoch 4, Average Loss: 0.3956\n"
     ]
    },
    {
     "name": "stderr",
     "output_type": "stream",
     "text": [
      "\n"
     ]
    },
    {
     "name": "stdout",
     "output_type": "stream",
     "text": [
      "Validation Accuracy: 89.23%\n",
      "Validation Loss: 0.3133\n"
     ]
    },
    {
     "name": "stderr",
     "output_type": "stream",
     "text": [
      "Epoch 5/50: 100%|██████████| 1358/1358 [00:07<00:00, 177.12batch/s, loss=0.231] "
     ]
    },
    {
     "name": "stdout",
     "output_type": "stream",
     "text": [
      "Epoch 5, Average Loss: 0.3361\n"
     ]
    },
    {
     "name": "stderr",
     "output_type": "stream",
     "text": [
      "\n"
     ]
    },
    {
     "name": "stdout",
     "output_type": "stream",
     "text": [
      "Validation Accuracy: 91.67%\n",
      "Validation Loss: 0.2600\n"
     ]
    },
    {
     "name": "stderr",
     "output_type": "stream",
     "text": [
      "Epoch 6/50: 100%|██████████| 1358/1358 [00:07<00:00, 172.81batch/s, loss=0.153] "
     ]
    },
    {
     "name": "stdout",
     "output_type": "stream",
     "text": [
      "Epoch 6, Average Loss: 0.2893\n"
     ]
    },
    {
     "name": "stderr",
     "output_type": "stream",
     "text": [
      "\n"
     ]
    },
    {
     "name": "stdout",
     "output_type": "stream",
     "text": [
      "Validation Accuracy: 92.11%\n",
      "Validation Loss: 0.2388\n"
     ]
    },
    {
     "name": "stderr",
     "output_type": "stream",
     "text": [
      "Epoch 7/50: 100%|██████████| 1358/1358 [00:07<00:00, 179.47batch/s, loss=0.67]  \n"
     ]
    },
    {
     "name": "stdout",
     "output_type": "stream",
     "text": [
      "Epoch 7, Average Loss: 0.2549\n",
      "Validation Accuracy: 93.42%\n",
      "Validation Loss: 0.2152\n"
     ]
    },
    {
     "name": "stderr",
     "output_type": "stream",
     "text": [
      "Epoch 8/50: 100%|██████████| 1358/1358 [00:07<00:00, 177.54batch/s, loss=0.424] "
     ]
    },
    {
     "name": "stdout",
     "output_type": "stream",
     "text": [
      "Epoch 8, Average Loss: 0.2292\n"
     ]
    },
    {
     "name": "stderr",
     "output_type": "stream",
     "text": [
      "\n"
     ]
    },
    {
     "name": "stdout",
     "output_type": "stream",
     "text": [
      "Validation Accuracy: 93.68%\n",
      "Validation Loss: 0.1970\n"
     ]
    },
    {
     "name": "stderr",
     "output_type": "stream",
     "text": [
      "Epoch 9/50: 100%|██████████| 1358/1358 [00:07<00:00, 176.79batch/s, loss=0.0344]"
     ]
    },
    {
     "name": "stdout",
     "output_type": "stream",
     "text": [
      "Epoch 9, Average Loss: 0.2065\n"
     ]
    },
    {
     "name": "stderr",
     "output_type": "stream",
     "text": [
      "\n"
     ]
    },
    {
     "name": "stdout",
     "output_type": "stream",
     "text": [
      "Validation Accuracy: 93.33%\n",
      "Validation Loss: 0.2001\n"
     ]
    },
    {
     "name": "stderr",
     "output_type": "stream",
     "text": [
      "Epoch 10/50: 100%|██████████| 1358/1358 [00:06<00:00, 196.53batch/s, loss=0.244] "
     ]
    },
    {
     "name": "stdout",
     "output_type": "stream",
     "text": [
      "Epoch 10, Average Loss: 0.1939\n"
     ]
    },
    {
     "name": "stderr",
     "output_type": "stream",
     "text": [
      "\n"
     ]
    },
    {
     "name": "stdout",
     "output_type": "stream",
     "text": [
      "Validation Accuracy: 94.19%\n",
      "Validation Loss: 0.1925\n"
     ]
    },
    {
     "name": "stderr",
     "output_type": "stream",
     "text": [
      "Epoch 11/50: 100%|██████████| 1358/1358 [00:06<00:00, 203.27batch/s, loss=0.309]  "
     ]
    },
    {
     "name": "stdout",
     "output_type": "stream",
     "text": [
      "Epoch 11, Average Loss: 0.1799\n"
     ]
    },
    {
     "name": "stderr",
     "output_type": "stream",
     "text": [
      "\n"
     ]
    },
    {
     "name": "stdout",
     "output_type": "stream",
     "text": [
      "Validation Accuracy: 94.06%\n",
      "Validation Loss: 0.2013\n"
     ]
    },
    {
     "name": "stderr",
     "output_type": "stream",
     "text": [
      "Epoch 12/50: 100%|██████████| 1358/1358 [00:07<00:00, 181.77batch/s, loss=0.0379] "
     ]
    },
    {
     "name": "stdout",
     "output_type": "stream",
     "text": [
      "Epoch 12, Average Loss: 0.1632\n"
     ]
    },
    {
     "name": "stderr",
     "output_type": "stream",
     "text": [
      "\n"
     ]
    },
    {
     "name": "stdout",
     "output_type": "stream",
     "text": [
      "Validation Accuracy: 94.52%\n",
      "Validation Loss: 0.1808\n"
     ]
    },
    {
     "name": "stderr",
     "output_type": "stream",
     "text": [
      "Epoch 13/50: 100%|██████████| 1358/1358 [00:07<00:00, 183.99batch/s, loss=0.3]    "
     ]
    },
    {
     "name": "stdout",
     "output_type": "stream",
     "text": [
      "Epoch 13, Average Loss: 0.1632\n"
     ]
    },
    {
     "name": "stderr",
     "output_type": "stream",
     "text": [
      "\n"
     ]
    },
    {
     "name": "stdout",
     "output_type": "stream",
     "text": [
      "Validation Accuracy: 94.98%\n",
      "Validation Loss: 0.1711\n"
     ]
    },
    {
     "name": "stderr",
     "output_type": "stream",
     "text": [
      "Epoch 14/50: 100%|██████████| 1358/1358 [00:07<00:00, 170.82batch/s, loss=0.0756] "
     ]
    },
    {
     "name": "stdout",
     "output_type": "stream",
     "text": [
      "Epoch 14, Average Loss: 0.1443\n"
     ]
    },
    {
     "name": "stderr",
     "output_type": "stream",
     "text": [
      "\n"
     ]
    },
    {
     "name": "stdout",
     "output_type": "stream",
     "text": [
      "Validation Accuracy: 94.59%\n",
      "Validation Loss: 0.1744\n"
     ]
    },
    {
     "name": "stderr",
     "output_type": "stream",
     "text": [
      "Epoch 15/50: 100%|██████████| 1358/1358 [00:06<00:00, 197.45batch/s, loss=0.0982] \n"
     ]
    },
    {
     "name": "stdout",
     "output_type": "stream",
     "text": [
      "Epoch 15, Average Loss: 0.1396\n",
      "Validation Accuracy: 94.70%\n",
      "Validation Loss: 0.1815\n"
     ]
    },
    {
     "name": "stderr",
     "output_type": "stream",
     "text": [
      "Epoch 16/50: 100%|██████████| 1358/1358 [00:07<00:00, 181.07batch/s, loss=0.258]  "
     ]
    },
    {
     "name": "stdout",
     "output_type": "stream",
     "text": [
      "Epoch 16, Average Loss: 0.1294\n"
     ]
    },
    {
     "name": "stderr",
     "output_type": "stream",
     "text": [
      "\n"
     ]
    },
    {
     "name": "stdout",
     "output_type": "stream",
     "text": [
      "Validation Accuracy: 95.46%\n",
      "Validation Loss: 0.1565\n"
     ]
    },
    {
     "name": "stderr",
     "output_type": "stream",
     "text": [
      "Epoch 17/50: 100%|██████████| 1358/1358 [00:07<00:00, 178.22batch/s, loss=0.029]  \n"
     ]
    },
    {
     "name": "stdout",
     "output_type": "stream",
     "text": [
      "Epoch 17, Average Loss: 0.1232\n",
      "Validation Accuracy: 94.65%\n",
      "Validation Loss: 0.1949\n"
     ]
    },
    {
     "name": "stderr",
     "output_type": "stream",
     "text": [
      "Epoch 18/50: 100%|██████████| 1358/1358 [00:07<00:00, 184.16batch/s, loss=0.11]   "
     ]
    },
    {
     "name": "stdout",
     "output_type": "stream",
     "text": [
      "Epoch 18, Average Loss: 0.1187\n"
     ]
    },
    {
     "name": "stderr",
     "output_type": "stream",
     "text": [
      "\n"
     ]
    },
    {
     "name": "stdout",
     "output_type": "stream",
     "text": [
      "Validation Accuracy: 95.37%\n",
      "Validation Loss: 0.1724\n"
     ]
    },
    {
     "name": "stderr",
     "output_type": "stream",
     "text": [
      "Epoch 19/50: 100%|██████████| 1358/1358 [00:06<00:00, 209.02batch/s, loss=0.0432] \n"
     ]
    },
    {
     "name": "stdout",
     "output_type": "stream",
     "text": [
      "Epoch 19, Average Loss: 0.1161\n",
      "Validation Accuracy: 95.61%\n",
      "Validation Loss: 0.1643\n"
     ]
    },
    {
     "name": "stderr",
     "output_type": "stream",
     "text": [
      "Epoch 20/50: 100%|██████████| 1358/1358 [00:07<00:00, 179.52batch/s, loss=0.0238] "
     ]
    },
    {
     "name": "stdout",
     "output_type": "stream",
     "text": [
      "Epoch 20, Average Loss: 0.1126\n"
     ]
    },
    {
     "name": "stderr",
     "output_type": "stream",
     "text": [
      "\n"
     ]
    },
    {
     "name": "stdout",
     "output_type": "stream",
     "text": [
      "Validation Accuracy: 93.93%\n",
      "Validation Loss: 0.2060\n"
     ]
    },
    {
     "name": "stderr",
     "output_type": "stream",
     "text": [
      "Epoch 21/50: 100%|██████████| 1358/1358 [00:07<00:00, 178.87batch/s, loss=0.00755]\n"
     ]
    },
    {
     "name": "stdout",
     "output_type": "stream",
     "text": [
      "Epoch 21, Average Loss: 0.1065\n",
      "Validation Accuracy: 95.73%\n",
      "Validation Loss: 0.1567\n",
      "Early stopping triggered after 21 epochs.\n",
      "\n",
      "\n",
      "--Testing configuration: image_size=32, layers=2, first_layer_filters=32\n"
     ]
    },
    {
     "name": "stderr",
     "output_type": "stream",
     "text": [
      "Epoch 1/50: 100%|██████████| 1358/1358 [00:07<00:00, 177.15batch/s, loss=0.763]"
     ]
    },
    {
     "name": "stdout",
     "output_type": "stream",
     "text": [
      "Epoch 1, Average Loss: 1.1140\n"
     ]
    },
    {
     "name": "stderr",
     "output_type": "stream",
     "text": [
      "\n"
     ]
    },
    {
     "name": "stdout",
     "output_type": "stream",
     "text": [
      "Validation Accuracy: 84.11%\n",
      "Validation Loss: 0.4940\n"
     ]
    },
    {
     "name": "stderr",
     "output_type": "stream",
     "text": [
      "Epoch 2/50: 100%|██████████| 1358/1358 [00:07<00:00, 182.96batch/s, loss=0.598]"
     ]
    },
    {
     "name": "stdout",
     "output_type": "stream",
     "text": [
      "Epoch 2, Average Loss: 0.5454\n"
     ]
    },
    {
     "name": "stderr",
     "output_type": "stream",
     "text": [
      "\n"
     ]
    },
    {
     "name": "stdout",
     "output_type": "stream",
     "text": [
      "Validation Accuracy: 88.25%\n",
      "Validation Loss: 0.3619\n"
     ]
    },
    {
     "name": "stderr",
     "output_type": "stream",
     "text": [
      "Epoch 3/50: 100%|██████████| 1358/1358 [00:06<00:00, 202.63batch/s, loss=0.291] "
     ]
    },
    {
     "name": "stdout",
     "output_type": "stream",
     "text": [
      "Epoch 3, Average Loss: 0.3990\n"
     ]
    },
    {
     "name": "stderr",
     "output_type": "stream",
     "text": [
      "\n"
     ]
    },
    {
     "name": "stdout",
     "output_type": "stream",
     "text": [
      "Validation Accuracy: 90.83%\n",
      "Validation Loss: 0.2917\n"
     ]
    },
    {
     "name": "stderr",
     "output_type": "stream",
     "text": [
      "Epoch 4/50: 100%|██████████| 1358/1358 [00:07<00:00, 182.70batch/s, loss=0.149] "
     ]
    },
    {
     "name": "stdout",
     "output_type": "stream",
     "text": [
      "Epoch 4, Average Loss: 0.3168\n"
     ]
    },
    {
     "name": "stderr",
     "output_type": "stream",
     "text": [
      "\n"
     ]
    },
    {
     "name": "stdout",
     "output_type": "stream",
     "text": [
      "Validation Accuracy: 92.48%\n",
      "Validation Loss: 0.2222\n"
     ]
    },
    {
     "name": "stderr",
     "output_type": "stream",
     "text": [
      "Epoch 5/50: 100%|██████████| 1358/1358 [00:07<00:00, 178.94batch/s, loss=0.0777]"
     ]
    },
    {
     "name": "stdout",
     "output_type": "stream",
     "text": [
      "Epoch 5, Average Loss: 0.2601\n"
     ]
    },
    {
     "name": "stderr",
     "output_type": "stream",
     "text": [
      "\n"
     ]
    },
    {
     "name": "stdout",
     "output_type": "stream",
     "text": [
      "Validation Accuracy: 93.73%\n",
      "Validation Loss: 0.1900\n"
     ]
    },
    {
     "name": "stderr",
     "output_type": "stream",
     "text": [
      "Epoch 6/50: 100%|██████████| 1358/1358 [00:07<00:00, 177.41batch/s, loss=0.346] "
     ]
    },
    {
     "name": "stdout",
     "output_type": "stream",
     "text": [
      "Epoch 6, Average Loss: 0.2262\n"
     ]
    },
    {
     "name": "stderr",
     "output_type": "stream",
     "text": [
      "\n"
     ]
    },
    {
     "name": "stdout",
     "output_type": "stream",
     "text": [
      "Validation Accuracy: 94.56%\n",
      "Validation Loss: 0.1722\n"
     ]
    },
    {
     "name": "stderr",
     "output_type": "stream",
     "text": [
      "Epoch 7/50: 100%|██████████| 1358/1358 [00:07<00:00, 172.13batch/s, loss=0.112] "
     ]
    },
    {
     "name": "stdout",
     "output_type": "stream",
     "text": [
      "Epoch 7, Average Loss: 0.1944\n"
     ]
    },
    {
     "name": "stderr",
     "output_type": "stream",
     "text": [
      "\n"
     ]
    },
    {
     "name": "stdout",
     "output_type": "stream",
     "text": [
      "Validation Accuracy: 94.37%\n",
      "Validation Loss: 0.1802\n"
     ]
    },
    {
     "name": "stderr",
     "output_type": "stream",
     "text": [
      "Epoch 8/50: 100%|██████████| 1358/1358 [00:07<00:00, 179.31batch/s, loss=0.445]  "
     ]
    },
    {
     "name": "stdout",
     "output_type": "stream",
     "text": [
      "Epoch 8, Average Loss: 0.1734\n"
     ]
    },
    {
     "name": "stderr",
     "output_type": "stream",
     "text": [
      "\n"
     ]
    },
    {
     "name": "stdout",
     "output_type": "stream",
     "text": [
      "Validation Accuracy: 94.52%\n",
      "Validation Loss: 0.1615\n"
     ]
    },
    {
     "name": "stderr",
     "output_type": "stream",
     "text": [
      "Epoch 9/50: 100%|██████████| 1358/1358 [00:06<00:00, 199.91batch/s, loss=0.136]  "
     ]
    },
    {
     "name": "stdout",
     "output_type": "stream",
     "text": [
      "Epoch 9, Average Loss: 0.1557\n"
     ]
    },
    {
     "name": "stderr",
     "output_type": "stream",
     "text": [
      "\n"
     ]
    },
    {
     "name": "stdout",
     "output_type": "stream",
     "text": [
      "Validation Accuracy: 94.85%\n",
      "Validation Loss: 0.1649\n"
     ]
    },
    {
     "name": "stderr",
     "output_type": "stream",
     "text": [
      "Epoch 10/50: 100%|██████████| 1358/1358 [00:08<00:00, 169.63batch/s, loss=0.0295] "
     ]
    },
    {
     "name": "stdout",
     "output_type": "stream",
     "text": [
      "Epoch 10, Average Loss: 0.1450\n"
     ]
    },
    {
     "name": "stderr",
     "output_type": "stream",
     "text": [
      "\n"
     ]
    },
    {
     "name": "stdout",
     "output_type": "stream",
     "text": [
      "Validation Accuracy: 94.80%\n",
      "Validation Loss: 0.1770\n"
     ]
    },
    {
     "name": "stderr",
     "output_type": "stream",
     "text": [
      "Epoch 11/50: 100%|██████████| 1358/1358 [00:07<00:00, 174.06batch/s, loss=0.0475] "
     ]
    },
    {
     "name": "stdout",
     "output_type": "stream",
     "text": [
      "Epoch 11, Average Loss: 0.1344\n"
     ]
    },
    {
     "name": "stderr",
     "output_type": "stream",
     "text": [
      "\n"
     ]
    },
    {
     "name": "stdout",
     "output_type": "stream",
     "text": [
      "Validation Accuracy: 95.13%\n",
      "Validation Loss: 0.1558\n"
     ]
    },
    {
     "name": "stderr",
     "output_type": "stream",
     "text": [
      "Epoch 12/50: 100%|██████████| 1358/1358 [00:07<00:00, 178.39batch/s, loss=0.0945] "
     ]
    },
    {
     "name": "stdout",
     "output_type": "stream",
     "text": [
      "Epoch 12, Average Loss: 0.1228\n"
     ]
    },
    {
     "name": "stderr",
     "output_type": "stream",
     "text": [
      "\n"
     ]
    },
    {
     "name": "stdout",
     "output_type": "stream",
     "text": [
      "Validation Accuracy: 94.65%\n",
      "Validation Loss: 0.1933\n"
     ]
    },
    {
     "name": "stderr",
     "output_type": "stream",
     "text": [
      "Epoch 13/50: 100%|██████████| 1358/1358 [00:07<00:00, 177.82batch/s, loss=0.0662] \n"
     ]
    },
    {
     "name": "stdout",
     "output_type": "stream",
     "text": [
      "Epoch 13, Average Loss: 0.1161\n",
      "Validation Accuracy: 94.89%\n",
      "Validation Loss: 0.1713\n"
     ]
    },
    {
     "name": "stderr",
     "output_type": "stream",
     "text": [
      "Epoch 14/50: 100%|██████████| 1358/1358 [00:07<00:00, 180.88batch/s, loss=0.417]  "
     ]
    },
    {
     "name": "stdout",
     "output_type": "stream",
     "text": [
      "Epoch 14, Average Loss: 0.1125\n"
     ]
    },
    {
     "name": "stderr",
     "output_type": "stream",
     "text": [
      "\n"
     ]
    },
    {
     "name": "stdout",
     "output_type": "stream",
     "text": [
      "Validation Accuracy: 95.22%\n",
      "Validation Loss: 0.1687\n"
     ]
    },
    {
     "name": "stderr",
     "output_type": "stream",
     "text": [
      "Epoch 15/50: 100%|██████████| 1358/1358 [00:07<00:00, 181.40batch/s, loss=0.00313]"
     ]
    },
    {
     "name": "stdout",
     "output_type": "stream",
     "text": [
      "Epoch 15, Average Loss: 0.0977\n"
     ]
    },
    {
     "name": "stderr",
     "output_type": "stream",
     "text": [
      "\n"
     ]
    },
    {
     "name": "stdout",
     "output_type": "stream",
     "text": [
      "Validation Accuracy: 95.35%\n",
      "Validation Loss: 0.1631\n"
     ]
    },
    {
     "name": "stderr",
     "output_type": "stream",
     "text": [
      "Epoch 16/50: 100%|██████████| 1358/1358 [00:07<00:00, 181.73batch/s, loss=0.0216] \n"
     ]
    },
    {
     "name": "stdout",
     "output_type": "stream",
     "text": [
      "Epoch 16, Average Loss: 0.1008\n",
      "Validation Accuracy: 95.50%\n",
      "Validation Loss: 0.1459\n"
     ]
    },
    {
     "name": "stderr",
     "output_type": "stream",
     "text": [
      "Epoch 17/50: 100%|██████████| 1358/1358 [00:06<00:00, 197.57batch/s, loss=0.145]   \n"
     ]
    },
    {
     "name": "stdout",
     "output_type": "stream",
     "text": [
      "Epoch 17, Average Loss: 0.0927\n",
      "Validation Accuracy: 94.93%\n",
      "Validation Loss: 0.1814\n"
     ]
    },
    {
     "name": "stderr",
     "output_type": "stream",
     "text": [
      "Epoch 18/50: 100%|██████████| 1358/1358 [00:07<00:00, 170.04batch/s, loss=0.0271]  "
     ]
    },
    {
     "name": "stdout",
     "output_type": "stream",
     "text": [
      "Epoch 18, Average Loss: 0.0939\n"
     ]
    },
    {
     "name": "stderr",
     "output_type": "stream",
     "text": [
      "\n"
     ]
    },
    {
     "name": "stdout",
     "output_type": "stream",
     "text": [
      "Validation Accuracy: 95.88%\n",
      "Validation Loss: 0.1544\n"
     ]
    },
    {
     "name": "stderr",
     "output_type": "stream",
     "text": [
      "Epoch 19/50: 100%|██████████| 1358/1358 [00:07<00:00, 177.86batch/s, loss=0.0373]  "
     ]
    },
    {
     "name": "stdout",
     "output_type": "stream",
     "text": [
      "Epoch 19, Average Loss: 0.0838\n"
     ]
    },
    {
     "name": "stderr",
     "output_type": "stream",
     "text": [
      "\n"
     ]
    },
    {
     "name": "stdout",
     "output_type": "stream",
     "text": [
      "Validation Accuracy: 94.98%\n",
      "Validation Loss: 0.1889\n"
     ]
    },
    {
     "name": "stderr",
     "output_type": "stream",
     "text": [
      "Epoch 20/50: 100%|██████████| 1358/1358 [00:08<00:00, 166.62batch/s, loss=0.0506] "
     ]
    },
    {
     "name": "stdout",
     "output_type": "stream",
     "text": [
      "Epoch 20, Average Loss: 0.0820\n"
     ]
    },
    {
     "name": "stderr",
     "output_type": "stream",
     "text": [
      "\n"
     ]
    },
    {
     "name": "stdout",
     "output_type": "stream",
     "text": [
      "Validation Accuracy: 94.72%\n",
      "Validation Loss: 0.1861\n"
     ]
    },
    {
     "name": "stderr",
     "output_type": "stream",
     "text": [
      "Epoch 21/50: 100%|██████████| 1358/1358 [00:07<00:00, 179.15batch/s, loss=0.0977]  \n"
     ]
    },
    {
     "name": "stdout",
     "output_type": "stream",
     "text": [
      "Epoch 21, Average Loss: 0.0840\n",
      "Validation Accuracy: 94.43%\n",
      "Validation Loss: 0.2079\n",
      "Early stopping triggered after 21 epochs.\n",
      "\n",
      "\n",
      "--Testing configuration: image_size=32, layers=2, first_layer_filters=64\n"
     ]
    },
    {
     "name": "stderr",
     "output_type": "stream",
     "text": [
      "Epoch 1/50: 100%|██████████| 1358/1358 [00:07<00:00, 183.75batch/s, loss=0.481]"
     ]
    },
    {
     "name": "stdout",
     "output_type": "stream",
     "text": [
      "Epoch 1, Average Loss: 1.0158\n"
     ]
    },
    {
     "name": "stderr",
     "output_type": "stream",
     "text": [
      "\n"
     ]
    },
    {
     "name": "stdout",
     "output_type": "stream",
     "text": [
      "Validation Accuracy: 85.51%\n",
      "Validation Loss: 0.4702\n"
     ]
    },
    {
     "name": "stderr",
     "output_type": "stream",
     "text": [
      "Epoch 2/50: 100%|██████████| 1358/1358 [00:07<00:00, 179.71batch/s, loss=0.283] "
     ]
    },
    {
     "name": "stdout",
     "output_type": "stream",
     "text": [
      "Epoch 2, Average Loss: 0.4670\n"
     ]
    },
    {
     "name": "stderr",
     "output_type": "stream",
     "text": [
      "\n"
     ]
    },
    {
     "name": "stdout",
     "output_type": "stream",
     "text": [
      "Validation Accuracy: 89.98%\n",
      "Validation Loss: 0.3136\n"
     ]
    },
    {
     "name": "stderr",
     "output_type": "stream",
     "text": [
      "Epoch 3/50: 100%|██████████| 1358/1358 [00:06<00:00, 194.32batch/s, loss=0.415] \n"
     ]
    },
    {
     "name": "stdout",
     "output_type": "stream",
     "text": [
      "Epoch 3, Average Loss: 0.3321\n",
      "Validation Accuracy: 92.30%\n",
      "Validation Loss: 0.2368\n"
     ]
    },
    {
     "name": "stderr",
     "output_type": "stream",
     "text": [
      "Epoch 4/50: 100%|██████████| 1358/1358 [00:07<00:00, 176.38batch/s, loss=0.202] "
     ]
    },
    {
     "name": "stdout",
     "output_type": "stream",
     "text": [
      "Epoch 4, Average Loss: 0.2652\n"
     ]
    },
    {
     "name": "stderr",
     "output_type": "stream",
     "text": [
      "\n"
     ]
    },
    {
     "name": "stdout",
     "output_type": "stream",
     "text": [
      "Validation Accuracy: 93.53%\n",
      "Validation Loss: 0.1952\n"
     ]
    },
    {
     "name": "stderr",
     "output_type": "stream",
     "text": [
      "Epoch 5/50: 100%|██████████| 1358/1358 [00:08<00:00, 166.62batch/s, loss=0.12]  "
     ]
    },
    {
     "name": "stdout",
     "output_type": "stream",
     "text": [
      "Epoch 5, Average Loss: 0.2094\n"
     ]
    },
    {
     "name": "stderr",
     "output_type": "stream",
     "text": [
      "\n"
     ]
    },
    {
     "name": "stdout",
     "output_type": "stream",
     "text": [
      "Validation Accuracy: 94.19%\n",
      "Validation Loss: 0.1809\n"
     ]
    },
    {
     "name": "stderr",
     "output_type": "stream",
     "text": [
      "Epoch 6/50: 100%|██████████| 1358/1358 [00:07<00:00, 174.44batch/s, loss=0.255]  "
     ]
    },
    {
     "name": "stdout",
     "output_type": "stream",
     "text": [
      "Epoch 6, Average Loss: 0.1791\n"
     ]
    },
    {
     "name": "stderr",
     "output_type": "stream",
     "text": [
      "\n"
     ]
    },
    {
     "name": "stdout",
     "output_type": "stream",
     "text": [
      "Validation Accuracy: 94.41%\n",
      "Validation Loss: 0.1840\n"
     ]
    },
    {
     "name": "stderr",
     "output_type": "stream",
     "text": [
      "Epoch 7/50: 100%|██████████| 1358/1358 [00:07<00:00, 188.29batch/s, loss=0.128]  "
     ]
    },
    {
     "name": "stdout",
     "output_type": "stream",
     "text": [
      "Epoch 7, Average Loss: 0.1508\n"
     ]
    },
    {
     "name": "stderr",
     "output_type": "stream",
     "text": [
      "\n"
     ]
    },
    {
     "name": "stdout",
     "output_type": "stream",
     "text": [
      "Validation Accuracy: 94.72%\n",
      "Validation Loss: 0.1800\n"
     ]
    },
    {
     "name": "stderr",
     "output_type": "stream",
     "text": [
      "Epoch 8/50: 100%|██████████| 1358/1358 [00:07<00:00, 169.85batch/s, loss=0.0473] "
     ]
    },
    {
     "name": "stdout",
     "output_type": "stream",
     "text": [
      "Epoch 8, Average Loss: 0.1315\n"
     ]
    },
    {
     "name": "stderr",
     "output_type": "stream",
     "text": [
      "\n"
     ]
    },
    {
     "name": "stdout",
     "output_type": "stream",
     "text": [
      "Validation Accuracy: 94.59%\n",
      "Validation Loss: 0.1881\n"
     ]
    },
    {
     "name": "stderr",
     "output_type": "stream",
     "text": [
      "Epoch 9/50: 100%|██████████| 1358/1358 [00:08<00:00, 168.81batch/s, loss=0.254]  "
     ]
    },
    {
     "name": "stdout",
     "output_type": "stream",
     "text": [
      "Epoch 9, Average Loss: 0.1240\n"
     ]
    },
    {
     "name": "stderr",
     "output_type": "stream",
     "text": [
      "\n"
     ]
    },
    {
     "name": "stdout",
     "output_type": "stream",
     "text": [
      "Validation Accuracy: 95.00%\n",
      "Validation Loss: 0.1730\n"
     ]
    },
    {
     "name": "stderr",
     "output_type": "stream",
     "text": [
      "Epoch 10/50: 100%|██████████| 1358/1358 [00:08<00:00, 156.65batch/s, loss=0.0846]  "
     ]
    },
    {
     "name": "stdout",
     "output_type": "stream",
     "text": [
      "Epoch 10, Average Loss: 0.1077\n"
     ]
    },
    {
     "name": "stderr",
     "output_type": "stream",
     "text": [
      "\n"
     ]
    },
    {
     "name": "stdout",
     "output_type": "stream",
     "text": [
      "Validation Accuracy: 95.92%\n",
      "Validation Loss: 0.1532\n"
     ]
    },
    {
     "name": "stderr",
     "output_type": "stream",
     "text": [
      "Epoch 11/50: 100%|██████████| 1358/1358 [00:08<00:00, 154.96batch/s, loss=0.0318]  "
     ]
    },
    {
     "name": "stdout",
     "output_type": "stream",
     "text": [
      "Epoch 11, Average Loss: 0.1073\n"
     ]
    },
    {
     "name": "stderr",
     "output_type": "stream",
     "text": [
      "\n"
     ]
    },
    {
     "name": "stdout",
     "output_type": "stream",
     "text": [
      "Validation Accuracy: 95.18%\n",
      "Validation Loss: 0.1818\n"
     ]
    },
    {
     "name": "stderr",
     "output_type": "stream",
     "text": [
      "Epoch 12/50: 100%|██████████| 1358/1358 [00:08<00:00, 167.33batch/s, loss=0.0128]  \n"
     ]
    },
    {
     "name": "stdout",
     "output_type": "stream",
     "text": [
      "Epoch 12, Average Loss: 0.0973\n",
      "Validation Accuracy: 95.57%\n",
      "Validation Loss: 0.1592\n"
     ]
    },
    {
     "name": "stderr",
     "output_type": "stream",
     "text": [
      "Epoch 13/50: 100%|██████████| 1358/1358 [00:08<00:00, 169.07batch/s, loss=0.0141] "
     ]
    },
    {
     "name": "stdout",
     "output_type": "stream",
     "text": [
      "Epoch 13, Average Loss: 0.0909\n"
     ]
    },
    {
     "name": "stderr",
     "output_type": "stream",
     "text": [
      "\n"
     ]
    },
    {
     "name": "stdout",
     "output_type": "stream",
     "text": [
      "Validation Accuracy: 95.35%\n",
      "Validation Loss: 0.1492\n"
     ]
    },
    {
     "name": "stderr",
     "output_type": "stream",
     "text": [
      "Epoch 14/50: 100%|██████████| 1358/1358 [00:07<00:00, 181.24batch/s, loss=0.00323] "
     ]
    },
    {
     "name": "stdout",
     "output_type": "stream",
     "text": [
      "Epoch 14, Average Loss: 0.0865\n"
     ]
    },
    {
     "name": "stderr",
     "output_type": "stream",
     "text": [
      "\n"
     ]
    },
    {
     "name": "stdout",
     "output_type": "stream",
     "text": [
      "Validation Accuracy: 96.07%\n",
      "Validation Loss: 0.1491\n"
     ]
    },
    {
     "name": "stderr",
     "output_type": "stream",
     "text": [
      "Epoch 15/50: 100%|██████████| 1358/1358 [00:08<00:00, 168.60batch/s, loss=0.554]   "
     ]
    },
    {
     "name": "stdout",
     "output_type": "stream",
     "text": [
      "Epoch 15, Average Loss: 0.0786\n"
     ]
    },
    {
     "name": "stderr",
     "output_type": "stream",
     "text": [
      "\n"
     ]
    },
    {
     "name": "stdout",
     "output_type": "stream",
     "text": [
      "Validation Accuracy: 95.24%\n",
      "Validation Loss: 0.1688\n"
     ]
    },
    {
     "name": "stderr",
     "output_type": "stream",
     "text": [
      "Epoch 16/50: 100%|██████████| 1358/1358 [00:08<00:00, 165.89batch/s, loss=0.261]   \n"
     ]
    },
    {
     "name": "stdout",
     "output_type": "stream",
     "text": [
      "Epoch 16, Average Loss: 0.0776\n",
      "Validation Accuracy: 95.07%\n",
      "Validation Loss: 0.1946\n"
     ]
    },
    {
     "name": "stderr",
     "output_type": "stream",
     "text": [
      "Epoch 17/50: 100%|██████████| 1358/1358 [00:08<00:00, 166.54batch/s, loss=0.00642] "
     ]
    },
    {
     "name": "stdout",
     "output_type": "stream",
     "text": [
      "Epoch 17, Average Loss: 0.0760\n"
     ]
    },
    {
     "name": "stderr",
     "output_type": "stream",
     "text": [
      "\n"
     ]
    },
    {
     "name": "stdout",
     "output_type": "stream",
     "text": [
      "Validation Accuracy: 95.70%\n",
      "Validation Loss: 0.1859\n"
     ]
    },
    {
     "name": "stderr",
     "output_type": "stream",
     "text": [
      "Epoch 18/50: 100%|██████████| 1358/1358 [00:08<00:00, 169.67batch/s, loss=0.249]   \n"
     ]
    },
    {
     "name": "stdout",
     "output_type": "stream",
     "text": [
      "Epoch 18, Average Loss: 0.0738\n",
      "Validation Accuracy: 95.07%\n",
      "Validation Loss: 0.1935\n"
     ]
    },
    {
     "name": "stderr",
     "output_type": "stream",
     "text": [
      "Epoch 19/50: 100%|██████████| 1358/1358 [00:06<00:00, 198.71batch/s, loss=0.0178]  "
     ]
    },
    {
     "name": "stdout",
     "output_type": "stream",
     "text": [
      "Epoch 19, Average Loss: 0.0710\n"
     ]
    },
    {
     "name": "stderr",
     "output_type": "stream",
     "text": [
      "\n"
     ]
    },
    {
     "name": "stdout",
     "output_type": "stream",
     "text": [
      "Validation Accuracy: 95.57%\n",
      "Validation Loss: 0.1851\n",
      "Early stopping triggered after 19 epochs.\n",
      "\n",
      "\n",
      "--Testing configuration: image_size=32, layers=3, first_layer_filters=8\n"
     ]
    },
    {
     "name": "stderr",
     "output_type": "stream",
     "text": [
      "Epoch 1/50: 100%|██████████| 1358/1358 [00:07<00:00, 172.66batch/s, loss=1.33] "
     ]
    },
    {
     "name": "stdout",
     "output_type": "stream",
     "text": [
      "Epoch 1, Average Loss: 1.7000\n"
     ]
    },
    {
     "name": "stderr",
     "output_type": "stream",
     "text": [
      "\n"
     ]
    },
    {
     "name": "stdout",
     "output_type": "stream",
     "text": [
      "Validation Accuracy: 71.89%\n",
      "Validation Loss: 0.9244\n"
     ]
    },
    {
     "name": "stderr",
     "output_type": "stream",
     "text": [
      "Epoch 2/50: 100%|██████████| 1358/1358 [00:07<00:00, 175.04batch/s, loss=0.807]\n"
     ]
    },
    {
     "name": "stdout",
     "output_type": "stream",
     "text": [
      "Epoch 2, Average Loss: 0.9340\n",
      "Validation Accuracy: 78.65%\n",
      "Validation Loss: 0.6748\n"
     ]
    },
    {
     "name": "stderr",
     "output_type": "stream",
     "text": [
      "Epoch 3/50: 100%|██████████| 1358/1358 [00:07<00:00, 173.84batch/s, loss=0.493]"
     ]
    },
    {
     "name": "stdout",
     "output_type": "stream",
     "text": [
      "Epoch 3, Average Loss: 0.7262\n"
     ]
    },
    {
     "name": "stderr",
     "output_type": "stream",
     "text": [
      "\n"
     ]
    },
    {
     "name": "stdout",
     "output_type": "stream",
     "text": [
      "Validation Accuracy: 83.95%\n",
      "Validation Loss: 0.5066\n"
     ]
    },
    {
     "name": "stderr",
     "output_type": "stream",
     "text": [
      "Epoch 4/50: 100%|██████████| 1358/1358 [00:07<00:00, 190.29batch/s, loss=0.522]"
     ]
    },
    {
     "name": "stdout",
     "output_type": "stream",
     "text": [
      "Epoch 4, Average Loss: 0.6007\n"
     ]
    },
    {
     "name": "stderr",
     "output_type": "stream",
     "text": [
      "\n"
     ]
    },
    {
     "name": "stdout",
     "output_type": "stream",
     "text": [
      "Validation Accuracy: 85.90%\n",
      "Validation Loss: 0.4485\n"
     ]
    },
    {
     "name": "stderr",
     "output_type": "stream",
     "text": [
      "Epoch 5/50: 100%|██████████| 1358/1358 [00:07<00:00, 173.11batch/s, loss=0.518]"
     ]
    },
    {
     "name": "stdout",
     "output_type": "stream",
     "text": [
      "Epoch 5, Average Loss: 0.5151\n"
     ]
    },
    {
     "name": "stderr",
     "output_type": "stream",
     "text": [
      "\n"
     ]
    },
    {
     "name": "stdout",
     "output_type": "stream",
     "text": [
      "Validation Accuracy: 88.18%\n",
      "Validation Loss: 0.3728\n"
     ]
    },
    {
     "name": "stderr",
     "output_type": "stream",
     "text": [
      "Epoch 6/50: 100%|██████████| 1358/1358 [00:07<00:00, 170.45batch/s, loss=0.229]"
     ]
    },
    {
     "name": "stdout",
     "output_type": "stream",
     "text": [
      "Epoch 6, Average Loss: 0.4552\n"
     ]
    },
    {
     "name": "stderr",
     "output_type": "stream",
     "text": [
      "\n"
     ]
    },
    {
     "name": "stdout",
     "output_type": "stream",
     "text": [
      "Validation Accuracy: 88.90%\n",
      "Validation Loss: 0.3520\n"
     ]
    },
    {
     "name": "stderr",
     "output_type": "stream",
     "text": [
      "Epoch 7/50: 100%|██████████| 1358/1358 [00:07<00:00, 193.55batch/s, loss=0.522] "
     ]
    },
    {
     "name": "stdout",
     "output_type": "stream",
     "text": [
      "Epoch 7, Average Loss: 0.4106\n"
     ]
    },
    {
     "name": "stderr",
     "output_type": "stream",
     "text": [
      "\n"
     ]
    },
    {
     "name": "stdout",
     "output_type": "stream",
     "text": [
      "Validation Accuracy: 90.83%\n",
      "Validation Loss: 0.2831\n"
     ]
    },
    {
     "name": "stderr",
     "output_type": "stream",
     "text": [
      "Epoch 8/50: 100%|██████████| 1358/1358 [00:07<00:00, 175.01batch/s, loss=0.643] "
     ]
    },
    {
     "name": "stdout",
     "output_type": "stream",
     "text": [
      "Epoch 8, Average Loss: 0.3796\n"
     ]
    },
    {
     "name": "stderr",
     "output_type": "stream",
     "text": [
      "\n"
     ]
    },
    {
     "name": "stdout",
     "output_type": "stream",
     "text": [
      "Validation Accuracy: 90.86%\n",
      "Validation Loss: 0.2897\n"
     ]
    },
    {
     "name": "stderr",
     "output_type": "stream",
     "text": [
      "Epoch 9/50: 100%|██████████| 1358/1358 [00:07<00:00, 170.17batch/s, loss=0.617] "
     ]
    },
    {
     "name": "stdout",
     "output_type": "stream",
     "text": [
      "Epoch 9, Average Loss: 0.3464\n"
     ]
    },
    {
     "name": "stderr",
     "output_type": "stream",
     "text": [
      "\n"
     ]
    },
    {
     "name": "stdout",
     "output_type": "stream",
     "text": [
      "Validation Accuracy: 91.12%\n",
      "Validation Loss: 0.2838\n"
     ]
    },
    {
     "name": "stderr",
     "output_type": "stream",
     "text": [
      "Epoch 10/50: 100%|██████████| 1358/1358 [00:07<00:00, 173.11batch/s, loss=0.169] "
     ]
    },
    {
     "name": "stdout",
     "output_type": "stream",
     "text": [
      "Epoch 10, Average Loss: 0.3300\n"
     ]
    },
    {
     "name": "stderr",
     "output_type": "stream",
     "text": [
      "\n"
     ]
    },
    {
     "name": "stdout",
     "output_type": "stream",
     "text": [
      "Validation Accuracy: 91.58%\n",
      "Validation Loss: 0.2584\n"
     ]
    },
    {
     "name": "stderr",
     "output_type": "stream",
     "text": [
      "Epoch 11/50: 100%|██████████| 1358/1358 [00:07<00:00, 187.49batch/s, loss=0.262] "
     ]
    },
    {
     "name": "stdout",
     "output_type": "stream",
     "text": [
      "Epoch 11, Average Loss: 0.3139\n"
     ]
    },
    {
     "name": "stderr",
     "output_type": "stream",
     "text": [
      "\n"
     ]
    },
    {
     "name": "stdout",
     "output_type": "stream",
     "text": [
      "Validation Accuracy: 92.44%\n",
      "Validation Loss: 0.2376\n"
     ]
    },
    {
     "name": "stderr",
     "output_type": "stream",
     "text": [
      "Epoch 12/50: 100%|██████████| 1358/1358 [00:07<00:00, 170.13batch/s, loss=0.351] "
     ]
    },
    {
     "name": "stdout",
     "output_type": "stream",
     "text": [
      "Epoch 12, Average Loss: 0.2927\n"
     ]
    },
    {
     "name": "stderr",
     "output_type": "stream",
     "text": [
      "\n"
     ]
    },
    {
     "name": "stdout",
     "output_type": "stream",
     "text": [
      "Validation Accuracy: 92.66%\n",
      "Validation Loss: 0.2352\n"
     ]
    },
    {
     "name": "stderr",
     "output_type": "stream",
     "text": [
      "Epoch 13/50: 100%|██████████| 1358/1358 [00:08<00:00, 166.23batch/s, loss=0.069] \n"
     ]
    },
    {
     "name": "stdout",
     "output_type": "stream",
     "text": [
      "Epoch 13, Average Loss: 0.2688\n",
      "Validation Accuracy: 93.07%\n",
      "Validation Loss: 0.2214\n"
     ]
    },
    {
     "name": "stderr",
     "output_type": "stream",
     "text": [
      "Epoch 14/50: 100%|██████████| 1358/1358 [00:07<00:00, 169.92batch/s, loss=0.414] "
     ]
    },
    {
     "name": "stdout",
     "output_type": "stream",
     "text": [
      "Epoch 14, Average Loss: 0.2627\n"
     ]
    },
    {
     "name": "stderr",
     "output_type": "stream",
     "text": [
      "\n"
     ]
    },
    {
     "name": "stdout",
     "output_type": "stream",
     "text": [
      "Validation Accuracy: 93.29%\n",
      "Validation Loss: 0.2115\n"
     ]
    },
    {
     "name": "stderr",
     "output_type": "stream",
     "text": [
      "Epoch 15/50: 100%|██████████| 1358/1358 [00:07<00:00, 171.82batch/s, loss=0.205] "
     ]
    },
    {
     "name": "stdout",
     "output_type": "stream",
     "text": [
      "Epoch 15, Average Loss: 0.2572\n"
     ]
    },
    {
     "name": "stderr",
     "output_type": "stream",
     "text": [
      "\n"
     ]
    },
    {
     "name": "stdout",
     "output_type": "stream",
     "text": [
      "Validation Accuracy: 93.90%\n",
      "Validation Loss: 0.1949\n"
     ]
    },
    {
     "name": "stderr",
     "output_type": "stream",
     "text": [
      "Epoch 16/50: 100%|██████████| 1358/1358 [00:07<00:00, 172.86batch/s, loss=0.112] "
     ]
    },
    {
     "name": "stdout",
     "output_type": "stream",
     "text": [
      "Epoch 16, Average Loss: 0.2414\n"
     ]
    },
    {
     "name": "stderr",
     "output_type": "stream",
     "text": [
      "\n"
     ]
    },
    {
     "name": "stdout",
     "output_type": "stream",
     "text": [
      "Validation Accuracy: 93.99%\n",
      "Validation Loss: 0.1906\n"
     ]
    },
    {
     "name": "stderr",
     "output_type": "stream",
     "text": [
      "Epoch 17/50: 100%|██████████| 1358/1358 [00:08<00:00, 168.51batch/s, loss=0.0866]"
     ]
    },
    {
     "name": "stdout",
     "output_type": "stream",
     "text": [
      "Epoch 17, Average Loss: 0.2387\n"
     ]
    },
    {
     "name": "stderr",
     "output_type": "stream",
     "text": [
      "\n"
     ]
    },
    {
     "name": "stdout",
     "output_type": "stream",
     "text": [
      "Validation Accuracy: 93.33%\n",
      "Validation Loss: 0.2030\n"
     ]
    },
    {
     "name": "stderr",
     "output_type": "stream",
     "text": [
      "Epoch 18/50: 100%|██████████| 1358/1358 [00:07<00:00, 187.64batch/s, loss=0.428] "
     ]
    },
    {
     "name": "stdout",
     "output_type": "stream",
     "text": [
      "Epoch 18, Average Loss: 0.2321\n"
     ]
    },
    {
     "name": "stderr",
     "output_type": "stream",
     "text": [
      "\n"
     ]
    },
    {
     "name": "stdout",
     "output_type": "stream",
     "text": [
      "Validation Accuracy: 93.86%\n",
      "Validation Loss: 0.1980\n"
     ]
    },
    {
     "name": "stderr",
     "output_type": "stream",
     "text": [
      "Epoch 19/50: 100%|██████████| 1358/1358 [00:07<00:00, 175.61batch/s, loss=0.0282]\n"
     ]
    },
    {
     "name": "stdout",
     "output_type": "stream",
     "text": [
      "Epoch 19, Average Loss: 0.2184\n",
      "Validation Accuracy: 94.04%\n",
      "Validation Loss: 0.1784\n"
     ]
    },
    {
     "name": "stderr",
     "output_type": "stream",
     "text": [
      "Epoch 20/50: 100%|██████████| 1358/1358 [00:07<00:00, 169.83batch/s, loss=0.116] "
     ]
    },
    {
     "name": "stdout",
     "output_type": "stream",
     "text": [
      "Epoch 20, Average Loss: 0.2139\n"
     ]
    },
    {
     "name": "stderr",
     "output_type": "stream",
     "text": [
      "\n"
     ]
    },
    {
     "name": "stdout",
     "output_type": "stream",
     "text": [
      "Validation Accuracy: 94.30%\n",
      "Validation Loss: 0.1877\n"
     ]
    },
    {
     "name": "stderr",
     "output_type": "stream",
     "text": [
      "Epoch 21/50: 100%|██████████| 1358/1358 [00:07<00:00, 171.38batch/s, loss=0.0752]"
     ]
    },
    {
     "name": "stdout",
     "output_type": "stream",
     "text": [
      "Epoch 21, Average Loss: 0.2061\n"
     ]
    },
    {
     "name": "stderr",
     "output_type": "stream",
     "text": [
      "\n"
     ]
    },
    {
     "name": "stdout",
     "output_type": "stream",
     "text": [
      "Validation Accuracy: 94.43%\n",
      "Validation Loss: 0.1873\n"
     ]
    },
    {
     "name": "stderr",
     "output_type": "stream",
     "text": [
      "Epoch 22/50: 100%|██████████| 1358/1358 [00:07<00:00, 190.09batch/s, loss=0.417] "
     ]
    },
    {
     "name": "stdout",
     "output_type": "stream",
     "text": [
      "Epoch 22, Average Loss: 0.2021\n"
     ]
    },
    {
     "name": "stderr",
     "output_type": "stream",
     "text": [
      "\n"
     ]
    },
    {
     "name": "stdout",
     "output_type": "stream",
     "text": [
      "Validation Accuracy: 94.32%\n",
      "Validation Loss: 0.1799\n"
     ]
    },
    {
     "name": "stderr",
     "output_type": "stream",
     "text": [
      "Epoch 23/50: 100%|██████████| 1358/1358 [00:08<00:00, 169.33batch/s, loss=0.0193] "
     ]
    },
    {
     "name": "stdout",
     "output_type": "stream",
     "text": [
      "Epoch 23, Average Loss: 0.1971\n"
     ]
    },
    {
     "name": "stderr",
     "output_type": "stream",
     "text": [
      "\n"
     ]
    },
    {
     "name": "stdout",
     "output_type": "stream",
     "text": [
      "Validation Accuracy: 93.68%\n",
      "Validation Loss: 0.1984\n"
     ]
    },
    {
     "name": "stderr",
     "output_type": "stream",
     "text": [
      "Epoch 24/50: 100%|██████████| 1358/1358 [00:08<00:00, 167.91batch/s, loss=0.253] "
     ]
    },
    {
     "name": "stdout",
     "output_type": "stream",
     "text": [
      "Epoch 24, Average Loss: 0.1897\n"
     ]
    },
    {
     "name": "stderr",
     "output_type": "stream",
     "text": [
      "\n"
     ]
    },
    {
     "name": "stdout",
     "output_type": "stream",
     "text": [
      "Validation Accuracy: 93.90%\n",
      "Validation Loss: 0.1979\n",
      "Early stopping triggered after 24 epochs.\n",
      "\n",
      "\n",
      "--Testing configuration: image_size=32, layers=3, first_layer_filters=16\n"
     ]
    },
    {
     "name": "stderr",
     "output_type": "stream",
     "text": [
      "Epoch 1/50: 100%|██████████| 1358/1358 [00:07<00:00, 185.15batch/s, loss=0.57] "
     ]
    },
    {
     "name": "stdout",
     "output_type": "stream",
     "text": [
      "Epoch 1, Average Loss: 1.4088\n"
     ]
    },
    {
     "name": "stderr",
     "output_type": "stream",
     "text": [
      "\n"
     ]
    },
    {
     "name": "stdout",
     "output_type": "stream",
     "text": [
      "Validation Accuracy: 76.63%\n",
      "Validation Loss: 0.7537\n"
     ]
    },
    {
     "name": "stderr",
     "output_type": "stream",
     "text": [
      "Epoch 2/50: 100%|██████████| 1358/1358 [00:08<00:00, 169.30batch/s, loss=0.633]\n"
     ]
    },
    {
     "name": "stdout",
     "output_type": "stream",
     "text": [
      "Epoch 2, Average Loss: 0.7036\n",
      "Validation Accuracy: 84.34%\n",
      "Validation Loss: 0.4949\n"
     ]
    },
    {
     "name": "stderr",
     "output_type": "stream",
     "text": [
      "Epoch 3/50: 100%|██████████| 1358/1358 [00:08<00:00, 165.20batch/s, loss=0.671]"
     ]
    },
    {
     "name": "stdout",
     "output_type": "stream",
     "text": [
      "Epoch 3, Average Loss: 0.5291\n"
     ]
    },
    {
     "name": "stderr",
     "output_type": "stream",
     "text": [
      "\n"
     ]
    },
    {
     "name": "stdout",
     "output_type": "stream",
     "text": [
      "Validation Accuracy: 88.09%\n",
      "Validation Loss: 0.3676\n"
     ]
    },
    {
     "name": "stderr",
     "output_type": "stream",
     "text": [
      "Epoch 4/50: 100%|██████████| 1358/1358 [00:08<00:00, 165.50batch/s, loss=0.345] "
     ]
    },
    {
     "name": "stdout",
     "output_type": "stream",
     "text": [
      "Epoch 4, Average Loss: 0.4302\n"
     ]
    },
    {
     "name": "stderr",
     "output_type": "stream",
     "text": [
      "\n"
     ]
    },
    {
     "name": "stdout",
     "output_type": "stream",
     "text": [
      "Validation Accuracy: 90.05%\n",
      "Validation Loss: 0.3175\n"
     ]
    },
    {
     "name": "stderr",
     "output_type": "stream",
     "text": [
      "Epoch 5/50: 100%|██████████| 1358/1358 [00:07<00:00, 182.07batch/s, loss=0.478] "
     ]
    },
    {
     "name": "stdout",
     "output_type": "stream",
     "text": [
      "Epoch 5, Average Loss: 0.3647\n"
     ]
    },
    {
     "name": "stderr",
     "output_type": "stream",
     "text": [
      "\n"
     ]
    },
    {
     "name": "stdout",
     "output_type": "stream",
     "text": [
      "Validation Accuracy: 90.72%\n",
      "Validation Loss: 0.2956\n"
     ]
    },
    {
     "name": "stderr",
     "output_type": "stream",
     "text": [
      "Epoch 6/50: 100%|██████████| 1358/1358 [00:08<00:00, 163.26batch/s, loss=0.241] "
     ]
    },
    {
     "name": "stdout",
     "output_type": "stream",
     "text": [
      "Epoch 6, Average Loss: 0.3223\n"
     ]
    },
    {
     "name": "stderr",
     "output_type": "stream",
     "text": [
      "\n"
     ]
    },
    {
     "name": "stdout",
     "output_type": "stream",
     "text": [
      "Validation Accuracy: 92.30%\n",
      "Validation Loss: 0.2472\n"
     ]
    },
    {
     "name": "stderr",
     "output_type": "stream",
     "text": [
      "Epoch 7/50: 100%|██████████| 1358/1358 [00:08<00:00, 168.31batch/s, loss=0.257] "
     ]
    },
    {
     "name": "stdout",
     "output_type": "stream",
     "text": [
      "Epoch 7, Average Loss: 0.2913\n"
     ]
    },
    {
     "name": "stderr",
     "output_type": "stream",
     "text": [
      "\n"
     ]
    },
    {
     "name": "stdout",
     "output_type": "stream",
     "text": [
      "Validation Accuracy: 92.85%\n",
      "Validation Loss: 0.2242\n"
     ]
    },
    {
     "name": "stderr",
     "output_type": "stream",
     "text": [
      "Epoch 8/50: 100%|██████████| 1358/1358 [00:08<00:00, 166.89batch/s, loss=0.238] "
     ]
    },
    {
     "name": "stdout",
     "output_type": "stream",
     "text": [
      "Epoch 8, Average Loss: 0.2559\n"
     ]
    },
    {
     "name": "stderr",
     "output_type": "stream",
     "text": [
      "\n"
     ]
    },
    {
     "name": "stdout",
     "output_type": "stream",
     "text": [
      "Validation Accuracy: 92.41%\n",
      "Validation Loss: 0.2360\n"
     ]
    },
    {
     "name": "stderr",
     "output_type": "stream",
     "text": [
      "Epoch 9/50: 100%|██████████| 1358/1358 [00:08<00:00, 162.85batch/s, loss=0.163] "
     ]
    },
    {
     "name": "stdout",
     "output_type": "stream",
     "text": [
      "Epoch 9, Average Loss: 0.2350\n"
     ]
    },
    {
     "name": "stderr",
     "output_type": "stream",
     "text": [
      "\n"
     ]
    },
    {
     "name": "stdout",
     "output_type": "stream",
     "text": [
      "Validation Accuracy: 93.79%\n",
      "Validation Loss: 0.1930\n"
     ]
    },
    {
     "name": "stderr",
     "output_type": "stream",
     "text": [
      "Epoch 10/50: 100%|██████████| 1358/1358 [00:07<00:00, 182.12batch/s, loss=2.55]   "
     ]
    },
    {
     "name": "stdout",
     "output_type": "stream",
     "text": [
      "Epoch 10, Average Loss: 0.2193\n"
     ]
    },
    {
     "name": "stderr",
     "output_type": "stream",
     "text": [
      "\n"
     ]
    },
    {
     "name": "stdout",
     "output_type": "stream",
     "text": [
      "Validation Accuracy: 94.04%\n",
      "Validation Loss: 0.1853\n"
     ]
    },
    {
     "name": "stderr",
     "output_type": "stream",
     "text": [
      "Epoch 11/50: 100%|██████████| 1358/1358 [00:08<00:00, 161.46batch/s, loss=0.217]  \n"
     ]
    },
    {
     "name": "stdout",
     "output_type": "stream",
     "text": [
      "Epoch 11, Average Loss: 0.2009\n",
      "Validation Accuracy: 93.75%\n",
      "Validation Loss: 0.1965\n"
     ]
    },
    {
     "name": "stderr",
     "output_type": "stream",
     "text": [
      "Epoch 12/50: 100%|██████████| 1358/1358 [00:08<00:00, 165.57batch/s, loss=0.0602]\n"
     ]
    },
    {
     "name": "stdout",
     "output_type": "stream",
     "text": [
      "Epoch 12, Average Loss: 0.1943\n",
      "Validation Accuracy: 94.21%\n",
      "Validation Loss: 0.1760\n"
     ]
    },
    {
     "name": "stderr",
     "output_type": "stream",
     "text": [
      "Epoch 13/50: 100%|██████████| 1358/1358 [00:07<00:00, 185.31batch/s, loss=0.0783]"
     ]
    },
    {
     "name": "stdout",
     "output_type": "stream",
     "text": [
      "Epoch 13, Average Loss: 0.1760\n"
     ]
    },
    {
     "name": "stderr",
     "output_type": "stream",
     "text": [
      "\n"
     ]
    },
    {
     "name": "stdout",
     "output_type": "stream",
     "text": [
      "Validation Accuracy: 94.61%\n",
      "Validation Loss: 0.1784\n"
     ]
    },
    {
     "name": "stderr",
     "output_type": "stream",
     "text": [
      "Epoch 14/50: 100%|██████████| 1358/1358 [00:08<00:00, 167.14batch/s, loss=0.461]  "
     ]
    },
    {
     "name": "stdout",
     "output_type": "stream",
     "text": [
      "Epoch 14, Average Loss: 0.1692\n"
     ]
    },
    {
     "name": "stderr",
     "output_type": "stream",
     "text": [
      "\n"
     ]
    },
    {
     "name": "stdout",
     "output_type": "stream",
     "text": [
      "Validation Accuracy: 92.74%\n",
      "Validation Loss: 0.2331\n"
     ]
    },
    {
     "name": "stderr",
     "output_type": "stream",
     "text": [
      "Epoch 15/50: 100%|██████████| 1358/1358 [00:08<00:00, 163.55batch/s, loss=0.0729] "
     ]
    },
    {
     "name": "stdout",
     "output_type": "stream",
     "text": [
      "Epoch 15, Average Loss: 0.1606\n"
     ]
    },
    {
     "name": "stderr",
     "output_type": "stream",
     "text": [
      "\n"
     ]
    },
    {
     "name": "stdout",
     "output_type": "stream",
     "text": [
      "Validation Accuracy: 94.59%\n",
      "Validation Loss: 0.1784\n"
     ]
    },
    {
     "name": "stderr",
     "output_type": "stream",
     "text": [
      "Epoch 16/50: 100%|██████████| 1358/1358 [00:08<00:00, 160.94batch/s, loss=0.0648] "
     ]
    },
    {
     "name": "stdout",
     "output_type": "stream",
     "text": [
      "Epoch 16, Average Loss: 0.1534\n"
     ]
    },
    {
     "name": "stderr",
     "output_type": "stream",
     "text": [
      "\n"
     ]
    },
    {
     "name": "stdout",
     "output_type": "stream",
     "text": [
      "Validation Accuracy: 94.25%\n",
      "Validation Loss: 0.1903\n"
     ]
    },
    {
     "name": "stderr",
     "output_type": "stream",
     "text": [
      "Epoch 17/50: 100%|██████████| 1358/1358 [00:07<00:00, 180.41batch/s, loss=0.0223] \n"
     ]
    },
    {
     "name": "stdout",
     "output_type": "stream",
     "text": [
      "Epoch 17, Average Loss: 0.1463\n",
      "Validation Accuracy: 95.16%\n",
      "Validation Loss: 0.1597\n"
     ]
    },
    {
     "name": "stderr",
     "output_type": "stream",
     "text": [
      "Epoch 18/50: 100%|██████████| 1358/1358 [00:08<00:00, 161.06batch/s, loss=0.331]  "
     ]
    },
    {
     "name": "stdout",
     "output_type": "stream",
     "text": [
      "Epoch 18, Average Loss: 0.1451\n"
     ]
    },
    {
     "name": "stderr",
     "output_type": "stream",
     "text": [
      "\n"
     ]
    },
    {
     "name": "stdout",
     "output_type": "stream",
     "text": [
      "Validation Accuracy: 94.06%\n",
      "Validation Loss: 0.2094\n"
     ]
    },
    {
     "name": "stderr",
     "output_type": "stream",
     "text": [
      "Epoch 19/50: 100%|██████████| 1358/1358 [00:08<00:00, 164.58batch/s, loss=0.019]  "
     ]
    },
    {
     "name": "stdout",
     "output_type": "stream",
     "text": [
      "Epoch 19, Average Loss: 0.1397\n"
     ]
    },
    {
     "name": "stderr",
     "output_type": "stream",
     "text": [
      "\n"
     ]
    },
    {
     "name": "stdout",
     "output_type": "stream",
     "text": [
      "Validation Accuracy: 94.83%\n",
      "Validation Loss: 0.1744\n"
     ]
    },
    {
     "name": "stderr",
     "output_type": "stream",
     "text": [
      "Epoch 20/50: 100%|██████████| 1358/1358 [00:08<00:00, 164.71batch/s, loss=0.00404]"
     ]
    },
    {
     "name": "stdout",
     "output_type": "stream",
     "text": [
      "Epoch 20, Average Loss: 0.1293\n"
     ]
    },
    {
     "name": "stderr",
     "output_type": "stream",
     "text": [
      "\n"
     ]
    },
    {
     "name": "stdout",
     "output_type": "stream",
     "text": [
      "Validation Accuracy: 95.07%\n",
      "Validation Loss: 0.1689\n"
     ]
    },
    {
     "name": "stderr",
     "output_type": "stream",
     "text": [
      "Epoch 21/50: 100%|██████████| 1358/1358 [00:08<00:00, 163.74batch/s, loss=0.0361] "
     ]
    },
    {
     "name": "stdout",
     "output_type": "stream",
     "text": [
      "Epoch 21, Average Loss: 0.1324\n"
     ]
    },
    {
     "name": "stderr",
     "output_type": "stream",
     "text": [
      "\n"
     ]
    },
    {
     "name": "stdout",
     "output_type": "stream",
     "text": [
      "Validation Accuracy: 95.24%\n",
      "Validation Loss: 0.1678\n"
     ]
    },
    {
     "name": "stderr",
     "output_type": "stream",
     "text": [
      "Epoch 22/50: 100%|██████████| 1358/1358 [00:07<00:00, 187.99batch/s, loss=0.0905] "
     ]
    },
    {
     "name": "stdout",
     "output_type": "stream",
     "text": [
      "Epoch 22, Average Loss: 0.1247\n"
     ]
    },
    {
     "name": "stderr",
     "output_type": "stream",
     "text": [
      "\n"
     ]
    },
    {
     "name": "stdout",
     "output_type": "stream",
     "text": [
      "Validation Accuracy: 95.66%\n",
      "Validation Loss: 0.1543\n"
     ]
    },
    {
     "name": "stderr",
     "output_type": "stream",
     "text": [
      "Epoch 23/50: 100%|██████████| 1358/1358 [00:08<00:00, 164.93batch/s, loss=0.133]  "
     ]
    },
    {
     "name": "stdout",
     "output_type": "stream",
     "text": [
      "Epoch 23, Average Loss: 0.1219\n"
     ]
    },
    {
     "name": "stderr",
     "output_type": "stream",
     "text": [
      "\n"
     ]
    },
    {
     "name": "stdout",
     "output_type": "stream",
     "text": [
      "Validation Accuracy: 95.51%\n",
      "Validation Loss: 0.1593\n"
     ]
    },
    {
     "name": "stderr",
     "output_type": "stream",
     "text": [
      "Epoch 24/50: 100%|██████████| 1358/1358 [00:08<00:00, 161.01batch/s, loss=0.0526] "
     ]
    },
    {
     "name": "stdout",
     "output_type": "stream",
     "text": [
      "Epoch 24, Average Loss: 0.1165\n"
     ]
    },
    {
     "name": "stderr",
     "output_type": "stream",
     "text": [
      "\n"
     ]
    },
    {
     "name": "stdout",
     "output_type": "stream",
     "text": [
      "Validation Accuracy: 95.31%\n",
      "Validation Loss: 0.1720\n"
     ]
    },
    {
     "name": "stderr",
     "output_type": "stream",
     "text": [
      "Epoch 25/50: 100%|██████████| 1358/1358 [00:07<00:00, 179.42batch/s, loss=0.0484] "
     ]
    },
    {
     "name": "stdout",
     "output_type": "stream",
     "text": [
      "Epoch 25, Average Loss: 0.1190\n"
     ]
    },
    {
     "name": "stderr",
     "output_type": "stream",
     "text": [
      "\n"
     ]
    },
    {
     "name": "stdout",
     "output_type": "stream",
     "text": [
      "Validation Accuracy: 95.04%\n",
      "Validation Loss: 0.1667\n"
     ]
    },
    {
     "name": "stderr",
     "output_type": "stream",
     "text": [
      "Epoch 26/50: 100%|██████████| 1358/1358 [00:08<00:00, 164.60batch/s, loss=0.0381]  "
     ]
    },
    {
     "name": "stdout",
     "output_type": "stream",
     "text": [
      "Epoch 26, Average Loss: 0.1136\n"
     ]
    },
    {
     "name": "stderr",
     "output_type": "stream",
     "text": [
      "\n"
     ]
    },
    {
     "name": "stdout",
     "output_type": "stream",
     "text": [
      "Validation Accuracy: 95.07%\n",
      "Validation Loss: 0.1767\n"
     ]
    },
    {
     "name": "stderr",
     "output_type": "stream",
     "text": [
      "Epoch 27/50: 100%|██████████| 1358/1358 [00:08<00:00, 167.52batch/s, loss=0.214]  "
     ]
    },
    {
     "name": "stdout",
     "output_type": "stream",
     "text": [
      "Epoch 27, Average Loss: 0.1168\n"
     ]
    },
    {
     "name": "stderr",
     "output_type": "stream",
     "text": [
      "\n"
     ]
    },
    {
     "name": "stdout",
     "output_type": "stream",
     "text": [
      "Validation Accuracy: 95.62%\n",
      "Validation Loss: 0.1625\n",
      "Early stopping triggered after 27 epochs.\n",
      "\n",
      "\n",
      "--Testing configuration: image_size=32, layers=3, first_layer_filters=32\n"
     ]
    },
    {
     "name": "stderr",
     "output_type": "stream",
     "text": [
      "Epoch 1/50: 100%|██████████| 1358/1358 [00:08<00:00, 167.71batch/s, loss=0.398]"
     ]
    },
    {
     "name": "stdout",
     "output_type": "stream",
     "text": [
      "Epoch 1, Average Loss: 1.2827\n"
     ]
    },
    {
     "name": "stderr",
     "output_type": "stream",
     "text": [
      "\n"
     ]
    },
    {
     "name": "stdout",
     "output_type": "stream",
     "text": [
      "Validation Accuracy: 80.29%\n",
      "Validation Loss: 0.6155\n"
     ]
    },
    {
     "name": "stderr",
     "output_type": "stream",
     "text": [
      "Epoch 2/50: 100%|██████████| 1358/1358 [00:08<00:00, 166.50batch/s, loss=0.29]  "
     ]
    },
    {
     "name": "stdout",
     "output_type": "stream",
     "text": [
      "Epoch 2, Average Loss: 0.5892\n"
     ]
    },
    {
     "name": "stderr",
     "output_type": "stream",
     "text": [
      "\n"
     ]
    },
    {
     "name": "stdout",
     "output_type": "stream",
     "text": [
      "Validation Accuracy: 86.74%\n",
      "Validation Loss: 0.4134\n"
     ]
    },
    {
     "name": "stderr",
     "output_type": "stream",
     "text": [
      "Epoch 3/50: 100%|██████████| 1358/1358 [00:08<00:00, 165.96batch/s, loss=0.417] "
     ]
    },
    {
     "name": "stdout",
     "output_type": "stream",
     "text": [
      "Epoch 3, Average Loss: 0.4264\n"
     ]
    },
    {
     "name": "stderr",
     "output_type": "stream",
     "text": [
      "\n"
     ]
    },
    {
     "name": "stdout",
     "output_type": "stream",
     "text": [
      "Validation Accuracy: 89.28%\n",
      "Validation Loss: 0.3279\n"
     ]
    },
    {
     "name": "stderr",
     "output_type": "stream",
     "text": [
      "Epoch 4/50: 100%|██████████| 1358/1358 [00:08<00:00, 164.67batch/s, loss=1.05]  "
     ]
    },
    {
     "name": "stdout",
     "output_type": "stream",
     "text": [
      "Epoch 4, Average Loss: 0.3358\n"
     ]
    },
    {
     "name": "stderr",
     "output_type": "stream",
     "text": [
      "\n"
     ]
    },
    {
     "name": "stdout",
     "output_type": "stream",
     "text": [
      "Validation Accuracy: 91.23%\n",
      "Validation Loss: 0.2662\n"
     ]
    },
    {
     "name": "stderr",
     "output_type": "stream",
     "text": [
      "Epoch 5/50: 100%|██████████| 1358/1358 [00:07<00:00, 185.24batch/s, loss=0.245] "
     ]
    },
    {
     "name": "stdout",
     "output_type": "stream",
     "text": [
      "Epoch 5, Average Loss: 0.2776\n"
     ]
    },
    {
     "name": "stderr",
     "output_type": "stream",
     "text": [
      "\n"
     ]
    },
    {
     "name": "stdout",
     "output_type": "stream",
     "text": [
      "Validation Accuracy: 93.03%\n",
      "Validation Loss: 0.2127\n"
     ]
    },
    {
     "name": "stderr",
     "output_type": "stream",
     "text": [
      "Epoch 6/50: 100%|██████████| 1358/1358 [00:08<00:00, 168.39batch/s, loss=0.305] \n"
     ]
    },
    {
     "name": "stdout",
     "output_type": "stream",
     "text": [
      "Epoch 6, Average Loss: 0.2433\n",
      "Validation Accuracy: 93.90%\n",
      "Validation Loss: 0.1969\n"
     ]
    },
    {
     "name": "stderr",
     "output_type": "stream",
     "text": [
      "Epoch 7/50: 100%|██████████| 1358/1358 [00:08<00:00, 164.46batch/s, loss=0.0676]"
     ]
    },
    {
     "name": "stdout",
     "output_type": "stream",
     "text": [
      "Epoch 7, Average Loss: 0.2076\n"
     ]
    },
    {
     "name": "stderr",
     "output_type": "stream",
     "text": [
      "\n"
     ]
    },
    {
     "name": "stdout",
     "output_type": "stream",
     "text": [
      "Validation Accuracy: 93.86%\n",
      "Validation Loss: 0.1992\n"
     ]
    },
    {
     "name": "stderr",
     "output_type": "stream",
     "text": [
      "Epoch 8/50: 100%|██████████| 1358/1358 [00:08<00:00, 163.41batch/s, loss=0.0925] "
     ]
    },
    {
     "name": "stdout",
     "output_type": "stream",
     "text": [
      "Epoch 8, Average Loss: 0.1868\n"
     ]
    },
    {
     "name": "stderr",
     "output_type": "stream",
     "text": [
      "\n"
     ]
    },
    {
     "name": "stdout",
     "output_type": "stream",
     "text": [
      "Validation Accuracy: 94.10%\n",
      "Validation Loss: 0.1729\n"
     ]
    },
    {
     "name": "stderr",
     "output_type": "stream",
     "text": [
      "Epoch 9/50: 100%|██████████| 1358/1358 [00:08<00:00, 166.36batch/s, loss=0.0676]"
     ]
    },
    {
     "name": "stdout",
     "output_type": "stream",
     "text": [
      "Epoch 9, Average Loss: 0.1674\n"
     ]
    },
    {
     "name": "stderr",
     "output_type": "stream",
     "text": [
      "\n"
     ]
    },
    {
     "name": "stdout",
     "output_type": "stream",
     "text": [
      "Validation Accuracy: 94.67%\n",
      "Validation Loss: 0.1617\n"
     ]
    },
    {
     "name": "stderr",
     "output_type": "stream",
     "text": [
      "Epoch 10/50: 100%|██████████| 1358/1358 [00:07<00:00, 191.89batch/s, loss=0.341]  "
     ]
    },
    {
     "name": "stdout",
     "output_type": "stream",
     "text": [
      "Epoch 10, Average Loss: 0.1534\n"
     ]
    },
    {
     "name": "stderr",
     "output_type": "stream",
     "text": [
      "\n"
     ]
    },
    {
     "name": "stdout",
     "output_type": "stream",
     "text": [
      "Validation Accuracy: 95.57%\n",
      "Validation Loss: 0.1493\n"
     ]
    },
    {
     "name": "stderr",
     "output_type": "stream",
     "text": [
      "Epoch 11/50: 100%|██████████| 1358/1358 [00:08<00:00, 166.69batch/s, loss=0.212]  "
     ]
    },
    {
     "name": "stdout",
     "output_type": "stream",
     "text": [
      "Epoch 11, Average Loss: 0.1442\n"
     ]
    },
    {
     "name": "stderr",
     "output_type": "stream",
     "text": [
      "\n"
     ]
    },
    {
     "name": "stdout",
     "output_type": "stream",
     "text": [
      "Validation Accuracy: 94.94%\n",
      "Validation Loss: 0.1674\n"
     ]
    },
    {
     "name": "stderr",
     "output_type": "stream",
     "text": [
      "Epoch 12/50: 100%|██████████| 1358/1358 [00:08<00:00, 163.32batch/s, loss=0.0303] \n"
     ]
    },
    {
     "name": "stdout",
     "output_type": "stream",
     "text": [
      "Epoch 12, Average Loss: 0.1356\n",
      "Validation Accuracy: 95.22%\n",
      "Validation Loss: 0.1636\n"
     ]
    },
    {
     "name": "stderr",
     "output_type": "stream",
     "text": [
      "Epoch 13/50: 100%|██████████| 1358/1358 [00:08<00:00, 166.95batch/s, loss=0.0299] \n"
     ]
    },
    {
     "name": "stdout",
     "output_type": "stream",
     "text": [
      "Epoch 13, Average Loss: 0.1217\n",
      "Validation Accuracy: 95.31%\n",
      "Validation Loss: 0.1691\n"
     ]
    },
    {
     "name": "stderr",
     "output_type": "stream",
     "text": [
      "Epoch 14/50: 100%|██████████| 1358/1358 [00:07<00:00, 187.12batch/s, loss=0.0863] "
     ]
    },
    {
     "name": "stdout",
     "output_type": "stream",
     "text": [
      "Epoch 14, Average Loss: 0.1187\n"
     ]
    },
    {
     "name": "stderr",
     "output_type": "stream",
     "text": [
      "\n"
     ]
    },
    {
     "name": "stdout",
     "output_type": "stream",
     "text": [
      "Validation Accuracy: 94.41%\n",
      "Validation Loss: 0.1977\n"
     ]
    },
    {
     "name": "stderr",
     "output_type": "stream",
     "text": [
      "Epoch 15/50: 100%|██████████| 1358/1358 [00:08<00:00, 161.98batch/s, loss=0.216]   "
     ]
    },
    {
     "name": "stdout",
     "output_type": "stream",
     "text": [
      "Epoch 15, Average Loss: 0.1122\n"
     ]
    },
    {
     "name": "stderr",
     "output_type": "stream",
     "text": [
      "\n"
     ]
    },
    {
     "name": "stdout",
     "output_type": "stream",
     "text": [
      "Validation Accuracy: 95.33%\n",
      "Validation Loss: 0.1616\n",
      "Early stopping triggered after 15 epochs.\n",
      "\n",
      "\n",
      "--Testing configuration: image_size=32, layers=3, first_layer_filters=64\n"
     ]
    },
    {
     "name": "stderr",
     "output_type": "stream",
     "text": [
      "Epoch 1/50: 100%|██████████| 1358/1358 [00:08<00:00, 167.35batch/s, loss=0.313]\n"
     ]
    },
    {
     "name": "stdout",
     "output_type": "stream",
     "text": [
      "Epoch 1, Average Loss: 1.1432\n",
      "Validation Accuracy: 83.91%\n",
      "Validation Loss: 0.5008\n"
     ]
    },
    {
     "name": "stderr",
     "output_type": "stream",
     "text": [
      "Epoch 2/50: 100%|██████████| 1358/1358 [00:06<00:00, 194.62batch/s, loss=0.41]  \n"
     ]
    },
    {
     "name": "stdout",
     "output_type": "stream",
     "text": [
      "Epoch 2, Average Loss: 0.4786\n",
      "Validation Accuracy: 88.86%\n",
      "Validation Loss: 0.3424\n"
     ]
    },
    {
     "name": "stderr",
     "output_type": "stream",
     "text": [
      "Epoch 3/50: 100%|██████████| 1358/1358 [00:08<00:00, 157.49batch/s, loss=0.527] "
     ]
    },
    {
     "name": "stdout",
     "output_type": "stream",
     "text": [
      "Epoch 3, Average Loss: 0.3344\n"
     ]
    },
    {
     "name": "stderr",
     "output_type": "stream",
     "text": [
      "\n"
     ]
    },
    {
     "name": "stdout",
     "output_type": "stream",
     "text": [
      "Validation Accuracy: 90.77%\n",
      "Validation Loss: 0.2857\n"
     ]
    },
    {
     "name": "stderr",
     "output_type": "stream",
     "text": [
      "Epoch 4/50: 100%|██████████| 1358/1358 [00:08<00:00, 162.30batch/s, loss=0.114] "
     ]
    },
    {
     "name": "stdout",
     "output_type": "stream",
     "text": [
      "Epoch 4, Average Loss: 0.2612\n"
     ]
    },
    {
     "name": "stderr",
     "output_type": "stream",
     "text": [
      "\n"
     ]
    },
    {
     "name": "stdout",
     "output_type": "stream",
     "text": [
      "Validation Accuracy: 93.66%\n",
      "Validation Loss: 0.1914\n"
     ]
    },
    {
     "name": "stderr",
     "output_type": "stream",
     "text": [
      "Epoch 5/50: 100%|██████████| 1358/1358 [00:08<00:00, 161.99batch/s, loss=0.183] "
     ]
    },
    {
     "name": "stdout",
     "output_type": "stream",
     "text": [
      "Epoch 5, Average Loss: 0.2131\n"
     ]
    },
    {
     "name": "stderr",
     "output_type": "stream",
     "text": [
      "\n"
     ]
    },
    {
     "name": "stdout",
     "output_type": "stream",
     "text": [
      "Validation Accuracy: 93.42%\n",
      "Validation Loss: 0.2097\n"
     ]
    },
    {
     "name": "stderr",
     "output_type": "stream",
     "text": [
      "Epoch 6/50: 100%|██████████| 1358/1358 [00:08<00:00, 168.93batch/s, loss=0.351] "
     ]
    },
    {
     "name": "stdout",
     "output_type": "stream",
     "text": [
      "Epoch 6, Average Loss: 0.1835\n"
     ]
    },
    {
     "name": "stderr",
     "output_type": "stream",
     "text": [
      "\n"
     ]
    },
    {
     "name": "stdout",
     "output_type": "stream",
     "text": [
      "Validation Accuracy: 94.30%\n",
      "Validation Loss: 0.1858\n"
     ]
    },
    {
     "name": "stderr",
     "output_type": "stream",
     "text": [
      "Epoch 7/50: 100%|██████████| 1358/1358 [00:07<00:00, 170.99batch/s, loss=0.272] \n"
     ]
    },
    {
     "name": "stdout",
     "output_type": "stream",
     "text": [
      "Epoch 7, Average Loss: 0.1612\n",
      "Validation Accuracy: 95.66%\n",
      "Validation Loss: 0.1337\n"
     ]
    },
    {
     "name": "stderr",
     "output_type": "stream",
     "text": [
      "Epoch 8/50: 100%|██████████| 1358/1358 [00:07<00:00, 172.64batch/s, loss=0.011]  "
     ]
    },
    {
     "name": "stdout",
     "output_type": "stream",
     "text": [
      "Epoch 8, Average Loss: 0.1474\n"
     ]
    },
    {
     "name": "stderr",
     "output_type": "stream",
     "text": [
      "\n"
     ]
    },
    {
     "name": "stdout",
     "output_type": "stream",
     "text": [
      "Validation Accuracy: 94.67%\n",
      "Validation Loss: 0.1732\n"
     ]
    },
    {
     "name": "stderr",
     "output_type": "stream",
     "text": [
      "Epoch 9/50: 100%|██████████| 1358/1358 [00:07<00:00, 184.03batch/s, loss=0.028]  "
     ]
    },
    {
     "name": "stdout",
     "output_type": "stream",
     "text": [
      "Epoch 9, Average Loss: 0.1290\n"
     ]
    },
    {
     "name": "stderr",
     "output_type": "stream",
     "text": [
      "\n"
     ]
    },
    {
     "name": "stdout",
     "output_type": "stream",
     "text": [
      "Validation Accuracy: 95.77%\n",
      "Validation Loss: 0.1306\n"
     ]
    },
    {
     "name": "stderr",
     "output_type": "stream",
     "text": [
      "Epoch 10/50: 100%|██████████| 1358/1358 [00:07<00:00, 171.25batch/s, loss=0.638]  "
     ]
    },
    {
     "name": "stdout",
     "output_type": "stream",
     "text": [
      "Epoch 10, Average Loss: 0.1197\n"
     ]
    },
    {
     "name": "stderr",
     "output_type": "stream",
     "text": [
      "\n"
     ]
    },
    {
     "name": "stdout",
     "output_type": "stream",
     "text": [
      "Validation Accuracy: 95.20%\n",
      "Validation Loss: 0.1548\n"
     ]
    },
    {
     "name": "stderr",
     "output_type": "stream",
     "text": [
      "Epoch 11/50: 100%|██████████| 1358/1358 [00:07<00:00, 169.84batch/s, loss=0.0381] "
     ]
    },
    {
     "name": "stdout",
     "output_type": "stream",
     "text": [
      "Epoch 11, Average Loss: 0.1112\n"
     ]
    },
    {
     "name": "stderr",
     "output_type": "stream",
     "text": [
      "\n"
     ]
    },
    {
     "name": "stdout",
     "output_type": "stream",
     "text": [
      "Validation Accuracy: 96.16%\n",
      "Validation Loss: 0.1350\n"
     ]
    },
    {
     "name": "stderr",
     "output_type": "stream",
     "text": [
      "Epoch 12/50: 100%|██████████| 1358/1358 [00:08<00:00, 162.73batch/s, loss=0.0381]  "
     ]
    },
    {
     "name": "stdout",
     "output_type": "stream",
     "text": [
      "Epoch 12, Average Loss: 0.1064\n"
     ]
    },
    {
     "name": "stderr",
     "output_type": "stream",
     "text": [
      "\n"
     ]
    },
    {
     "name": "stdout",
     "output_type": "stream",
     "text": [
      "Validation Accuracy: 95.75%\n",
      "Validation Loss: 0.1696\n"
     ]
    },
    {
     "name": "stderr",
     "output_type": "stream",
     "text": [
      "Epoch 13/50: 100%|██████████| 1358/1358 [00:08<00:00, 160.88batch/s, loss=0.0835]  "
     ]
    },
    {
     "name": "stdout",
     "output_type": "stream",
     "text": [
      "Epoch 13, Average Loss: 0.0998\n"
     ]
    },
    {
     "name": "stderr",
     "output_type": "stream",
     "text": [
      "\n"
     ]
    },
    {
     "name": "stdout",
     "output_type": "stream",
     "text": [
      "Validation Accuracy: 95.44%\n",
      "Validation Loss: 0.1686\n"
     ]
    },
    {
     "name": "stderr",
     "output_type": "stream",
     "text": [
      "Epoch 14/50: 100%|██████████| 1358/1358 [00:08<00:00, 165.46batch/s, loss=0.0211]  "
     ]
    },
    {
     "name": "stdout",
     "output_type": "stream",
     "text": [
      "Epoch 14, Average Loss: 0.0971\n"
     ]
    },
    {
     "name": "stderr",
     "output_type": "stream",
     "text": [
      "\n"
     ]
    },
    {
     "name": "stdout",
     "output_type": "stream",
     "text": [
      "Validation Accuracy: 96.30%\n",
      "Validation Loss: 0.1339\n",
      "Early stopping triggered after 14 epochs.\n",
      "\n",
      "\n",
      "--Testing configuration: image_size=32, layers=4, first_layer_filters=8\n"
     ]
    },
    {
     "name": "stderr",
     "output_type": "stream",
     "text": [
      "Epoch 1/50: 100%|██████████| 1358/1358 [00:07<00:00, 171.40batch/s, loss=1.6]  \n"
     ]
    },
    {
     "name": "stdout",
     "output_type": "stream",
     "text": [
      "Epoch 1, Average Loss: 1.9758\n",
      "Validation Accuracy: 66.21%\n",
      "Validation Loss: 1.1089\n"
     ]
    },
    {
     "name": "stderr",
     "output_type": "stream",
     "text": [
      "Epoch 2/50: 100%|██████████| 1358/1358 [00:07<00:00, 187.52batch/s, loss=0.987]"
     ]
    },
    {
     "name": "stdout",
     "output_type": "stream",
     "text": [
      "Epoch 2, Average Loss: 0.9741\n"
     ]
    },
    {
     "name": "stderr",
     "output_type": "stream",
     "text": [
      "\n"
     ]
    },
    {
     "name": "stdout",
     "output_type": "stream",
     "text": [
      "Validation Accuracy: 78.08%\n",
      "Validation Loss: 0.7016\n"
     ]
    },
    {
     "name": "stderr",
     "output_type": "stream",
     "text": [
      "Epoch 3/50: 100%|██████████| 1358/1358 [00:08<00:00, 169.75batch/s, loss=0.289]"
     ]
    },
    {
     "name": "stdout",
     "output_type": "stream",
     "text": [
      "Epoch 3, Average Loss: 0.7300\n"
     ]
    },
    {
     "name": "stderr",
     "output_type": "stream",
     "text": [
      "\n"
     ]
    },
    {
     "name": "stdout",
     "output_type": "stream",
     "text": [
      "Validation Accuracy: 81.60%\n",
      "Validation Loss: 0.5749\n"
     ]
    },
    {
     "name": "stderr",
     "output_type": "stream",
     "text": [
      "Epoch 4/50: 100%|██████████| 1358/1358 [00:08<00:00, 160.92batch/s, loss=1.07] "
     ]
    },
    {
     "name": "stdout",
     "output_type": "stream",
     "text": [
      "Epoch 4, Average Loss: 0.6148\n"
     ]
    },
    {
     "name": "stderr",
     "output_type": "stream",
     "text": [
      "\n"
     ]
    },
    {
     "name": "stdout",
     "output_type": "stream",
     "text": [
      "Validation Accuracy: 84.41%\n",
      "Validation Loss: 0.4810\n"
     ]
    },
    {
     "name": "stderr",
     "output_type": "stream",
     "text": [
      "Epoch 5/50: 100%|██████████| 1358/1358 [00:08<00:00, 169.64batch/s, loss=0.0911]"
     ]
    },
    {
     "name": "stdout",
     "output_type": "stream",
     "text": [
      "Epoch 5, Average Loss: 0.5309\n"
     ]
    },
    {
     "name": "stderr",
     "output_type": "stream",
     "text": [
      "\n"
     ]
    },
    {
     "name": "stdout",
     "output_type": "stream",
     "text": [
      "Validation Accuracy: 86.16%\n",
      "Validation Loss: 0.4217\n"
     ]
    },
    {
     "name": "stderr",
     "output_type": "stream",
     "text": [
      "Epoch 6/50: 100%|██████████| 1358/1358 [00:07<00:00, 190.20batch/s, loss=0.594] "
     ]
    },
    {
     "name": "stdout",
     "output_type": "stream",
     "text": [
      "Epoch 6, Average Loss: 0.4727\n"
     ]
    },
    {
     "name": "stderr",
     "output_type": "stream",
     "text": [
      "\n"
     ]
    },
    {
     "name": "stdout",
     "output_type": "stream",
     "text": [
      "Validation Accuracy: 87.90%\n",
      "Validation Loss: 0.3776\n"
     ]
    },
    {
     "name": "stderr",
     "output_type": "stream",
     "text": [
      "Epoch 7/50: 100%|██████████| 1358/1358 [00:07<00:00, 170.34batch/s, loss=0.734] "
     ]
    },
    {
     "name": "stdout",
     "output_type": "stream",
     "text": [
      "Epoch 7, Average Loss: 0.4332\n"
     ]
    },
    {
     "name": "stderr",
     "output_type": "stream",
     "text": [
      "\n"
     ]
    },
    {
     "name": "stdout",
     "output_type": "stream",
     "text": [
      "Validation Accuracy: 89.01%\n",
      "Validation Loss: 0.3512\n"
     ]
    },
    {
     "name": "stderr",
     "output_type": "stream",
     "text": [
      "Epoch 8/50: 100%|██████████| 1358/1358 [00:08<00:00, 166.43batch/s, loss=0.406] "
     ]
    },
    {
     "name": "stdout",
     "output_type": "stream",
     "text": [
      "Epoch 8, Average Loss: 0.3940\n"
     ]
    },
    {
     "name": "stderr",
     "output_type": "stream",
     "text": [
      "\n"
     ]
    },
    {
     "name": "stdout",
     "output_type": "stream",
     "text": [
      "Validation Accuracy: 88.64%\n",
      "Validation Loss: 0.3523\n"
     ]
    },
    {
     "name": "stderr",
     "output_type": "stream",
     "text": [
      "Epoch 9/50: 100%|██████████| 1358/1358 [00:07<00:00, 171.96batch/s, loss=0.251] "
     ]
    },
    {
     "name": "stdout",
     "output_type": "stream",
     "text": [
      "Epoch 9, Average Loss: 0.3686\n"
     ]
    },
    {
     "name": "stderr",
     "output_type": "stream",
     "text": [
      "\n"
     ]
    },
    {
     "name": "stdout",
     "output_type": "stream",
     "text": [
      "Validation Accuracy: 90.22%\n",
      "Validation Loss: 0.2920\n"
     ]
    },
    {
     "name": "stderr",
     "output_type": "stream",
     "text": [
      "Epoch 10/50: 100%|██████████| 1358/1358 [00:08<00:00, 164.33batch/s, loss=0.212] "
     ]
    },
    {
     "name": "stdout",
     "output_type": "stream",
     "text": [
      "Epoch 10, Average Loss: 0.3422\n"
     ]
    },
    {
     "name": "stderr",
     "output_type": "stream",
     "text": [
      "\n"
     ]
    },
    {
     "name": "stdout",
     "output_type": "stream",
     "text": [
      "Validation Accuracy: 90.53%\n",
      "Validation Loss: 0.2819\n"
     ]
    },
    {
     "name": "stderr",
     "output_type": "stream",
     "text": [
      "Epoch 11/50: 100%|██████████| 1358/1358 [00:08<00:00, 161.69batch/s, loss=0.418] \n"
     ]
    },
    {
     "name": "stdout",
     "output_type": "stream",
     "text": [
      "Epoch 11, Average Loss: 0.3219\n",
      "Validation Accuracy: 90.59%\n",
      "Validation Loss: 0.2937\n"
     ]
    },
    {
     "name": "stderr",
     "output_type": "stream",
     "text": [
      "Epoch 12/50: 100%|██████████| 1358/1358 [00:08<00:00, 163.19batch/s, loss=0.175] \n"
     ]
    },
    {
     "name": "stdout",
     "output_type": "stream",
     "text": [
      "Epoch 12, Average Loss: 0.3057\n",
      "Validation Accuracy: 91.67%\n",
      "Validation Loss: 0.2564\n"
     ]
    },
    {
     "name": "stderr",
     "output_type": "stream",
     "text": [
      "Epoch 13/50: 100%|██████████| 1358/1358 [00:07<00:00, 192.39batch/s, loss=0.481] "
     ]
    },
    {
     "name": "stdout",
     "output_type": "stream",
     "text": [
      "Epoch 13, Average Loss: 0.2904\n"
     ]
    },
    {
     "name": "stderr",
     "output_type": "stream",
     "text": [
      "\n"
     ]
    },
    {
     "name": "stdout",
     "output_type": "stream",
     "text": [
      "Validation Accuracy: 91.80%\n",
      "Validation Loss: 0.2582\n"
     ]
    },
    {
     "name": "stderr",
     "output_type": "stream",
     "text": [
      "Epoch 14/50: 100%|██████████| 1358/1358 [00:08<00:00, 163.50batch/s, loss=0.133] "
     ]
    },
    {
     "name": "stdout",
     "output_type": "stream",
     "text": [
      "Epoch 14, Average Loss: 0.2758\n"
     ]
    },
    {
     "name": "stderr",
     "output_type": "stream",
     "text": [
      "\n"
     ]
    },
    {
     "name": "stdout",
     "output_type": "stream",
     "text": [
      "Validation Accuracy: 91.82%\n",
      "Validation Loss: 0.2472\n"
     ]
    },
    {
     "name": "stderr",
     "output_type": "stream",
     "text": [
      "Epoch 15/50: 100%|██████████| 1358/1358 [00:08<00:00, 166.59batch/s, loss=0.132] "
     ]
    },
    {
     "name": "stdout",
     "output_type": "stream",
     "text": [
      "Epoch 15, Average Loss: 0.2646\n"
     ]
    },
    {
     "name": "stderr",
     "output_type": "stream",
     "text": [
      "\n"
     ]
    },
    {
     "name": "stdout",
     "output_type": "stream",
     "text": [
      "Validation Accuracy: 92.30%\n",
      "Validation Loss: 0.2357\n"
     ]
    },
    {
     "name": "stderr",
     "output_type": "stream",
     "text": [
      "Epoch 16/50: 100%|██████████| 1358/1358 [00:08<00:00, 169.16batch/s, loss=0.394] "
     ]
    },
    {
     "name": "stdout",
     "output_type": "stream",
     "text": [
      "Epoch 16, Average Loss: 0.2615\n"
     ]
    },
    {
     "name": "stderr",
     "output_type": "stream",
     "text": [
      "\n"
     ]
    },
    {
     "name": "stdout",
     "output_type": "stream",
     "text": [
      "Validation Accuracy: 92.22%\n",
      "Validation Loss: 0.2334\n"
     ]
    },
    {
     "name": "stderr",
     "output_type": "stream",
     "text": [
      "Epoch 17/50: 100%|██████████| 1358/1358 [00:08<00:00, 166.41batch/s, loss=0.703] "
     ]
    },
    {
     "name": "stdout",
     "output_type": "stream",
     "text": [
      "Epoch 17, Average Loss: 0.2478\n"
     ]
    },
    {
     "name": "stderr",
     "output_type": "stream",
     "text": [
      "\n"
     ]
    },
    {
     "name": "stdout",
     "output_type": "stream",
     "text": [
      "Validation Accuracy: 92.41%\n",
      "Validation Loss: 0.2385\n"
     ]
    },
    {
     "name": "stderr",
     "output_type": "stream",
     "text": [
      "Epoch 18/50: 100%|██████████| 1358/1358 [00:06<00:00, 196.50batch/s, loss=0.0169]"
     ]
    },
    {
     "name": "stdout",
     "output_type": "stream",
     "text": [
      "Epoch 18, Average Loss: 0.2409\n"
     ]
    },
    {
     "name": "stderr",
     "output_type": "stream",
     "text": [
      "\n"
     ]
    },
    {
     "name": "stdout",
     "output_type": "stream",
     "text": [
      "Validation Accuracy: 93.12%\n",
      "Validation Loss: 0.2091\n"
     ]
    },
    {
     "name": "stderr",
     "output_type": "stream",
     "text": [
      "Epoch 19/50: 100%|██████████| 1358/1358 [00:08<00:00, 165.65batch/s, loss=0.297] \n"
     ]
    },
    {
     "name": "stdout",
     "output_type": "stream",
     "text": [
      "Epoch 19, Average Loss: 0.2334\n",
      "Validation Accuracy: 93.36%\n",
      "Validation Loss: 0.2148\n"
     ]
    },
    {
     "name": "stderr",
     "output_type": "stream",
     "text": [
      "Epoch 20/50: 100%|██████████| 1358/1358 [00:08<00:00, 159.65batch/s, loss=0.0054]"
     ]
    },
    {
     "name": "stdout",
     "output_type": "stream",
     "text": [
      "Epoch 20, Average Loss: 0.2271\n"
     ]
    },
    {
     "name": "stderr",
     "output_type": "stream",
     "text": [
      "\n"
     ]
    },
    {
     "name": "stdout",
     "output_type": "stream",
     "text": [
      "Validation Accuracy: 92.92%\n",
      "Validation Loss: 0.2235\n"
     ]
    },
    {
     "name": "stderr",
     "output_type": "stream",
     "text": [
      "Epoch 21/50: 100%|██████████| 1358/1358 [00:07<00:00, 189.83batch/s, loss=0.091] \n"
     ]
    },
    {
     "name": "stdout",
     "output_type": "stream",
     "text": [
      "Epoch 21, Average Loss: 0.2238\n",
      "Validation Accuracy: 93.16%\n",
      "Validation Loss: 0.2054\n"
     ]
    },
    {
     "name": "stderr",
     "output_type": "stream",
     "text": [
      "Epoch 22/50: 100%|██████████| 1358/1358 [00:07<00:00, 171.57batch/s, loss=0.259] "
     ]
    },
    {
     "name": "stdout",
     "output_type": "stream",
     "text": [
      "Epoch 22, Average Loss: 0.2136\n"
     ]
    },
    {
     "name": "stderr",
     "output_type": "stream",
     "text": [
      "\n"
     ]
    },
    {
     "name": "stdout",
     "output_type": "stream",
     "text": [
      "Validation Accuracy: 93.33%\n",
      "Validation Loss: 0.2082\n"
     ]
    },
    {
     "name": "stderr",
     "output_type": "stream",
     "text": [
      "Epoch 23/50: 100%|██████████| 1358/1358 [00:08<00:00, 162.07batch/s, loss=0.0189] \n"
     ]
    },
    {
     "name": "stdout",
     "output_type": "stream",
     "text": [
      "Epoch 23, Average Loss: 0.2133\n",
      "Validation Accuracy: 94.10%\n",
      "Validation Loss: 0.1912\n"
     ]
    },
    {
     "name": "stderr",
     "output_type": "stream",
     "text": [
      "Epoch 24/50: 100%|██████████| 1358/1358 [00:08<00:00, 167.90batch/s, loss=0.12]  "
     ]
    },
    {
     "name": "stdout",
     "output_type": "stream",
     "text": [
      "Epoch 24, Average Loss: 0.2016\n"
     ]
    },
    {
     "name": "stderr",
     "output_type": "stream",
     "text": [
      "\n"
     ]
    },
    {
     "name": "stdout",
     "output_type": "stream",
     "text": [
      "Validation Accuracy: 93.18%\n",
      "Validation Loss: 0.2126\n"
     ]
    },
    {
     "name": "stderr",
     "output_type": "stream",
     "text": [
      "Epoch 25/50: 100%|██████████| 1358/1358 [00:07<00:00, 181.38batch/s, loss=0.0696]\n"
     ]
    },
    {
     "name": "stdout",
     "output_type": "stream",
     "text": [
      "Epoch 25, Average Loss: 0.2131\n",
      "Validation Accuracy: 92.44%\n",
      "Validation Loss: 0.2417\n"
     ]
    },
    {
     "name": "stderr",
     "output_type": "stream",
     "text": [
      "Epoch 26/50: 100%|██████████| 1358/1358 [00:08<00:00, 164.22batch/s, loss=0.0754]"
     ]
    },
    {
     "name": "stdout",
     "output_type": "stream",
     "text": [
      "Epoch 26, Average Loss: 0.2062\n"
     ]
    },
    {
     "name": "stderr",
     "output_type": "stream",
     "text": [
      "\n"
     ]
    },
    {
     "name": "stdout",
     "output_type": "stream",
     "text": [
      "Validation Accuracy: 93.22%\n",
      "Validation Loss: 0.2149\n"
     ]
    },
    {
     "name": "stderr",
     "output_type": "stream",
     "text": [
      "Epoch 27/50: 100%|██████████| 1358/1358 [00:08<00:00, 161.80batch/s, loss=0.434] "
     ]
    },
    {
     "name": "stdout",
     "output_type": "stream",
     "text": [
      "Epoch 27, Average Loss: 0.1995\n"
     ]
    },
    {
     "name": "stderr",
     "output_type": "stream",
     "text": [
      "\n"
     ]
    },
    {
     "name": "stdout",
     "output_type": "stream",
     "text": [
      "Validation Accuracy: 92.94%\n",
      "Validation Loss: 0.2205\n"
     ]
    },
    {
     "name": "stderr",
     "output_type": "stream",
     "text": [
      "Epoch 28/50: 100%|██████████| 1358/1358 [00:07<00:00, 176.45batch/s, loss=0.0551] \n"
     ]
    },
    {
     "name": "stdout",
     "output_type": "stream",
     "text": [
      "Epoch 28, Average Loss: 0.1951\n",
      "Validation Accuracy: 93.36%\n",
      "Validation Loss: 0.2072\n",
      "Early stopping triggered after 28 epochs.\n",
      "\n",
      "\n",
      "--Testing configuration: image_size=32, layers=4, first_layer_filters=16\n"
     ]
    },
    {
     "name": "stderr",
     "output_type": "stream",
     "text": [
      "Epoch 1/50: 100%|██████████| 1358/1358 [00:08<00:00, 165.03batch/s, loss=0.758]"
     ]
    },
    {
     "name": "stdout",
     "output_type": "stream",
     "text": [
      "Epoch 1, Average Loss: 1.6648\n"
     ]
    },
    {
     "name": "stderr",
     "output_type": "stream",
     "text": [
      "\n"
     ]
    },
    {
     "name": "stdout",
     "output_type": "stream",
     "text": [
      "Validation Accuracy: 74.13%\n",
      "Validation Loss: 0.8276\n"
     ]
    },
    {
     "name": "stderr",
     "output_type": "stream",
     "text": [
      "Epoch 2/50: 100%|██████████| 1358/1358 [00:08<00:00, 168.24batch/s, loss=0.624]\n"
     ]
    },
    {
     "name": "stdout",
     "output_type": "stream",
     "text": [
      "Epoch 2, Average Loss: 0.7642\n",
      "Validation Accuracy: 83.36%\n",
      "Validation Loss: 0.5119\n"
     ]
    },
    {
     "name": "stderr",
     "output_type": "stream",
     "text": [
      "Epoch 3/50: 100%|██████████| 1358/1358 [00:08<00:00, 166.38batch/s, loss=0.639]"
     ]
    },
    {
     "name": "stdout",
     "output_type": "stream",
     "text": [
      "Epoch 3, Average Loss: 0.5481\n"
     ]
    },
    {
     "name": "stderr",
     "output_type": "stream",
     "text": [
      "\n"
     ]
    },
    {
     "name": "stdout",
     "output_type": "stream",
     "text": [
      "Validation Accuracy: 86.78%\n",
      "Validation Loss: 0.4014\n"
     ]
    },
    {
     "name": "stderr",
     "output_type": "stream",
     "text": [
      "Epoch 4/50: 100%|██████████| 1358/1358 [00:08<00:00, 162.61batch/s, loss=0.64] "
     ]
    },
    {
     "name": "stdout",
     "output_type": "stream",
     "text": [
      "Epoch 4, Average Loss: 0.4331\n"
     ]
    },
    {
     "name": "stderr",
     "output_type": "stream",
     "text": [
      "\n"
     ]
    },
    {
     "name": "stdout",
     "output_type": "stream",
     "text": [
      "Validation Accuracy: 89.85%\n",
      "Validation Loss: 0.3134\n"
     ]
    },
    {
     "name": "stderr",
     "output_type": "stream",
     "text": [
      "Epoch 5/50: 100%|██████████| 1358/1358 [00:07<00:00, 190.83batch/s, loss=0.576] "
     ]
    },
    {
     "name": "stdout",
     "output_type": "stream",
     "text": [
      "Epoch 5, Average Loss: 0.3688\n"
     ]
    },
    {
     "name": "stderr",
     "output_type": "stream",
     "text": [
      "\n"
     ]
    },
    {
     "name": "stdout",
     "output_type": "stream",
     "text": [
      "Validation Accuracy: 90.20%\n",
      "Validation Loss: 0.2962\n"
     ]
    },
    {
     "name": "stderr",
     "output_type": "stream",
     "text": [
      "Epoch 6/50: 100%|██████████| 1358/1358 [00:08<00:00, 167.05batch/s, loss=0.625] "
     ]
    },
    {
     "name": "stdout",
     "output_type": "stream",
     "text": [
      "Epoch 6, Average Loss: 0.3160\n"
     ]
    },
    {
     "name": "stderr",
     "output_type": "stream",
     "text": [
      "\n"
     ]
    },
    {
     "name": "stdout",
     "output_type": "stream",
     "text": [
      "Validation Accuracy: 90.70%\n",
      "Validation Loss: 0.2911\n"
     ]
    },
    {
     "name": "stderr",
     "output_type": "stream",
     "text": [
      "Epoch 7/50: 100%|██████████| 1358/1358 [00:08<00:00, 164.64batch/s, loss=0.087] "
     ]
    },
    {
     "name": "stdout",
     "output_type": "stream",
     "text": [
      "Epoch 7, Average Loss: 0.2757\n"
     ]
    },
    {
     "name": "stderr",
     "output_type": "stream",
     "text": [
      "\n"
     ]
    },
    {
     "name": "stdout",
     "output_type": "stream",
     "text": [
      "Validation Accuracy: 91.52%\n",
      "Validation Loss: 0.2631\n"
     ]
    },
    {
     "name": "stderr",
     "output_type": "stream",
     "text": [
      "Epoch 8/50: 100%|██████████| 1358/1358 [00:08<00:00, 167.73batch/s, loss=0.468] "
     ]
    },
    {
     "name": "stdout",
     "output_type": "stream",
     "text": [
      "Epoch 8, Average Loss: 0.2590\n"
     ]
    },
    {
     "name": "stderr",
     "output_type": "stream",
     "text": [
      "\n"
     ]
    },
    {
     "name": "stdout",
     "output_type": "stream",
     "text": [
      "Validation Accuracy: 92.15%\n",
      "Validation Loss: 0.2486\n"
     ]
    },
    {
     "name": "stderr",
     "output_type": "stream",
     "text": [
      "Epoch 9/50: 100%|██████████| 1358/1358 [00:07<00:00, 186.05batch/s, loss=0.0684]"
     ]
    },
    {
     "name": "stdout",
     "output_type": "stream",
     "text": [
      "Epoch 9, Average Loss: 0.2314\n"
     ]
    },
    {
     "name": "stderr",
     "output_type": "stream",
     "text": [
      "\n"
     ]
    },
    {
     "name": "stdout",
     "output_type": "stream",
     "text": [
      "Validation Accuracy: 91.93%\n",
      "Validation Loss: 0.2463\n"
     ]
    },
    {
     "name": "stderr",
     "output_type": "stream",
     "text": [
      "Epoch 10/50: 100%|██████████| 1358/1358 [00:08<00:00, 166.59batch/s, loss=0.25]  "
     ]
    },
    {
     "name": "stdout",
     "output_type": "stream",
     "text": [
      "Epoch 10, Average Loss: 0.2091\n"
     ]
    },
    {
     "name": "stderr",
     "output_type": "stream",
     "text": [
      "\n"
     ]
    },
    {
     "name": "stdout",
     "output_type": "stream",
     "text": [
      "Validation Accuracy: 93.36%\n",
      "Validation Loss: 0.2089\n"
     ]
    },
    {
     "name": "stderr",
     "output_type": "stream",
     "text": [
      "Epoch 11/50: 100%|██████████| 1358/1358 [00:08<00:00, 167.49batch/s, loss=0.192] "
     ]
    },
    {
     "name": "stdout",
     "output_type": "stream",
     "text": [
      "Epoch 11, Average Loss: 0.2048\n"
     ]
    },
    {
     "name": "stderr",
     "output_type": "stream",
     "text": [
      "\n"
     ]
    },
    {
     "name": "stdout",
     "output_type": "stream",
     "text": [
      "Validation Accuracy: 92.46%\n",
      "Validation Loss: 0.2463\n"
     ]
    },
    {
     "name": "stderr",
     "output_type": "stream",
     "text": [
      "Epoch 12/50: 100%|██████████| 1358/1358 [00:07<00:00, 181.53batch/s, loss=0.127]  "
     ]
    },
    {
     "name": "stdout",
     "output_type": "stream",
     "text": [
      "Epoch 12, Average Loss: 0.1834\n"
     ]
    },
    {
     "name": "stderr",
     "output_type": "stream",
     "text": [
      "\n"
     ]
    },
    {
     "name": "stdout",
     "output_type": "stream",
     "text": [
      "Validation Accuracy: 93.20%\n",
      "Validation Loss: 0.2088\n"
     ]
    },
    {
     "name": "stderr",
     "output_type": "stream",
     "text": [
      "Epoch 13/50: 100%|██████████| 1358/1358 [00:08<00:00, 166.49batch/s, loss=0.386]  "
     ]
    },
    {
     "name": "stdout",
     "output_type": "stream",
     "text": [
      "Epoch 13, Average Loss: 0.1794\n"
     ]
    },
    {
     "name": "stderr",
     "output_type": "stream",
     "text": [
      "\n"
     ]
    },
    {
     "name": "stdout",
     "output_type": "stream",
     "text": [
      "Validation Accuracy: 92.87%\n",
      "Validation Loss: 0.2182\n"
     ]
    },
    {
     "name": "stderr",
     "output_type": "stream",
     "text": [
      "Epoch 14/50: 100%|██████████| 1358/1358 [00:08<00:00, 163.22batch/s, loss=0.0838] "
     ]
    },
    {
     "name": "stdout",
     "output_type": "stream",
     "text": [
      "Epoch 14, Average Loss: 0.1675\n"
     ]
    },
    {
     "name": "stderr",
     "output_type": "stream",
     "text": [
      "\n"
     ]
    },
    {
     "name": "stdout",
     "output_type": "stream",
     "text": [
      "Validation Accuracy: 93.42%\n",
      "Validation Loss: 0.2200\n"
     ]
    },
    {
     "name": "stderr",
     "output_type": "stream",
     "text": [
      "Epoch 15/50: 100%|██████████| 1358/1358 [00:08<00:00, 161.35batch/s, loss=0.123]  "
     ]
    },
    {
     "name": "stdout",
     "output_type": "stream",
     "text": [
      "Epoch 15, Average Loss: 0.1612\n"
     ]
    },
    {
     "name": "stderr",
     "output_type": "stream",
     "text": [
      "\n"
     ]
    },
    {
     "name": "stdout",
     "output_type": "stream",
     "text": [
      "Validation Accuracy: 93.20%\n",
      "Validation Loss: 0.2171\n"
     ]
    },
    {
     "name": "stderr",
     "output_type": "stream",
     "text": [
      "Epoch 16/50: 100%|██████████| 1358/1358 [00:07<00:00, 181.04batch/s, loss=0.097]  "
     ]
    },
    {
     "name": "stdout",
     "output_type": "stream",
     "text": [
      "Epoch 16, Average Loss: 0.1603\n"
     ]
    },
    {
     "name": "stderr",
     "output_type": "stream",
     "text": [
      "\n"
     ]
    },
    {
     "name": "stdout",
     "output_type": "stream",
     "text": [
      "Validation Accuracy: 94.26%\n",
      "Validation Loss: 0.1972\n"
     ]
    },
    {
     "name": "stderr",
     "output_type": "stream",
     "text": [
      "Epoch 17/50: 100%|██████████| 1358/1358 [00:08<00:00, 166.66batch/s, loss=0.166]  \n"
     ]
    },
    {
     "name": "stdout",
     "output_type": "stream",
     "text": [
      "Epoch 17, Average Loss: 0.1435\n",
      "Validation Accuracy: 94.02%\n",
      "Validation Loss: 0.2012\n"
     ]
    },
    {
     "name": "stderr",
     "output_type": "stream",
     "text": [
      "Epoch 18/50: 100%|██████████| 1358/1358 [00:08<00:00, 167.09batch/s, loss=0.238]  \n"
     ]
    },
    {
     "name": "stdout",
     "output_type": "stream",
     "text": [
      "Epoch 18, Average Loss: 0.1468\n",
      "Validation Accuracy: 94.26%\n",
      "Validation Loss: 0.1951\n"
     ]
    },
    {
     "name": "stderr",
     "output_type": "stream",
     "text": [
      "Epoch 19/50: 100%|██████████| 1358/1358 [00:07<00:00, 184.74batch/s, loss=0.104]  "
     ]
    },
    {
     "name": "stdout",
     "output_type": "stream",
     "text": [
      "Epoch 19, Average Loss: 0.1362\n"
     ]
    },
    {
     "name": "stderr",
     "output_type": "stream",
     "text": [
      "\n"
     ]
    },
    {
     "name": "stdout",
     "output_type": "stream",
     "text": [
      "Validation Accuracy: 94.17%\n",
      "Validation Loss: 0.1921\n"
     ]
    },
    {
     "name": "stderr",
     "output_type": "stream",
     "text": [
      "Epoch 20/50: 100%|██████████| 1358/1358 [00:08<00:00, 166.38batch/s, loss=0.191]  \n"
     ]
    },
    {
     "name": "stdout",
     "output_type": "stream",
     "text": [
      "Epoch 20, Average Loss: 0.1386\n",
      "Validation Accuracy: 93.86%\n",
      "Validation Loss: 0.2280\n"
     ]
    },
    {
     "name": "stderr",
     "output_type": "stream",
     "text": [
      "Epoch 21/50: 100%|██████████| 1358/1358 [00:08<00:00, 164.21batch/s, loss=0.154]  \n"
     ]
    },
    {
     "name": "stdout",
     "output_type": "stream",
     "text": [
      "Epoch 21, Average Loss: 0.1300\n",
      "Validation Accuracy: 93.95%\n",
      "Validation Loss: 0.2097\n"
     ]
    },
    {
     "name": "stderr",
     "output_type": "stream",
     "text": [
      "Epoch 22/50: 100%|██████████| 1358/1358 [00:08<00:00, 163.62batch/s, loss=0.0546] "
     ]
    },
    {
     "name": "stdout",
     "output_type": "stream",
     "text": [
      "Epoch 22, Average Loss: 0.1303\n"
     ]
    },
    {
     "name": "stderr",
     "output_type": "stream",
     "text": [
      "\n"
     ]
    },
    {
     "name": "stdout",
     "output_type": "stream",
     "text": [
      "Validation Accuracy: 94.59%\n",
      "Validation Loss: 0.1911\n"
     ]
    },
    {
     "name": "stderr",
     "output_type": "stream",
     "text": [
      "Epoch 23/50: 100%|██████████| 1358/1358 [00:08<00:00, 161.38batch/s, loss=0.199]  "
     ]
    },
    {
     "name": "stdout",
     "output_type": "stream",
     "text": [
      "Epoch 23, Average Loss: 0.1283\n"
     ]
    },
    {
     "name": "stderr",
     "output_type": "stream",
     "text": [
      "\n"
     ]
    },
    {
     "name": "stdout",
     "output_type": "stream",
     "text": [
      "Validation Accuracy: 94.72%\n",
      "Validation Loss: 0.1846\n"
     ]
    },
    {
     "name": "stderr",
     "output_type": "stream",
     "text": [
      "Epoch 24/50: 100%|██████████| 1358/1358 [00:07<00:00, 186.44batch/s, loss=0.00702] "
     ]
    },
    {
     "name": "stdout",
     "output_type": "stream",
     "text": [
      "Epoch 24, Average Loss: 0.1228\n"
     ]
    },
    {
     "name": "stderr",
     "output_type": "stream",
     "text": [
      "\n"
     ]
    },
    {
     "name": "stdout",
     "output_type": "stream",
     "text": [
      "Validation Accuracy: 94.58%\n",
      "Validation Loss: 0.2031\n"
     ]
    },
    {
     "name": "stderr",
     "output_type": "stream",
     "text": [
      "Epoch 25/50: 100%|██████████| 1358/1358 [00:08<00:00, 169.02batch/s, loss=0.519]   "
     ]
    },
    {
     "name": "stdout",
     "output_type": "stream",
     "text": [
      "Epoch 25, Average Loss: 0.1248\n"
     ]
    },
    {
     "name": "stderr",
     "output_type": "stream",
     "text": [
      "\n"
     ]
    },
    {
     "name": "stdout",
     "output_type": "stream",
     "text": [
      "Validation Accuracy: 94.28%\n",
      "Validation Loss: 0.2038\n"
     ]
    },
    {
     "name": "stderr",
     "output_type": "stream",
     "text": [
      "Epoch 26/50: 100%|██████████| 1358/1358 [00:08<00:00, 163.93batch/s, loss=0.0504]  "
     ]
    },
    {
     "name": "stdout",
     "output_type": "stream",
     "text": [
      "Epoch 26, Average Loss: 0.1246\n"
     ]
    },
    {
     "name": "stderr",
     "output_type": "stream",
     "text": [
      "\n"
     ]
    },
    {
     "name": "stdout",
     "output_type": "stream",
     "text": [
      "Validation Accuracy: 94.47%\n",
      "Validation Loss: 0.1986\n"
     ]
    },
    {
     "name": "stderr",
     "output_type": "stream",
     "text": [
      "Epoch 27/50: 100%|██████████| 1358/1358 [00:08<00:00, 162.91batch/s, loss=0.061]  "
     ]
    },
    {
     "name": "stdout",
     "output_type": "stream",
     "text": [
      "Epoch 27, Average Loss: 0.1183\n"
     ]
    },
    {
     "name": "stderr",
     "output_type": "stream",
     "text": [
      "\n"
     ]
    },
    {
     "name": "stdout",
     "output_type": "stream",
     "text": [
      "Validation Accuracy: 94.76%\n",
      "Validation Loss: 0.2067\n"
     ]
    },
    {
     "name": "stderr",
     "output_type": "stream",
     "text": [
      "Epoch 28/50: 100%|██████████| 1358/1358 [00:07<00:00, 179.46batch/s, loss=0.000516]"
     ]
    },
    {
     "name": "stdout",
     "output_type": "stream",
     "text": [
      "Epoch 28, Average Loss: 0.1158\n"
     ]
    },
    {
     "name": "stderr",
     "output_type": "stream",
     "text": [
      "\n"
     ]
    },
    {
     "name": "stdout",
     "output_type": "stream",
     "text": [
      "Validation Accuracy: 95.02%\n",
      "Validation Loss: 0.1940\n",
      "Early stopping triggered after 28 epochs.\n",
      "\n",
      "\n",
      "--Testing configuration: image_size=32, layers=4, first_layer_filters=32\n"
     ]
    },
    {
     "name": "stderr",
     "output_type": "stream",
     "text": [
      "Epoch 1/50: 100%|██████████| 1358/1358 [00:08<00:00, 155.79batch/s, loss=0.667]\n"
     ]
    },
    {
     "name": "stdout",
     "output_type": "stream",
     "text": [
      "Epoch 1, Average Loss: 1.4266\n",
      "Validation Accuracy: 80.24%\n",
      "Validation Loss: 0.6342\n"
     ]
    },
    {
     "name": "stderr",
     "output_type": "stream",
     "text": [
      "Epoch 2/50: 100%|██████████| 1358/1358 [00:08<00:00, 159.77batch/s, loss=0.625]"
     ]
    },
    {
     "name": "stdout",
     "output_type": "stream",
     "text": [
      "Epoch 2, Average Loss: 0.5668\n"
     ]
    },
    {
     "name": "stderr",
     "output_type": "stream",
     "text": [
      "\n"
     ]
    },
    {
     "name": "stdout",
     "output_type": "stream",
     "text": [
      "Validation Accuracy: 86.84%\n",
      "Validation Loss: 0.4140\n"
     ]
    },
    {
     "name": "stderr",
     "output_type": "stream",
     "text": [
      "Epoch 3/50: 100%|██████████| 1358/1358 [00:07<00:00, 179.99batch/s, loss=0.513] "
     ]
    },
    {
     "name": "stdout",
     "output_type": "stream",
     "text": [
      "Epoch 3, Average Loss: 0.3837\n"
     ]
    },
    {
     "name": "stderr",
     "output_type": "stream",
     "text": [
      "\n"
     ]
    },
    {
     "name": "stdout",
     "output_type": "stream",
     "text": [
      "Validation Accuracy: 89.39%\n",
      "Validation Loss: 0.3202\n"
     ]
    },
    {
     "name": "stderr",
     "output_type": "stream",
     "text": [
      "Epoch 4/50: 100%|██████████| 1358/1358 [00:08<00:00, 160.90batch/s, loss=0.138] "
     ]
    },
    {
     "name": "stdout",
     "output_type": "stream",
     "text": [
      "Epoch 4, Average Loss: 0.2926\n"
     ]
    },
    {
     "name": "stderr",
     "output_type": "stream",
     "text": [
      "\n"
     ]
    },
    {
     "name": "stdout",
     "output_type": "stream",
     "text": [
      "Validation Accuracy: 91.67%\n",
      "Validation Loss: 0.2565\n"
     ]
    },
    {
     "name": "stderr",
     "output_type": "stream",
     "text": [
      "Epoch 5/50: 100%|██████████| 1358/1358 [00:08<00:00, 161.09batch/s, loss=0.0498]\n"
     ]
    },
    {
     "name": "stdout",
     "output_type": "stream",
     "text": [
      "Epoch 5, Average Loss: 0.2396\n",
      "Validation Accuracy: 92.44%\n",
      "Validation Loss: 0.2867\n"
     ]
    },
    {
     "name": "stderr",
     "output_type": "stream",
     "text": [
      "Epoch 6/50: 100%|██████████| 1358/1358 [00:08<00:00, 158.40batch/s, loss=0.326] "
     ]
    },
    {
     "name": "stdout",
     "output_type": "stream",
     "text": [
      "Epoch 6, Average Loss: 0.1998\n"
     ]
    },
    {
     "name": "stderr",
     "output_type": "stream",
     "text": [
      "\n"
     ]
    },
    {
     "name": "stdout",
     "output_type": "stream",
     "text": [
      "Validation Accuracy: 92.52%\n",
      "Validation Loss: 0.2377\n"
     ]
    },
    {
     "name": "stderr",
     "output_type": "stream",
     "text": [
      "Epoch 7/50: 100%|██████████| 1358/1358 [00:08<00:00, 160.38batch/s, loss=0.0284]"
     ]
    },
    {
     "name": "stdout",
     "output_type": "stream",
     "text": [
      "Epoch 7, Average Loss: 0.1793\n"
     ]
    },
    {
     "name": "stderr",
     "output_type": "stream",
     "text": [
      "\n"
     ]
    },
    {
     "name": "stdout",
     "output_type": "stream",
     "text": [
      "Validation Accuracy: 93.84%\n",
      "Validation Loss: 0.1920\n"
     ]
    },
    {
     "name": "stderr",
     "output_type": "stream",
     "text": [
      "Epoch 8/50: 100%|██████████| 1358/1358 [00:08<00:00, 156.12batch/s, loss=0.137]  "
     ]
    },
    {
     "name": "stdout",
     "output_type": "stream",
     "text": [
      "Epoch 8, Average Loss: 0.1578\n"
     ]
    },
    {
     "name": "stderr",
     "output_type": "stream",
     "text": [
      "\n"
     ]
    },
    {
     "name": "stdout",
     "output_type": "stream",
     "text": [
      "Validation Accuracy: 93.34%\n",
      "Validation Loss: 0.1995\n"
     ]
    },
    {
     "name": "stderr",
     "output_type": "stream",
     "text": [
      "Epoch 9/50: 100%|██████████| 1358/1358 [00:08<00:00, 158.25batch/s, loss=0.163]  \n"
     ]
    },
    {
     "name": "stdout",
     "output_type": "stream",
     "text": [
      "Epoch 9, Average Loss: 0.1375\n",
      "Validation Accuracy: 93.82%\n",
      "Validation Loss: 0.2003\n"
     ]
    },
    {
     "name": "stderr",
     "output_type": "stream",
     "text": [
      "Epoch 10/50: 100%|██████████| 1358/1358 [00:07<00:00, 180.32batch/s, loss=0.00523]"
     ]
    },
    {
     "name": "stdout",
     "output_type": "stream",
     "text": [
      "Epoch 10, Average Loss: 0.1294\n"
     ]
    },
    {
     "name": "stderr",
     "output_type": "stream",
     "text": [
      "\n"
     ]
    },
    {
     "name": "stdout",
     "output_type": "stream",
     "text": [
      "Validation Accuracy: 93.22%\n",
      "Validation Loss: 0.2746\n"
     ]
    },
    {
     "name": "stderr",
     "output_type": "stream",
     "text": [
      "Epoch 11/50: 100%|██████████| 1358/1358 [00:08<00:00, 159.31batch/s, loss=0.0106] "
     ]
    },
    {
     "name": "stdout",
     "output_type": "stream",
     "text": [
      "Epoch 11, Average Loss: 0.1270\n"
     ]
    },
    {
     "name": "stderr",
     "output_type": "stream",
     "text": [
      "\n"
     ]
    },
    {
     "name": "stdout",
     "output_type": "stream",
     "text": [
      "Validation Accuracy: 94.93%\n",
      "Validation Loss: 0.1806\n"
     ]
    },
    {
     "name": "stderr",
     "output_type": "stream",
     "text": [
      "Epoch 12/50: 100%|██████████| 1358/1358 [00:08<00:00, 161.30batch/s, loss=0.00624]"
     ]
    },
    {
     "name": "stdout",
     "output_type": "stream",
     "text": [
      "Epoch 12, Average Loss: 0.1133\n"
     ]
    },
    {
     "name": "stderr",
     "output_type": "stream",
     "text": [
      "\n"
     ]
    },
    {
     "name": "stdout",
     "output_type": "stream",
     "text": [
      "Validation Accuracy: 94.70%\n",
      "Validation Loss: 0.1904\n"
     ]
    },
    {
     "name": "stderr",
     "output_type": "stream",
     "text": [
      "Epoch 13/50: 100%|██████████| 1358/1358 [00:07<00:00, 181.41batch/s, loss=0.322]  "
     ]
    },
    {
     "name": "stdout",
     "output_type": "stream",
     "text": [
      "Epoch 13, Average Loss: 0.1125\n"
     ]
    },
    {
     "name": "stderr",
     "output_type": "stream",
     "text": [
      "\n"
     ]
    },
    {
     "name": "stdout",
     "output_type": "stream",
     "text": [
      "Validation Accuracy: 95.33%\n",
      "Validation Loss: 0.1696\n"
     ]
    },
    {
     "name": "stderr",
     "output_type": "stream",
     "text": [
      "Epoch 14/50: 100%|██████████| 1358/1358 [00:08<00:00, 162.70batch/s, loss=0.00716]"
     ]
    },
    {
     "name": "stdout",
     "output_type": "stream",
     "text": [
      "Epoch 14, Average Loss: 0.1141\n"
     ]
    },
    {
     "name": "stderr",
     "output_type": "stream",
     "text": [
      "\n"
     ]
    },
    {
     "name": "stdout",
     "output_type": "stream",
     "text": [
      "Validation Accuracy: 94.83%\n",
      "Validation Loss: 0.1911\n"
     ]
    },
    {
     "name": "stderr",
     "output_type": "stream",
     "text": [
      "Epoch 15/50: 100%|██████████| 1358/1358 [00:08<00:00, 163.33batch/s, loss=0.022]   "
     ]
    },
    {
     "name": "stdout",
     "output_type": "stream",
     "text": [
      "Epoch 15, Average Loss: 0.0956\n"
     ]
    },
    {
     "name": "stderr",
     "output_type": "stream",
     "text": [
      "\n"
     ]
    },
    {
     "name": "stdout",
     "output_type": "stream",
     "text": [
      "Validation Accuracy: 94.82%\n",
      "Validation Loss: 0.1958\n"
     ]
    },
    {
     "name": "stderr",
     "output_type": "stream",
     "text": [
      "Epoch 16/50: 100%|██████████| 1358/1358 [00:08<00:00, 161.59batch/s, loss=0.0143]  \n"
     ]
    },
    {
     "name": "stdout",
     "output_type": "stream",
     "text": [
      "Epoch 16, Average Loss: 0.1097\n",
      "Validation Accuracy: 94.08%\n",
      "Validation Loss: 0.2262\n"
     ]
    },
    {
     "name": "stderr",
     "output_type": "stream",
     "text": [
      "Epoch 17/50: 100%|██████████| 1358/1358 [00:08<00:00, 162.41batch/s, loss=0.198]   "
     ]
    },
    {
     "name": "stdout",
     "output_type": "stream",
     "text": [
      "Epoch 17, Average Loss: 0.0943\n"
     ]
    },
    {
     "name": "stderr",
     "output_type": "stream",
     "text": [
      "\n"
     ]
    },
    {
     "name": "stdout",
     "output_type": "stream",
     "text": [
      "Validation Accuracy: 94.82%\n",
      "Validation Loss: 0.1944\n"
     ]
    },
    {
     "name": "stderr",
     "output_type": "stream",
     "text": [
      "Epoch 18/50: 100%|██████████| 1358/1358 [00:07<00:00, 182.80batch/s, loss=0.222]   "
     ]
    },
    {
     "name": "stdout",
     "output_type": "stream",
     "text": [
      "Epoch 18, Average Loss: 0.0937\n"
     ]
    },
    {
     "name": "stderr",
     "output_type": "stream",
     "text": [
      "\n"
     ]
    },
    {
     "name": "stdout",
     "output_type": "stream",
     "text": [
      "Validation Accuracy: 95.11%\n",
      "Validation Loss: 0.1871\n",
      "Early stopping triggered after 18 epochs.\n",
      "\n",
      "\n",
      "--Testing configuration: image_size=32, layers=4, first_layer_filters=64\n"
     ]
    },
    {
     "name": "stderr",
     "output_type": "stream",
     "text": [
      "Epoch 1/50: 100%|██████████| 1358/1358 [00:08<00:00, 156.69batch/s, loss=0.649]"
     ]
    },
    {
     "name": "stdout",
     "output_type": "stream",
     "text": [
      "Epoch 1, Average Loss: 1.3153\n"
     ]
    },
    {
     "name": "stderr",
     "output_type": "stream",
     "text": [
      "\n"
     ]
    },
    {
     "name": "stdout",
     "output_type": "stream",
     "text": [
      "Validation Accuracy: 81.28%\n",
      "Validation Loss: 0.5646\n"
     ]
    },
    {
     "name": "stderr",
     "output_type": "stream",
     "text": [
      "Epoch 2/50: 100%|██████████| 1358/1358 [00:08<00:00, 157.27batch/s, loss=0.35]  \n"
     ]
    },
    {
     "name": "stdout",
     "output_type": "stream",
     "text": [
      "Epoch 2, Average Loss: 0.4936\n",
      "Validation Accuracy: 89.30%\n",
      "Validation Loss: 0.3336\n"
     ]
    },
    {
     "name": "stderr",
     "output_type": "stream",
     "text": [
      "Epoch 3/50: 100%|██████████| 1358/1358 [00:08<00:00, 158.53batch/s, loss=0.285] "
     ]
    },
    {
     "name": "stdout",
     "output_type": "stream",
     "text": [
      "Epoch 3, Average Loss: 0.3241\n"
     ]
    },
    {
     "name": "stderr",
     "output_type": "stream",
     "text": [
      "\n"
     ]
    },
    {
     "name": "stdout",
     "output_type": "stream",
     "text": [
      "Validation Accuracy: 90.44%\n",
      "Validation Loss: 0.2979\n"
     ]
    },
    {
     "name": "stderr",
     "output_type": "stream",
     "text": [
      "Epoch 4/50: 100%|██████████| 1358/1358 [00:08<00:00, 157.60batch/s, loss=0.158]  "
     ]
    },
    {
     "name": "stdout",
     "output_type": "stream",
     "text": [
      "Epoch 4, Average Loss: 0.2547\n"
     ]
    },
    {
     "name": "stderr",
     "output_type": "stream",
     "text": [
      "\n"
     ]
    },
    {
     "name": "stdout",
     "output_type": "stream",
     "text": [
      "Validation Accuracy: 92.50%\n",
      "Validation Loss: 0.2377\n"
     ]
    },
    {
     "name": "stderr",
     "output_type": "stream",
     "text": [
      "Epoch 5/50: 100%|██████████| 1358/1358 [00:08<00:00, 157.99batch/s, loss=0.102]  "
     ]
    },
    {
     "name": "stdout",
     "output_type": "stream",
     "text": [
      "Epoch 5, Average Loss: 0.2000\n"
     ]
    },
    {
     "name": "stderr",
     "output_type": "stream",
     "text": [
      "\n"
     ]
    },
    {
     "name": "stdout",
     "output_type": "stream",
     "text": [
      "Validation Accuracy: 92.70%\n",
      "Validation Loss: 0.2445\n"
     ]
    },
    {
     "name": "stderr",
     "output_type": "stream",
     "text": [
      "Epoch 6/50: 100%|██████████| 1358/1358 [00:08<00:00, 157.15batch/s, loss=0.226]  "
     ]
    },
    {
     "name": "stdout",
     "output_type": "stream",
     "text": [
      "Epoch 6, Average Loss: 0.1740\n"
     ]
    },
    {
     "name": "stderr",
     "output_type": "stream",
     "text": [
      "\n"
     ]
    },
    {
     "name": "stdout",
     "output_type": "stream",
     "text": [
      "Validation Accuracy: 93.33%\n",
      "Validation Loss: 0.2232\n"
     ]
    },
    {
     "name": "stderr",
     "output_type": "stream",
     "text": [
      "Epoch 7/50: 100%|██████████| 1358/1358 [00:07<00:00, 184.53batch/s, loss=0.0387] "
     ]
    },
    {
     "name": "stdout",
     "output_type": "stream",
     "text": [
      "Epoch 7, Average Loss: 0.1500\n"
     ]
    },
    {
     "name": "stderr",
     "output_type": "stream",
     "text": [
      "\n"
     ]
    },
    {
     "name": "stdout",
     "output_type": "stream",
     "text": [
      "Validation Accuracy: 93.07%\n",
      "Validation Loss: 0.2273\n"
     ]
    },
    {
     "name": "stderr",
     "output_type": "stream",
     "text": [
      "Epoch 8/50: 100%|██████████| 1358/1358 [00:08<00:00, 162.32batch/s, loss=0.0531]  "
     ]
    },
    {
     "name": "stdout",
     "output_type": "stream",
     "text": [
      "Epoch 8, Average Loss: 0.1363\n"
     ]
    },
    {
     "name": "stderr",
     "output_type": "stream",
     "text": [
      "\n"
     ]
    },
    {
     "name": "stdout",
     "output_type": "stream",
     "text": [
      "Validation Accuracy: 94.06%\n",
      "Validation Loss: 0.2005\n"
     ]
    },
    {
     "name": "stderr",
     "output_type": "stream",
     "text": [
      "Epoch 9/50: 100%|██████████| 1358/1358 [00:08<00:00, 162.20batch/s, loss=0.498]  "
     ]
    },
    {
     "name": "stdout",
     "output_type": "stream",
     "text": [
      "Epoch 9, Average Loss: 0.1205\n"
     ]
    },
    {
     "name": "stderr",
     "output_type": "stream",
     "text": [
      "\n"
     ]
    },
    {
     "name": "stdout",
     "output_type": "stream",
     "text": [
      "Validation Accuracy: 94.12%\n",
      "Validation Loss: 0.2214\n"
     ]
    },
    {
     "name": "stderr",
     "output_type": "stream",
     "text": [
      "Epoch 10/50: 100%|██████████| 1358/1358 [00:07<00:00, 178.72batch/s, loss=0.224]   "
     ]
    },
    {
     "name": "stdout",
     "output_type": "stream",
     "text": [
      "Epoch 10, Average Loss: 0.1206\n"
     ]
    },
    {
     "name": "stderr",
     "output_type": "stream",
     "text": [
      "\n"
     ]
    },
    {
     "name": "stdout",
     "output_type": "stream",
     "text": [
      "Validation Accuracy: 94.54%\n",
      "Validation Loss: 0.1952\n"
     ]
    },
    {
     "name": "stderr",
     "output_type": "stream",
     "text": [
      "Epoch 11/50: 100%|██████████| 1358/1358 [00:08<00:00, 161.88batch/s, loss=0.0189]  "
     ]
    },
    {
     "name": "stdout",
     "output_type": "stream",
     "text": [
      "Epoch 11, Average Loss: 0.1118\n"
     ]
    },
    {
     "name": "stderr",
     "output_type": "stream",
     "text": [
      "\n"
     ]
    },
    {
     "name": "stdout",
     "output_type": "stream",
     "text": [
      "Validation Accuracy: 92.46%\n",
      "Validation Loss: 0.3096\n"
     ]
    },
    {
     "name": "stderr",
     "output_type": "stream",
     "text": [
      "Epoch 12/50: 100%|██████████| 1358/1358 [00:08<00:00, 162.34batch/s, loss=0.183]   "
     ]
    },
    {
     "name": "stdout",
     "output_type": "stream",
     "text": [
      "Epoch 12, Average Loss: 0.0978\n"
     ]
    },
    {
     "name": "stderr",
     "output_type": "stream",
     "text": [
      "\n"
     ]
    },
    {
     "name": "stdout",
     "output_type": "stream",
     "text": [
      "Validation Accuracy: 93.90%\n",
      "Validation Loss: 0.2507\n"
     ]
    },
    {
     "name": "stderr",
     "output_type": "stream",
     "text": [
      "Epoch 13/50: 100%|██████████| 1358/1358 [00:08<00:00, 160.28batch/s, loss=0.00443] "
     ]
    },
    {
     "name": "stdout",
     "output_type": "stream",
     "text": [
      "Epoch 13, Average Loss: 0.1079\n"
     ]
    },
    {
     "name": "stderr",
     "output_type": "stream",
     "text": [
      "\n"
     ]
    },
    {
     "name": "stdout",
     "output_type": "stream",
     "text": [
      "Validation Accuracy: 94.93%\n",
      "Validation Loss: 0.1983\n"
     ]
    },
    {
     "name": "stderr",
     "output_type": "stream",
     "text": [
      "Epoch 14/50: 100%|██████████| 1358/1358 [00:07<00:00, 176.86batch/s, loss=0.084]   "
     ]
    },
    {
     "name": "stdout",
     "output_type": "stream",
     "text": [
      "Epoch 14, Average Loss: 0.0960\n"
     ]
    },
    {
     "name": "stderr",
     "output_type": "stream",
     "text": [
      "\n"
     ]
    },
    {
     "name": "stdout",
     "output_type": "stream",
     "text": [
      "Validation Accuracy: 94.28%\n",
      "Validation Loss: 0.2539\n"
     ]
    },
    {
     "name": "stderr",
     "output_type": "stream",
     "text": [
      "Epoch 15/50: 100%|██████████| 1358/1358 [00:08<00:00, 159.62batch/s, loss=0.222]   "
     ]
    },
    {
     "name": "stdout",
     "output_type": "stream",
     "text": [
      "Epoch 15, Average Loss: 0.0989\n"
     ]
    },
    {
     "name": "stderr",
     "output_type": "stream",
     "text": [
      "\n"
     ]
    },
    {
     "name": "stdout",
     "output_type": "stream",
     "text": [
      "Validation Accuracy: 94.93%\n",
      "Validation Loss: 0.1968\n",
      "Early stopping triggered after 15 epochs.\n",
      "\n",
      "\n",
      "--Testing configuration: image_size=32, layers=5, first_layer_filters=8\n"
     ]
    },
    {
     "name": "stderr",
     "output_type": "stream",
     "text": [
      "Epoch 1/50: 100%|██████████| 1358/1358 [00:08<00:00, 154.47batch/s, loss=1.72] "
     ]
    },
    {
     "name": "stdout",
     "output_type": "stream",
     "text": [
      "Epoch 1, Average Loss: 2.1158\n"
     ]
    },
    {
     "name": "stderr",
     "output_type": "stream",
     "text": [
      "\n"
     ]
    },
    {
     "name": "stdout",
     "output_type": "stream",
     "text": [
      "Validation Accuracy: 64.09%\n",
      "Validation Loss: 1.2225\n"
     ]
    },
    {
     "name": "stderr",
     "output_type": "stream",
     "text": [
      "Epoch 2/50: 100%|██████████| 1358/1358 [00:08<00:00, 156.33batch/s, loss=0.655]\n"
     ]
    },
    {
     "name": "stdout",
     "output_type": "stream",
     "text": [
      "Epoch 2, Average Loss: 1.0458\n",
      "Validation Accuracy: 77.48%\n",
      "Validation Loss: 0.7232\n"
     ]
    },
    {
     "name": "stderr",
     "output_type": "stream",
     "text": [
      "Epoch 3/50: 100%|██████████| 1358/1358 [00:07<00:00, 188.97batch/s, loss=0.679]"
     ]
    },
    {
     "name": "stdout",
     "output_type": "stream",
     "text": [
      "Epoch 3, Average Loss: 0.7448\n"
     ]
    },
    {
     "name": "stderr",
     "output_type": "stream",
     "text": [
      "\n"
     ]
    },
    {
     "name": "stdout",
     "output_type": "stream",
     "text": [
      "Validation Accuracy: 80.33%\n",
      "Validation Loss: 0.6049\n"
     ]
    },
    {
     "name": "stderr",
     "output_type": "stream",
     "text": [
      "Epoch 4/50: 100%|██████████| 1358/1358 [00:07<00:00, 179.43batch/s, loss=0.813]"
     ]
    },
    {
     "name": "stdout",
     "output_type": "stream",
     "text": [
      "Epoch 4, Average Loss: 0.6187\n"
     ]
    },
    {
     "name": "stderr",
     "output_type": "stream",
     "text": [
      "\n"
     ]
    },
    {
     "name": "stdout",
     "output_type": "stream",
     "text": [
      "Validation Accuracy: 84.10%\n",
      "Validation Loss: 0.5063\n"
     ]
    },
    {
     "name": "stderr",
     "output_type": "stream",
     "text": [
      "Epoch 5/50: 100%|██████████| 1358/1358 [00:08<00:00, 160.81batch/s, loss=0.331]\n"
     ]
    },
    {
     "name": "stdout",
     "output_type": "stream",
     "text": [
      "Epoch 5, Average Loss: 0.5383\n",
      "Validation Accuracy: 86.30%\n",
      "Validation Loss: 0.4218\n"
     ]
    },
    {
     "name": "stderr",
     "output_type": "stream",
     "text": [
      "Epoch 6/50: 100%|██████████| 1358/1358 [00:08<00:00, 152.81batch/s, loss=0.365] "
     ]
    },
    {
     "name": "stdout",
     "output_type": "stream",
     "text": [
      "Epoch 6, Average Loss: 0.4740\n"
     ]
    },
    {
     "name": "stderr",
     "output_type": "stream",
     "text": [
      "\n"
     ]
    },
    {
     "name": "stdout",
     "output_type": "stream",
     "text": [
      "Validation Accuracy: 85.86%\n",
      "Validation Loss: 0.4458\n"
     ]
    },
    {
     "name": "stderr",
     "output_type": "stream",
     "text": [
      "Epoch 7/50: 100%|██████████| 1358/1358 [00:08<00:00, 155.17batch/s, loss=0.248] "
     ]
    },
    {
     "name": "stdout",
     "output_type": "stream",
     "text": [
      "Epoch 7, Average Loss: 0.4235\n"
     ]
    },
    {
     "name": "stderr",
     "output_type": "stream",
     "text": [
      "\n"
     ]
    },
    {
     "name": "stdout",
     "output_type": "stream",
     "text": [
      "Validation Accuracy: 87.13%\n",
      "Validation Loss: 0.4074\n"
     ]
    },
    {
     "name": "stderr",
     "output_type": "stream",
     "text": [
      "Epoch 8/50: 100%|██████████| 1358/1358 [00:08<00:00, 166.51batch/s, loss=0.787] "
     ]
    },
    {
     "name": "stdout",
     "output_type": "stream",
     "text": [
      "Epoch 8, Average Loss: 0.3952\n"
     ]
    },
    {
     "name": "stderr",
     "output_type": "stream",
     "text": [
      "\n"
     ]
    },
    {
     "name": "stdout",
     "output_type": "stream",
     "text": [
      "Validation Accuracy: 86.56%\n",
      "Validation Loss: 0.4397\n"
     ]
    },
    {
     "name": "stderr",
     "output_type": "stream",
     "text": [
      "Epoch 9/50: 100%|██████████| 1358/1358 [00:07<00:00, 173.45batch/s, loss=0.432] "
     ]
    },
    {
     "name": "stdout",
     "output_type": "stream",
     "text": [
      "Epoch 9, Average Loss: 0.3632\n"
     ]
    },
    {
     "name": "stderr",
     "output_type": "stream",
     "text": [
      "\n"
     ]
    },
    {
     "name": "stdout",
     "output_type": "stream",
     "text": [
      "Validation Accuracy: 88.91%\n",
      "Validation Loss: 0.3468\n"
     ]
    },
    {
     "name": "stderr",
     "output_type": "stream",
     "text": [
      "Epoch 10/50: 100%|██████████| 1358/1358 [00:08<00:00, 154.84batch/s, loss=0.506] "
     ]
    },
    {
     "name": "stdout",
     "output_type": "stream",
     "text": [
      "Epoch 10, Average Loss: 0.3374\n"
     ]
    },
    {
     "name": "stderr",
     "output_type": "stream",
     "text": [
      "\n"
     ]
    },
    {
     "name": "stdout",
     "output_type": "stream",
     "text": [
      "Validation Accuracy: 88.67%\n",
      "Validation Loss: 0.3713\n"
     ]
    },
    {
     "name": "stderr",
     "output_type": "stream",
     "text": [
      "Epoch 11/50: 100%|██████████| 1358/1358 [00:08<00:00, 158.98batch/s, loss=0.154] "
     ]
    },
    {
     "name": "stdout",
     "output_type": "stream",
     "text": [
      "Epoch 11, Average Loss: 0.3140\n"
     ]
    },
    {
     "name": "stderr",
     "output_type": "stream",
     "text": [
      "\n"
     ]
    },
    {
     "name": "stdout",
     "output_type": "stream",
     "text": [
      "Validation Accuracy: 89.58%\n",
      "Validation Loss: 0.3288\n"
     ]
    },
    {
     "name": "stderr",
     "output_type": "stream",
     "text": [
      "Epoch 12/50: 100%|██████████| 1358/1358 [00:08<00:00, 164.65batch/s, loss=0.525] "
     ]
    },
    {
     "name": "stdout",
     "output_type": "stream",
     "text": [
      "Epoch 12, Average Loss: 0.2942\n"
     ]
    },
    {
     "name": "stderr",
     "output_type": "stream",
     "text": [
      "\n"
     ]
    },
    {
     "name": "stdout",
     "output_type": "stream",
     "text": [
      "Validation Accuracy: 89.76%\n",
      "Validation Loss: 0.3182\n"
     ]
    },
    {
     "name": "stderr",
     "output_type": "stream",
     "text": [
      "Epoch 13/50: 100%|██████████| 1358/1358 [00:08<00:00, 165.76batch/s, loss=0.17]  "
     ]
    },
    {
     "name": "stdout",
     "output_type": "stream",
     "text": [
      "Epoch 13, Average Loss: 0.2832\n"
     ]
    },
    {
     "name": "stderr",
     "output_type": "stream",
     "text": [
      "\n"
     ]
    },
    {
     "name": "stdout",
     "output_type": "stream",
     "text": [
      "Validation Accuracy: 90.37%\n",
      "Validation Loss: 0.3084\n"
     ]
    },
    {
     "name": "stderr",
     "output_type": "stream",
     "text": [
      "Epoch 14/50: 100%|██████████| 1358/1358 [00:08<00:00, 164.78batch/s, loss=0.184] "
     ]
    },
    {
     "name": "stdout",
     "output_type": "stream",
     "text": [
      "Epoch 14, Average Loss: 0.2686\n"
     ]
    },
    {
     "name": "stderr",
     "output_type": "stream",
     "text": [
      "\n"
     ]
    },
    {
     "name": "stdout",
     "output_type": "stream",
     "text": [
      "Validation Accuracy: 89.89%\n",
      "Validation Loss: 0.3275\n"
     ]
    },
    {
     "name": "stderr",
     "output_type": "stream",
     "text": [
      "Epoch 15/50: 100%|██████████| 1358/1358 [00:08<00:00, 160.99batch/s, loss=0.221] "
     ]
    },
    {
     "name": "stdout",
     "output_type": "stream",
     "text": [
      "Epoch 15, Average Loss: 0.2577\n"
     ]
    },
    {
     "name": "stderr",
     "output_type": "stream",
     "text": [
      "\n"
     ]
    },
    {
     "name": "stdout",
     "output_type": "stream",
     "text": [
      "Validation Accuracy: 91.05%\n",
      "Validation Loss: 0.2832\n"
     ]
    },
    {
     "name": "stderr",
     "output_type": "stream",
     "text": [
      "Epoch 16/50: 100%|██████████| 1358/1358 [00:08<00:00, 159.21batch/s, loss=0.166] "
     ]
    },
    {
     "name": "stdout",
     "output_type": "stream",
     "text": [
      "Epoch 16, Average Loss: 0.2453\n"
     ]
    },
    {
     "name": "stderr",
     "output_type": "stream",
     "text": [
      "\n"
     ]
    },
    {
     "name": "stdout",
     "output_type": "stream",
     "text": [
      "Validation Accuracy: 89.12%\n",
      "Validation Loss: 0.3546\n"
     ]
    },
    {
     "name": "stderr",
     "output_type": "stream",
     "text": [
      "Epoch 17/50: 100%|██████████| 1358/1358 [00:08<00:00, 161.46batch/s, loss=0.258] "
     ]
    },
    {
     "name": "stdout",
     "output_type": "stream",
     "text": [
      "Epoch 17, Average Loss: 0.2328\n"
     ]
    },
    {
     "name": "stderr",
     "output_type": "stream",
     "text": [
      "\n"
     ]
    },
    {
     "name": "stdout",
     "output_type": "stream",
     "text": [
      "Validation Accuracy: 90.02%\n",
      "Validation Loss: 0.3298\n"
     ]
    },
    {
     "name": "stderr",
     "output_type": "stream",
     "text": [
      "Epoch 18/50: 100%|██████████| 1358/1358 [00:10<00:00, 134.27batch/s, loss=0.0164] "
     ]
    },
    {
     "name": "stdout",
     "output_type": "stream",
     "text": [
      "Epoch 18, Average Loss: 0.2312\n"
     ]
    },
    {
     "name": "stderr",
     "output_type": "stream",
     "text": [
      "\n"
     ]
    },
    {
     "name": "stdout",
     "output_type": "stream",
     "text": [
      "Validation Accuracy: 92.11%\n",
      "Validation Loss: 0.2659\n"
     ]
    },
    {
     "name": "stderr",
     "output_type": "stream",
     "text": [
      "Epoch 19/50: 100%|██████████| 1358/1358 [00:08<00:00, 161.01batch/s, loss=0.217] "
     ]
    },
    {
     "name": "stdout",
     "output_type": "stream",
     "text": [
      "Epoch 19, Average Loss: 0.2192\n"
     ]
    },
    {
     "name": "stderr",
     "output_type": "stream",
     "text": [
      "\n"
     ]
    },
    {
     "name": "stdout",
     "output_type": "stream",
     "text": [
      "Validation Accuracy: 92.08%\n",
      "Validation Loss: 0.2623\n"
     ]
    },
    {
     "name": "stderr",
     "output_type": "stream",
     "text": [
      "Epoch 20/50: 100%|██████████| 1358/1358 [00:08<00:00, 159.00batch/s, loss=0.234] "
     ]
    },
    {
     "name": "stdout",
     "output_type": "stream",
     "text": [
      "Epoch 20, Average Loss: 0.2161\n"
     ]
    },
    {
     "name": "stderr",
     "output_type": "stream",
     "text": [
      "\n"
     ]
    },
    {
     "name": "stdout",
     "output_type": "stream",
     "text": [
      "Validation Accuracy: 90.26%\n",
      "Validation Loss: 0.3312\n"
     ]
    },
    {
     "name": "stderr",
     "output_type": "stream",
     "text": [
      "Epoch 21/50: 100%|██████████| 1358/1358 [00:08<00:00, 159.82batch/s, loss=0.0315]"
     ]
    },
    {
     "name": "stdout",
     "output_type": "stream",
     "text": [
      "Epoch 21, Average Loss: 0.2108\n"
     ]
    },
    {
     "name": "stderr",
     "output_type": "stream",
     "text": [
      "\n"
     ]
    },
    {
     "name": "stdout",
     "output_type": "stream",
     "text": [
      "Validation Accuracy: 90.97%\n",
      "Validation Loss: 0.3054\n"
     ]
    },
    {
     "name": "stderr",
     "output_type": "stream",
     "text": [
      "Epoch 22/50: 100%|██████████| 1358/1358 [00:07<00:00, 179.38batch/s, loss=0.112]  "
     ]
    },
    {
     "name": "stdout",
     "output_type": "stream",
     "text": [
      "Epoch 22, Average Loss: 0.2019\n"
     ]
    },
    {
     "name": "stderr",
     "output_type": "stream",
     "text": [
      "\n"
     ]
    },
    {
     "name": "stdout",
     "output_type": "stream",
     "text": [
      "Validation Accuracy: 91.19%\n",
      "Validation Loss: 0.2982\n"
     ]
    },
    {
     "name": "stderr",
     "output_type": "stream",
     "text": [
      "Epoch 23/50: 100%|██████████| 1358/1358 [00:08<00:00, 163.63batch/s, loss=0.293]  \n"
     ]
    },
    {
     "name": "stdout",
     "output_type": "stream",
     "text": [
      "Epoch 23, Average Loss: 0.1997\n",
      "Validation Accuracy: 91.45%\n",
      "Validation Loss: 0.2995\n"
     ]
    },
    {
     "name": "stderr",
     "output_type": "stream",
     "text": [
      "Epoch 24/50: 100%|██████████| 1358/1358 [00:08<00:00, 162.36batch/s, loss=0.273]  \n"
     ]
    },
    {
     "name": "stdout",
     "output_type": "stream",
     "text": [
      "Epoch 24, Average Loss: 0.1971\n",
      "Validation Accuracy: 90.90%\n",
      "Validation Loss: 0.3001\n",
      "Early stopping triggered after 24 epochs.\n",
      "\n",
      "\n",
      "--Testing configuration: image_size=32, layers=5, first_layer_filters=16\n"
     ]
    },
    {
     "name": "stderr",
     "output_type": "stream",
     "text": [
      "Epoch 1/50: 100%|██████████| 1358/1358 [00:08<00:00, 152.92batch/s, loss=1.26] "
     ]
    },
    {
     "name": "stdout",
     "output_type": "stream",
     "text": [
      "Epoch 1, Average Loss: 1.7821\n"
     ]
    },
    {
     "name": "stderr",
     "output_type": "stream",
     "text": [
      "\n"
     ]
    },
    {
     "name": "stdout",
     "output_type": "stream",
     "text": [
      "Validation Accuracy: 71.37%\n",
      "Validation Loss: 0.9048\n"
     ]
    },
    {
     "name": "stderr",
     "output_type": "stream",
     "text": [
      "Epoch 2/50: 100%|██████████| 1358/1358 [00:08<00:00, 162.88batch/s, loss=0.452]"
     ]
    },
    {
     "name": "stdout",
     "output_type": "stream",
     "text": [
      "Epoch 2, Average Loss: 0.7472\n"
     ]
    },
    {
     "name": "stderr",
     "output_type": "stream",
     "text": [
      "\n"
     ]
    },
    {
     "name": "stdout",
     "output_type": "stream",
     "text": [
      "Validation Accuracy: 81.91%\n",
      "Validation Loss: 0.5699\n"
     ]
    },
    {
     "name": "stderr",
     "output_type": "stream",
     "text": [
      "Epoch 3/50: 100%|██████████| 1358/1358 [00:07<00:00, 173.44batch/s, loss=0.337]"
     ]
    },
    {
     "name": "stdout",
     "output_type": "stream",
     "text": [
      "Epoch 3, Average Loss: 0.4959\n"
     ]
    },
    {
     "name": "stderr",
     "output_type": "stream",
     "text": [
      "\n"
     ]
    },
    {
     "name": "stdout",
     "output_type": "stream",
     "text": [
      "Validation Accuracy: 85.71%\n",
      "Validation Loss: 0.4447\n"
     ]
    },
    {
     "name": "stderr",
     "output_type": "stream",
     "text": [
      "Epoch 4/50: 100%|██████████| 1358/1358 [00:08<00:00, 158.90batch/s, loss=0.0199]"
     ]
    },
    {
     "name": "stdout",
     "output_type": "stream",
     "text": [
      "Epoch 4, Average Loss: 0.3852\n"
     ]
    },
    {
     "name": "stderr",
     "output_type": "stream",
     "text": [
      "\n"
     ]
    },
    {
     "name": "stdout",
     "output_type": "stream",
     "text": [
      "Validation Accuracy: 88.90%\n",
      "Validation Loss: 0.3473\n"
     ]
    },
    {
     "name": "stderr",
     "output_type": "stream",
     "text": [
      "Epoch 5/50: 100%|██████████| 1358/1358 [00:08<00:00, 160.25batch/s, loss=0.493] "
     ]
    },
    {
     "name": "stdout",
     "output_type": "stream",
     "text": [
      "Epoch 5, Average Loss: 0.3202\n"
     ]
    },
    {
     "name": "stderr",
     "output_type": "stream",
     "text": [
      "\n"
     ]
    },
    {
     "name": "stdout",
     "output_type": "stream",
     "text": [
      "Validation Accuracy: 90.94%\n",
      "Validation Loss: 0.2912\n"
     ]
    },
    {
     "name": "stderr",
     "output_type": "stream",
     "text": [
      "Epoch 6/50: 100%|██████████| 1358/1358 [00:07<00:00, 180.37batch/s, loss=0.139] "
     ]
    },
    {
     "name": "stdout",
     "output_type": "stream",
     "text": [
      "Epoch 6, Average Loss: 0.2767\n"
     ]
    },
    {
     "name": "stderr",
     "output_type": "stream",
     "text": [
      "\n"
     ]
    },
    {
     "name": "stdout",
     "output_type": "stream",
     "text": [
      "Validation Accuracy: 90.79%\n",
      "Validation Loss: 0.2980\n"
     ]
    },
    {
     "name": "stderr",
     "output_type": "stream",
     "text": [
      "Epoch 7/50: 100%|██████████| 1358/1358 [00:08<00:00, 163.19batch/s, loss=0.254] "
     ]
    },
    {
     "name": "stdout",
     "output_type": "stream",
     "text": [
      "Epoch 7, Average Loss: 0.2378\n"
     ]
    },
    {
     "name": "stderr",
     "output_type": "stream",
     "text": [
      "\n"
     ]
    },
    {
     "name": "stdout",
     "output_type": "stream",
     "text": [
      "Validation Accuracy: 90.75%\n",
      "Validation Loss: 0.3105\n"
     ]
    },
    {
     "name": "stderr",
     "output_type": "stream",
     "text": [
      "Epoch 8/50: 100%|██████████| 1358/1358 [00:08<00:00, 160.23batch/s, loss=0.00649]\n"
     ]
    },
    {
     "name": "stdout",
     "output_type": "stream",
     "text": [
      "Epoch 8, Average Loss: 0.2146\n",
      "Validation Accuracy: 91.30%\n",
      "Validation Loss: 0.2961\n"
     ]
    },
    {
     "name": "stderr",
     "output_type": "stream",
     "text": [
      "Epoch 9/50: 100%|██████████| 1358/1358 [00:08<00:00, 159.89batch/s, loss=0.232] "
     ]
    },
    {
     "name": "stdout",
     "output_type": "stream",
     "text": [
      "Epoch 9, Average Loss: 0.1963\n"
     ]
    },
    {
     "name": "stderr",
     "output_type": "stream",
     "text": [
      "\n"
     ]
    },
    {
     "name": "stdout",
     "output_type": "stream",
     "text": [
      "Validation Accuracy: 91.62%\n",
      "Validation Loss: 0.2789\n"
     ]
    },
    {
     "name": "stderr",
     "output_type": "stream",
     "text": [
      "Epoch 10/50: 100%|██████████| 1358/1358 [00:08<00:00, 163.29batch/s, loss=0.11]   "
     ]
    },
    {
     "name": "stdout",
     "output_type": "stream",
     "text": [
      "Epoch 10, Average Loss: 0.1858\n"
     ]
    },
    {
     "name": "stderr",
     "output_type": "stream",
     "text": [
      "\n"
     ]
    },
    {
     "name": "stdout",
     "output_type": "stream",
     "text": [
      "Validation Accuracy: 91.87%\n",
      "Validation Loss: 0.2843\n"
     ]
    },
    {
     "name": "stderr",
     "output_type": "stream",
     "text": [
      "Epoch 11/50: 100%|██████████| 1358/1358 [00:07<00:00, 176.73batch/s, loss=0.00558]"
     ]
    },
    {
     "name": "stdout",
     "output_type": "stream",
     "text": [
      "Epoch 11, Average Loss: 0.1585\n"
     ]
    },
    {
     "name": "stderr",
     "output_type": "stream",
     "text": [
      "\n"
     ]
    },
    {
     "name": "stdout",
     "output_type": "stream",
     "text": [
      "Validation Accuracy: 92.81%\n",
      "Validation Loss: 0.2505\n"
     ]
    },
    {
     "name": "stderr",
     "output_type": "stream",
     "text": [
      "Epoch 12/50: 100%|██████████| 1358/1358 [00:08<00:00, 156.50batch/s, loss=0.00626]"
     ]
    },
    {
     "name": "stdout",
     "output_type": "stream",
     "text": [
      "Epoch 12, Average Loss: 0.1510\n"
     ]
    },
    {
     "name": "stderr",
     "output_type": "stream",
     "text": [
      "\n"
     ]
    },
    {
     "name": "stdout",
     "output_type": "stream",
     "text": [
      "Validation Accuracy: 92.30%\n",
      "Validation Loss: 0.2713\n"
     ]
    },
    {
     "name": "stderr",
     "output_type": "stream",
     "text": [
      "Epoch 13/50: 100%|██████████| 1358/1358 [00:08<00:00, 161.00batch/s, loss=0.0936] "
     ]
    },
    {
     "name": "stdout",
     "output_type": "stream",
     "text": [
      "Epoch 13, Average Loss: 0.1421\n"
     ]
    },
    {
     "name": "stderr",
     "output_type": "stream",
     "text": [
      "\n"
     ]
    },
    {
     "name": "stdout",
     "output_type": "stream",
     "text": [
      "Validation Accuracy: 92.96%\n",
      "Validation Loss: 0.2707\n"
     ]
    },
    {
     "name": "stderr",
     "output_type": "stream",
     "text": [
      "Epoch 14/50: 100%|██████████| 1358/1358 [00:07<00:00, 176.90batch/s, loss=0.102]  "
     ]
    },
    {
     "name": "stdout",
     "output_type": "stream",
     "text": [
      "Epoch 14, Average Loss: 0.1431\n"
     ]
    },
    {
     "name": "stderr",
     "output_type": "stream",
     "text": [
      "\n"
     ]
    },
    {
     "name": "stdout",
     "output_type": "stream",
     "text": [
      "Validation Accuracy: 92.87%\n",
      "Validation Loss: 0.2492\n"
     ]
    },
    {
     "name": "stderr",
     "output_type": "stream",
     "text": [
      "Epoch 15/50: 100%|██████████| 1358/1358 [00:08<00:00, 162.39batch/s, loss=0.0283] \n"
     ]
    },
    {
     "name": "stdout",
     "output_type": "stream",
     "text": [
      "Epoch 15, Average Loss: 0.1370\n",
      "Validation Accuracy: 92.74%\n",
      "Validation Loss: 0.2678\n"
     ]
    },
    {
     "name": "stderr",
     "output_type": "stream",
     "text": [
      "Epoch 16/50: 100%|██████████| 1358/1358 [00:08<00:00, 158.80batch/s, loss=0.00409]"
     ]
    },
    {
     "name": "stdout",
     "output_type": "stream",
     "text": [
      "Epoch 16, Average Loss: 0.1245\n"
     ]
    },
    {
     "name": "stderr",
     "output_type": "stream",
     "text": [
      "\n"
     ]
    },
    {
     "name": "stdout",
     "output_type": "stream",
     "text": [
      "Validation Accuracy: 92.70%\n",
      "Validation Loss: 0.2804\n"
     ]
    },
    {
     "name": "stderr",
     "output_type": "stream",
     "text": [
      "Epoch 17/50: 100%|██████████| 1358/1358 [00:08<00:00, 162.74batch/s, loss=0.122]  "
     ]
    },
    {
     "name": "stdout",
     "output_type": "stream",
     "text": [
      "Epoch 17, Average Loss: 0.1246\n"
     ]
    },
    {
     "name": "stderr",
     "output_type": "stream",
     "text": [
      "\n"
     ]
    },
    {
     "name": "stdout",
     "output_type": "stream",
     "text": [
      "Validation Accuracy: 92.85%\n",
      "Validation Loss: 0.2571\n"
     ]
    },
    {
     "name": "stderr",
     "output_type": "stream",
     "text": [
      "Epoch 18/50: 100%|██████████| 1358/1358 [00:07<00:00, 175.96batch/s, loss=0.255]   \n"
     ]
    },
    {
     "name": "stdout",
     "output_type": "stream",
     "text": [
      "Epoch 18, Average Loss: 0.1244\n",
      "Validation Accuracy: 92.13%\n",
      "Validation Loss: 0.2996\n"
     ]
    },
    {
     "name": "stderr",
     "output_type": "stream",
     "text": [
      "Epoch 19/50: 100%|██████████| 1358/1358 [00:08<00:00, 161.79batch/s, loss=0.0696]  "
     ]
    },
    {
     "name": "stdout",
     "output_type": "stream",
     "text": [
      "Epoch 19, Average Loss: 0.1157\n"
     ]
    },
    {
     "name": "stderr",
     "output_type": "stream",
     "text": [
      "\n"
     ]
    },
    {
     "name": "stdout",
     "output_type": "stream",
     "text": [
      "Validation Accuracy: 93.33%\n",
      "Validation Loss: 0.2457\n"
     ]
    },
    {
     "name": "stderr",
     "output_type": "stream",
     "text": [
      "Epoch 20/50: 100%|██████████| 1358/1358 [00:08<00:00, 160.47batch/s, loss=0.265]   "
     ]
    },
    {
     "name": "stdout",
     "output_type": "stream",
     "text": [
      "Epoch 20, Average Loss: 0.1178\n"
     ]
    },
    {
     "name": "stderr",
     "output_type": "stream",
     "text": [
      "\n"
     ]
    },
    {
     "name": "stdout",
     "output_type": "stream",
     "text": [
      "Validation Accuracy: 92.66%\n",
      "Validation Loss: 0.2756\n"
     ]
    },
    {
     "name": "stderr",
     "output_type": "stream",
     "text": [
      "Epoch 21/50: 100%|██████████| 1358/1358 [00:07<00:00, 176.93batch/s, loss=0.0522] "
     ]
    },
    {
     "name": "stdout",
     "output_type": "stream",
     "text": [
      "Epoch 21, Average Loss: 0.1211\n"
     ]
    },
    {
     "name": "stderr",
     "output_type": "stream",
     "text": [
      "\n"
     ]
    },
    {
     "name": "stdout",
     "output_type": "stream",
     "text": [
      "Validation Accuracy: 93.62%\n",
      "Validation Loss: 0.2689\n"
     ]
    },
    {
     "name": "stderr",
     "output_type": "stream",
     "text": [
      "Epoch 22/50: 100%|██████████| 1358/1358 [00:08<00:00, 160.66batch/s, loss=0.0362]  "
     ]
    },
    {
     "name": "stdout",
     "output_type": "stream",
     "text": [
      "Epoch 22, Average Loss: 0.1115\n"
     ]
    },
    {
     "name": "stderr",
     "output_type": "stream",
     "text": [
      "\n"
     ]
    },
    {
     "name": "stdout",
     "output_type": "stream",
     "text": [
      "Validation Accuracy: 93.56%\n",
      "Validation Loss: 0.2574\n"
     ]
    },
    {
     "name": "stderr",
     "output_type": "stream",
     "text": [
      "Epoch 23/50: 100%|██████████| 1358/1358 [00:08<00:00, 160.55batch/s, loss=0.0738]  "
     ]
    },
    {
     "name": "stdout",
     "output_type": "stream",
     "text": [
      "Epoch 23, Average Loss: 0.1145\n"
     ]
    },
    {
     "name": "stderr",
     "output_type": "stream",
     "text": [
      "\n"
     ]
    },
    {
     "name": "stdout",
     "output_type": "stream",
     "text": [
      "Validation Accuracy: 93.66%\n",
      "Validation Loss: 0.2763\n"
     ]
    },
    {
     "name": "stderr",
     "output_type": "stream",
     "text": [
      "Epoch 24/50: 100%|██████████| 1358/1358 [00:08<00:00, 160.54batch/s, loss=0.000263]\n"
     ]
    },
    {
     "name": "stdout",
     "output_type": "stream",
     "text": [
      "Epoch 24, Average Loss: 0.1022\n",
      "Validation Accuracy: 93.12%\n",
      "Validation Loss: 0.2947\n",
      "Early stopping triggered after 24 epochs.\n",
      "\n",
      "\n",
      "--Testing configuration: image_size=32, layers=5, first_layer_filters=32\n"
     ]
    },
    {
     "name": "stderr",
     "output_type": "stream",
     "text": [
      "Epoch 1/50: 100%|██████████| 1358/1358 [00:08<00:00, 156.24batch/s, loss=0.846]\n"
     ]
    },
    {
     "name": "stdout",
     "output_type": "stream",
     "text": [
      "Epoch 1, Average Loss: 1.6420\n",
      "Validation Accuracy: 78.65%\n",
      "Validation Loss: 0.6790\n"
     ]
    },
    {
     "name": "stderr",
     "output_type": "stream",
     "text": [
      "Epoch 2/50: 100%|██████████| 1358/1358 [00:07<00:00, 174.27batch/s, loss=0.423]"
     ]
    },
    {
     "name": "stdout",
     "output_type": "stream",
     "text": [
      "Epoch 2, Average Loss: 0.5927\n"
     ]
    },
    {
     "name": "stderr",
     "output_type": "stream",
     "text": [
      "\n"
     ]
    },
    {
     "name": "stdout",
     "output_type": "stream",
     "text": [
      "Validation Accuracy: 86.93%\n",
      "Validation Loss: 0.4178\n"
     ]
    },
    {
     "name": "stderr",
     "output_type": "stream",
     "text": [
      "Epoch 3/50: 100%|██████████| 1358/1358 [00:08<00:00, 152.04batch/s, loss=0.905] "
     ]
    },
    {
     "name": "stdout",
     "output_type": "stream",
     "text": [
      "Epoch 3, Average Loss: 0.3865\n"
     ]
    },
    {
     "name": "stderr",
     "output_type": "stream",
     "text": [
      "\n"
     ]
    },
    {
     "name": "stdout",
     "output_type": "stream",
     "text": [
      "Validation Accuracy: 89.70%\n",
      "Validation Loss: 0.3390\n"
     ]
    },
    {
     "name": "stderr",
     "output_type": "stream",
     "text": [
      "Epoch 4/50: 100%|██████████| 1358/1358 [00:08<00:00, 157.72batch/s, loss=0.289] \n"
     ]
    },
    {
     "name": "stdout",
     "output_type": "stream",
     "text": [
      "Epoch 4, Average Loss: 0.2888\n",
      "Validation Accuracy: 90.79%\n",
      "Validation Loss: 0.3117\n"
     ]
    },
    {
     "name": "stderr",
     "output_type": "stream",
     "text": [
      "Epoch 5/50: 100%|██████████| 1358/1358 [00:07<00:00, 173.44batch/s, loss=0.401] "
     ]
    },
    {
     "name": "stdout",
     "output_type": "stream",
     "text": [
      "Epoch 5, Average Loss: 0.2343\n"
     ]
    },
    {
     "name": "stderr",
     "output_type": "stream",
     "text": [
      "\n"
     ]
    },
    {
     "name": "stdout",
     "output_type": "stream",
     "text": [
      "Validation Accuracy: 90.03%\n",
      "Validation Loss: 0.3175\n"
     ]
    },
    {
     "name": "stderr",
     "output_type": "stream",
     "text": [
      "Epoch 6/50: 100%|██████████| 1358/1358 [00:08<00:00, 156.83batch/s, loss=0.577]  "
     ]
    },
    {
     "name": "stdout",
     "output_type": "stream",
     "text": [
      "Epoch 6, Average Loss: 0.1916\n"
     ]
    },
    {
     "name": "stderr",
     "output_type": "stream",
     "text": [
      "\n"
     ]
    },
    {
     "name": "stdout",
     "output_type": "stream",
     "text": [
      "Validation Accuracy: 90.64%\n",
      "Validation Loss: 0.3254\n"
     ]
    },
    {
     "name": "stderr",
     "output_type": "stream",
     "text": [
      "Epoch 7/50: 100%|██████████| 1358/1358 [00:08<00:00, 157.89batch/s, loss=0.0324] "
     ]
    },
    {
     "name": "stdout",
     "output_type": "stream",
     "text": [
      "Epoch 7, Average Loss: 0.1703\n"
     ]
    },
    {
     "name": "stderr",
     "output_type": "stream",
     "text": [
      "\n"
     ]
    },
    {
     "name": "stdout",
     "output_type": "stream",
     "text": [
      "Validation Accuracy: 92.35%\n",
      "Validation Loss: 0.2643\n"
     ]
    },
    {
     "name": "stderr",
     "output_type": "stream",
     "text": [
      "Epoch 8/50: 100%|██████████| 1358/1358 [00:08<00:00, 156.58batch/s, loss=0.163]  "
     ]
    },
    {
     "name": "stdout",
     "output_type": "stream",
     "text": [
      "Epoch 8, Average Loss: 0.1469\n"
     ]
    },
    {
     "name": "stderr",
     "output_type": "stream",
     "text": [
      "\n"
     ]
    },
    {
     "name": "stdout",
     "output_type": "stream",
     "text": [
      "Validation Accuracy: 92.35%\n",
      "Validation Loss: 0.2729\n"
     ]
    },
    {
     "name": "stderr",
     "output_type": "stream",
     "text": [
      "Epoch 9/50: 100%|██████████| 1358/1358 [00:08<00:00, 165.55batch/s, loss=0.0601] "
     ]
    },
    {
     "name": "stdout",
     "output_type": "stream",
     "text": [
      "Epoch 9, Average Loss: 0.1429\n"
     ]
    },
    {
     "name": "stderr",
     "output_type": "stream",
     "text": [
      "\n"
     ]
    },
    {
     "name": "stdout",
     "output_type": "stream",
     "text": [
      "Validation Accuracy: 92.96%\n",
      "Validation Loss: 0.2674\n"
     ]
    },
    {
     "name": "stderr",
     "output_type": "stream",
     "text": [
      "Epoch 10/50: 100%|██████████| 1358/1358 [00:08<00:00, 154.82batch/s, loss=0.154]  "
     ]
    },
    {
     "name": "stdout",
     "output_type": "stream",
     "text": [
      "Epoch 10, Average Loss: 0.1244\n"
     ]
    },
    {
     "name": "stderr",
     "output_type": "stream",
     "text": [
      "\n"
     ]
    },
    {
     "name": "stdout",
     "output_type": "stream",
     "text": [
      "Validation Accuracy: 93.12%\n",
      "Validation Loss: 0.2576\n"
     ]
    },
    {
     "name": "stderr",
     "output_type": "stream",
     "text": [
      "Epoch 11/50: 100%|██████████| 1358/1358 [00:08<00:00, 154.73batch/s, loss=0.00259]\n"
     ]
    },
    {
     "name": "stdout",
     "output_type": "stream",
     "text": [
      "Epoch 11, Average Loss: 0.1240\n",
      "Validation Accuracy: 93.29%\n",
      "Validation Loss: 0.2807\n"
     ]
    },
    {
     "name": "stderr",
     "output_type": "stream",
     "text": [
      "Epoch 12/50: 100%|██████████| 1358/1358 [00:08<00:00, 168.01batch/s, loss=0.00433] "
     ]
    },
    {
     "name": "stdout",
     "output_type": "stream",
     "text": [
      "Epoch 12, Average Loss: 0.1122\n"
     ]
    },
    {
     "name": "stderr",
     "output_type": "stream",
     "text": [
      "\n"
     ]
    },
    {
     "name": "stdout",
     "output_type": "stream",
     "text": [
      "Validation Accuracy: 93.80%\n",
      "Validation Loss: 0.2472\n"
     ]
    },
    {
     "name": "stderr",
     "output_type": "stream",
     "text": [
      "Epoch 13/50: 100%|██████████| 1358/1358 [00:08<00:00, 156.35batch/s, loss=0.159]   "
     ]
    },
    {
     "name": "stdout",
     "output_type": "stream",
     "text": [
      "Epoch 13, Average Loss: 0.1151\n"
     ]
    },
    {
     "name": "stderr",
     "output_type": "stream",
     "text": [
      "\n"
     ]
    },
    {
     "name": "stdout",
     "output_type": "stream",
     "text": [
      "Validation Accuracy: 92.54%\n",
      "Validation Loss: 0.3195\n"
     ]
    },
    {
     "name": "stderr",
     "output_type": "stream",
     "text": [
      "Epoch 14/50: 100%|██████████| 1358/1358 [00:08<00:00, 155.00batch/s, loss=0.0217]  \n"
     ]
    },
    {
     "name": "stdout",
     "output_type": "stream",
     "text": [
      "Epoch 14, Average Loss: 0.1068\n",
      "Validation Accuracy: 93.80%\n",
      "Validation Loss: 0.2774\n"
     ]
    },
    {
     "name": "stderr",
     "output_type": "stream",
     "text": [
      "Epoch 15/50: 100%|██████████| 1358/1358 [00:08<00:00, 168.43batch/s, loss=0.159]   \n"
     ]
    },
    {
     "name": "stdout",
     "output_type": "stream",
     "text": [
      "Epoch 15, Average Loss: 0.1048\n",
      "Validation Accuracy: 93.47%\n",
      "Validation Loss: 0.2638\n"
     ]
    },
    {
     "name": "stderr",
     "output_type": "stream",
     "text": [
      "Epoch 16/50: 100%|██████████| 1358/1358 [00:08<00:00, 156.94batch/s, loss=0.0991]  \n"
     ]
    },
    {
     "name": "stdout",
     "output_type": "stream",
     "text": [
      "Epoch 16, Average Loss: 0.0946\n",
      "Validation Accuracy: 93.25%\n",
      "Validation Loss: 0.3092\n"
     ]
    },
    {
     "name": "stderr",
     "output_type": "stream",
     "text": [
      "Epoch 17/50: 100%|██████████| 1358/1358 [00:08<00:00, 153.85batch/s, loss=0.0383]  "
     ]
    },
    {
     "name": "stdout",
     "output_type": "stream",
     "text": [
      "Epoch 17, Average Loss: 0.1015\n"
     ]
    },
    {
     "name": "stderr",
     "output_type": "stream",
     "text": [
      "\n"
     ]
    },
    {
     "name": "stdout",
     "output_type": "stream",
     "text": [
      "Validation Accuracy: 92.02%\n",
      "Validation Loss: 0.4090\n",
      "Early stopping triggered after 17 epochs.\n",
      "\n",
      "\n",
      "--Testing configuration: image_size=32, layers=5, first_layer_filters=64\n"
     ]
    },
    {
     "name": "stderr",
     "output_type": "stream",
     "text": [
      "Epoch 1/50: 100%|██████████| 1358/1358 [00:08<00:00, 156.19batch/s, loss=0.909]\n"
     ]
    },
    {
     "name": "stdout",
     "output_type": "stream",
     "text": [
      "Epoch 1, Average Loss: 1.6055\n",
      "Validation Accuracy: 77.05%\n",
      "Validation Loss: 0.7425\n"
     ]
    },
    {
     "name": "stderr",
     "output_type": "stream",
     "text": [
      "Epoch 2/50: 100%|██████████| 1358/1358 [00:08<00:00, 158.09batch/s, loss=0.735] "
     ]
    },
    {
     "name": "stdout",
     "output_type": "stream",
     "text": [
      "Epoch 2, Average Loss: 0.5724\n"
     ]
    },
    {
     "name": "stderr",
     "output_type": "stream",
     "text": [
      "\n"
     ]
    },
    {
     "name": "stdout",
     "output_type": "stream",
     "text": [
      "Validation Accuracy: 88.21%\n",
      "Validation Loss: 0.3947\n"
     ]
    },
    {
     "name": "stderr",
     "output_type": "stream",
     "text": [
      "Epoch 3/50: 100%|██████████| 1358/1358 [00:08<00:00, 158.16batch/s, loss=0.265] "
     ]
    },
    {
     "name": "stdout",
     "output_type": "stream",
     "text": [
      "Epoch 3, Average Loss: 0.3482\n"
     ]
    },
    {
     "name": "stderr",
     "output_type": "stream",
     "text": [
      "\n"
     ]
    },
    {
     "name": "stdout",
     "output_type": "stream",
     "text": [
      "Validation Accuracy: 88.47%\n",
      "Validation Loss: 0.3858\n"
     ]
    },
    {
     "name": "stderr",
     "output_type": "stream",
     "text": [
      "Epoch 4/50: 100%|██████████| 1358/1358 [00:08<00:00, 158.80batch/s, loss=0.0483]"
     ]
    },
    {
     "name": "stdout",
     "output_type": "stream",
     "text": [
      "Epoch 4, Average Loss: 0.2635\n"
     ]
    },
    {
     "name": "stderr",
     "output_type": "stream",
     "text": [
      "\n"
     ]
    },
    {
     "name": "stdout",
     "output_type": "stream",
     "text": [
      "Validation Accuracy: 91.49%\n",
      "Validation Loss: 0.2889\n"
     ]
    },
    {
     "name": "stderr",
     "output_type": "stream",
     "text": [
      "Epoch 5/50: 100%|██████████| 1358/1358 [00:07<00:00, 170.66batch/s, loss=0.114]  \n"
     ]
    },
    {
     "name": "stdout",
     "output_type": "stream",
     "text": [
      "Epoch 5, Average Loss: 0.2044\n",
      "Validation Accuracy: 90.07%\n",
      "Validation Loss: 0.3338\n"
     ]
    },
    {
     "name": "stderr",
     "output_type": "stream",
     "text": [
      "Epoch 6/50: 100%|██████████| 1358/1358 [00:08<00:00, 157.44batch/s, loss=0.023]  "
     ]
    },
    {
     "name": "stdout",
     "output_type": "stream",
     "text": [
      "Epoch 6, Average Loss: 0.1738\n"
     ]
    },
    {
     "name": "stderr",
     "output_type": "stream",
     "text": [
      "\n"
     ]
    },
    {
     "name": "stdout",
     "output_type": "stream",
     "text": [
      "Validation Accuracy: 93.18%\n",
      "Validation Loss: 0.2657\n"
     ]
    },
    {
     "name": "stderr",
     "output_type": "stream",
     "text": [
      "Epoch 7/50: 100%|██████████| 1358/1358 [00:08<00:00, 158.32batch/s, loss=0.155]  "
     ]
    },
    {
     "name": "stdout",
     "output_type": "stream",
     "text": [
      "Epoch 7, Average Loss: 0.1596\n"
     ]
    },
    {
     "name": "stderr",
     "output_type": "stream",
     "text": [
      "\n"
     ]
    },
    {
     "name": "stdout",
     "output_type": "stream",
     "text": [
      "Validation Accuracy: 91.10%\n",
      "Validation Loss: 0.3576\n"
     ]
    },
    {
     "name": "stderr",
     "output_type": "stream",
     "text": [
      "Epoch 8/50: 100%|██████████| 1358/1358 [00:07<00:00, 170.84batch/s, loss=0.000347]"
     ]
    },
    {
     "name": "stdout",
     "output_type": "stream",
     "text": [
      "Epoch 8, Average Loss: 0.1482\n"
     ]
    },
    {
     "name": "stderr",
     "output_type": "stream",
     "text": [
      "\n"
     ]
    },
    {
     "name": "stdout",
     "output_type": "stream",
     "text": [
      "Validation Accuracy: 92.79%\n",
      "Validation Loss: 0.2662\n"
     ]
    },
    {
     "name": "stderr",
     "output_type": "stream",
     "text": [
      "Epoch 9/50: 100%|██████████| 1358/1358 [00:08<00:00, 155.66batch/s, loss=0.606]   "
     ]
    },
    {
     "name": "stdout",
     "output_type": "stream",
     "text": [
      "Epoch 9, Average Loss: 0.1297\n"
     ]
    },
    {
     "name": "stderr",
     "output_type": "stream",
     "text": [
      "\n"
     ]
    },
    {
     "name": "stdout",
     "output_type": "stream",
     "text": [
      "Validation Accuracy: 92.41%\n",
      "Validation Loss: 0.3169\n"
     ]
    },
    {
     "name": "stderr",
     "output_type": "stream",
     "text": [
      "Epoch 10/50: 100%|██████████| 1358/1358 [00:08<00:00, 157.83batch/s, loss=0.707]   "
     ]
    },
    {
     "name": "stdout",
     "output_type": "stream",
     "text": [
      "Epoch 10, Average Loss: 0.1195\n"
     ]
    },
    {
     "name": "stderr",
     "output_type": "stream",
     "text": [
      "\n"
     ]
    },
    {
     "name": "stdout",
     "output_type": "stream",
     "text": [
      "Validation Accuracy: 93.69%\n",
      "Validation Loss: 0.2473\n"
     ]
    },
    {
     "name": "stderr",
     "output_type": "stream",
     "text": [
      "Epoch 11/50: 100%|██████████| 1358/1358 [00:08<00:00, 157.33batch/s, loss=0.00136] "
     ]
    },
    {
     "name": "stdout",
     "output_type": "stream",
     "text": [
      "Epoch 11, Average Loss: 0.1152\n"
     ]
    },
    {
     "name": "stderr",
     "output_type": "stream",
     "text": [
      "\n"
     ]
    },
    {
     "name": "stdout",
     "output_type": "stream",
     "text": [
      "Validation Accuracy: 93.58%\n",
      "Validation Loss: 0.2847\n"
     ]
    },
    {
     "name": "stderr",
     "output_type": "stream",
     "text": [
      "Epoch 12/50: 100%|██████████| 1358/1358 [00:08<00:00, 156.40batch/s, loss=0.0191]  "
     ]
    },
    {
     "name": "stdout",
     "output_type": "stream",
     "text": [
      "Epoch 12, Average Loss: 0.1121\n"
     ]
    },
    {
     "name": "stderr",
     "output_type": "stream",
     "text": [
      "\n"
     ]
    },
    {
     "name": "stdout",
     "output_type": "stream",
     "text": [
      "Validation Accuracy: 92.43%\n",
      "Validation Loss: 0.3980\n"
     ]
    },
    {
     "name": "stderr",
     "output_type": "stream",
     "text": [
      "Epoch 13/50: 100%|██████████| 1358/1358 [00:07<00:00, 175.15batch/s, loss=0.00681] "
     ]
    },
    {
     "name": "stdout",
     "output_type": "stream",
     "text": [
      "Epoch 13, Average Loss: 0.1105\n"
     ]
    },
    {
     "name": "stderr",
     "output_type": "stream",
     "text": [
      "\n"
     ]
    },
    {
     "name": "stdout",
     "output_type": "stream",
     "text": [
      "Validation Accuracy: 94.02%\n",
      "Validation Loss: 0.2902\n"
     ]
    },
    {
     "name": "stderr",
     "output_type": "stream",
     "text": [
      "Epoch 14/50: 100%|██████████| 1358/1358 [00:09<00:00, 149.80batch/s, loss=0.14]    "
     ]
    },
    {
     "name": "stdout",
     "output_type": "stream",
     "text": [
      "Epoch 14, Average Loss: 0.1053\n"
     ]
    },
    {
     "name": "stderr",
     "output_type": "stream",
     "text": [
      "\n"
     ]
    },
    {
     "name": "stdout",
     "output_type": "stream",
     "text": [
      "Validation Accuracy: 93.12%\n",
      "Validation Loss: 0.3469\n"
     ]
    },
    {
     "name": "stderr",
     "output_type": "stream",
     "text": [
      "Epoch 15/50: 100%|██████████| 1358/1358 [00:11<00:00, 120.81batch/s, loss=0.316]   \n"
     ]
    },
    {
     "name": "stdout",
     "output_type": "stream",
     "text": [
      "Epoch 15, Average Loss: 0.1088\n",
      "Validation Accuracy: 92.90%\n",
      "Validation Loss: 0.3882\n",
      "Early stopping triggered after 15 epochs.\n"
     ]
    }
   ],
   "source": [
    "results = []  # Per salvare i risultati\n",
    "\n",
    "for image_size, num_layers, first_layer_filters in parameter_combinations:\n",
    "    \n",
    "    print(f\"\\n\\n--Testing configuration: image_size={image_size}, layers={num_layers}, first_layer_filters={first_layer_filters}\")\n",
    "    \n",
    "    train_loader, val_loader, test_loader, class_names = load_data(image_width)\n",
    "\n",
    "    model = SimpleCNN(num_classes, image_width, num_layers, first_layer_filters).to(device)  # Move model to device\n",
    "\n",
    "    train_model(model, num_classes, train_loader, val_loader, epoch = 50)\n",
    "\n",
    "    # Valuta il modello\n",
    "    cm, report = evaluate_model(model, val_loader, class_names)\n",
    "\n",
    "    # Salva i risultati\n",
    "    results.append({\n",
    "        \"image_size\": image_size,\n",
    "        \"num_layers\": num_layers,\n",
    "        \"first_layer_filters\": first_layer_filters,\n",
    "        \"confusion_matrix\": cm,\n",
    "        \"classification_report\": report\n",
    "    })"
   ]
  },
  {
   "cell_type": "markdown",
   "metadata": {},
   "source": [
    "Save combination results in file"
   ]
  },
  {
   "cell_type": "code",
   "execution_count": 20,
   "metadata": {},
   "outputs": [],
   "source": [
    "import pickle\n",
    "\n",
    "# Salva su file binario\n",
    "with open('results.pkl', 'wb') as f:\n",
    "    pickle.dump(results, f)"
   ]
  },
  {
   "cell_type": "markdown",
   "metadata": {},
   "source": [
    "Load file with results"
   ]
  },
  {
   "cell_type": "code",
   "execution_count": 29,
   "metadata": {},
   "outputs": [
    {
     "data": {
      "text/plain": [
       "[{'image_size': 32,\n",
       "  'num_layers': 2,\n",
       "  'first_layer_filters': 8,\n",
       "  'confusion_matrix': array([[ 47,   1,   0, ...,   0,   0,   0],\n",
       "         [  1,  61,   0, ...,   0,   0,   0],\n",
       "         [  0,   0,  22, ...,   0,   0,   0],\n",
       "         ...,\n",
       "         [  0,   0,   0, ..., 529,   0,   0],\n",
       "         [  0,   0,   0, ...,   0,  34,   0],\n",
       "         [  0,   0,   0, ...,   0,   0, 157]]),\n",
       "  'classification_report': {'Apple___Apple_scab': {'precision': 0.9038461538461539,\n",
       "    'recall': 0.746031746031746,\n",
       "    'f1-score': 0.8173913043478261,\n",
       "    'support': 63.0},\n",
       "   'Apple___Black_rot': {'precision': 0.8714285714285714,\n",
       "    'recall': 0.9682539682539683,\n",
       "    'f1-score': 0.9172932330827067,\n",
       "    'support': 63.0},\n",
       "   'Apple___Cedar_apple_rust': {'precision': 0.88,\n",
       "    'recall': 0.7857142857142857,\n",
       "    'f1-score': 0.8301886792452831,\n",
       "    'support': 28.0},\n",
       "   'Apple___healthy': {'precision': 0.94375,\n",
       "    'recall': 0.9151515151515152,\n",
       "    'f1-score': 0.9292307692307692,\n",
       "    'support': 165.0},\n",
       "   'Blueberry___healthy': {'precision': 0.954248366013072,\n",
       "    'recall': 0.9733333333333334,\n",
       "    'f1-score': 0.9636963696369637,\n",
       "    'support': 150.0},\n",
       "   'Cherry_(including_sour)___Powdery_mildew': {'precision': 0.9626168224299065,\n",
       "    'recall': 0.9809523809523809,\n",
       "    'f1-score': 0.9716981132075472,\n",
       "    'support': 105.0},\n",
       "   'Cherry_(including_sour)___healthy': {'precision': 0.9438202247191011,\n",
       "    'recall': 0.9882352941176471,\n",
       "    'f1-score': 0.9655172413793104,\n",
       "    'support': 85.0},\n",
       "   'Corn_(maize)___Cercospora_leaf_spot Gray_leaf_spot': {'precision': 0.7755102040816326,\n",
       "    'recall': 0.7307692307692307,\n",
       "    'f1-score': 0.7524752475247525,\n",
       "    'support': 52.0},\n",
       "   'Corn_(maize)___Common_rust_': {'precision': 0.9915254237288136,\n",
       "    'recall': 0.975,\n",
       "    'f1-score': 0.9831932773109243,\n",
       "    'support': 120.0},\n",
       "   'Corn_(maize)___Northern_Leaf_Blight': {'precision': 0.90625,\n",
       "    'recall': 0.8787878787878788,\n",
       "    'f1-score': 0.8923076923076924,\n",
       "    'support': 99.0},\n",
       "   'Corn_(maize)___healthy': {'precision': 0.975,\n",
       "    'recall': 1.0,\n",
       "    'f1-score': 0.9873417721518988,\n",
       "    'support': 117.0},\n",
       "   'Grape___Black_rot': {'precision': 0.9122807017543859,\n",
       "    'recall': 0.8813559322033898,\n",
       "    'f1-score': 0.896551724137931,\n",
       "    'support': 118.0},\n",
       "   'Grape___Esca_(Black_Measles)': {'precision': 0.9343065693430657,\n",
       "    'recall': 0.927536231884058,\n",
       "    'f1-score': 0.9309090909090909,\n",
       "    'support': 138.0},\n",
       "   'Grape___Leaf_blight_(Isariopsis_Leaf_Spot)': {'precision': 0.9230769230769231,\n",
       "    'recall': 1.0,\n",
       "    'f1-score': 0.96,\n",
       "    'support': 108.0},\n",
       "   'Grape___healthy': {'precision': 0.9111111111111111,\n",
       "    'recall': 0.9761904761904762,\n",
       "    'f1-score': 0.9425287356321839,\n",
       "    'support': 42.0},\n",
       "   'Orange___Haunglongbing_(Citrus_greening)': {'precision': 0.9944954128440368,\n",
       "    'recall': 0.9836660617059891,\n",
       "    'f1-score': 0.9890510948905109,\n",
       "    'support': 551.0},\n",
       "   'Peach___Bacterial_spot': {'precision': 0.9264069264069265,\n",
       "    'recall': 0.9304347826086956,\n",
       "    'f1-score': 0.928416485900217,\n",
       "    'support': 230.0},\n",
       "   'Peach___healthy': {'precision': 0.9444444444444444,\n",
       "    'recall': 0.9444444444444444,\n",
       "    'f1-score': 0.9444444444444444,\n",
       "    'support': 36.0},\n",
       "   'Pepper,_bell___Bacterial_spot': {'precision': 0.9038461538461539,\n",
       "    'recall': 0.94,\n",
       "    'f1-score': 0.9215686274509803,\n",
       "    'support': 100.0},\n",
       "   'Pepper,_bell___healthy': {'precision': 0.9790209790209791,\n",
       "    'recall': 0.9459459459459459,\n",
       "    'f1-score': 0.9621993127147767,\n",
       "    'support': 148.0},\n",
       "   'Potato___Early_blight': {'precision': 0.95,\n",
       "    'recall': 0.95,\n",
       "    'f1-score': 0.95,\n",
       "    'support': 100.0},\n",
       "   'Potato___Late_blight': {'precision': 0.8545454545454545,\n",
       "    'recall': 0.94,\n",
       "    'f1-score': 0.8952380952380953,\n",
       "    'support': 100.0},\n",
       "   'Potato___healthy': {'precision': 0.8125,\n",
       "    'recall': 0.8125,\n",
       "    'f1-score': 0.8125,\n",
       "    'support': 16.0},\n",
       "   'Raspberry___healthy': {'precision': 1.0,\n",
       "    'recall': 0.8108108108108109,\n",
       "    'f1-score': 0.8955223880597015,\n",
       "    'support': 37.0},\n",
       "   'Soybean___healthy': {'precision': 0.9803149606299213,\n",
       "    'recall': 0.9783889980353635,\n",
       "    'f1-score': 0.9793510324483776,\n",
       "    'support': 509.0},\n",
       "   'Squash___Powdery_mildew': {'precision': 0.9679144385026738,\n",
       "    'recall': 0.9836956521739131,\n",
       "    'f1-score': 0.9757412398921833,\n",
       "    'support': 184.0},\n",
       "   'Strawberry___Leaf_scorch': {'precision': 0.9814814814814815,\n",
       "    'recall': 0.954954954954955,\n",
       "    'f1-score': 0.9680365296803652,\n",
       "    'support': 111.0},\n",
       "   'Strawberry___healthy': {'precision': 1.0,\n",
       "    'recall': 0.9347826086956522,\n",
       "    'f1-score': 0.9662921348314607,\n",
       "    'support': 46.0},\n",
       "   'Tomato___Bacterial_spot': {'precision': 0.9244444444444444,\n",
       "    'recall': 0.9765258215962441,\n",
       "    'f1-score': 0.9497716894977168,\n",
       "    'support': 213.0},\n",
       "   'Tomato___Early_blight': {'precision': 0.8461538461538461,\n",
       "    'recall': 0.77,\n",
       "    'f1-score': 0.806282722513089,\n",
       "    'support': 100.0},\n",
       "   'Tomato___Late_blight': {'precision': 0.8804347826086957,\n",
       "    'recall': 0.8481675392670157,\n",
       "    'f1-score': 0.864,\n",
       "    'support': 191.0},\n",
       "   'Tomato___Leaf_Mold': {'precision': 0.91,\n",
       "    'recall': 0.9479166666666666,\n",
       "    'f1-score': 0.9285714285714286,\n",
       "    'support': 96.0},\n",
       "   'Tomato___Septoria_leaf_spot': {'precision': 0.8274111675126904,\n",
       "    'recall': 0.9209039548022598,\n",
       "    'f1-score': 0.8716577540106952,\n",
       "    'support': 177.0},\n",
       "   'Tomato___Spider_mites Two-spotted_spider_mite': {'precision': 0.9341317365269461,\n",
       "    'recall': 0.9285714285714286,\n",
       "    'f1-score': 0.9313432835820895,\n",
       "    'support': 168.0},\n",
       "   'Tomato___Target_Spot': {'precision': 0.937984496124031,\n",
       "    'recall': 0.8581560283687943,\n",
       "    'f1-score': 0.8962962962962963,\n",
       "    'support': 141.0},\n",
       "   'Tomato___Tomato_Yellow_Leaf_Curl_Virus': {'precision': 0.9851024208566108,\n",
       "    'recall': 0.9869402985074627,\n",
       "    'f1-score': 0.9860205032618826,\n",
       "    'support': 536.0},\n",
       "   'Tomato___Tomato_mosaic_virus': {'precision': 0.9444444444444444,\n",
       "    'recall': 0.918918918918919,\n",
       "    'f1-score': 0.9315068493150684,\n",
       "    'support': 37.0},\n",
       "   'Tomato___healthy': {'precision': 0.98125,\n",
       "    'recall': 0.9874213836477987,\n",
       "    'f1-score': 0.9843260188087775,\n",
       "    'support': 159.0},\n",
       "   'accuracy': 0.9442912300055157,\n",
       "   'macro avg': {'precision': 0.9277657542612241,\n",
       "    'recall': 0.9205383835029546,\n",
       "    'f1-score': 0.9231173995135011,\n",
       "    'support': 5439.0},\n",
       "   'weighted avg': {'precision': 0.9447957877815263,\n",
       "    'recall': 0.9442912300055157,\n",
       "    'f1-score': 0.9439886524127235,\n",
       "    'support': 5439.0}}},\n",
       " {'image_size': 32,\n",
       "  'num_layers': 2,\n",
       "  'first_layer_filters': 16,\n",
       "  'confusion_matrix': array([[ 46,   1,   0, ...,   0,   0,   0],\n",
       "         [  2,  60,   0, ...,   0,   0,   0],\n",
       "         [  0,   0,  23, ...,   1,   0,   0],\n",
       "         ...,\n",
       "         [  0,   0,   0, ..., 534,   0,   0],\n",
       "         [  0,   0,   0, ...,   0,  36,   0],\n",
       "         [  0,   0,   0, ...,   0,   0, 158]]),\n",
       "  'classification_report': {'Apple___Apple_scab': {'precision': 0.8846153846153846,\n",
       "    'recall': 0.7301587301587301,\n",
       "    'f1-score': 0.8,\n",
       "    'support': 63.0},\n",
       "   'Apple___Black_rot': {'precision': 0.9230769230769231,\n",
       "    'recall': 0.9523809523809523,\n",
       "    'f1-score': 0.9375,\n",
       "    'support': 63.0},\n",
       "   'Apple___Cedar_apple_rust': {'precision': 1.0,\n",
       "    'recall': 0.8214285714285714,\n",
       "    'f1-score': 0.9019607843137255,\n",
       "    'support': 28.0},\n",
       "   'Apple___healthy': {'precision': 0.9195402298850575,\n",
       "    'recall': 0.9696969696969697,\n",
       "    'f1-score': 0.943952802359882,\n",
       "    'support': 165.0},\n",
       "   'Blueberry___healthy': {'precision': 0.9415584415584416,\n",
       "    'recall': 0.9666666666666667,\n",
       "    'f1-score': 0.9539473684210527,\n",
       "    'support': 150.0},\n",
       "   'Cherry_(including_sour)___Powdery_mildew': {'precision': 0.9611650485436893,\n",
       "    'recall': 0.9428571428571428,\n",
       "    'f1-score': 0.9519230769230769,\n",
       "    'support': 105.0},\n",
       "   'Cherry_(including_sour)___healthy': {'precision': 0.9876543209876543,\n",
       "    'recall': 0.9411764705882353,\n",
       "    'f1-score': 0.963855421686747,\n",
       "    'support': 85.0},\n",
       "   'Corn_(maize)___Cercospora_leaf_spot Gray_leaf_spot': {'precision': 0.8571428571428571,\n",
       "    'recall': 0.9230769230769231,\n",
       "    'f1-score': 0.8888888888888888,\n",
       "    'support': 52.0},\n",
       "   'Corn_(maize)___Common_rust_': {'precision': 0.9916666666666667,\n",
       "    'recall': 0.9916666666666667,\n",
       "    'f1-score': 0.9916666666666667,\n",
       "    'support': 120.0},\n",
       "   'Corn_(maize)___Northern_Leaf_Blight': {'precision': 0.9662921348314607,\n",
       "    'recall': 0.8686868686868687,\n",
       "    'f1-score': 0.9148936170212766,\n",
       "    'support': 99.0},\n",
       "   'Corn_(maize)___healthy': {'precision': 0.975,\n",
       "    'recall': 1.0,\n",
       "    'f1-score': 0.9873417721518988,\n",
       "    'support': 117.0},\n",
       "   'Grape___Black_rot': {'precision': 0.940677966101695,\n",
       "    'recall': 0.940677966101695,\n",
       "    'f1-score': 0.940677966101695,\n",
       "    'support': 118.0},\n",
       "   'Grape___Esca_(Black_Measles)': {'precision': 0.9568345323741008,\n",
       "    'recall': 0.9637681159420289,\n",
       "    'f1-score': 0.9602888086642599,\n",
       "    'support': 138.0},\n",
       "   'Grape___Leaf_blight_(Isariopsis_Leaf_Spot)': {'precision': 0.981651376146789,\n",
       "    'recall': 0.9907407407407407,\n",
       "    'f1-score': 0.9861751152073732,\n",
       "    'support': 108.0},\n",
       "   'Grape___healthy': {'precision': 0.975609756097561,\n",
       "    'recall': 0.9523809523809523,\n",
       "    'f1-score': 0.963855421686747,\n",
       "    'support': 42.0},\n",
       "   'Orange___Haunglongbing_(Citrus_greening)': {'precision': 0.9945454545454545,\n",
       "    'recall': 0.9927404718693285,\n",
       "    'f1-score': 0.9936421435059037,\n",
       "    'support': 551.0},\n",
       "   'Peach___Bacterial_spot': {'precision': 0.9401709401709402,\n",
       "    'recall': 0.9565217391304348,\n",
       "    'f1-score': 0.9482758620689655,\n",
       "    'support': 230.0},\n",
       "   'Peach___healthy': {'precision': 0.9473684210526315,\n",
       "    'recall': 1.0,\n",
       "    'f1-score': 0.972972972972973,\n",
       "    'support': 36.0},\n",
       "   'Pepper,_bell___Bacterial_spot': {'precision': 0.967391304347826,\n",
       "    'recall': 0.89,\n",
       "    'f1-score': 0.9270833333333334,\n",
       "    'support': 100.0},\n",
       "   'Pepper,_bell___healthy': {'precision': 0.9477124183006536,\n",
       "    'recall': 0.9797297297297297,\n",
       "    'f1-score': 0.9634551495016611,\n",
       "    'support': 148.0},\n",
       "   'Potato___Early_blight': {'precision': 0.9411764705882353,\n",
       "    'recall': 0.96,\n",
       "    'f1-score': 0.9504950495049505,\n",
       "    'support': 100.0},\n",
       "   'Potato___Late_blight': {'precision': 0.9583333333333334,\n",
       "    'recall': 0.92,\n",
       "    'f1-score': 0.9387755102040817,\n",
       "    'support': 100.0},\n",
       "   'Potato___healthy': {'precision': 1.0,\n",
       "    'recall': 0.8125,\n",
       "    'f1-score': 0.896551724137931,\n",
       "    'support': 16.0},\n",
       "   'Raspberry___healthy': {'precision': 0.9696969696969697,\n",
       "    'recall': 0.8648648648648649,\n",
       "    'f1-score': 0.9142857142857143,\n",
       "    'support': 37.0},\n",
       "   'Soybean___healthy': {'precision': 0.9822834645669292,\n",
       "    'recall': 0.9803536345776032,\n",
       "    'f1-score': 0.9813176007866273,\n",
       "    'support': 509.0},\n",
       "   'Squash___Powdery_mildew': {'precision': 0.9629629629629629,\n",
       "    'recall': 0.9891304347826086,\n",
       "    'f1-score': 0.9758713136729222,\n",
       "    'support': 184.0},\n",
       "   'Strawberry___Leaf_scorch': {'precision': 0.9464285714285714,\n",
       "    'recall': 0.954954954954955,\n",
       "    'f1-score': 0.9506726457399103,\n",
       "    'support': 111.0},\n",
       "   'Strawberry___healthy': {'precision': 1.0,\n",
       "    'recall': 0.9130434782608695,\n",
       "    'f1-score': 0.9545454545454546,\n",
       "    'support': 46.0},\n",
       "   'Tomato___Bacterial_spot': {'precision': 0.9766355140186916,\n",
       "    'recall': 0.9812206572769953,\n",
       "    'f1-score': 0.9789227166276346,\n",
       "    'support': 213.0},\n",
       "   'Tomato___Early_blight': {'precision': 0.8673469387755102,\n",
       "    'recall': 0.85,\n",
       "    'f1-score': 0.8585858585858586,\n",
       "    'support': 100.0},\n",
       "   'Tomato___Late_blight': {'precision': 0.9139784946236559,\n",
       "    'recall': 0.8900523560209425,\n",
       "    'f1-score': 0.9018567639257294,\n",
       "    'support': 191.0},\n",
       "   'Tomato___Leaf_Mold': {'precision': 0.9479166666666666,\n",
       "    'recall': 0.9479166666666666,\n",
       "    'f1-score': 0.9479166666666666,\n",
       "    'support': 96.0},\n",
       "   'Tomato___Septoria_leaf_spot': {'precision': 0.8924731182795699,\n",
       "    'recall': 0.9378531073446328,\n",
       "    'f1-score': 0.9146005509641874,\n",
       "    'support': 177.0},\n",
       "   'Tomato___Spider_mites Two-spotted_spider_mite': {'precision': 0.9567901234567902,\n",
       "    'recall': 0.9226190476190477,\n",
       "    'f1-score': 0.9393939393939394,\n",
       "    'support': 168.0},\n",
       "   'Tomato___Target_Spot': {'precision': 0.8496732026143791,\n",
       "    'recall': 0.9219858156028369,\n",
       "    'f1-score': 0.8843537414965986,\n",
       "    'support': 141.0},\n",
       "   'Tomato___Tomato_Yellow_Leaf_Curl_Virus': {'precision': 0.9870609981515711,\n",
       "    'recall': 0.996268656716418,\n",
       "    'f1-score': 0.9916434540389972,\n",
       "    'support': 536.0},\n",
       "   'Tomato___Tomato_mosaic_virus': {'precision': 0.9473684210526315,\n",
       "    'recall': 0.972972972972973,\n",
       "    'f1-score': 0.96,\n",
       "    'support': 37.0},\n",
       "   'Tomato___healthy': {'precision': 0.9937106918238994,\n",
       "    'recall': 0.9937106918238994,\n",
       "    'f1-score': 0.9937106918238994,\n",
       "    'support': 159.0},\n",
       "   'accuracy': 0.9573451002022431,\n",
       "   'macro avg': {'precision': 0.9514081610127934,\n",
       "    'recall': 0.9364158688838935,\n",
       "    'f1-score': 0.942785699154664,\n",
       "    'support': 5439.0},\n",
       "   'weighted avg': {'precision': 0.9577882191417119,\n",
       "    'recall': 0.9573451002022431,\n",
       "    'f1-score': 0.9571316277843014,\n",
       "    'support': 5439.0}}},\n",
       " {'image_size': 32,\n",
       "  'num_layers': 2,\n",
       "  'first_layer_filters': 32,\n",
       "  'confusion_matrix': array([[ 50,   0,   0, ...,   0,   1,   0],\n",
       "         [  1,  59,   0, ...,   0,   0,   0],\n",
       "         [  0,   0,  25, ...,   0,   0,   0],\n",
       "         ...,\n",
       "         [  0,   0,   0, ..., 534,   0,   0],\n",
       "         [  0,   0,   0, ...,   0,  37,   0],\n",
       "         [  0,   0,   0, ...,   0,   0, 159]]),\n",
       "  'classification_report': {'Apple___Apple_scab': {'precision': 0.819672131147541,\n",
       "    'recall': 0.7936507936507936,\n",
       "    'f1-score': 0.8064516129032258,\n",
       "    'support': 63.0},\n",
       "   'Apple___Black_rot': {'precision': 0.9365079365079365,\n",
       "    'recall': 0.9365079365079365,\n",
       "    'f1-score': 0.9365079365079365,\n",
       "    'support': 63.0},\n",
       "   'Apple___Cedar_apple_rust': {'precision': 0.8928571428571429,\n",
       "    'recall': 0.8928571428571429,\n",
       "    'f1-score': 0.8928571428571429,\n",
       "    'support': 28.0},\n",
       "   'Apple___healthy': {'precision': 0.9735099337748344,\n",
       "    'recall': 0.8909090909090909,\n",
       "    'f1-score': 0.930379746835443,\n",
       "    'support': 165.0},\n",
       "   'Blueberry___healthy': {'precision': 0.91875,\n",
       "    'recall': 0.98,\n",
       "    'f1-score': 0.9483870967741935,\n",
       "    'support': 150.0},\n",
       "   'Cherry_(including_sour)___Powdery_mildew': {'precision': 0.9017857142857143,\n",
       "    'recall': 0.9619047619047619,\n",
       "    'f1-score': 0.9308755760368663,\n",
       "    'support': 105.0},\n",
       "   'Cherry_(including_sour)___healthy': {'precision': 0.9764705882352941,\n",
       "    'recall': 0.9764705882352941,\n",
       "    'f1-score': 0.9764705882352941,\n",
       "    'support': 85.0},\n",
       "   'Corn_(maize)___Cercospora_leaf_spot Gray_leaf_spot': {'precision': 0.8823529411764706,\n",
       "    'recall': 0.8653846153846154,\n",
       "    'f1-score': 0.8737864077669902,\n",
       "    'support': 52.0},\n",
       "   'Corn_(maize)___Common_rust_': {'precision': 1.0,\n",
       "    'recall': 1.0,\n",
       "    'f1-score': 1.0,\n",
       "    'support': 120.0},\n",
       "   'Corn_(maize)___Northern_Leaf_Blight': {'precision': 0.9108910891089109,\n",
       "    'recall': 0.9292929292929293,\n",
       "    'f1-score': 0.92,\n",
       "    'support': 99.0},\n",
       "   'Corn_(maize)___healthy': {'precision': 0.9590163934426229,\n",
       "    'recall': 1.0,\n",
       "    'f1-score': 0.9790794979079498,\n",
       "    'support': 117.0},\n",
       "   'Grape___Black_rot': {'precision': 0.9528301886792453,\n",
       "    'recall': 0.8559322033898306,\n",
       "    'f1-score': 0.9017857142857143,\n",
       "    'support': 118.0},\n",
       "   'Grape___Esca_(Black_Measles)': {'precision': 0.9562043795620438,\n",
       "    'recall': 0.9492753623188406,\n",
       "    'f1-score': 0.9527272727272728,\n",
       "    'support': 138.0},\n",
       "   'Grape___Leaf_blight_(Isariopsis_Leaf_Spot)': {'precision': 0.9067796610169492,\n",
       "    'recall': 0.9907407407407407,\n",
       "    'f1-score': 0.9469026548672567,\n",
       "    'support': 108.0},\n",
       "   'Grape___healthy': {'precision': 0.9130434782608695,\n",
       "    'recall': 1.0,\n",
       "    'f1-score': 0.9545454545454546,\n",
       "    'support': 42.0},\n",
       "   'Orange___Haunglongbing_(Citrus_greening)': {'precision': 0.9802867383512545,\n",
       "    'recall': 0.9927404718693285,\n",
       "    'f1-score': 0.9864743011722272,\n",
       "    'support': 551.0},\n",
       "   'Peach___Bacterial_spot': {'precision': 0.9385964912280702,\n",
       "    'recall': 0.9304347826086956,\n",
       "    'f1-score': 0.9344978165938864,\n",
       "    'support': 230.0},\n",
       "   'Peach___healthy': {'precision': 0.9722222222222222,\n",
       "    'recall': 0.9722222222222222,\n",
       "    'f1-score': 0.9722222222222222,\n",
       "    'support': 36.0},\n",
       "   'Pepper,_bell___Bacterial_spot': {'precision': 0.9191919191919192,\n",
       "    'recall': 0.91,\n",
       "    'f1-score': 0.914572864321608,\n",
       "    'support': 100.0},\n",
       "   'Pepper,_bell___healthy': {'precision': 0.9194630872483222,\n",
       "    'recall': 0.9256756756756757,\n",
       "    'f1-score': 0.9225589225589226,\n",
       "    'support': 148.0},\n",
       "   'Potato___Early_blight': {'precision': 0.9339622641509434,\n",
       "    'recall': 0.99,\n",
       "    'f1-score': 0.9611650485436893,\n",
       "    'support': 100.0},\n",
       "   'Potato___Late_blight': {'precision': 0.9247311827956989,\n",
       "    'recall': 0.86,\n",
       "    'f1-score': 0.8911917098445595,\n",
       "    'support': 100.0},\n",
       "   'Potato___healthy': {'precision': 0.7222222222222222,\n",
       "    'recall': 0.8125,\n",
       "    'f1-score': 0.7647058823529411,\n",
       "    'support': 16.0},\n",
       "   'Raspberry___healthy': {'precision': 0.7391304347826086,\n",
       "    'recall': 0.918918918918919,\n",
       "    'f1-score': 0.8192771084337349,\n",
       "    'support': 37.0},\n",
       "   'Soybean___healthy': {'precision': 0.9880952380952381,\n",
       "    'recall': 0.9783889980353635,\n",
       "    'f1-score': 0.983218163869694,\n",
       "    'support': 509.0},\n",
       "   'Squash___Powdery_mildew': {'precision': 0.9484536082474226,\n",
       "    'recall': 1.0,\n",
       "    'f1-score': 0.9735449735449735,\n",
       "    'support': 184.0},\n",
       "   'Strawberry___Leaf_scorch': {'precision': 0.9813084112149533,\n",
       "    'recall': 0.9459459459459459,\n",
       "    'f1-score': 0.963302752293578,\n",
       "    'support': 111.0},\n",
       "   'Strawberry___healthy': {'precision': 0.9347826086956522,\n",
       "    'recall': 0.9347826086956522,\n",
       "    'f1-score': 0.9347826086956522,\n",
       "    'support': 46.0},\n",
       "   'Tomato___Bacterial_spot': {'precision': 0.9554455445544554,\n",
       "    'recall': 0.9061032863849765,\n",
       "    'f1-score': 0.9301204819277108,\n",
       "    'support': 213.0},\n",
       "   'Tomato___Early_blight': {'precision': 0.9428571428571428,\n",
       "    'recall': 0.66,\n",
       "    'f1-score': 0.7764705882352941,\n",
       "    'support': 100.0},\n",
       "   'Tomato___Late_blight': {'precision': 0.8835978835978836,\n",
       "    'recall': 0.8743455497382199,\n",
       "    'f1-score': 0.8789473684210526,\n",
       "    'support': 191.0},\n",
       "   'Tomato___Leaf_Mold': {'precision': 0.9270833333333334,\n",
       "    'recall': 0.9270833333333334,\n",
       "    'f1-score': 0.9270833333333334,\n",
       "    'support': 96.0},\n",
       "   'Tomato___Septoria_leaf_spot': {'precision': 0.9302325581395349,\n",
       "    'recall': 0.903954802259887,\n",
       "    'f1-score': 0.9169054441260746,\n",
       "    'support': 177.0},\n",
       "   'Tomato___Spider_mites Two-spotted_spider_mite': {'precision': 0.9302325581395349,\n",
       "    'recall': 0.9523809523809523,\n",
       "    'f1-score': 0.9411764705882353,\n",
       "    'support': 168.0},\n",
       "   'Tomato___Target_Spot': {'precision': 0.921875,\n",
       "    'recall': 0.8368794326241135,\n",
       "    'f1-score': 0.8773234200743495,\n",
       "    'support': 141.0},\n",
       "   'Tomato___Tomato_Yellow_Leaf_Curl_Virus': {'precision': 0.969147005444646,\n",
       "    'recall': 0.996268656716418,\n",
       "    'f1-score': 0.9825206991720331,\n",
       "    'support': 536.0},\n",
       "   'Tomato___Tomato_mosaic_virus': {'precision': 0.8604651162790697,\n",
       "    'recall': 1.0,\n",
       "    'f1-score': 0.925,\n",
       "    'support': 37.0},\n",
       "   'Tomato___healthy': {'precision': 0.9298245614035088,\n",
       "    'recall': 1.0,\n",
       "    'f1-score': 0.9636363636363636,\n",
       "    'support': 159.0},\n",
       "   'accuracy': 0.9442912300055157,\n",
       "   'macro avg': {'precision': 0.9224704923750321,\n",
       "    'recall': 0.927672415857939,\n",
       "    'f1-score': 0.9234593485845494,\n",
       "    'support': 5439.0},\n",
       "   'weighted avg': {'precision': 0.9449333537547948,\n",
       "    'recall': 0.9442912300055157,\n",
       "    'f1-score': 0.9435997849059591,\n",
       "    'support': 5439.0}}},\n",
       " {'image_size': 32,\n",
       "  'num_layers': 2,\n",
       "  'first_layer_filters': 64,\n",
       "  'confusion_matrix': array([[ 52,   1,   0, ...,   0,   1,   0],\n",
       "         [  0,  60,   0, ...,   0,   0,   0],\n",
       "         [  0,   0,  25, ...,   0,   0,   0],\n",
       "         ...,\n",
       "         [  0,   0,   0, ..., 534,   0,   0],\n",
       "         [  0,   0,   0, ...,   0,  36,   0],\n",
       "         [  0,   0,   0, ...,   0,   0, 159]]),\n",
       "  'classification_report': {'Apple___Apple_scab': {'precision': 0.8524590163934426,\n",
       "    'recall': 0.8253968253968254,\n",
       "    'f1-score': 0.8387096774193549,\n",
       "    'support': 63.0},\n",
       "   'Apple___Black_rot': {'precision': 0.9090909090909091,\n",
       "    'recall': 0.9523809523809523,\n",
       "    'f1-score': 0.9302325581395349,\n",
       "    'support': 63.0},\n",
       "   'Apple___Cedar_apple_rust': {'precision': 0.9259259259259259,\n",
       "    'recall': 0.8928571428571429,\n",
       "    'f1-score': 0.9090909090909091,\n",
       "    'support': 28.0},\n",
       "   'Apple___healthy': {'precision': 0.9333333333333333,\n",
       "    'recall': 0.9333333333333333,\n",
       "    'f1-score': 0.9333333333333333,\n",
       "    'support': 165.0},\n",
       "   'Blueberry___healthy': {'precision': 0.9490445859872612,\n",
       "    'recall': 0.9933333333333333,\n",
       "    'f1-score': 0.9706840390879479,\n",
       "    'support': 150.0},\n",
       "   'Cherry_(including_sour)___Powdery_mildew': {'precision': 0.9716981132075472,\n",
       "    'recall': 0.9809523809523809,\n",
       "    'f1-score': 0.976303317535545,\n",
       "    'support': 105.0},\n",
       "   'Cherry_(including_sour)___healthy': {'precision': 0.9545454545454546,\n",
       "    'recall': 0.9882352941176471,\n",
       "    'f1-score': 0.9710982658959537,\n",
       "    'support': 85.0},\n",
       "   'Corn_(maize)___Cercospora_leaf_spot Gray_leaf_spot': {'precision': 0.8148148148148148,\n",
       "    'recall': 0.8461538461538461,\n",
       "    'f1-score': 0.8301886792452831,\n",
       "    'support': 52.0},\n",
       "   'Corn_(maize)___Common_rust_': {'precision': 0.975,\n",
       "    'recall': 0.975,\n",
       "    'f1-score': 0.975,\n",
       "    'support': 120.0},\n",
       "   'Corn_(maize)___Northern_Leaf_Blight': {'precision': 0.9375,\n",
       "    'recall': 0.9090909090909091,\n",
       "    'f1-score': 0.9230769230769231,\n",
       "    'support': 99.0},\n",
       "   'Corn_(maize)___healthy': {'precision': 0.9666666666666667,\n",
       "    'recall': 0.9914529914529915,\n",
       "    'f1-score': 0.9789029535864979,\n",
       "    'support': 117.0},\n",
       "   'Grape___Black_rot': {'precision': 0.9553571428571429,\n",
       "    'recall': 0.9067796610169492,\n",
       "    'f1-score': 0.9304347826086956,\n",
       "    'support': 118.0},\n",
       "   'Grape___Esca_(Black_Measles)': {'precision': 0.9710144927536232,\n",
       "    'recall': 0.9710144927536232,\n",
       "    'f1-score': 0.9710144927536232,\n",
       "    'support': 138.0},\n",
       "   'Grape___Leaf_blight_(Isariopsis_Leaf_Spot)': {'precision': 0.9385964912280702,\n",
       "    'recall': 0.9907407407407407,\n",
       "    'f1-score': 0.963963963963964,\n",
       "    'support': 108.0},\n",
       "   'Grape___healthy': {'precision': 0.9534883720930233,\n",
       "    'recall': 0.9761904761904762,\n",
       "    'f1-score': 0.9647058823529412,\n",
       "    'support': 42.0},\n",
       "   'Orange___Haunglongbing_(Citrus_greening)': {'precision': 0.9891107078039928,\n",
       "    'recall': 0.9891107078039928,\n",
       "    'f1-score': 0.9891107078039928,\n",
       "    'support': 551.0},\n",
       "   'Peach___Bacterial_spot': {'precision': 0.9861751152073732,\n",
       "    'recall': 0.9304347826086956,\n",
       "    'f1-score': 0.9574944071588367,\n",
       "    'support': 230.0},\n",
       "   'Peach___healthy': {'precision': 0.8780487804878049,\n",
       "    'recall': 1.0,\n",
       "    'f1-score': 0.935064935064935,\n",
       "    'support': 36.0},\n",
       "   'Pepper,_bell___Bacterial_spot': {'precision': 0.96875,\n",
       "    'recall': 0.93,\n",
       "    'f1-score': 0.9489795918367347,\n",
       "    'support': 100.0},\n",
       "   'Pepper,_bell___healthy': {'precision': 0.9586206896551724,\n",
       "    'recall': 0.9391891891891891,\n",
       "    'f1-score': 0.9488054607508533,\n",
       "    'support': 148.0},\n",
       "   'Potato___Early_blight': {'precision': 0.9345794392523364,\n",
       "    'recall': 1.0,\n",
       "    'f1-score': 0.966183574879227,\n",
       "    'support': 100.0},\n",
       "   'Potato___Late_blight': {'precision': 0.9263157894736842,\n",
       "    'recall': 0.88,\n",
       "    'f1-score': 0.9025641025641026,\n",
       "    'support': 100.0},\n",
       "   'Potato___healthy': {'precision': 1.0,\n",
       "    'recall': 0.75,\n",
       "    'f1-score': 0.8571428571428571,\n",
       "    'support': 16.0},\n",
       "   'Raspberry___healthy': {'precision': 0.9393939393939394,\n",
       "    'recall': 0.8378378378378378,\n",
       "    'f1-score': 0.8857142857142857,\n",
       "    'support': 37.0},\n",
       "   'Soybean___healthy': {'precision': 0.9822485207100592,\n",
       "    'recall': 0.9783889980353635,\n",
       "    'f1-score': 0.9803149606299213,\n",
       "    'support': 509.0},\n",
       "   'Squash___Powdery_mildew': {'precision': 0.9526315789473684,\n",
       "    'recall': 0.9836956521739131,\n",
       "    'f1-score': 0.9679144385026738,\n",
       "    'support': 184.0},\n",
       "   'Strawberry___Leaf_scorch': {'precision': 0.9906542056074766,\n",
       "    'recall': 0.954954954954955,\n",
       "    'f1-score': 0.9724770642201835,\n",
       "    'support': 111.0},\n",
       "   'Strawberry___healthy': {'precision': 1.0,\n",
       "    'recall': 0.8913043478260869,\n",
       "    'f1-score': 0.9425287356321839,\n",
       "    'support': 46.0},\n",
       "   'Tomato___Bacterial_spot': {'precision': 0.933920704845815,\n",
       "    'recall': 0.9953051643192489,\n",
       "    'f1-score': 0.9636363636363636,\n",
       "    'support': 213.0},\n",
       "   'Tomato___Early_blight': {'precision': 0.8571428571428571,\n",
       "    'recall': 0.84,\n",
       "    'f1-score': 0.8484848484848485,\n",
       "    'support': 100.0},\n",
       "   'Tomato___Late_blight': {'precision': 0.9142857142857143,\n",
       "    'recall': 0.837696335078534,\n",
       "    'f1-score': 0.8743169398907104,\n",
       "    'support': 191.0},\n",
       "   'Tomato___Leaf_Mold': {'precision': 0.968421052631579,\n",
       "    'recall': 0.9583333333333334,\n",
       "    'f1-score': 0.9633507853403142,\n",
       "    'support': 96.0},\n",
       "   'Tomato___Septoria_leaf_spot': {'precision': 0.9421965317919075,\n",
       "    'recall': 0.9209039548022598,\n",
       "    'f1-score': 0.9314285714285714,\n",
       "    'support': 177.0},\n",
       "   'Tomato___Spider_mites Two-spotted_spider_mite': {'precision': 0.9464285714285714,\n",
       "    'recall': 0.9464285714285714,\n",
       "    'f1-score': 0.9464285714285714,\n",
       "    'support': 168.0},\n",
       "   'Tomato___Target_Spot': {'precision': 0.868421052631579,\n",
       "    'recall': 0.9361702127659575,\n",
       "    'f1-score': 0.9010238907849829,\n",
       "    'support': 141.0},\n",
       "   'Tomato___Tomato_Yellow_Leaf_Curl_Virus': {'precision': 0.9907235621521335,\n",
       "    'recall': 0.996268656716418,\n",
       "    'f1-score': 0.9934883720930232,\n",
       "    'support': 536.0},\n",
       "   'Tomato___Tomato_mosaic_virus': {'precision': 0.9,\n",
       "    'recall': 0.972972972972973,\n",
       "    'f1-score': 0.935064935064935,\n",
       "    'support': 37.0},\n",
       "   'Tomato___healthy': {'precision': 0.9754601226993865,\n",
       "    'recall': 1.0,\n",
       "    'f1-score': 0.9875776397515528,\n",
       "    'support': 159.0},\n",
       "   'accuracy': 0.9556903842618129,\n",
       "   'macro avg': {'precision': 0.9424227435538413,\n",
       "    'recall': 0.9368923171478547,\n",
       "    'f1-score': 0.938574626786715,\n",
       "    'support': 5439.0},\n",
       "   'weighted avg': {'precision': 0.9560530832770576,\n",
       "    'recall': 0.9556903842618129,\n",
       "    'f1-score': 0.9554371897287314,\n",
       "    'support': 5439.0}}},\n",
       " {'image_size': 32,\n",
       "  'num_layers': 3,\n",
       "  'first_layer_filters': 8,\n",
       "  'confusion_matrix': array([[ 56,   1,   0, ...,   0,   0,   0],\n",
       "         [  2,  60,   0, ...,   0,   0,   0],\n",
       "         [  0,   0,  19, ...,   1,   0,   0],\n",
       "         ...,\n",
       "         [  0,   0,   0, ..., 530,   0,   0],\n",
       "         [  0,   0,   0, ...,   0,  35,   0],\n",
       "         [  0,   0,   0, ...,   0,   0, 158]]),\n",
       "  'classification_report': {'Apple___Apple_scab': {'precision': 0.7887323943661971,\n",
       "    'recall': 0.8888888888888888,\n",
       "    'f1-score': 0.835820895522388,\n",
       "    'support': 63.0},\n",
       "   'Apple___Black_rot': {'precision': 0.8695652173913043,\n",
       "    'recall': 0.9523809523809523,\n",
       "    'f1-score': 0.9090909090909091,\n",
       "    'support': 63.0},\n",
       "   'Apple___Cedar_apple_rust': {'precision': 0.95,\n",
       "    'recall': 0.6785714285714286,\n",
       "    'f1-score': 0.7916666666666666,\n",
       "    'support': 28.0},\n",
       "   'Apple___healthy': {'precision': 0.9142857142857143,\n",
       "    'recall': 0.9696969696969697,\n",
       "    'f1-score': 0.9411764705882353,\n",
       "    'support': 165.0},\n",
       "   'Blueberry___healthy': {'precision': 0.972972972972973,\n",
       "    'recall': 0.96,\n",
       "    'f1-score': 0.9664429530201343,\n",
       "    'support': 150.0},\n",
       "   'Cherry_(including_sour)___Powdery_mildew': {'precision': 0.9528301886792453,\n",
       "    'recall': 0.9619047619047619,\n",
       "    'f1-score': 0.957345971563981,\n",
       "    'support': 105.0},\n",
       "   'Cherry_(including_sour)___healthy': {'precision': 0.9120879120879121,\n",
       "    'recall': 0.9764705882352941,\n",
       "    'f1-score': 0.9431818181818182,\n",
       "    'support': 85.0},\n",
       "   'Corn_(maize)___Cercospora_leaf_spot Gray_leaf_spot': {'precision': 0.7692307692307693,\n",
       "    'recall': 0.7692307692307693,\n",
       "    'f1-score': 0.7692307692307693,\n",
       "    'support': 52.0},\n",
       "   'Corn_(maize)___Common_rust_': {'precision': 0.9833333333333333,\n",
       "    'recall': 0.9833333333333333,\n",
       "    'f1-score': 0.9833333333333333,\n",
       "    'support': 120.0},\n",
       "   'Corn_(maize)___Northern_Leaf_Blight': {'precision': 0.9431818181818182,\n",
       "    'recall': 0.8383838383838383,\n",
       "    'f1-score': 0.8877005347593583,\n",
       "    'support': 99.0},\n",
       "   'Corn_(maize)___healthy': {'precision': 0.975,\n",
       "    'recall': 1.0,\n",
       "    'f1-score': 0.9873417721518988,\n",
       "    'support': 117.0},\n",
       "   'Grape___Black_rot': {'precision': 0.8934426229508197,\n",
       "    'recall': 0.923728813559322,\n",
       "    'f1-score': 0.9083333333333333,\n",
       "    'support': 118.0},\n",
       "   'Grape___Esca_(Black_Measles)': {'precision': 0.9420289855072463,\n",
       "    'recall': 0.9420289855072463,\n",
       "    'f1-score': 0.9420289855072463,\n",
       "    'support': 138.0},\n",
       "   'Grape___Leaf_blight_(Isariopsis_Leaf_Spot)': {'precision': 0.9901960784313726,\n",
       "    'recall': 0.9351851851851852,\n",
       "    'f1-score': 0.9619047619047619,\n",
       "    'support': 108.0},\n",
       "   'Grape___healthy': {'precision': 0.9743589743589743,\n",
       "    'recall': 0.9047619047619048,\n",
       "    'f1-score': 0.9382716049382716,\n",
       "    'support': 42.0},\n",
       "   'Orange___Haunglongbing_(Citrus_greening)': {'precision': 0.9715808170515098,\n",
       "    'recall': 0.9927404718693285,\n",
       "    'f1-score': 0.9820466786355476,\n",
       "    'support': 551.0},\n",
       "   'Peach___Bacterial_spot': {'precision': 0.8938775510204081,\n",
       "    'recall': 0.9521739130434783,\n",
       "    'f1-score': 0.9221052631578948,\n",
       "    'support': 230.0},\n",
       "   'Peach___healthy': {'precision': 0.8918918918918919,\n",
       "    'recall': 0.9166666666666666,\n",
       "    'f1-score': 0.9041095890410958,\n",
       "    'support': 36.0},\n",
       "   'Pepper,_bell___Bacterial_spot': {'precision': 0.9207920792079208,\n",
       "    'recall': 0.93,\n",
       "    'f1-score': 0.9253731343283582,\n",
       "    'support': 100.0},\n",
       "   'Pepper,_bell___healthy': {'precision': 0.9781021897810219,\n",
       "    'recall': 0.9054054054054054,\n",
       "    'f1-score': 0.9403508771929825,\n",
       "    'support': 148.0},\n",
       "   'Potato___Early_blight': {'precision': 0.989010989010989,\n",
       "    'recall': 0.9,\n",
       "    'f1-score': 0.9424083769633508,\n",
       "    'support': 100.0},\n",
       "   'Potato___Late_blight': {'precision': 0.8035714285714286,\n",
       "    'recall': 0.9,\n",
       "    'f1-score': 0.8490566037735849,\n",
       "    'support': 100.0},\n",
       "   'Potato___healthy': {'precision': 1.0,\n",
       "    'recall': 0.8125,\n",
       "    'f1-score': 0.896551724137931,\n",
       "    'support': 16.0},\n",
       "   'Raspberry___healthy': {'precision': 0.9666666666666667,\n",
       "    'recall': 0.7837837837837838,\n",
       "    'f1-score': 0.8656716417910447,\n",
       "    'support': 37.0},\n",
       "   'Soybean___healthy': {'precision': 0.9765625,\n",
       "    'recall': 0.9823182711198428,\n",
       "    'f1-score': 0.9794319294809011,\n",
       "    'support': 509.0},\n",
       "   'Squash___Powdery_mildew': {'precision': 0.9888268156424581,\n",
       "    'recall': 0.9619565217391305,\n",
       "    'f1-score': 0.9752066115702479,\n",
       "    'support': 184.0},\n",
       "   'Strawberry___Leaf_scorch': {'precision': 0.9401709401709402,\n",
       "    'recall': 0.990990990990991,\n",
       "    'f1-score': 0.9649122807017544,\n",
       "    'support': 111.0},\n",
       "   'Strawberry___healthy': {'precision': 0.9761904761904762,\n",
       "    'recall': 0.8913043478260869,\n",
       "    'f1-score': 0.9318181818181818,\n",
       "    'support': 46.0},\n",
       "   'Tomato___Bacterial_spot': {'precision': 0.90625,\n",
       "    'recall': 0.9530516431924883,\n",
       "    'f1-score': 0.9290617848970252,\n",
       "    'support': 213.0},\n",
       "   'Tomato___Early_blight': {'precision': 0.8769230769230769,\n",
       "    'recall': 0.57,\n",
       "    'f1-score': 0.6909090909090909,\n",
       "    'support': 100.0},\n",
       "   'Tomato___Late_blight': {'precision': 0.8833333333333333,\n",
       "    'recall': 0.8324607329842932,\n",
       "    'f1-score': 0.8571428571428571,\n",
       "    'support': 191.0},\n",
       "   'Tomato___Leaf_Mold': {'precision': 0.9647058823529412,\n",
       "    'recall': 0.8541666666666666,\n",
       "    'f1-score': 0.9060773480662984,\n",
       "    'support': 96.0},\n",
       "   'Tomato___Septoria_leaf_spot': {'precision': 0.8810810810810811,\n",
       "    'recall': 0.9209039548022598,\n",
       "    'f1-score': 0.9005524861878453,\n",
       "    'support': 177.0},\n",
       "   'Tomato___Spider_mites Two-spotted_spider_mite': {'precision': 0.9673202614379085,\n",
       "    'recall': 0.8809523809523809,\n",
       "    'f1-score': 0.9221183800623053,\n",
       "    'support': 168.0},\n",
       "   'Tomato___Target_Spot': {'precision': 0.791907514450867,\n",
       "    'recall': 0.9716312056737588,\n",
       "    'f1-score': 0.8726114649681529,\n",
       "    'support': 141.0},\n",
       "   'Tomato___Tomato_Yellow_Leaf_Curl_Virus': {'precision': 0.9814814814814815,\n",
       "    'recall': 0.9888059701492538,\n",
       "    'f1-score': 0.9851301115241635,\n",
       "    'support': 536.0},\n",
       "   'Tomato___Tomato_mosaic_virus': {'precision': 0.9722222222222222,\n",
       "    'recall': 0.9459459459459459,\n",
       "    'f1-score': 0.958904109589041,\n",
       "    'support': 37.0},\n",
       "   'Tomato___healthy': {'precision': 1.0,\n",
       "    'recall': 0.9937106918238994,\n",
       "    'f1-score': 0.9968454258675079,\n",
       "    'support': 159.0},\n",
       "   'accuracy': 0.9389593675307961,\n",
       "   'macro avg': {'precision': 0.9303609521122711,\n",
       "    'recall': 0.908316736428304,\n",
       "    'f1-score': 0.9163491245157963,\n",
       "    'support': 5439.0},\n",
       "   'weighted avg': {'precision': 0.9407228832633823,\n",
       "    'recall': 0.9389593675307961,\n",
       "    'f1-score': 0.9382005149328508,\n",
       "    'support': 5439.0}}},\n",
       " {'image_size': 32,\n",
       "  'num_layers': 3,\n",
       "  'first_layer_filters': 16,\n",
       "  'confusion_matrix': array([[ 52,   0,   0, ...,   0,   0,   0],\n",
       "         [  1,  57,   0, ...,   0,   0,   0],\n",
       "         [  0,   0,  21, ...,   0,   0,   0],\n",
       "         ...,\n",
       "         [  0,   0,   0, ..., 525,   0,   0],\n",
       "         [  0,   0,   0, ...,   0,  36,   0],\n",
       "         [  0,   0,   0, ...,   0,   0, 158]]),\n",
       "  'classification_report': {'Apple___Apple_scab': {'precision': 0.8524590163934426,\n",
       "    'recall': 0.8253968253968254,\n",
       "    'f1-score': 0.8387096774193549,\n",
       "    'support': 63.0},\n",
       "   'Apple___Black_rot': {'precision': 0.9661016949152542,\n",
       "    'recall': 0.9047619047619048,\n",
       "    'f1-score': 0.9344262295081968,\n",
       "    'support': 63.0},\n",
       "   'Apple___Cedar_apple_rust': {'precision': 0.9545454545454546,\n",
       "    'recall': 0.75,\n",
       "    'f1-score': 0.84,\n",
       "    'support': 28.0},\n",
       "   'Apple___healthy': {'precision': 0.9147727272727273,\n",
       "    'recall': 0.9757575757575757,\n",
       "    'f1-score': 0.9442815249266863,\n",
       "    'support': 165.0},\n",
       "   'Blueberry___healthy': {'precision': 0.9735099337748344,\n",
       "    'recall': 0.98,\n",
       "    'f1-score': 0.9767441860465116,\n",
       "    'support': 150.0},\n",
       "   'Cherry_(including_sour)___Powdery_mildew': {'precision': 0.9181818181818182,\n",
       "    'recall': 0.9619047619047619,\n",
       "    'f1-score': 0.9395348837209302,\n",
       "    'support': 105.0},\n",
       "   'Cherry_(including_sour)___healthy': {'precision': 0.9882352941176471,\n",
       "    'recall': 0.9882352941176471,\n",
       "    'f1-score': 0.9882352941176471,\n",
       "    'support': 85.0},\n",
       "   'Corn_(maize)___Cercospora_leaf_spot Gray_leaf_spot': {'precision': 0.7931034482758621,\n",
       "    'recall': 0.8846153846153846,\n",
       "    'f1-score': 0.8363636363636363,\n",
       "    'support': 52.0},\n",
       "   'Corn_(maize)___Common_rust_': {'precision': 1.0,\n",
       "    'recall': 1.0,\n",
       "    'f1-score': 1.0,\n",
       "    'support': 120.0},\n",
       "   'Corn_(maize)___Northern_Leaf_Blight': {'precision': 0.9166666666666666,\n",
       "    'recall': 0.8888888888888888,\n",
       "    'f1-score': 0.9025641025641026,\n",
       "    'support': 99.0},\n",
       "   'Corn_(maize)___healthy': {'precision': 0.9831932773109243,\n",
       "    'recall': 1.0,\n",
       "    'f1-score': 0.9915254237288136,\n",
       "    'support': 117.0},\n",
       "   'Grape___Black_rot': {'precision': 0.956140350877193,\n",
       "    'recall': 0.923728813559322,\n",
       "    'f1-score': 0.9396551724137931,\n",
       "    'support': 118.0},\n",
       "   'Grape___Esca_(Black_Measles)': {'precision': 0.9640287769784173,\n",
       "    'recall': 0.9710144927536232,\n",
       "    'f1-score': 0.9675090252707581,\n",
       "    'support': 138.0},\n",
       "   'Grape___Leaf_blight_(Isariopsis_Leaf_Spot)': {'precision': 0.9553571428571429,\n",
       "    'recall': 0.9907407407407407,\n",
       "    'f1-score': 0.9727272727272728,\n",
       "    'support': 108.0},\n",
       "   'Grape___healthy': {'precision': 0.9534883720930233,\n",
       "    'recall': 0.9761904761904762,\n",
       "    'f1-score': 0.9647058823529412,\n",
       "    'support': 42.0},\n",
       "   'Orange___Haunglongbing_(Citrus_greening)': {'precision': 0.9890710382513661,\n",
       "    'recall': 0.985480943738657,\n",
       "    'f1-score': 0.9872727272727273,\n",
       "    'support': 551.0},\n",
       "   'Peach___Bacterial_spot': {'precision': 0.9601769911504425,\n",
       "    'recall': 0.9434782608695652,\n",
       "    'f1-score': 0.9517543859649122,\n",
       "    'support': 230.0},\n",
       "   'Peach___healthy': {'precision': 0.8780487804878049,\n",
       "    'recall': 1.0,\n",
       "    'f1-score': 0.935064935064935,\n",
       "    'support': 36.0},\n",
       "   'Pepper,_bell___Bacterial_spot': {'precision': 0.92,\n",
       "    'recall': 0.92,\n",
       "    'f1-score': 0.92,\n",
       "    'support': 100.0},\n",
       "   'Pepper,_bell___healthy': {'precision': 0.9784172661870504,\n",
       "    'recall': 0.918918918918919,\n",
       "    'f1-score': 0.9477351916376306,\n",
       "    'support': 148.0},\n",
       "   'Potato___Early_blight': {'precision': 0.979381443298969,\n",
       "    'recall': 0.95,\n",
       "    'f1-score': 0.9644670050761421,\n",
       "    'support': 100.0},\n",
       "   'Potato___Late_blight': {'precision': 0.8785046728971962,\n",
       "    'recall': 0.94,\n",
       "    'f1-score': 0.9082125603864735,\n",
       "    'support': 100.0},\n",
       "   'Potato___healthy': {'precision': 1.0,\n",
       "    'recall': 0.9375,\n",
       "    'f1-score': 0.967741935483871,\n",
       "    'support': 16.0},\n",
       "   'Raspberry___healthy': {'precision': 0.9259259259259259,\n",
       "    'recall': 0.6756756756756757,\n",
       "    'f1-score': 0.78125,\n",
       "    'support': 37.0},\n",
       "   'Soybean___healthy': {'precision': 0.9509433962264151,\n",
       "    'recall': 0.9901768172888016,\n",
       "    'f1-score': 0.9701636188642926,\n",
       "    'support': 509.0},\n",
       "   'Squash___Powdery_mildew': {'precision': 0.9680851063829787,\n",
       "    'recall': 0.9891304347826086,\n",
       "    'f1-score': 0.978494623655914,\n",
       "    'support': 184.0},\n",
       "   'Strawberry___Leaf_scorch': {'precision': 0.981651376146789,\n",
       "    'recall': 0.963963963963964,\n",
       "    'f1-score': 0.9727272727272728,\n",
       "    'support': 111.0},\n",
       "   'Strawberry___healthy': {'precision': 1.0,\n",
       "    'recall': 0.9782608695652174,\n",
       "    'f1-score': 0.989010989010989,\n",
       "    'support': 46.0},\n",
       "   'Tomato___Bacterial_spot': {'precision': 0.9545454545454546,\n",
       "    'recall': 0.9859154929577465,\n",
       "    'f1-score': 0.9699769053117783,\n",
       "    'support': 213.0},\n",
       "   'Tomato___Early_blight': {'precision': 0.8762886597938144,\n",
       "    'recall': 0.85,\n",
       "    'f1-score': 0.8629441624365483,\n",
       "    'support': 100.0},\n",
       "   'Tomato___Late_blight': {'precision': 0.9583333333333334,\n",
       "    'recall': 0.8429319371727748,\n",
       "    'f1-score': 0.8969359331476323,\n",
       "    'support': 191.0},\n",
       "   'Tomato___Leaf_Mold': {'precision': 0.9555555555555556,\n",
       "    'recall': 0.8958333333333334,\n",
       "    'f1-score': 0.9247311827956989,\n",
       "    'support': 96.0},\n",
       "   'Tomato___Septoria_leaf_spot': {'precision': 0.918918918918919,\n",
       "    'recall': 0.96045197740113,\n",
       "    'f1-score': 0.9392265193370166,\n",
       "    'support': 177.0},\n",
       "   'Tomato___Spider_mites Two-spotted_spider_mite': {'precision': 0.9518072289156626,\n",
       "    'recall': 0.9404761904761905,\n",
       "    'f1-score': 0.9461077844311377,\n",
       "    'support': 168.0},\n",
       "   'Tomato___Target_Spot': {'precision': 0.9066666666666666,\n",
       "    'recall': 0.9645390070921985,\n",
       "    'f1-score': 0.9347079037800687,\n",
       "    'support': 141.0},\n",
       "   'Tomato___Tomato_Yellow_Leaf_Curl_Virus': {'precision': 0.9924385633270322,\n",
       "    'recall': 0.9794776119402985,\n",
       "    'f1-score': 0.9859154929577465,\n",
       "    'support': 536.0},\n",
       "   'Tomato___Tomato_mosaic_virus': {'precision': 0.9473684210526315,\n",
       "    'recall': 0.972972972972973,\n",
       "    'f1-score': 0.96,\n",
       "    'support': 37.0},\n",
       "   'Tomato___healthy': {'precision': 1.0,\n",
       "    'recall': 0.9937106918238994,\n",
       "    'f1-score': 0.9968454258675079,\n",
       "    'support': 159.0},\n",
       "   'accuracy': 0.9562419562419563,\n",
       "   'macro avg': {'precision': 0.9463661256138004,\n",
       "    'recall': 0.9368455331226606,\n",
       "    'f1-score': 0.9402176017466035,\n",
       "    'support': 5439.0},\n",
       "   'weighted avg': {'precision': 0.9568482593857843,\n",
       "    'recall': 0.9562419562419563,\n",
       "    'f1-score': 0.9559216602512167,\n",
       "    'support': 5439.0}}},\n",
       " {'image_size': 32,\n",
       "  'num_layers': 3,\n",
       "  'first_layer_filters': 32,\n",
       "  'confusion_matrix': array([[ 46,   0,   0, ...,   0,   0,   0],\n",
       "         [  2,  61,   0, ...,   0,   0,   0],\n",
       "         [  0,   0,  26, ...,   0,   0,   0],\n",
       "         ...,\n",
       "         [  0,   0,   0, ..., 531,   0,   0],\n",
       "         [  0,   0,   0, ...,   0,  37,   0],\n",
       "         [  0,   0,   0, ...,   0,   0, 158]]),\n",
       "  'classification_report': {'Apple___Apple_scab': {'precision': 0.8846153846153846,\n",
       "    'recall': 0.7301587301587301,\n",
       "    'f1-score': 0.8,\n",
       "    'support': 63.0},\n",
       "   'Apple___Black_rot': {'precision': 0.9242424242424242,\n",
       "    'recall': 0.9682539682539683,\n",
       "    'f1-score': 0.9457364341085271,\n",
       "    'support': 63.0},\n",
       "   'Apple___Cedar_apple_rust': {'precision': 0.9285714285714286,\n",
       "    'recall': 0.9285714285714286,\n",
       "    'f1-score': 0.9285714285714286,\n",
       "    'support': 28.0},\n",
       "   'Apple___healthy': {'precision': 0.8722222222222222,\n",
       "    'recall': 0.9515151515151515,\n",
       "    'f1-score': 0.9101449275362319,\n",
       "    'support': 165.0},\n",
       "   'Blueberry___healthy': {'precision': 0.9545454545454546,\n",
       "    'recall': 0.98,\n",
       "    'f1-score': 0.9671052631578947,\n",
       "    'support': 150.0},\n",
       "   'Cherry_(including_sour)___Powdery_mildew': {'precision': 0.9805825242718447,\n",
       "    'recall': 0.9619047619047619,\n",
       "    'f1-score': 0.9711538461538461,\n",
       "    'support': 105.0},\n",
       "   'Cherry_(including_sour)___healthy': {'precision': 0.9651162790697675,\n",
       "    'recall': 0.9764705882352941,\n",
       "    'f1-score': 0.9707602339181286,\n",
       "    'support': 85.0},\n",
       "   'Corn_(maize)___Cercospora_leaf_spot Gray_leaf_spot': {'precision': 0.8035714285714286,\n",
       "    'recall': 0.8653846153846154,\n",
       "    'f1-score': 0.8333333333333334,\n",
       "    'support': 52.0},\n",
       "   'Corn_(maize)___Common_rust_': {'precision': 0.9672131147540983,\n",
       "    'recall': 0.9833333333333333,\n",
       "    'f1-score': 0.9752066115702479,\n",
       "    'support': 120.0},\n",
       "   'Corn_(maize)___Northern_Leaf_Blight': {'precision': 0.9347826086956522,\n",
       "    'recall': 0.8686868686868687,\n",
       "    'f1-score': 0.900523560209424,\n",
       "    'support': 99.0},\n",
       "   'Corn_(maize)___healthy': {'precision': 0.9745762711864406,\n",
       "    'recall': 0.9829059829059829,\n",
       "    'f1-score': 0.9787234042553191,\n",
       "    'support': 117.0},\n",
       "   'Grape___Black_rot': {'precision': 0.940677966101695,\n",
       "    'recall': 0.940677966101695,\n",
       "    'f1-score': 0.940677966101695,\n",
       "    'support': 118.0},\n",
       "   'Grape___Esca_(Black_Measles)': {'precision': 0.9637681159420289,\n",
       "    'recall': 0.9637681159420289,\n",
       "    'f1-score': 0.9637681159420289,\n",
       "    'support': 138.0},\n",
       "   'Grape___Leaf_blight_(Isariopsis_Leaf_Spot)': {'precision': 0.9905660377358491,\n",
       "    'recall': 0.9722222222222222,\n",
       "    'f1-score': 0.9813084112149533,\n",
       "    'support': 108.0},\n",
       "   'Grape___healthy': {'precision': 0.9534883720930233,\n",
       "    'recall': 0.9761904761904762,\n",
       "    'f1-score': 0.9647058823529412,\n",
       "    'support': 42.0},\n",
       "   'Orange___Haunglongbing_(Citrus_greening)': {'precision': 0.9891304347826086,\n",
       "    'recall': 0.9909255898366606,\n",
       "    'f1-score': 0.9900271985494107,\n",
       "    'support': 551.0},\n",
       "   'Peach___Bacterial_spot': {'precision': 0.9541284403669725,\n",
       "    'recall': 0.9043478260869565,\n",
       "    'f1-score': 0.9285714285714286,\n",
       "    'support': 230.0},\n",
       "   'Peach___healthy': {'precision': 0.972972972972973,\n",
       "    'recall': 1.0,\n",
       "    'f1-score': 0.9863013698630136,\n",
       "    'support': 36.0},\n",
       "   'Pepper,_bell___Bacterial_spot': {'precision': 0.9134615384615384,\n",
       "    'recall': 0.95,\n",
       "    'f1-score': 0.9313725490196079,\n",
       "    'support': 100.0},\n",
       "   'Pepper,_bell___healthy': {'precision': 0.9855072463768116,\n",
       "    'recall': 0.918918918918919,\n",
       "    'f1-score': 0.951048951048951,\n",
       "    'support': 148.0},\n",
       "   'Potato___Early_blight': {'precision': 0.9896907216494846,\n",
       "    'recall': 0.96,\n",
       "    'f1-score': 0.9746192893401016,\n",
       "    'support': 100.0},\n",
       "   'Potato___Late_blight': {'precision': 0.9052631578947369,\n",
       "    'recall': 0.86,\n",
       "    'f1-score': 0.882051282051282,\n",
       "    'support': 100.0},\n",
       "   'Potato___healthy': {'precision': 0.9285714285714286,\n",
       "    'recall': 0.8125,\n",
       "    'f1-score': 0.8666666666666667,\n",
       "    'support': 16.0},\n",
       "   'Raspberry___healthy': {'precision': 0.8787878787878788,\n",
       "    'recall': 0.7837837837837838,\n",
       "    'f1-score': 0.8285714285714286,\n",
       "    'support': 37.0},\n",
       "   'Soybean___healthy': {'precision': 0.9784313725490196,\n",
       "    'recall': 0.9803536345776032,\n",
       "    'f1-score': 0.9793915603532876,\n",
       "    'support': 509.0},\n",
       "   'Squash___Powdery_mildew': {'precision': 1.0,\n",
       "    'recall': 0.9619565217391305,\n",
       "    'f1-score': 0.9806094182825484,\n",
       "    'support': 184.0},\n",
       "   'Strawberry___Leaf_scorch': {'precision': 0.9652173913043478,\n",
       "    'recall': 1.0,\n",
       "    'f1-score': 0.9823008849557522,\n",
       "    'support': 111.0},\n",
       "   'Strawberry___healthy': {'precision': 1.0,\n",
       "    'recall': 0.9130434782608695,\n",
       "    'f1-score': 0.9545454545454546,\n",
       "    'support': 46.0},\n",
       "   'Tomato___Bacterial_spot': {'precision': 0.9134199134199135,\n",
       "    'recall': 0.9906103286384976,\n",
       "    'f1-score': 0.9504504504504504,\n",
       "    'support': 213.0},\n",
       "   'Tomato___Early_blight': {'precision': 0.9113924050632911,\n",
       "    'recall': 0.72,\n",
       "    'f1-score': 0.8044692737430168,\n",
       "    'support': 100.0},\n",
       "   'Tomato___Late_blight': {'precision': 0.8634146341463415,\n",
       "    'recall': 0.9267015706806283,\n",
       "    'f1-score': 0.8939393939393939,\n",
       "    'support': 191.0},\n",
       "   'Tomato___Leaf_Mold': {'precision': 0.9183673469387755,\n",
       "    'recall': 0.9375,\n",
       "    'f1-score': 0.9278350515463918,\n",
       "    'support': 96.0},\n",
       "   'Tomato___Septoria_leaf_spot': {'precision': 0.9285714285714286,\n",
       "    'recall': 0.9548022598870056,\n",
       "    'f1-score': 0.9415041782729805,\n",
       "    'support': 177.0},\n",
       "   'Tomato___Spider_mites Two-spotted_spider_mite': {'precision': 0.9685534591194969,\n",
       "    'recall': 0.9166666666666666,\n",
       "    'f1-score': 0.9418960244648318,\n",
       "    'support': 168.0},\n",
       "   'Tomato___Target_Spot': {'precision': 0.8670886075949367,\n",
       "    'recall': 0.9716312056737588,\n",
       "    'f1-score': 0.9163879598662207,\n",
       "    'support': 141.0},\n",
       "   'Tomato___Tomato_Yellow_Leaf_Curl_Virus': {'precision': 0.9943820224719101,\n",
       "    'recall': 0.9906716417910447,\n",
       "    'f1-score': 0.9925233644859813,\n",
       "    'support': 536.0},\n",
       "   'Tomato___Tomato_mosaic_virus': {'precision': 0.925,\n",
       "    'recall': 1.0,\n",
       "    'f1-score': 0.961038961038961,\n",
       "    'support': 37.0},\n",
       "   'Tomato___healthy': {'precision': 0.9937106918238994,\n",
       "    'recall': 0.9937106918238994,\n",
       "    'f1-score': 0.9937106918238994,\n",
       "    'support': 159.0},\n",
       "   'accuracy': 0.9533002390145248,\n",
       "   'macro avg': {'precision': 0.941673755933856,\n",
       "    'recall': 0.9338991665203155,\n",
       "    'f1-score': 0.9366197960493964,\n",
       "    'support': 5439.0},\n",
       "   'weighted avg': {'precision': 0.9541345797202947,\n",
       "    'recall': 0.9533002390145248,\n",
       "    'f1-score': 0.9529571397160451,\n",
       "    'support': 5439.0}}},\n",
       " {'image_size': 32,\n",
       "  'num_layers': 3,\n",
       "  'first_layer_filters': 64,\n",
       "  'confusion_matrix': array([[ 54,   0,   0, ...,   0,   0,   0],\n",
       "         [  1,  59,   0, ...,   0,   0,   0],\n",
       "         [  0,   0,  25, ...,   0,   0,   0],\n",
       "         ...,\n",
       "         [  0,   0,   0, ..., 535,   0,   0],\n",
       "         [  0,   0,   0, ...,   0,  35,   0],\n",
       "         [  0,   0,   0, ...,   0,   0, 159]]),\n",
       "  'classification_report': {'Apple___Apple_scab': {'precision': 0.9152542372881356,\n",
       "    'recall': 0.8571428571428571,\n",
       "    'f1-score': 0.8852459016393442,\n",
       "    'support': 63.0},\n",
       "   'Apple___Black_rot': {'precision': 0.9516129032258065,\n",
       "    'recall': 0.9365079365079365,\n",
       "    'f1-score': 0.944,\n",
       "    'support': 63.0},\n",
       "   'Apple___Cedar_apple_rust': {'precision': 0.9259259259259259,\n",
       "    'recall': 0.8928571428571429,\n",
       "    'f1-score': 0.9090909090909091,\n",
       "    'support': 28.0},\n",
       "   'Apple___healthy': {'precision': 0.9748427672955975,\n",
       "    'recall': 0.9393939393939394,\n",
       "    'f1-score': 0.9567901234567902,\n",
       "    'support': 165.0},\n",
       "   'Blueberry___healthy': {'precision': 0.9798657718120806,\n",
       "    'recall': 0.9733333333333334,\n",
       "    'f1-score': 0.9765886287625418,\n",
       "    'support': 150.0},\n",
       "   'Cherry_(including_sour)___Powdery_mildew': {'precision': 0.9363636363636364,\n",
       "    'recall': 0.9809523809523809,\n",
       "    'f1-score': 0.958139534883721,\n",
       "    'support': 105.0},\n",
       "   'Cherry_(including_sour)___healthy': {'precision': 1.0,\n",
       "    'recall': 0.9764705882352941,\n",
       "    'f1-score': 0.9880952380952381,\n",
       "    'support': 85.0},\n",
       "   'Corn_(maize)___Cercospora_leaf_spot Gray_leaf_spot': {'precision': 0.8679245283018868,\n",
       "    'recall': 0.8846153846153846,\n",
       "    'f1-score': 0.8761904761904762,\n",
       "    'support': 52.0},\n",
       "   'Corn_(maize)___Common_rust_': {'precision': 0.9915966386554622,\n",
       "    'recall': 0.9833333333333333,\n",
       "    'f1-score': 0.9874476987447699,\n",
       "    'support': 120.0},\n",
       "   'Corn_(maize)___Northern_Leaf_Blight': {'precision': 0.9468085106382979,\n",
       "    'recall': 0.898989898989899,\n",
       "    'f1-score': 0.9222797927461139,\n",
       "    'support': 99.0},\n",
       "   'Corn_(maize)___healthy': {'precision': 0.9590163934426229,\n",
       "    'recall': 1.0,\n",
       "    'f1-score': 0.9790794979079498,\n",
       "    'support': 117.0},\n",
       "   'Grape___Black_rot': {'precision': 0.9090909090909091,\n",
       "    'recall': 0.9322033898305084,\n",
       "    'f1-score': 0.9205020920502092,\n",
       "    'support': 118.0},\n",
       "   'Grape___Esca_(Black_Measles)': {'precision': 0.9769230769230769,\n",
       "    'recall': 0.9202898550724637,\n",
       "    'f1-score': 0.9477611940298507,\n",
       "    'support': 138.0},\n",
       "   'Grape___Leaf_blight_(Isariopsis_Leaf_Spot)': {'precision': 0.9385964912280702,\n",
       "    'recall': 0.9907407407407407,\n",
       "    'f1-score': 0.963963963963964,\n",
       "    'support': 108.0},\n",
       "   'Grape___healthy': {'precision': 0.9545454545454546,\n",
       "    'recall': 1.0,\n",
       "    'f1-score': 0.9767441860465116,\n",
       "    'support': 42.0},\n",
       "   'Orange___Haunglongbing_(Citrus_greening)': {'precision': 0.9981751824817519,\n",
       "    'recall': 0.9927404718693285,\n",
       "    'f1-score': 0.9954504094631483,\n",
       "    'support': 551.0},\n",
       "   'Peach___Bacterial_spot': {'precision': 0.9482758620689655,\n",
       "    'recall': 0.9565217391304348,\n",
       "    'f1-score': 0.9523809523809523,\n",
       "    'support': 230.0},\n",
       "   'Peach___healthy': {'precision': 0.9444444444444444,\n",
       "    'recall': 0.9444444444444444,\n",
       "    'f1-score': 0.9444444444444444,\n",
       "    'support': 36.0},\n",
       "   'Pepper,_bell___Bacterial_spot': {'precision': 0.9158878504672897,\n",
       "    'recall': 0.98,\n",
       "    'f1-score': 0.9468599033816425,\n",
       "    'support': 100.0},\n",
       "   'Pepper,_bell___healthy': {'precision': 0.9668874172185431,\n",
       "    'recall': 0.9864864864864865,\n",
       "    'f1-score': 0.9765886287625418,\n",
       "    'support': 148.0},\n",
       "   'Potato___Early_blight': {'precision': 0.9504950495049505,\n",
       "    'recall': 0.96,\n",
       "    'f1-score': 0.9552238805970149,\n",
       "    'support': 100.0},\n",
       "   'Potato___Late_blight': {'precision': 0.7950819672131147,\n",
       "    'recall': 0.97,\n",
       "    'f1-score': 0.8738738738738738,\n",
       "    'support': 100.0},\n",
       "   'Potato___healthy': {'precision': 0.8235294117647058,\n",
       "    'recall': 0.875,\n",
       "    'f1-score': 0.8484848484848485,\n",
       "    'support': 16.0},\n",
       "   'Raspberry___healthy': {'precision': 0.972972972972973,\n",
       "    'recall': 0.972972972972973,\n",
       "    'f1-score': 0.972972972972973,\n",
       "    'support': 37.0},\n",
       "   'Soybean___healthy': {'precision': 0.9960079840319361,\n",
       "    'recall': 0.9803536345776032,\n",
       "    'f1-score': 0.9881188118811881,\n",
       "    'support': 509.0},\n",
       "   'Squash___Powdery_mildew': {'precision': 0.9783783783783784,\n",
       "    'recall': 0.9836956521739131,\n",
       "    'f1-score': 0.981029810298103,\n",
       "    'support': 184.0},\n",
       "   'Strawberry___Leaf_scorch': {'precision': 0.9732142857142857,\n",
       "    'recall': 0.9819819819819819,\n",
       "    'f1-score': 0.9775784753363229,\n",
       "    'support': 111.0},\n",
       "   'Strawberry___healthy': {'precision': 1.0,\n",
       "    'recall': 0.9782608695652174,\n",
       "    'f1-score': 0.989010989010989,\n",
       "    'support': 46.0},\n",
       "   'Tomato___Bacterial_spot': {'precision': 0.9720930232558139,\n",
       "    'recall': 0.9812206572769953,\n",
       "    'f1-score': 0.9766355140186916,\n",
       "    'support': 213.0},\n",
       "   'Tomato___Early_blight': {'precision': 0.8611111111111112,\n",
       "    'recall': 0.93,\n",
       "    'f1-score': 0.8942307692307693,\n",
       "    'support': 100.0},\n",
       "   'Tomato___Late_blight': {'precision': 0.9325842696629213,\n",
       "    'recall': 0.8691099476439791,\n",
       "    'f1-score': 0.8997289972899729,\n",
       "    'support': 191.0},\n",
       "   'Tomato___Leaf_Mold': {'precision': 0.9381443298969072,\n",
       "    'recall': 0.9479166666666666,\n",
       "    'f1-score': 0.9430051813471503,\n",
       "    'support': 96.0},\n",
       "   'Tomato___Septoria_leaf_spot': {'precision': 0.9759036144578314,\n",
       "    'recall': 0.9152542372881356,\n",
       "    'f1-score': 0.9446064139941691,\n",
       "    'support': 177.0},\n",
       "   'Tomato___Spider_mites Two-spotted_spider_mite': {'precision': 0.9529411764705882,\n",
       "    'recall': 0.9642857142857143,\n",
       "    'f1-score': 0.9585798816568047,\n",
       "    'support': 168.0},\n",
       "   'Tomato___Target_Spot': {'precision': 0.984,\n",
       "    'recall': 0.8723404255319149,\n",
       "    'f1-score': 0.924812030075188,\n",
       "    'support': 141.0},\n",
       "   'Tomato___Tomato_Yellow_Leaf_Curl_Virus': {'precision': 0.9962756052141527,\n",
       "    'recall': 0.9981343283582089,\n",
       "    'f1-score': 0.9972041006523765,\n",
       "    'support': 536.0},\n",
       "   'Tomato___Tomato_mosaic_virus': {'precision': 0.9459459459459459,\n",
       "    'recall': 0.9459459459459459,\n",
       "    'f1-score': 0.9459459459459459,\n",
       "    'support': 37.0},\n",
       "   'Tomato___healthy': {'precision': 0.9578313253012049,\n",
       "    'recall': 1.0,\n",
       "    'f1-score': 0.9784615384615385,\n",
       "    'support': 159.0},\n",
       "   'accuracy': 0.9630446773303916,\n",
       "   'macro avg': {'precision': 0.947593380324073,\n",
       "    'recall': 0.9514078146632936,\n",
       "    'f1-score': 0.9488723055570799,\n",
       "    'support': 5439.0},\n",
       "   'weighted avg': {'precision': 0.9641582668782378,\n",
       "    'recall': 0.9630446773303916,\n",
       "    'f1-score': 0.9631097731995906,\n",
       "    'support': 5439.0}}},\n",
       " {'image_size': 32,\n",
       "  'num_layers': 4,\n",
       "  'first_layer_filters': 8,\n",
       "  'confusion_matrix': array([[ 51,   2,   0, ...,   0,   0,   0],\n",
       "         [  3,  58,   0, ...,   0,   0,   0],\n",
       "         [  0,   0,  17, ...,   1,   0,   0],\n",
       "         ...,\n",
       "         [  0,   0,   0, ..., 534,   0,   0],\n",
       "         [  0,   0,   0, ...,   0,  37,   0],\n",
       "         [  0,   0,   0, ...,   0,   0, 156]]),\n",
       "  'classification_report': {'Apple___Apple_scab': {'precision': 0.864406779661017,\n",
       "    'recall': 0.8095238095238095,\n",
       "    'f1-score': 0.8360655737704918,\n",
       "    'support': 63.0},\n",
       "   'Apple___Black_rot': {'precision': 0.9354838709677419,\n",
       "    'recall': 0.9206349206349206,\n",
       "    'f1-score': 0.928,\n",
       "    'support': 63.0},\n",
       "   'Apple___Cedar_apple_rust': {'precision': 0.8947368421052632,\n",
       "    'recall': 0.6071428571428571,\n",
       "    'f1-score': 0.723404255319149,\n",
       "    'support': 28.0},\n",
       "   'Apple___healthy': {'precision': 0.9135802469135802,\n",
       "    'recall': 0.896969696969697,\n",
       "    'f1-score': 0.9051987767584098,\n",
       "    'support': 165.0},\n",
       "   'Blueberry___healthy': {'precision': 0.9726027397260274,\n",
       "    'recall': 0.9466666666666667,\n",
       "    'f1-score': 0.9594594594594594,\n",
       "    'support': 150.0},\n",
       "   'Cherry_(including_sour)___Powdery_mildew': {'precision': 0.9090909090909091,\n",
       "    'recall': 0.9523809523809523,\n",
       "    'f1-score': 0.9302325581395349,\n",
       "    'support': 105.0},\n",
       "   'Cherry_(including_sour)___healthy': {'precision': 0.9529411764705882,\n",
       "    'recall': 0.9529411764705882,\n",
       "    'f1-score': 0.9529411764705882,\n",
       "    'support': 85.0},\n",
       "   'Corn_(maize)___Cercospora_leaf_spot Gray_leaf_spot': {'precision': 0.74,\n",
       "    'recall': 0.7115384615384616,\n",
       "    'f1-score': 0.7254901960784313,\n",
       "    'support': 52.0},\n",
       "   'Corn_(maize)___Common_rust_': {'precision': 0.9596774193548387,\n",
       "    'recall': 0.9916666666666667,\n",
       "    'f1-score': 0.9754098360655737,\n",
       "    'support': 120.0},\n",
       "   'Corn_(maize)___Northern_Leaf_Blight': {'precision': 0.8557692307692307,\n",
       "    'recall': 0.898989898989899,\n",
       "    'f1-score': 0.8768472906403941,\n",
       "    'support': 99.0},\n",
       "   'Corn_(maize)___healthy': {'precision': 0.9669421487603306,\n",
       "    'recall': 1.0,\n",
       "    'f1-score': 0.9831932773109243,\n",
       "    'support': 117.0},\n",
       "   'Grape___Black_rot': {'precision': 0.8869565217391304,\n",
       "    'recall': 0.864406779661017,\n",
       "    'f1-score': 0.8755364806866953,\n",
       "    'support': 118.0},\n",
       "   'Grape___Esca_(Black_Measles)': {'precision': 0.8888888888888888,\n",
       "    'recall': 0.927536231884058,\n",
       "    'f1-score': 0.9078014184397163,\n",
       "    'support': 138.0},\n",
       "   'Grape___Leaf_blight_(Isariopsis_Leaf_Spot)': {'precision': 0.9375,\n",
       "    'recall': 0.9722222222222222,\n",
       "    'f1-score': 0.9545454545454546,\n",
       "    'support': 108.0},\n",
       "   'Grape___healthy': {'precision': 1.0,\n",
       "    'recall': 0.8333333333333334,\n",
       "    'f1-score': 0.9090909090909091,\n",
       "    'support': 42.0},\n",
       "   'Orange___Haunglongbing_(Citrus_greening)': {'precision': 0.9801801801801802,\n",
       "    'recall': 0.9872958257713249,\n",
       "    'f1-score': 0.9837251356238698,\n",
       "    'support': 551.0},\n",
       "   'Peach___Bacterial_spot': {'precision': 0.9469026548672567,\n",
       "    'recall': 0.9304347826086956,\n",
       "    'f1-score': 0.9385964912280702,\n",
       "    'support': 230.0},\n",
       "   'Peach___healthy': {'precision': 0.9210526315789473,\n",
       "    'recall': 0.9722222222222222,\n",
       "    'f1-score': 0.9459459459459459,\n",
       "    'support': 36.0},\n",
       "   'Pepper,_bell___Bacterial_spot': {'precision': 0.9183673469387755,\n",
       "    'recall': 0.9,\n",
       "    'f1-score': 0.9090909090909091,\n",
       "    'support': 100.0},\n",
       "   'Pepper,_bell___healthy': {'precision': 0.9513888888888888,\n",
       "    'recall': 0.9256756756756757,\n",
       "    'f1-score': 0.9383561643835616,\n",
       "    'support': 148.0},\n",
       "   'Potato___Early_blight': {'precision': 0.9787234042553191,\n",
       "    'recall': 0.92,\n",
       "    'f1-score': 0.9484536082474226,\n",
       "    'support': 100.0},\n",
       "   'Potato___Late_blight': {'precision': 0.8411214953271028,\n",
       "    'recall': 0.9,\n",
       "    'f1-score': 0.8695652173913043,\n",
       "    'support': 100.0},\n",
       "   'Potato___healthy': {'precision': 0.9333333333333333,\n",
       "    'recall': 0.875,\n",
       "    'f1-score': 0.9032258064516129,\n",
       "    'support': 16.0},\n",
       "   'Raspberry___healthy': {'precision': 0.8888888888888888,\n",
       "    'recall': 0.8648648648648649,\n",
       "    'f1-score': 0.8767123287671232,\n",
       "    'support': 37.0},\n",
       "   'Soybean___healthy': {'precision': 0.9615384615384616,\n",
       "    'recall': 0.9823182711198428,\n",
       "    'f1-score': 0.9718172983479106,\n",
       "    'support': 509.0},\n",
       "   'Squash___Powdery_mildew': {'precision': 0.9726775956284153,\n",
       "    'recall': 0.967391304347826,\n",
       "    'f1-score': 0.9700272479564033,\n",
       "    'support': 184.0},\n",
       "   'Strawberry___Leaf_scorch': {'precision': 0.8943089430894309,\n",
       "    'recall': 0.990990990990991,\n",
       "    'f1-score': 0.9401709401709402,\n",
       "    'support': 111.0},\n",
       "   'Strawberry___healthy': {'precision': 0.9767441860465116,\n",
       "    'recall': 0.9130434782608695,\n",
       "    'f1-score': 0.9438202247191011,\n",
       "    'support': 46.0},\n",
       "   'Tomato___Bacterial_spot': {'precision': 0.9178082191780822,\n",
       "    'recall': 0.9436619718309859,\n",
       "    'f1-score': 0.9305555555555556,\n",
       "    'support': 213.0},\n",
       "   'Tomato___Early_blight': {'precision': 0.8648648648648649,\n",
       "    'recall': 0.64,\n",
       "    'f1-score': 0.735632183908046,\n",
       "    'support': 100.0},\n",
       "   'Tomato___Late_blight': {'precision': 0.8564102564102564,\n",
       "    'recall': 0.8743455497382199,\n",
       "    'f1-score': 0.8652849740932642,\n",
       "    'support': 191.0},\n",
       "   'Tomato___Leaf_Mold': {'precision': 0.9404761904761905,\n",
       "    'recall': 0.8229166666666666,\n",
       "    'f1-score': 0.8777777777777778,\n",
       "    'support': 96.0},\n",
       "   'Tomato___Septoria_leaf_spot': {'precision': 0.9041916167664671,\n",
       "    'recall': 0.8531073446327684,\n",
       "    'f1-score': 0.877906976744186,\n",
       "    'support': 177.0},\n",
       "   'Tomato___Spider_mites Two-spotted_spider_mite': {'precision': 0.9382716049382716,\n",
       "    'recall': 0.9047619047619048,\n",
       "    'f1-score': 0.9212121212121213,\n",
       "    'support': 168.0},\n",
       "   'Tomato___Target_Spot': {'precision': 0.8387096774193549,\n",
       "    'recall': 0.9219858156028369,\n",
       "    'f1-score': 0.8783783783783784,\n",
       "    'support': 141.0},\n",
       "   'Tomato___Tomato_Yellow_Leaf_Curl_Virus': {'precision': 0.9709090909090909,\n",
       "    'recall': 0.996268656716418,\n",
       "    'f1-score': 0.9834254143646409,\n",
       "    'support': 536.0},\n",
       "   'Tomato___Tomato_mosaic_virus': {'precision': 0.8809523809523809,\n",
       "    'recall': 1.0,\n",
       "    'f1-score': 0.9367088607594937,\n",
       "    'support': 37.0},\n",
       "   'Tomato___healthy': {'precision': 0.968944099378882,\n",
       "    'recall': 0.9811320754716981,\n",
       "    'f1-score': 0.975,\n",
       "    'support': 159.0},\n",
       "   'accuracy': 0.9336275050560765,\n",
       "   'macro avg': {'precision': 0.9190879680606024,\n",
       "    'recall': 0.9040360809307622,\n",
       "    'f1-score': 0.9095949006287729,\n",
       "    'support': 5439.0},\n",
       "   'weighted avg': {'precision': 0.9337204746685519,\n",
       "    'recall': 0.9336275050560765,\n",
       "    'f1-score': 0.9327613486429384,\n",
       "    'support': 5439.0}}},\n",
       " {'image_size': 32,\n",
       "  'num_layers': 4,\n",
       "  'first_layer_filters': 16,\n",
       "  'confusion_matrix': array([[ 47,   0,   0, ...,   0,   0,   0],\n",
       "         [  0,  61,   0, ...,   0,   0,   0],\n",
       "         [  0,   0,  22, ...,   1,   0,   0],\n",
       "         ...,\n",
       "         [  0,   0,   0, ..., 528,   0,   0],\n",
       "         [  0,   0,   0, ...,   0,  36,   0],\n",
       "         [  0,   0,   0, ...,   0,   0, 159]]),\n",
       "  'classification_report': {'Apple___Apple_scab': {'precision': 0.9038461538461539,\n",
       "    'recall': 0.746031746031746,\n",
       "    'f1-score': 0.8173913043478261,\n",
       "    'support': 63.0},\n",
       "   'Apple___Black_rot': {'precision': 0.953125,\n",
       "    'recall': 0.9682539682539683,\n",
       "    'f1-score': 0.9606299212598425,\n",
       "    'support': 63.0},\n",
       "   'Apple___Cedar_apple_rust': {'precision': 0.9166666666666666,\n",
       "    'recall': 0.7857142857142857,\n",
       "    'f1-score': 0.8461538461538461,\n",
       "    'support': 28.0},\n",
       "   'Apple___healthy': {'precision': 0.9080459770114943,\n",
       "    'recall': 0.9575757575757575,\n",
       "    'f1-score': 0.9321533923303835,\n",
       "    'support': 165.0},\n",
       "   'Blueberry___healthy': {'precision': 0.961038961038961,\n",
       "    'recall': 0.9866666666666667,\n",
       "    'f1-score': 0.9736842105263158,\n",
       "    'support': 150.0},\n",
       "   'Cherry_(including_sour)___Powdery_mildew': {'precision': 0.9351851851851852,\n",
       "    'recall': 0.9619047619047619,\n",
       "    'f1-score': 0.9483568075117371,\n",
       "    'support': 105.0},\n",
       "   'Cherry_(including_sour)___healthy': {'precision': 0.9880952380952381,\n",
       "    'recall': 0.9764705882352941,\n",
       "    'f1-score': 0.9822485207100592,\n",
       "    'support': 85.0},\n",
       "   'Corn_(maize)___Cercospora_leaf_spot Gray_leaf_spot': {'precision': 0.7741935483870968,\n",
       "    'recall': 0.9230769230769231,\n",
       "    'f1-score': 0.8421052631578947,\n",
       "    'support': 52.0},\n",
       "   'Corn_(maize)___Common_rust_': {'precision': 0.9834710743801653,\n",
       "    'recall': 0.9916666666666667,\n",
       "    'f1-score': 0.9875518672199171,\n",
       "    'support': 120.0},\n",
       "   'Corn_(maize)___Northern_Leaf_Blight': {'precision': 0.9767441860465116,\n",
       "    'recall': 0.8484848484848485,\n",
       "    'f1-score': 0.9081081081081082,\n",
       "    'support': 99.0},\n",
       "   'Corn_(maize)___healthy': {'precision': 0.9830508474576272,\n",
       "    'recall': 0.9914529914529915,\n",
       "    'f1-score': 0.9872340425531915,\n",
       "    'support': 117.0},\n",
       "   'Grape___Black_rot': {'precision': 0.9159663865546218,\n",
       "    'recall': 0.923728813559322,\n",
       "    'f1-score': 0.919831223628692,\n",
       "    'support': 118.0},\n",
       "   'Grape___Esca_(Black_Measles)': {'precision': 0.9632352941176471,\n",
       "    'recall': 0.9492753623188406,\n",
       "    'f1-score': 0.9562043795620438,\n",
       "    'support': 138.0},\n",
       "   'Grape___Leaf_blight_(Isariopsis_Leaf_Spot)': {'precision': 0.963963963963964,\n",
       "    'recall': 0.9907407407407407,\n",
       "    'f1-score': 0.9771689497716894,\n",
       "    'support': 108.0},\n",
       "   'Grape___healthy': {'precision': 1.0,\n",
       "    'recall': 0.9285714285714286,\n",
       "    'f1-score': 0.9629629629629629,\n",
       "    'support': 42.0},\n",
       "   'Orange___Haunglongbing_(Citrus_greening)': {'precision': 0.9873188405797102,\n",
       "    'recall': 0.9891107078039928,\n",
       "    'f1-score': 0.9882139619220308,\n",
       "    'support': 551.0},\n",
       "   'Peach___Bacterial_spot': {'precision': 0.9432314410480349,\n",
       "    'recall': 0.9391304347826087,\n",
       "    'f1-score': 0.9411764705882353,\n",
       "    'support': 230.0},\n",
       "   'Peach___healthy': {'precision': 0.9444444444444444,\n",
       "    'recall': 0.9444444444444444,\n",
       "    'f1-score': 0.9444444444444444,\n",
       "    'support': 36.0},\n",
       "   'Pepper,_bell___Bacterial_spot': {'precision': 0.9456521739130435,\n",
       "    'recall': 0.87,\n",
       "    'f1-score': 0.90625,\n",
       "    'support': 100.0},\n",
       "   'Pepper,_bell___healthy': {'precision': 0.9924242424242424,\n",
       "    'recall': 0.8851351351351351,\n",
       "    'f1-score': 0.9357142857142857,\n",
       "    'support': 148.0},\n",
       "   'Potato___Early_blight': {'precision': 0.9405940594059405,\n",
       "    'recall': 0.95,\n",
       "    'f1-score': 0.945273631840796,\n",
       "    'support': 100.0},\n",
       "   'Potato___Late_blight': {'precision': 0.9090909090909091,\n",
       "    'recall': 0.9,\n",
       "    'f1-score': 0.9045226130653267,\n",
       "    'support': 100.0},\n",
       "   'Potato___healthy': {'precision': 0.9333333333333333,\n",
       "    'recall': 0.875,\n",
       "    'f1-score': 0.9032258064516129,\n",
       "    'support': 16.0},\n",
       "   'Raspberry___healthy': {'precision': 0.8,\n",
       "    'recall': 0.8648648648648649,\n",
       "    'f1-score': 0.8311688311688312,\n",
       "    'support': 37.0},\n",
       "   'Soybean___healthy': {'precision': 0.9692898272552783,\n",
       "    'recall': 0.9921414538310412,\n",
       "    'f1-score': 0.9805825242718447,\n",
       "    'support': 509.0},\n",
       "   'Squash___Powdery_mildew': {'precision': 0.9285714285714286,\n",
       "    'recall': 0.9891304347826086,\n",
       "    'f1-score': 0.9578947368421052,\n",
       "    'support': 184.0},\n",
       "   'Strawberry___Leaf_scorch': {'precision': 0.9636363636363636,\n",
       "    'recall': 0.954954954954955,\n",
       "    'f1-score': 0.9592760180995475,\n",
       "    'support': 111.0},\n",
       "   'Strawberry___healthy': {'precision': 0.9375,\n",
       "    'recall': 0.9782608695652174,\n",
       "    'f1-score': 0.9574468085106383,\n",
       "    'support': 46.0},\n",
       "   'Tomato___Bacterial_spot': {'precision': 0.9406392694063926,\n",
       "    'recall': 0.9671361502347418,\n",
       "    'f1-score': 0.9537037037037037,\n",
       "    'support': 213.0},\n",
       "   'Tomato___Early_blight': {'precision': 0.8736842105263158,\n",
       "    'recall': 0.83,\n",
       "    'f1-score': 0.8512820512820513,\n",
       "    'support': 100.0},\n",
       "   'Tomato___Late_blight': {'precision': 0.9060773480662984,\n",
       "    'recall': 0.8586387434554974,\n",
       "    'f1-score': 0.8817204301075269,\n",
       "    'support': 191.0},\n",
       "   'Tomato___Leaf_Mold': {'precision': 0.9545454545454546,\n",
       "    'recall': 0.875,\n",
       "    'f1-score': 0.9130434782608695,\n",
       "    'support': 96.0},\n",
       "   'Tomato___Septoria_leaf_spot': {'precision': 0.8961748633879781,\n",
       "    'recall': 0.9265536723163842,\n",
       "    'f1-score': 0.9111111111111111,\n",
       "    'support': 177.0},\n",
       "   'Tomato___Spider_mites Two-spotted_spider_mite': {'precision': 0.9464285714285714,\n",
       "    'recall': 0.9464285714285714,\n",
       "    'f1-score': 0.9464285714285714,\n",
       "    'support': 168.0},\n",
       "   'Tomato___Target_Spot': {'precision': 0.9285714285714286,\n",
       "    'recall': 0.9219858156028369,\n",
       "    'f1-score': 0.9252669039145908,\n",
       "    'support': 141.0},\n",
       "   'Tomato___Tomato_Yellow_Leaf_Curl_Virus': {'precision': 0.974169741697417,\n",
       "    'recall': 0.9850746268656716,\n",
       "    'f1-score': 0.9795918367346939,\n",
       "    'support': 536.0},\n",
       "   'Tomato___Tomato_mosaic_virus': {'precision': 1.0,\n",
       "    'recall': 0.972972972972973,\n",
       "    'f1-score': 0.9863013698630136,\n",
       "    'support': 37.0},\n",
       "   'Tomato___healthy': {'precision': 0.9695121951219512,\n",
       "    'recall': 1.0,\n",
       "    'f1-score': 0.9845201238390093,\n",
       "    'support': 159.0},\n",
       "   'accuracy': 0.9501746644603788,\n",
       "   'macro avg': {'precision': 0.9397768060317334,\n",
       "    'recall': 0.9301468263762052,\n",
       "    'f1-score': 0.9339459082360357,\n",
       "    'support': 5439.0},\n",
       "   'weighted avg': {'precision': 0.9506207691579158,\n",
       "    'recall': 0.9501746644603788,\n",
       "    'f1-score': 0.9498303347808635,\n",
       "    'support': 5439.0}}},\n",
       " {'image_size': 32,\n",
       "  'num_layers': 4,\n",
       "  'first_layer_filters': 32,\n",
       "  'confusion_matrix': array([[ 51,   0,   0, ...,   0,   0,   0],\n",
       "         [  0,  58,   0, ...,   0,   0,   0],\n",
       "         [  0,   0,  22, ...,   0,   0,   0],\n",
       "         ...,\n",
       "         [  0,   0,   0, ..., 531,   0,   0],\n",
       "         [  0,   0,   0, ...,   0,  33,   0],\n",
       "         [  0,   0,   0, ...,   0,   0, 158]]),\n",
       "  'classification_report': {'Apple___Apple_scab': {'precision': 0.8360655737704918,\n",
       "    'recall': 0.8095238095238095,\n",
       "    'f1-score': 0.8225806451612904,\n",
       "    'support': 63.0},\n",
       "   'Apple___Black_rot': {'precision': 0.9666666666666667,\n",
       "    'recall': 0.9206349206349206,\n",
       "    'f1-score': 0.943089430894309,\n",
       "    'support': 63.0},\n",
       "   'Apple___Cedar_apple_rust': {'precision': 0.9166666666666666,\n",
       "    'recall': 0.7857142857142857,\n",
       "    'f1-score': 0.8461538461538461,\n",
       "    'support': 28.0},\n",
       "   'Apple___healthy': {'precision': 0.974025974025974,\n",
       "    'recall': 0.9090909090909091,\n",
       "    'f1-score': 0.9404388714733543,\n",
       "    'support': 165.0},\n",
       "   'Blueberry___healthy': {'precision': 0.9793103448275862,\n",
       "    'recall': 0.9466666666666667,\n",
       "    'f1-score': 0.9627118644067797,\n",
       "    'support': 150.0},\n",
       "   'Cherry_(including_sour)___Powdery_mildew': {'precision': 0.970873786407767,\n",
       "    'recall': 0.9523809523809523,\n",
       "    'f1-score': 0.9615384615384616,\n",
       "    'support': 105.0},\n",
       "   'Cherry_(including_sour)___healthy': {'precision': 0.9540229885057471,\n",
       "    'recall': 0.9764705882352941,\n",
       "    'f1-score': 0.9651162790697675,\n",
       "    'support': 85.0},\n",
       "   'Corn_(maize)___Cercospora_leaf_spot Gray_leaf_spot': {'precision': 0.8571428571428571,\n",
       "    'recall': 0.6923076923076923,\n",
       "    'f1-score': 0.7659574468085106,\n",
       "    'support': 52.0},\n",
       "   'Corn_(maize)___Common_rust_': {'precision': 0.9752066115702479,\n",
       "    'recall': 0.9833333333333333,\n",
       "    'f1-score': 0.979253112033195,\n",
       "    'support': 120.0},\n",
       "   'Corn_(maize)___Northern_Leaf_Blight': {'precision': 0.8623853211009175,\n",
       "    'recall': 0.9494949494949495,\n",
       "    'f1-score': 0.9038461538461539,\n",
       "    'support': 99.0},\n",
       "   'Corn_(maize)___healthy': {'precision': 0.991304347826087,\n",
       "    'recall': 0.9743589743589743,\n",
       "    'f1-score': 0.9827586206896551,\n",
       "    'support': 117.0},\n",
       "   'Grape___Black_rot': {'precision': 0.9032258064516129,\n",
       "    'recall': 0.9491525423728814,\n",
       "    'f1-score': 0.9256198347107438,\n",
       "    'support': 118.0},\n",
       "   'Grape___Esca_(Black_Measles)': {'precision': 0.9689922480620154,\n",
       "    'recall': 0.9057971014492754,\n",
       "    'f1-score': 0.9363295880149812,\n",
       "    'support': 138.0},\n",
       "   'Grape___Leaf_blight_(Isariopsis_Leaf_Spot)': {'precision': 0.954954954954955,\n",
       "    'recall': 0.9814814814814815,\n",
       "    'f1-score': 0.9680365296803652,\n",
       "    'support': 108.0},\n",
       "   'Grape___healthy': {'precision': 0.9545454545454546,\n",
       "    'recall': 1.0,\n",
       "    'f1-score': 0.9767441860465116,\n",
       "    'support': 42.0},\n",
       "   'Orange___Haunglongbing_(Citrus_greening)': {'precision': 0.9820466786355476,\n",
       "    'recall': 0.9927404718693285,\n",
       "    'f1-score': 0.9873646209386282,\n",
       "    'support': 551.0},\n",
       "   'Peach___Bacterial_spot': {'precision': 0.9246861924686193,\n",
       "    'recall': 0.9608695652173913,\n",
       "    'f1-score': 0.9424307036247335,\n",
       "    'support': 230.0},\n",
       "   'Peach___healthy': {'precision': 0.9230769230769231,\n",
       "    'recall': 1.0,\n",
       "    'f1-score': 0.96,\n",
       "    'support': 36.0},\n",
       "   'Pepper,_bell___Bacterial_spot': {'precision': 0.8703703703703703,\n",
       "    'recall': 0.94,\n",
       "    'f1-score': 0.9038461538461539,\n",
       "    'support': 100.0},\n",
       "   'Pepper,_bell___healthy': {'precision': 0.9256756756756757,\n",
       "    'recall': 0.9256756756756757,\n",
       "    'f1-score': 0.9256756756756757,\n",
       "    'support': 148.0},\n",
       "   'Potato___Early_blight': {'precision': 0.96,\n",
       "    'recall': 0.96,\n",
       "    'f1-score': 0.96,\n",
       "    'support': 100.0},\n",
       "   'Potato___Late_blight': {'precision': 0.8761904761904762,\n",
       "    'recall': 0.92,\n",
       "    'f1-score': 0.8975609756097561,\n",
       "    'support': 100.0},\n",
       "   'Potato___healthy': {'precision': 0.9285714285714286,\n",
       "    'recall': 0.8125,\n",
       "    'f1-score': 0.8666666666666667,\n",
       "    'support': 16.0},\n",
       "   'Raspberry___healthy': {'precision': 0.9411764705882353,\n",
       "    'recall': 0.8648648648648649,\n",
       "    'f1-score': 0.9014084507042254,\n",
       "    'support': 37.0},\n",
       "   'Soybean___healthy': {'precision': 0.988,\n",
       "    'recall': 0.9705304518664047,\n",
       "    'f1-score': 0.979187314172448,\n",
       "    'support': 509.0},\n",
       "   'Squash___Powdery_mildew': {'precision': 0.9581151832460733,\n",
       "    'recall': 0.9945652173913043,\n",
       "    'f1-score': 0.976,\n",
       "    'support': 184.0},\n",
       "   'Strawberry___Leaf_scorch': {'precision': 0.9646017699115044,\n",
       "    'recall': 0.9819819819819819,\n",
       "    'f1-score': 0.9732142857142857,\n",
       "    'support': 111.0},\n",
       "   'Strawberry___healthy': {'precision': 0.8823529411764706,\n",
       "    'recall': 0.9782608695652174,\n",
       "    'f1-score': 0.9278350515463918,\n",
       "    'support': 46.0},\n",
       "   'Tomato___Bacterial_spot': {'precision': 0.9461883408071748,\n",
       "    'recall': 0.9906103286384976,\n",
       "    'f1-score': 0.9678899082568807,\n",
       "    'support': 213.0},\n",
       "   'Tomato___Early_blight': {'precision': 0.8470588235294118,\n",
       "    'recall': 0.72,\n",
       "    'f1-score': 0.7783783783783784,\n",
       "    'support': 100.0},\n",
       "   'Tomato___Late_blight': {'precision': 0.9148936170212766,\n",
       "    'recall': 0.900523560209424,\n",
       "    'f1-score': 0.9076517150395779,\n",
       "    'support': 191.0},\n",
       "   'Tomato___Leaf_Mold': {'precision': 0.9880952380952381,\n",
       "    'recall': 0.8645833333333334,\n",
       "    'f1-score': 0.9222222222222223,\n",
       "    'support': 96.0},\n",
       "   'Tomato___Septoria_leaf_spot': {'precision': 0.9180327868852459,\n",
       "    'recall': 0.9491525423728814,\n",
       "    'f1-score': 0.9333333333333333,\n",
       "    'support': 177.0},\n",
       "   'Tomato___Spider_mites Two-spotted_spider_mite': {'precision': 0.9523809523809523,\n",
       "    'recall': 0.9523809523809523,\n",
       "    'f1-score': 0.9523809523809523,\n",
       "    'support': 168.0},\n",
       "   'Tomato___Target_Spot': {'precision': 0.8866666666666667,\n",
       "    'recall': 0.9432624113475178,\n",
       "    'f1-score': 0.9140893470790378,\n",
       "    'support': 141.0},\n",
       "   'Tomato___Tomato_Yellow_Leaf_Curl_Virus': {'precision': 0.9925233644859813,\n",
       "    'recall': 0.9906716417910447,\n",
       "    'f1-score': 0.9915966386554622,\n",
       "    'support': 536.0},\n",
       "   'Tomato___Tomato_mosaic_virus': {'precision': 1.0,\n",
       "    'recall': 0.8918918918918919,\n",
       "    'f1-score': 0.9428571428571428,\n",
       "    'support': 37.0},\n",
       "   'Tomato___healthy': {'precision': 0.9753086419753086,\n",
       "    'recall': 0.9937106918238994,\n",
       "    'f1-score': 0.9844236760124611,\n",
       "    'support': 159.0},\n",
       "   'accuracy': 0.9510939510939511,\n",
       "   'macro avg': {'precision': 0.9371421616916745,\n",
       "    'recall': 0.927241701559659,\n",
       "    'f1-score': 0.9309523179800616,\n",
       "    'support': 5439.0},\n",
       "   'weighted avg': {'precision': 0.9514593589090746,\n",
       "    'recall': 0.9510939510939511,\n",
       "    'f1-score': 0.950655511454541,\n",
       "    'support': 5439.0}}},\n",
       " {'image_size': 32,\n",
       "  'num_layers': 4,\n",
       "  'first_layer_filters': 64,\n",
       "  'confusion_matrix': array([[ 52,   0,   0, ...,   0,   0,   0],\n",
       "         [  2,  54,   0, ...,   0,   0,   0],\n",
       "         [  0,   0,  25, ...,   0,   0,   0],\n",
       "         ...,\n",
       "         [  0,   0,   1, ..., 531,   0,   0],\n",
       "         [  0,   0,   0, ...,   0,  36,   0],\n",
       "         [  0,   0,   0, ...,   0,   0, 156]]),\n",
       "  'classification_report': {'Apple___Apple_scab': {'precision': 0.896551724137931,\n",
       "    'recall': 0.8253968253968254,\n",
       "    'f1-score': 0.859504132231405,\n",
       "    'support': 63.0},\n",
       "   'Apple___Black_rot': {'precision': 0.9473684210526315,\n",
       "    'recall': 0.8571428571428571,\n",
       "    'f1-score': 0.9,\n",
       "    'support': 63.0},\n",
       "   'Apple___Cedar_apple_rust': {'precision': 0.8928571428571429,\n",
       "    'recall': 0.8928571428571429,\n",
       "    'f1-score': 0.8928571428571429,\n",
       "    'support': 28.0},\n",
       "   'Apple___healthy': {'precision': 0.9080459770114943,\n",
       "    'recall': 0.9575757575757575,\n",
       "    'f1-score': 0.9321533923303835,\n",
       "    'support': 165.0},\n",
       "   'Blueberry___healthy': {'precision': 0.98,\n",
       "    'recall': 0.98,\n",
       "    'f1-score': 0.98,\n",
       "    'support': 150.0},\n",
       "   'Cherry_(including_sour)___Powdery_mildew': {'precision': 0.9900990099009901,\n",
       "    'recall': 0.9523809523809523,\n",
       "    'f1-score': 0.970873786407767,\n",
       "    'support': 105.0},\n",
       "   'Cherry_(including_sour)___healthy': {'precision': 0.9647058823529412,\n",
       "    'recall': 0.9647058823529412,\n",
       "    'f1-score': 0.9647058823529412,\n",
       "    'support': 85.0},\n",
       "   'Corn_(maize)___Cercospora_leaf_spot Gray_leaf_spot': {'precision': 0.8135593220338984,\n",
       "    'recall': 0.9230769230769231,\n",
       "    'f1-score': 0.8648648648648649,\n",
       "    'support': 52.0},\n",
       "   'Corn_(maize)___Common_rust_': {'precision': 0.9916666666666667,\n",
       "    'recall': 0.9916666666666667,\n",
       "    'f1-score': 0.9916666666666667,\n",
       "    'support': 120.0},\n",
       "   'Corn_(maize)___Northern_Leaf_Blight': {'precision': 0.9666666666666667,\n",
       "    'recall': 0.8787878787878788,\n",
       "    'f1-score': 0.9206349206349206,\n",
       "    'support': 99.0},\n",
       "   'Corn_(maize)___healthy': {'precision': 0.9831932773109243,\n",
       "    'recall': 1.0,\n",
       "    'f1-score': 0.9915254237288136,\n",
       "    'support': 117.0},\n",
       "   'Grape___Black_rot': {'precision': 0.9210526315789473,\n",
       "    'recall': 0.8898305084745762,\n",
       "    'f1-score': 0.9051724137931034,\n",
       "    'support': 118.0},\n",
       "   'Grape___Esca_(Black_Measles)': {'precision': 0.9411764705882353,\n",
       "    'recall': 0.927536231884058,\n",
       "    'f1-score': 0.9343065693430657,\n",
       "    'support': 138.0},\n",
       "   'Grape___Leaf_blight_(Isariopsis_Leaf_Spot)': {'precision': 0.9224137931034483,\n",
       "    'recall': 0.9907407407407407,\n",
       "    'f1-score': 0.9553571428571429,\n",
       "    'support': 108.0},\n",
       "   'Grape___healthy': {'precision': 0.9761904761904762,\n",
       "    'recall': 0.9761904761904762,\n",
       "    'f1-score': 0.9761904761904762,\n",
       "    'support': 42.0},\n",
       "   'Orange___Haunglongbing_(Citrus_greening)': {'precision': 0.9891500904159132,\n",
       "    'recall': 0.9927404718693285,\n",
       "    'f1-score': 0.9909420289855072,\n",
       "    'support': 551.0},\n",
       "   'Peach___Bacterial_spot': {'precision': 0.9135802469135802,\n",
       "    'recall': 0.9652173913043478,\n",
       "    'f1-score': 0.9386892177589852,\n",
       "    'support': 230.0},\n",
       "   'Peach___healthy': {'precision': 0.9722222222222222,\n",
       "    'recall': 0.9722222222222222,\n",
       "    'f1-score': 0.9722222222222222,\n",
       "    'support': 36.0},\n",
       "   'Pepper,_bell___Bacterial_spot': {'precision': 0.9574468085106383,\n",
       "    'recall': 0.9,\n",
       "    'f1-score': 0.9278350515463918,\n",
       "    'support': 100.0},\n",
       "   'Pepper,_bell___healthy': {'precision': 0.8950617283950617,\n",
       "    'recall': 0.9797297297297297,\n",
       "    'f1-score': 0.9354838709677419,\n",
       "    'support': 148.0},\n",
       "   'Potato___Early_blight': {'precision': 0.8761061946902655,\n",
       "    'recall': 0.99,\n",
       "    'f1-score': 0.9295774647887324,\n",
       "    'support': 100.0},\n",
       "   'Potato___Late_blight': {'precision': 0.8666666666666667,\n",
       "    'recall': 0.91,\n",
       "    'f1-score': 0.8878048780487805,\n",
       "    'support': 100.0},\n",
       "   'Potato___healthy': {'precision': 1.0,\n",
       "    'recall': 0.6875,\n",
       "    'f1-score': 0.8148148148148148,\n",
       "    'support': 16.0},\n",
       "   'Raspberry___healthy': {'precision': 0.8571428571428571,\n",
       "    'recall': 0.972972972972973,\n",
       "    'f1-score': 0.9113924050632911,\n",
       "    'support': 37.0},\n",
       "   'Soybean___healthy': {'precision': 0.9878296146044625,\n",
       "    'recall': 0.9567779960707269,\n",
       "    'f1-score': 0.9720558882235529,\n",
       "    'support': 509.0},\n",
       "   'Squash___Powdery_mildew': {'precision': 0.9633507853403142,\n",
       "    'recall': 1.0,\n",
       "    'f1-score': 0.9813333333333333,\n",
       "    'support': 184.0},\n",
       "   'Strawberry___Leaf_scorch': {'precision': 0.9545454545454546,\n",
       "    'recall': 0.9459459459459459,\n",
       "    'f1-score': 0.9502262443438914,\n",
       "    'support': 111.0},\n",
       "   'Strawberry___healthy': {'precision': 0.8627450980392157,\n",
       "    'recall': 0.9565217391304348,\n",
       "    'f1-score': 0.9072164948453608,\n",
       "    'support': 46.0},\n",
       "   'Tomato___Bacterial_spot': {'precision': 0.9671361502347418,\n",
       "    'recall': 0.9671361502347418,\n",
       "    'f1-score': 0.9671361502347418,\n",
       "    'support': 213.0},\n",
       "   'Tomato___Early_blight': {'precision': 0.8953488372093024,\n",
       "    'recall': 0.77,\n",
       "    'f1-score': 0.8279569892473119,\n",
       "    'support': 100.0},\n",
       "   'Tomato___Late_blight': {'precision': 0.9157303370786517,\n",
       "    'recall': 0.8534031413612565,\n",
       "    'f1-score': 0.8834688346883469,\n",
       "    'support': 191.0},\n",
       "   'Tomato___Leaf_Mold': {'precision': 0.9318181818181818,\n",
       "    'recall': 0.8541666666666666,\n",
       "    'f1-score': 0.8913043478260869,\n",
       "    'support': 96.0},\n",
       "   'Tomato___Septoria_leaf_spot': {'precision': 0.8901098901098901,\n",
       "    'recall': 0.9152542372881356,\n",
       "    'f1-score': 0.9025069637883009,\n",
       "    'support': 177.0},\n",
       "   'Tomato___Spider_mites Two-spotted_spider_mite': {'precision': 0.9314285714285714,\n",
       "    'recall': 0.9702380952380952,\n",
       "    'f1-score': 0.9504373177842566,\n",
       "    'support': 168.0},\n",
       "   'Tomato___Target_Spot': {'precision': 0.952755905511811,\n",
       "    'recall': 0.8581560283687943,\n",
       "    'f1-score': 0.9029850746268657,\n",
       "    'support': 141.0},\n",
       "   'Tomato___Tomato_Yellow_Leaf_Curl_Virus': {'precision': 0.9906716417910447,\n",
       "    'recall': 0.9906716417910447,\n",
       "    'f1-score': 0.9906716417910447,\n",
       "    'support': 536.0},\n",
       "   'Tomato___Tomato_mosaic_virus': {'precision': 0.9230769230769231,\n",
       "    'recall': 0.972972972972973,\n",
       "    'f1-score': 0.9473684210526315,\n",
       "    'support': 37.0},\n",
       "   'Tomato___healthy': {'precision': 0.9629629629629629,\n",
       "    'recall': 0.9811320754716981,\n",
       "    'f1-score': 0.9719626168224299,\n",
       "    'support': 159.0},\n",
       "   'accuracy': 0.9492553778268064,\n",
       "   'macro avg': {'precision': 0.9355903850042401,\n",
       "    'recall': 0.9308065347938662,\n",
       "    'f1-score': 0.9314527654490347,\n",
       "    'support': 5439.0},\n",
       "   'weighted avg': {'precision': 0.9501307225905176,\n",
       "    'recall': 0.9492553778268064,\n",
       "    'f1-score': 0.9489369245812027,\n",
       "    'support': 5439.0}}},\n",
       " {'image_size': 32,\n",
       "  'num_layers': 5,\n",
       "  'first_layer_filters': 8,\n",
       "  'confusion_matrix': array([[ 44,   1,   0, ...,   0,   0,   0],\n",
       "         [  2,  54,   0, ...,   0,   1,   0],\n",
       "         [  0,   0,  21, ...,   0,   0,   0],\n",
       "         ...,\n",
       "         [  0,   0,   0, ..., 520,   0,   0],\n",
       "         [  0,   0,   0, ...,   0,  34,   0],\n",
       "         [  0,   0,   0, ...,   0,   0, 158]]),\n",
       "  'classification_report': {'Apple___Apple_scab': {'precision': 0.8,\n",
       "    'recall': 0.6984126984126984,\n",
       "    'f1-score': 0.7457627118644068,\n",
       "    'support': 63.0},\n",
       "   'Apple___Black_rot': {'precision': 0.84375,\n",
       "    'recall': 0.8571428571428571,\n",
       "    'f1-score': 0.8503937007874016,\n",
       "    'support': 63.0},\n",
       "   'Apple___Cedar_apple_rust': {'precision': 0.7241379310344828,\n",
       "    'recall': 0.75,\n",
       "    'f1-score': 0.7368421052631579,\n",
       "    'support': 28.0},\n",
       "   'Apple___healthy': {'precision': 0.8902439024390244,\n",
       "    'recall': 0.8848484848484849,\n",
       "    'f1-score': 0.8875379939209727,\n",
       "    'support': 165.0},\n",
       "   'Blueberry___healthy': {'precision': 0.9230769230769231,\n",
       "    'recall': 0.96,\n",
       "    'f1-score': 0.9411764705882353,\n",
       "    'support': 150.0},\n",
       "   'Cherry_(including_sour)___Powdery_mildew': {'precision': 0.8623853211009175,\n",
       "    'recall': 0.8952380952380953,\n",
       "    'f1-score': 0.8785046728971962,\n",
       "    'support': 105.0},\n",
       "   'Cherry_(including_sour)___healthy': {'precision': 0.9111111111111111,\n",
       "    'recall': 0.9647058823529412,\n",
       "    'f1-score': 0.9371428571428572,\n",
       "    'support': 85.0},\n",
       "   'Corn_(maize)___Cercospora_leaf_spot Gray_leaf_spot': {'precision': 0.8918918918918919,\n",
       "    'recall': 0.6346153846153846,\n",
       "    'f1-score': 0.7415730337078652,\n",
       "    'support': 52.0},\n",
       "   'Corn_(maize)___Common_rust_': {'precision': 0.952,\n",
       "    'recall': 0.9916666666666667,\n",
       "    'f1-score': 0.9714285714285714,\n",
       "    'support': 120.0},\n",
       "   'Corn_(maize)___Northern_Leaf_Blight': {'precision': 0.8545454545454545,\n",
       "    'recall': 0.9494949494949495,\n",
       "    'f1-score': 0.8995215311004785,\n",
       "    'support': 99.0},\n",
       "   'Corn_(maize)___healthy': {'precision': 0.9830508474576272,\n",
       "    'recall': 0.9914529914529915,\n",
       "    'f1-score': 0.9872340425531915,\n",
       "    'support': 117.0},\n",
       "   'Grape___Black_rot': {'precision': 0.8403361344537815,\n",
       "    'recall': 0.847457627118644,\n",
       "    'f1-score': 0.8438818565400844,\n",
       "    'support': 118.0},\n",
       "   'Grape___Esca_(Black_Measles)': {'precision': 0.8666666666666667,\n",
       "    'recall': 0.9420289855072463,\n",
       "    'f1-score': 0.9027777777777778,\n",
       "    'support': 138.0},\n",
       "   'Grape___Leaf_blight_(Isariopsis_Leaf_Spot)': {'precision': 0.9439252336448598,\n",
       "    'recall': 0.9351851851851852,\n",
       "    'f1-score': 0.9395348837209302,\n",
       "    'support': 108.0},\n",
       "   'Grape___healthy': {'precision': 0.95,\n",
       "    'recall': 0.9047619047619048,\n",
       "    'f1-score': 0.926829268292683,\n",
       "    'support': 42.0},\n",
       "   'Orange___Haunglongbing_(Citrus_greening)': {'precision': 0.983754512635379,\n",
       "    'recall': 0.9891107078039928,\n",
       "    'f1-score': 0.9864253393665159,\n",
       "    'support': 551.0},\n",
       "   'Peach___Bacterial_spot': {'precision': 0.9383886255924171,\n",
       "    'recall': 0.8608695652173913,\n",
       "    'f1-score': 0.8979591836734694,\n",
       "    'support': 230.0},\n",
       "   'Peach___healthy': {'precision': 0.9166666666666666,\n",
       "    'recall': 0.9166666666666666,\n",
       "    'f1-score': 0.9166666666666666,\n",
       "    'support': 36.0},\n",
       "   'Pepper,_bell___Bacterial_spot': {'precision': 0.9080459770114943,\n",
       "    'recall': 0.79,\n",
       "    'f1-score': 0.8449197860962567,\n",
       "    'support': 100.0},\n",
       "   'Pepper,_bell___healthy': {'precision': 0.984,\n",
       "    'recall': 0.831081081081081,\n",
       "    'f1-score': 0.9010989010989011,\n",
       "    'support': 148.0},\n",
       "   'Potato___Early_blight': {'precision': 0.8818181818181818,\n",
       "    'recall': 0.97,\n",
       "    'f1-score': 0.9238095238095239,\n",
       "    'support': 100.0},\n",
       "   'Potato___Late_blight': {'precision': 0.8282828282828283,\n",
       "    'recall': 0.82,\n",
       "    'f1-score': 0.8241206030150754,\n",
       "    'support': 100.0},\n",
       "   'Potato___healthy': {'precision': 0.5833333333333334,\n",
       "    'recall': 0.875,\n",
       "    'f1-score': 0.7,\n",
       "    'support': 16.0},\n",
       "   'Raspberry___healthy': {'precision': 0.7837837837837838,\n",
       "    'recall': 0.7837837837837838,\n",
       "    'f1-score': 0.7837837837837838,\n",
       "    'support': 37.0},\n",
       "   'Soybean___healthy': {'precision': 0.953757225433526,\n",
       "    'recall': 0.9724950884086444,\n",
       "    'f1-score': 0.9630350194552529,\n",
       "    'support': 509.0},\n",
       "   'Squash___Powdery_mildew': {'precision': 0.9468085106382979,\n",
       "    'recall': 0.967391304347826,\n",
       "    'f1-score': 0.956989247311828,\n",
       "    'support': 184.0},\n",
       "   'Strawberry___Leaf_scorch': {'precision': 0.8870967741935484,\n",
       "    'recall': 0.990990990990991,\n",
       "    'f1-score': 0.9361702127659575,\n",
       "    'support': 111.0},\n",
       "   'Strawberry___healthy': {'precision': 1.0,\n",
       "    'recall': 0.9130434782608695,\n",
       "    'f1-score': 0.9545454545454546,\n",
       "    'support': 46.0},\n",
       "   'Tomato___Bacterial_spot': {'precision': 0.9090909090909091,\n",
       "    'recall': 0.8450704225352113,\n",
       "    'f1-score': 0.8759124087591241,\n",
       "    'support': 213.0},\n",
       "   'Tomato___Early_blight': {'precision': 0.6976744186046512,\n",
       "    'recall': 0.6,\n",
       "    'f1-score': 0.6451612903225806,\n",
       "    'support': 100.0},\n",
       "   'Tomato___Late_blight': {'precision': 0.8274111675126904,\n",
       "    'recall': 0.8534031413612565,\n",
       "    'f1-score': 0.8402061855670103,\n",
       "    'support': 191.0},\n",
       "   'Tomato___Leaf_Mold': {'precision': 0.8058252427184466,\n",
       "    'recall': 0.8645833333333334,\n",
       "    'f1-score': 0.8341708542713567,\n",
       "    'support': 96.0},\n",
       "   'Tomato___Septoria_leaf_spot': {'precision': 0.9315068493150684,\n",
       "    'recall': 0.768361581920904,\n",
       "    'f1-score': 0.8421052631578947,\n",
       "    'support': 177.0},\n",
       "   'Tomato___Spider_mites Two-spotted_spider_mite': {'precision': 0.8538011695906432,\n",
       "    'recall': 0.8690476190476191,\n",
       "    'f1-score': 0.8613569321533924,\n",
       "    'support': 168.0},\n",
       "   'Tomato___Target_Spot': {'precision': 0.7321428571428571,\n",
       "    'recall': 0.8723404255319149,\n",
       "    'f1-score': 0.7961165048543689,\n",
       "    'support': 141.0},\n",
       "   'Tomato___Tomato_Yellow_Leaf_Curl_Virus': {'precision': 0.9792843691148776,\n",
       "    'recall': 0.9701492537313433,\n",
       "    'f1-score': 0.9746954076850984,\n",
       "    'support': 536.0},\n",
       "   'Tomato___Tomato_mosaic_virus': {'precision': 0.918918918918919,\n",
       "    'recall': 0.918918918918919,\n",
       "    'f1-score': 0.918918918918919,\n",
       "    'support': 37.0},\n",
       "   'Tomato___healthy': {'precision': 0.9132947976878613,\n",
       "    'recall': 0.9937106918238994,\n",
       "    'f1-score': 0.9518072289156626,\n",
       "    'support': 159.0},\n",
       "   'accuracy': 0.9089906232763376,\n",
       "   'macro avg': {'precision': 0.878994961487082,\n",
       "    'recall': 0.8800797307253605,\n",
       "    'f1-score': 0.8768451629942078,\n",
       "    'support': 5439.0},\n",
       "   'weighted avg': {'precision': 0.91069592027991,\n",
       "    'recall': 0.9089906232763376,\n",
       "    'f1-score': 0.9083261328729862,\n",
       "    'support': 5439.0}}},\n",
       " {'image_size': 32,\n",
       "  'num_layers': 5,\n",
       "  'first_layer_filters': 16,\n",
       "  'confusion_matrix': array([[ 48,   0,   0, ...,   0,   1,   0],\n",
       "         [  4,  54,   0, ...,   0,   0,   0],\n",
       "         [  0,   0,  23, ...,   0,   0,   1],\n",
       "         ...,\n",
       "         [  0,   0,   0, ..., 514,   0,   0],\n",
       "         [  0,   0,   0, ...,   0,  33,   0],\n",
       "         [  1,   0,   0, ...,   0,   0, 157]]),\n",
       "  'classification_report': {'Apple___Apple_scab': {'precision': 0.8275862068965517,\n",
       "    'recall': 0.7619047619047619,\n",
       "    'f1-score': 0.7933884297520661,\n",
       "    'support': 63.0},\n",
       "   'Apple___Black_rot': {'precision': 0.9310344827586207,\n",
       "    'recall': 0.8571428571428571,\n",
       "    'f1-score': 0.8925619834710744,\n",
       "    'support': 63.0},\n",
       "   'Apple___Cedar_apple_rust': {'precision': 0.7931034482758621,\n",
       "    'recall': 0.8214285714285714,\n",
       "    'f1-score': 0.8070175438596491,\n",
       "    'support': 28.0},\n",
       "   'Apple___healthy': {'precision': 0.8722222222222222,\n",
       "    'recall': 0.9515151515151515,\n",
       "    'f1-score': 0.9101449275362319,\n",
       "    'support': 165.0},\n",
       "   'Blueberry___healthy': {'precision': 0.9337748344370861,\n",
       "    'recall': 0.94,\n",
       "    'f1-score': 0.9368770764119602,\n",
       "    'support': 150.0},\n",
       "   'Cherry_(including_sour)___Powdery_mildew': {'precision': 0.9801980198019802,\n",
       "    'recall': 0.9428571428571428,\n",
       "    'f1-score': 0.9611650485436893,\n",
       "    'support': 105.0},\n",
       "   'Cherry_(including_sour)___healthy': {'precision': 1.0,\n",
       "    'recall': 0.9529411764705882,\n",
       "    'f1-score': 0.9759036144578314,\n",
       "    'support': 85.0},\n",
       "   'Corn_(maize)___Cercospora_leaf_spot Gray_leaf_spot': {'precision': 0.7894736842105263,\n",
       "    'recall': 0.8653846153846154,\n",
       "    'f1-score': 0.8256880733944955,\n",
       "    'support': 52.0},\n",
       "   'Corn_(maize)___Common_rust_': {'precision': 0.9915966386554622,\n",
       "    'recall': 0.9833333333333333,\n",
       "    'f1-score': 0.9874476987447699,\n",
       "    'support': 120.0},\n",
       "   'Corn_(maize)___Northern_Leaf_Blight': {'precision': 0.9393939393939394,\n",
       "    'recall': 0.9393939393939394,\n",
       "    'f1-score': 0.9393939393939394,\n",
       "    'support': 99.0},\n",
       "   'Corn_(maize)___healthy': {'precision': 0.9747899159663865,\n",
       "    'recall': 0.9914529914529915,\n",
       "    'f1-score': 0.9830508474576272,\n",
       "    'support': 117.0},\n",
       "   'Grape___Black_rot': {'precision': 0.8869565217391304,\n",
       "    'recall': 0.864406779661017,\n",
       "    'f1-score': 0.8755364806866953,\n",
       "    'support': 118.0},\n",
       "   'Grape___Esca_(Black_Measles)': {'precision': 0.9027777777777778,\n",
       "    'recall': 0.9420289855072463,\n",
       "    'f1-score': 0.9219858156028369,\n",
       "    'support': 138.0},\n",
       "   'Grape___Leaf_blight_(Isariopsis_Leaf_Spot)': {'precision': 0.9375,\n",
       "    'recall': 0.9722222222222222,\n",
       "    'f1-score': 0.9545454545454546,\n",
       "    'support': 108.0},\n",
       "   'Grape___healthy': {'precision': 0.9523809523809523,\n",
       "    'recall': 0.9523809523809523,\n",
       "    'f1-score': 0.9523809523809523,\n",
       "    'support': 42.0},\n",
       "   'Orange___Haunglongbing_(Citrus_greening)': {'precision': 0.9981549815498155,\n",
       "    'recall': 0.9818511796733213,\n",
       "    'f1-score': 0.989935956084172,\n",
       "    'support': 551.0},\n",
       "   'Peach___Bacterial_spot': {'precision': 0.9590909090909091,\n",
       "    'recall': 0.9173913043478261,\n",
       "    'f1-score': 0.9377777777777778,\n",
       "    'support': 230.0},\n",
       "   'Peach___healthy': {'precision': 0.7058823529411765,\n",
       "    'recall': 1.0,\n",
       "    'f1-score': 0.8275862068965517,\n",
       "    'support': 36.0},\n",
       "   'Pepper,_bell___Bacterial_spot': {'precision': 0.8245614035087719,\n",
       "    'recall': 0.94,\n",
       "    'f1-score': 0.8785046728971962,\n",
       "    'support': 100.0},\n",
       "   'Pepper,_bell___healthy': {'precision': 0.9144736842105263,\n",
       "    'recall': 0.9391891891891891,\n",
       "    'f1-score': 0.9266666666666666,\n",
       "    'support': 148.0},\n",
       "   'Potato___Early_blight': {'precision': 0.8918918918918919,\n",
       "    'recall': 0.99,\n",
       "    'f1-score': 0.9383886255924171,\n",
       "    'support': 100.0},\n",
       "   'Potato___Late_blight': {'precision': 0.7631578947368421,\n",
       "    'recall': 0.87,\n",
       "    'f1-score': 0.8130841121495327,\n",
       "    'support': 100.0},\n",
       "   'Potato___healthy': {'precision': 0.625,\n",
       "    'recall': 0.625,\n",
       "    'f1-score': 0.625,\n",
       "    'support': 16.0},\n",
       "   'Raspberry___healthy': {'precision': 0.8536585365853658,\n",
       "    'recall': 0.9459459459459459,\n",
       "    'f1-score': 0.8974358974358975,\n",
       "    'support': 37.0},\n",
       "   'Soybean___healthy': {'precision': 0.9876543209876543,\n",
       "    'recall': 0.9430255402750491,\n",
       "    'f1-score': 0.964824120603015,\n",
       "    'support': 509.0},\n",
       "   'Squash___Powdery_mildew': {'precision': 0.9717514124293786,\n",
       "    'recall': 0.9347826086956522,\n",
       "    'f1-score': 0.9529085872576177,\n",
       "    'support': 184.0},\n",
       "   'Strawberry___Leaf_scorch': {'precision': 0.9396551724137931,\n",
       "    'recall': 0.9819819819819819,\n",
       "    'f1-score': 0.960352422907489,\n",
       "    'support': 111.0},\n",
       "   'Strawberry___healthy': {'precision': 1.0,\n",
       "    'recall': 0.8478260869565217,\n",
       "    'f1-score': 0.9176470588235294,\n",
       "    'support': 46.0},\n",
       "   'Tomato___Bacterial_spot': {'precision': 0.9563106796116505,\n",
       "    'recall': 0.9248826291079812,\n",
       "    'f1-score': 0.9403341288782816,\n",
       "    'support': 213.0},\n",
       "   'Tomato___Early_blight': {'precision': 0.8131868131868132,\n",
       "    'recall': 0.74,\n",
       "    'f1-score': 0.774869109947644,\n",
       "    'support': 100.0},\n",
       "   'Tomato___Late_blight': {'precision': 0.8418367346938775,\n",
       "    'recall': 0.8638743455497382,\n",
       "    'f1-score': 0.8527131782945736,\n",
       "    'support': 191.0},\n",
       "   'Tomato___Leaf_Mold': {'precision': 0.9340659340659341,\n",
       "    'recall': 0.8854166666666666,\n",
       "    'f1-score': 0.9090909090909091,\n",
       "    'support': 96.0},\n",
       "   'Tomato___Septoria_leaf_spot': {'precision': 0.9390243902439024,\n",
       "    'recall': 0.8700564971751412,\n",
       "    'f1-score': 0.9032258064516129,\n",
       "    'support': 177.0},\n",
       "   'Tomato___Spider_mites Two-spotted_spider_mite': {'precision': 0.9028571428571428,\n",
       "    'recall': 0.9404761904761905,\n",
       "    'f1-score': 0.9212827988338192,\n",
       "    'support': 168.0},\n",
       "   'Tomato___Target_Spot': {'precision': 0.8051948051948052,\n",
       "    'recall': 0.8794326241134752,\n",
       "    'f1-score': 0.8406779661016949,\n",
       "    'support': 141.0},\n",
       "   'Tomato___Tomato_Yellow_Leaf_Curl_Virus': {'precision': 0.9941972920696325,\n",
       "    'recall': 0.9589552238805971,\n",
       "    'f1-score': 0.976258309591643,\n",
       "    'support': 536.0},\n",
       "   'Tomato___Tomato_mosaic_virus': {'precision': 0.8918918918918919,\n",
       "    'recall': 0.8918918918918919,\n",
       "    'f1-score': 0.8918918918918919,\n",
       "    'support': 37.0},\n",
       "   'Tomato___healthy': {'precision': 0.9573170731707317,\n",
       "    'recall': 0.9874213836477987,\n",
       "    'f1-score': 0.9721362229102167,\n",
       "    'support': 159.0},\n",
       "   'accuracy': 0.9312373598087884,\n",
       "   'macro avg': {'precision': 0.8995685253118161,\n",
       "    'recall': 0.9104682834271148,\n",
       "    'f1-score': 0.9034126398243005,\n",
       "    'support': 5439.0},\n",
       "   'weighted avg': {'precision': 0.9340290820420202,\n",
       "    'recall': 0.9312373598087884,\n",
       "    'f1-score': 0.9317794960038972,\n",
       "    'support': 5439.0}}},\n",
       " {'image_size': 32,\n",
       "  'num_layers': 5,\n",
       "  'first_layer_filters': 32,\n",
       "  'confusion_matrix': array([[ 45,   1,   0, ...,   0,   0,   0],\n",
       "         [  0,  62,   0, ...,   0,   0,   0],\n",
       "         [  0,   0,  19, ...,   2,   0,   0],\n",
       "         ...,\n",
       "         [  0,   0,   0, ..., 521,   0,   0],\n",
       "         [  0,   0,   0, ...,   0,  34,   0],\n",
       "         [  0,   0,   0, ...,   0,   0, 157]]),\n",
       "  'classification_report': {'Apple___Apple_scab': {'precision': 0.9375,\n",
       "    'recall': 0.7142857142857143,\n",
       "    'f1-score': 0.8108108108108109,\n",
       "    'support': 63.0},\n",
       "   'Apple___Black_rot': {'precision': 0.9393939393939394,\n",
       "    'recall': 0.9841269841269841,\n",
       "    'f1-score': 0.9612403100775194,\n",
       "    'support': 63.0},\n",
       "   'Apple___Cedar_apple_rust': {'precision': 0.8260869565217391,\n",
       "    'recall': 0.6785714285714286,\n",
       "    'f1-score': 0.7450980392156863,\n",
       "    'support': 28.0},\n",
       "   'Apple___healthy': {'precision': 0.8258426966292135,\n",
       "    'recall': 0.8909090909090909,\n",
       "    'f1-score': 0.8571428571428571,\n",
       "    'support': 165.0},\n",
       "   'Blueberry___healthy': {'precision': 0.91875,\n",
       "    'recall': 0.98,\n",
       "    'f1-score': 0.9483870967741935,\n",
       "    'support': 150.0},\n",
       "   'Cherry_(including_sour)___Powdery_mildew': {'precision': 0.98,\n",
       "    'recall': 0.9333333333333333,\n",
       "    'f1-score': 0.9560975609756097,\n",
       "    'support': 105.0},\n",
       "   'Cherry_(including_sour)___healthy': {'precision': 0.9642857142857143,\n",
       "    'recall': 0.9529411764705882,\n",
       "    'f1-score': 0.9585798816568047,\n",
       "    'support': 85.0},\n",
       "   'Corn_(maize)___Cercospora_leaf_spot Gray_leaf_spot': {'precision': 0.8163265306122449,\n",
       "    'recall': 0.7692307692307693,\n",
       "    'f1-score': 0.7920792079207921,\n",
       "    'support': 52.0},\n",
       "   'Corn_(maize)___Common_rust_': {'precision': 0.9672131147540983,\n",
       "    'recall': 0.9833333333333333,\n",
       "    'f1-score': 0.9752066115702479,\n",
       "    'support': 120.0},\n",
       "   'Corn_(maize)___Northern_Leaf_Blight': {'precision': 0.9523809523809523,\n",
       "    'recall': 0.8080808080808081,\n",
       "    'f1-score': 0.8743169398907104,\n",
       "    'support': 99.0},\n",
       "   'Corn_(maize)___healthy': {'precision': 0.9512195121951219,\n",
       "    'recall': 1.0,\n",
       "    'f1-score': 0.975,\n",
       "    'support': 117.0},\n",
       "   'Grape___Black_rot': {'precision': 0.9150943396226415,\n",
       "    'recall': 0.8220338983050848,\n",
       "    'f1-score': 0.8660714285714286,\n",
       "    'support': 118.0},\n",
       "   'Grape___Esca_(Black_Measles)': {'precision': 0.9609375,\n",
       "    'recall': 0.8913043478260869,\n",
       "    'f1-score': 0.924812030075188,\n",
       "    'support': 138.0},\n",
       "   'Grape___Leaf_blight_(Isariopsis_Leaf_Spot)': {'precision': 0.8898305084745762,\n",
       "    'recall': 0.9722222222222222,\n",
       "    'f1-score': 0.9292035398230089,\n",
       "    'support': 108.0},\n",
       "   'Grape___healthy': {'precision': 1.0,\n",
       "    'recall': 0.7380952380952381,\n",
       "    'f1-score': 0.8493150684931506,\n",
       "    'support': 42.0},\n",
       "   'Orange___Haunglongbing_(Citrus_greening)': {'precision': 0.9784172661870504,\n",
       "    'recall': 0.9872958257713249,\n",
       "    'f1-score': 0.982836495031617,\n",
       "    'support': 551.0},\n",
       "   'Peach___Bacterial_spot': {'precision': 0.8669354838709677,\n",
       "    'recall': 0.9347826086956522,\n",
       "    'f1-score': 0.899581589958159,\n",
       "    'support': 230.0},\n",
       "   'Peach___healthy': {'precision': 0.8333333333333334,\n",
       "    'recall': 0.9722222222222222,\n",
       "    'f1-score': 0.8974358974358975,\n",
       "    'support': 36.0},\n",
       "   'Pepper,_bell___Bacterial_spot': {'precision': 0.8829787234042553,\n",
       "    'recall': 0.83,\n",
       "    'f1-score': 0.8556701030927835,\n",
       "    'support': 100.0},\n",
       "   'Pepper,_bell___healthy': {'precision': 0.8353658536585366,\n",
       "    'recall': 0.9256756756756757,\n",
       "    'f1-score': 0.8782051282051282,\n",
       "    'support': 148.0},\n",
       "   'Potato___Early_blight': {'precision': 0.9117647058823529,\n",
       "    'recall': 0.93,\n",
       "    'f1-score': 0.9207920792079208,\n",
       "    'support': 100.0},\n",
       "   'Potato___Late_blight': {'precision': 0.8764044943820225,\n",
       "    'recall': 0.78,\n",
       "    'f1-score': 0.8253968253968254,\n",
       "    'support': 100.0},\n",
       "   'Potato___healthy': {'precision': 0.9090909090909091,\n",
       "    'recall': 0.625,\n",
       "    'f1-score': 0.7407407407407407,\n",
       "    'support': 16.0},\n",
       "   'Raspberry___healthy': {'precision': 0.8620689655172413,\n",
       "    'recall': 0.6756756756756757,\n",
       "    'f1-score': 0.7575757575757576,\n",
       "    'support': 37.0},\n",
       "   'Soybean___healthy': {'precision': 0.9330855018587361,\n",
       "    'recall': 0.9862475442043221,\n",
       "    'f1-score': 0.958930276981853,\n",
       "    'support': 509.0},\n",
       "   'Squash___Powdery_mildew': {'precision': 0.9574468085106383,\n",
       "    'recall': 0.9782608695652174,\n",
       "    'f1-score': 0.967741935483871,\n",
       "    'support': 184.0},\n",
       "   'Strawberry___Leaf_scorch': {'precision': 0.8842975206611571,\n",
       "    'recall': 0.963963963963964,\n",
       "    'f1-score': 0.9224137931034483,\n",
       "    'support': 111.0},\n",
       "   'Strawberry___healthy': {'precision': 0.9318181818181818,\n",
       "    'recall': 0.8913043478260869,\n",
       "    'f1-score': 0.9111111111111111,\n",
       "    'support': 46.0},\n",
       "   'Tomato___Bacterial_spot': {'precision': 0.8493723849372385,\n",
       "    'recall': 0.9530516431924883,\n",
       "    'f1-score': 0.8982300884955752,\n",
       "    'support': 213.0},\n",
       "   'Tomato___Early_blight': {'precision': 0.8048780487804879,\n",
       "    'recall': 0.66,\n",
       "    'f1-score': 0.7252747252747253,\n",
       "    'support': 100.0},\n",
       "   'Tomato___Late_blight': {'precision': 0.9066666666666666,\n",
       "    'recall': 0.7120418848167539,\n",
       "    'f1-score': 0.7976539589442815,\n",
       "    'support': 191.0},\n",
       "   'Tomato___Leaf_Mold': {'precision': 0.963855421686747,\n",
       "    'recall': 0.8333333333333334,\n",
       "    'f1-score': 0.8938547486033519,\n",
       "    'support': 96.0},\n",
       "   'Tomato___Septoria_leaf_spot': {'precision': 0.8663101604278075,\n",
       "    'recall': 0.9152542372881356,\n",
       "    'f1-score': 0.8901098901098901,\n",
       "    'support': 177.0},\n",
       "   'Tomato___Spider_mites Two-spotted_spider_mite': {'precision': 0.9022988505747126,\n",
       "    'recall': 0.9345238095238095,\n",
       "    'f1-score': 0.9181286549707602,\n",
       "    'support': 168.0},\n",
       "   'Tomato___Target_Spot': {'precision': 0.8543046357615894,\n",
       "    'recall': 0.9148936170212766,\n",
       "    'f1-score': 0.8835616438356164,\n",
       "    'support': 141.0},\n",
       "   'Tomato___Tomato_Yellow_Leaf_Curl_Virus': {'precision': 0.9756554307116105,\n",
       "    'recall': 0.9720149253731343,\n",
       "    'f1-score': 0.9738317757009346,\n",
       "    'support': 536.0},\n",
       "   'Tomato___Tomato_mosaic_virus': {'precision': 0.9444444444444444,\n",
       "    'recall': 0.918918918918919,\n",
       "    'f1-score': 0.9315068493150684,\n",
       "    'support': 37.0},\n",
       "   'Tomato___healthy': {'precision': 1.0,\n",
       "    'recall': 0.9874213836477987,\n",
       "    'f1-score': 0.9936708860759493,\n",
       "    'support': 159.0},\n",
       "   'accuracy': 0.9202059202059202,\n",
       "   'macro avg': {'precision': 0.9098856725536034,\n",
       "    'recall': 0.8789566008291176,\n",
       "    'f1-score': 0.8907267457276123,\n",
       "    'support': 5439.0},\n",
       "   'weighted avg': {'precision': 0.9211821182974783,\n",
       "    'recall': 0.9202059202059202,\n",
       "    'f1-score': 0.9187034262086992,\n",
       "    'support': 5439.0}}},\n",
       " {'image_size': 32,\n",
       "  'num_layers': 5,\n",
       "  'first_layer_filters': 64,\n",
       "  'confusion_matrix': array([[ 47,   0,   0, ...,   0,   0,   0],\n",
       "         [  0,  57,   0, ...,   0,   0,   0],\n",
       "         [  0,   0,  23, ...,   0,   0,   0],\n",
       "         ...,\n",
       "         [  0,   1,   0, ..., 513,   0,   0],\n",
       "         [  0,   0,   0, ...,   0,  36,   0],\n",
       "         [  0,   0,   0, ...,   0,   0, 157]]),\n",
       "  'classification_report': {'Apple___Apple_scab': {'precision': 0.8867924528301887,\n",
       "    'recall': 0.746031746031746,\n",
       "    'f1-score': 0.8103448275862069,\n",
       "    'support': 63.0},\n",
       "   'Apple___Black_rot': {'precision': 0.9047619047619048,\n",
       "    'recall': 0.9047619047619048,\n",
       "    'f1-score': 0.9047619047619048,\n",
       "    'support': 63.0},\n",
       "   'Apple___Cedar_apple_rust': {'precision': 0.9583333333333334,\n",
       "    'recall': 0.8214285714285714,\n",
       "    'f1-score': 0.8846153846153846,\n",
       "    'support': 28.0},\n",
       "   'Apple___healthy': {'precision': 0.9620253164556962,\n",
       "    'recall': 0.9212121212121213,\n",
       "    'f1-score': 0.9411764705882353,\n",
       "    'support': 165.0},\n",
       "   'Blueberry___healthy': {'precision': 0.9452054794520548,\n",
       "    'recall': 0.92,\n",
       "    'f1-score': 0.9324324324324325,\n",
       "    'support': 150.0},\n",
       "   'Cherry_(including_sour)___Powdery_mildew': {'precision': 0.9444444444444444,\n",
       "    'recall': 0.9714285714285714,\n",
       "    'f1-score': 0.9577464788732394,\n",
       "    'support': 105.0},\n",
       "   'Cherry_(including_sour)___healthy': {'precision': 0.9761904761904762,\n",
       "    'recall': 0.9647058823529412,\n",
       "    'f1-score': 0.9704142011834319,\n",
       "    'support': 85.0},\n",
       "   'Corn_(maize)___Cercospora_leaf_spot Gray_leaf_spot': {'precision': 0.7058823529411765,\n",
       "    'recall': 0.9230769230769231,\n",
       "    'f1-score': 0.8,\n",
       "    'support': 52.0},\n",
       "   'Corn_(maize)___Common_rust_': {'precision': 0.952,\n",
       "    'recall': 0.9916666666666667,\n",
       "    'f1-score': 0.9714285714285714,\n",
       "    'support': 120.0},\n",
       "   'Corn_(maize)___Northern_Leaf_Blight': {'precision': 0.9761904761904762,\n",
       "    'recall': 0.8282828282828283,\n",
       "    'f1-score': 0.8961748633879781,\n",
       "    'support': 99.0},\n",
       "   'Corn_(maize)___healthy': {'precision': 0.9824561403508771,\n",
       "    'recall': 0.9572649572649573,\n",
       "    'f1-score': 0.9696969696969697,\n",
       "    'support': 117.0},\n",
       "   'Grape___Black_rot': {'precision': 0.8473282442748091,\n",
       "    'recall': 0.940677966101695,\n",
       "    'f1-score': 0.891566265060241,\n",
       "    'support': 118.0},\n",
       "   'Grape___Esca_(Black_Measles)': {'precision': 0.967479674796748,\n",
       "    'recall': 0.8623188405797102,\n",
       "    'f1-score': 0.9118773946360154,\n",
       "    'support': 138.0},\n",
       "   'Grape___Leaf_blight_(Isariopsis_Leaf_Spot)': {'precision': 0.9454545454545454,\n",
       "    'recall': 0.9629629629629629,\n",
       "    'f1-score': 0.9541284403669725,\n",
       "    'support': 108.0},\n",
       "   'Grape___healthy': {'precision': 0.8863636363636364,\n",
       "    'recall': 0.9285714285714286,\n",
       "    'f1-score': 0.9069767441860465,\n",
       "    'support': 42.0},\n",
       "   'Orange___Haunglongbing_(Citrus_greening)': {'precision': 0.9818840579710145,\n",
       "    'recall': 0.9836660617059891,\n",
       "    'f1-score': 0.9827742520398912,\n",
       "    'support': 551.0},\n",
       "   'Peach___Bacterial_spot': {'precision': 0.948051948051948,\n",
       "    'recall': 0.9521739130434783,\n",
       "    'f1-score': 0.9501084598698482,\n",
       "    'support': 230.0},\n",
       "   'Peach___healthy': {'precision': 0.7608695652173914,\n",
       "    'recall': 0.9722222222222222,\n",
       "    'f1-score': 0.8536585365853658,\n",
       "    'support': 36.0},\n",
       "   'Pepper,_bell___Bacterial_spot': {'precision': 0.7833333333333333,\n",
       "    'recall': 0.94,\n",
       "    'f1-score': 0.8545454545454545,\n",
       "    'support': 100.0},\n",
       "   'Pepper,_bell___healthy': {'precision': 0.8509316770186336,\n",
       "    'recall': 0.9256756756756757,\n",
       "    'f1-score': 0.8867313915857605,\n",
       "    'support': 148.0},\n",
       "   'Potato___Early_blight': {'precision': 0.9791666666666666,\n",
       "    'recall': 0.94,\n",
       "    'f1-score': 0.9591836734693877,\n",
       "    'support': 100.0},\n",
       "   'Potato___Late_blight': {'precision': 0.7398373983739838,\n",
       "    'recall': 0.91,\n",
       "    'f1-score': 0.8161434977578476,\n",
       "    'support': 100.0},\n",
       "   'Potato___healthy': {'precision': 0.6,\n",
       "    'recall': 0.5625,\n",
       "    'f1-score': 0.5806451612903226,\n",
       "    'support': 16.0},\n",
       "   'Raspberry___healthy': {'precision': 0.9642857142857143,\n",
       "    'recall': 0.7297297297297297,\n",
       "    'f1-score': 0.8307692307692308,\n",
       "    'support': 37.0},\n",
       "   'Soybean___healthy': {'precision': 0.9919028340080972,\n",
       "    'recall': 0.962671905697446,\n",
       "    'f1-score': 0.9770687936191426,\n",
       "    'support': 509.0},\n",
       "   'Squash___Powdery_mildew': {'precision': 0.9783783783783784,\n",
       "    'recall': 0.9836956521739131,\n",
       "    'f1-score': 0.981029810298103,\n",
       "    'support': 184.0},\n",
       "   'Strawberry___Leaf_scorch': {'precision': 0.9473684210526315,\n",
       "    'recall': 0.972972972972973,\n",
       "    'f1-score': 0.96,\n",
       "    'support': 111.0},\n",
       "   'Strawberry___healthy': {'precision': 1.0,\n",
       "    'recall': 0.8695652173913043,\n",
       "    'f1-score': 0.9302325581395349,\n",
       "    'support': 46.0},\n",
       "   'Tomato___Bacterial_spot': {'precision': 0.9051724137931034,\n",
       "    'recall': 0.9859154929577465,\n",
       "    'f1-score': 0.9438202247191011,\n",
       "    'support': 213.0},\n",
       "   'Tomato___Early_blight': {'precision': 0.7572815533980582,\n",
       "    'recall': 0.78,\n",
       "    'f1-score': 0.7684729064039408,\n",
       "    'support': 100.0},\n",
       "   'Tomato___Late_blight': {'precision': 0.8168316831683168,\n",
       "    'recall': 0.8638743455497382,\n",
       "    'f1-score': 0.8396946564885496,\n",
       "    'support': 191.0},\n",
       "   'Tomato___Leaf_Mold': {'precision': 0.9139784946236559,\n",
       "    'recall': 0.8854166666666666,\n",
       "    'f1-score': 0.8994708994708994,\n",
       "    'support': 96.0},\n",
       "   'Tomato___Septoria_leaf_spot': {'precision': 0.9629629629629629,\n",
       "    'recall': 0.7344632768361582,\n",
       "    'f1-score': 0.8333333333333334,\n",
       "    'support': 177.0},\n",
       "   'Tomato___Spider_mites Two-spotted_spider_mite': {'precision': 0.8982035928143712,\n",
       "    'recall': 0.8928571428571429,\n",
       "    'f1-score': 0.8955223880597015,\n",
       "    'support': 168.0},\n",
       "   'Tomato___Target_Spot': {'precision': 0.8300653594771242,\n",
       "    'recall': 0.900709219858156,\n",
       "    'f1-score': 0.8639455782312925,\n",
       "    'support': 141.0},\n",
       "   'Tomato___Tomato_Yellow_Leaf_Curl_Virus': {'precision': 0.9941860465116279,\n",
       "    'recall': 0.957089552238806,\n",
       "    'f1-score': 0.9752851711026616,\n",
       "    'support': 536.0},\n",
       "   'Tomato___Tomato_mosaic_virus': {'precision': 0.972972972972973,\n",
       "    'recall': 0.972972972972973,\n",
       "    'f1-score': 0.972972972972973,\n",
       "    'support': 37.0},\n",
       "   'Tomato___healthy': {'precision': 0.9751552795031055,\n",
       "    'recall': 0.9874213836477987,\n",
       "    'f1-score': 0.98125,\n",
       "    'support': 159.0},\n",
       "   'accuracy': 0.9290310718882148,\n",
       "   'macro avg': {'precision': 0.9050981271427228,\n",
       "    'recall': 0.9028943361821302,\n",
       "    'f1-score': 0.9010526289356836,\n",
       "    'support': 5439.0},\n",
       "   'weighted avg': {'precision': 0.93331496246621,\n",
       "    'recall': 0.9290310718882148,\n",
       "    'f1-score': 0.9293825953058333,\n",
       "    'support': 5439.0}}}]"
      ]
     },
     "execution_count": 29,
     "metadata": {},
     "output_type": "execute_result"
    }
   ],
   "source": [
    "# Carica i risultati dal file\n",
    "with open('results.pkl', 'rb') as f:\n",
    "    loaded_results = pickle.load(f)\n",
    "\n",
    "loaded_results"
   ]
  },
  {
   "cell_type": "markdown",
   "metadata": {},
   "source": [
    "## **Model trained on downscaled images vs fullscaled**"
   ]
  },
  {
   "cell_type": "code",
   "execution_count": null,
   "metadata": {},
   "outputs": [
    {
     "name": "stdout",
     "output_type": "stream",
     "text": [
      "F1 Score with downscaled images (32x32): 0.9602\n"
     ]
    }
   ],
   "source": [
    "model = load_model('plant_disease_model_32_3layer_32initial.pth', num_classes, image_width=32, num_layers=3, first_layer_filters=32)\n",
    "train_loader, val_loader, test_loader, class_names = load_data(32)\n",
    "\n",
    "_, report = evaluate_model(model, test_loader, class_names)\n",
    "\n",
    "f1 = report['weighted avg']['f1-score']\n",
    "\n",
    "print(f\"F1 Score with downscaled images (32x32): {f1:.4f}\")"
   ]
  },
  {
   "cell_type": "code",
   "execution_count": 31,
   "metadata": {},
   "outputs": [
    {
     "name": "stdout",
     "output_type": "stream",
     "text": [
      "F1 Score with original images: 0.954450212756487\n"
     ]
    }
   ],
   "source": [
    "model = load_model('plant_disease_model_256_3layer_32initial.pth', num_classes, image_width=256, num_layers=3, first_layer_filters=32)\n",
    "train_loader, val_loader, test_loader, class_names = load_data(256)\n",
    "\n",
    "_, report = evaluate_model(model, test_loader, class_names)\n",
    "f1 = report['weighted avg']['f1-score']\n",
    "\n",
    "print(f\"F1 Score with original images: {f1}\")"
   ]
  },
  {
   "cell_type": "markdown",
   "metadata": {},
   "source": [
    "## **Analysis of mismatched classes**"
   ]
  },
  {
   "cell_type": "code",
   "execution_count": null,
   "metadata": {},
   "outputs": [],
   "source": []
  },
  {
   "cell_type": "markdown",
   "metadata": {},
   "source": [
    "## **Heat Map**"
   ]
  },
  {
   "cell_type": "code",
   "execution_count": null,
   "metadata": {},
   "outputs": [],
   "source": []
  },
  {
   "cell_type": "markdown",
   "metadata": {},
   "source": [
    "## **Multilabel test with missing classes**"
   ]
  },
  {
   "cell_type": "code",
   "execution_count": null,
   "metadata": {},
   "outputs": [],
   "source": []
  },
  {
   "cell_type": "markdown",
   "metadata": {},
   "source": [
    "## **Test on real Dataset**"
   ]
  },
  {
   "cell_type": "code",
   "execution_count": 24,
   "metadata": {},
   "outputs": [],
   "source": [
    "import importlib\n",
    "import model_fun\n",
    "importlib.reload(model_fun); "
   ]
  },
  {
   "cell_type": "code",
   "execution_count": 39,
   "metadata": {},
   "outputs": [],
   "source": [
    "from model_fun import load_test_data\n",
    "from torchvision import models\n",
    "from torch import nn"
   ]
  },
  {
   "cell_type": "markdown",
   "metadata": {},
   "source": [
    "### **1.Our Model**"
   ]
  },
  {
   "cell_type": "code",
   "execution_count": 31,
   "metadata": {},
   "outputs": [
    {
     "name": "stderr",
     "output_type": "stream",
     "text": [
      "c:\\Users\\Leonardo\\Desktop\\FDS-Project\\model_fun.py:250: FutureWarning: You are using `torch.load` with `weights_only=False` (the current default value), which uses the default pickle module implicitly. It is possible to construct malicious pickle data which will execute arbitrary code during unpickling (See https://github.com/pytorch/pytorch/blob/main/SECURITY.md#untrusted-models for more details). In a future release, the default value for `weights_only` will be flipped to `True`. This limits the functions that could be executed during unpickling. Arbitrary objects will no longer be allowed to be loaded via this mode unless they are explicitly allowlisted by the user via `torch.serialization.add_safe_globals`. We recommend you start setting `weights_only=True` for any use case where you don't have full control of the loaded file. Please open an issue on GitHub for any issues related to this experimental feature.\n",
      "  model.load_state_dict(torch.load(file_path))\n"
     ]
    }
   ],
   "source": [
    "test_loader, _ = load_test_data(32)\n",
    "\n",
    "model = load_model('plant_disease_model_32_3layer_32initial.pth', num_classes, image_width=32, num_layers=3, first_layer_filters=32)"
   ]
  },
  {
   "cell_type": "code",
   "execution_count": 32,
   "metadata": {},
   "outputs": [
    {
     "name": "stdout",
     "output_type": "stream",
     "text": [
      "F1 Score: 0.0899\n",
      "Accuracy: 0.1111\n"
     ]
    },
    {
     "name": "stderr",
     "output_type": "stream",
     "text": [
      "c:\\Users\\Leonardo\\anaconda3\\Lib\\site-packages\\sklearn\\metrics\\_classification.py:1531: UndefinedMetricWarning: Precision is ill-defined and being set to 0.0 in labels with no predicted samples. Use `zero_division` parameter to control this behavior.\n",
      "  _warn_prf(average, modifier, f\"{metric.capitalize()} is\", len(result))\n",
      "c:\\Users\\Leonardo\\anaconda3\\Lib\\site-packages\\sklearn\\metrics\\_classification.py:1531: UndefinedMetricWarning: Precision is ill-defined and being set to 0.0 in labels with no predicted samples. Use `zero_division` parameter to control this behavior.\n",
      "  _warn_prf(average, modifier, f\"{metric.capitalize()} is\", len(result))\n",
      "c:\\Users\\Leonardo\\anaconda3\\Lib\\site-packages\\sklearn\\metrics\\_classification.py:1531: UndefinedMetricWarning: Precision is ill-defined and being set to 0.0 in labels with no predicted samples. Use `zero_division` parameter to control this behavior.\n",
      "  _warn_prf(average, modifier, f\"{metric.capitalize()} is\", len(result))\n"
     ]
    }
   ],
   "source": [
    "cm, report = evaluate_model(model, test_loader, class_names)\n",
    "\n",
    "f1 = report['weighted avg']['f1-score']\n",
    "accuracy = report['accuracy']\n",
    "\n",
    "print(f\"F1 Score: {f1:.4f}\")\n",
    "print(f\"Accuracy: {accuracy:.4f}\")"
   ]
  },
  {
   "cell_type": "markdown",
   "metadata": {},
   "source": [
    "### **2.ResNet**"
   ]
  },
  {
   "cell_type": "code",
   "execution_count": 42,
   "metadata": {},
   "outputs": [
    {
     "name": "stderr",
     "output_type": "stream",
     "text": [
      "c:\\Users\\Leonardo\\anaconda3\\Lib\\site-packages\\torchvision\\models\\_utils.py:208: UserWarning: The parameter 'pretrained' is deprecated since 0.13 and may be removed in the future, please use 'weights' instead.\n",
      "  warnings.warn(\n",
      "c:\\Users\\Leonardo\\anaconda3\\Lib\\site-packages\\torchvision\\models\\_utils.py:223: UserWarning: Arguments other than a weight enum or `None` for 'weights' are deprecated since 0.13 and may be removed in the future. The current behavior is equivalent to passing `weights=ResNet18_Weights.IMAGENET1K_V1`. You can also use `weights=ResNet18_Weights.DEFAULT` to get the most up-to-date weights.\n",
      "  warnings.warn(msg)\n",
      "C:\\Users\\Leonardo\\AppData\\Local\\Temp\\ipykernel_21488\\2414495537.py:6: FutureWarning: You are using `torch.load` with `weights_only=False` (the current default value), which uses the default pickle module implicitly. It is possible to construct malicious pickle data which will execute arbitrary code during unpickling (See https://github.com/pytorch/pytorch/blob/main/SECURITY.md#untrusted-models for more details). In a future release, the default value for `weights_only` will be flipped to `True`. This limits the functions that could be executed during unpickling. Arbitrary objects will no longer be allowed to be loaded via this mode unless they are explicitly allowlisted by the user via `torch.serialization.add_safe_globals`. We recommend you start setting `weights_only=True` for any use case where you don't have full control of the loaded file. Please open an issue on GitHub for any issues related to this experimental feature.\n",
      "  model.load_state_dict(torch.load('resNet_plant_disease_model.pth'))\n"
     ]
    },
    {
     "data": {
      "text/plain": [
       "<All keys matched successfully>"
      ]
     },
     "execution_count": 42,
     "metadata": {},
     "output_type": "execute_result"
    }
   ],
   "source": [
    "test_loader, _ = load_test_data(224)\n",
    "\n",
    "model = models.resnet18(pretrained=True)\n",
    "model.fc = nn.Linear(model.fc.in_features, num_classes)\n",
    "model = model.to(device)\n",
    "model.load_state_dict(torch.load('resNet_plant_disease_model.pth'))"
   ]
  },
  {
   "cell_type": "code",
   "execution_count": 46,
   "metadata": {},
   "outputs": [
    {
     "name": "stdout",
     "output_type": "stream",
     "text": [
      "F1 Score: 0.2044\n",
      "Accuracy: 0.2434\n"
     ]
    },
    {
     "name": "stderr",
     "output_type": "stream",
     "text": [
      "c:\\Users\\Leonardo\\anaconda3\\Lib\\site-packages\\sklearn\\metrics\\_classification.py:1531: UndefinedMetricWarning: Precision is ill-defined and being set to 0.0 in labels with no predicted samples. Use `zero_division` parameter to control this behavior.\n",
      "  _warn_prf(average, modifier, f\"{metric.capitalize()} is\", len(result))\n",
      "c:\\Users\\Leonardo\\anaconda3\\Lib\\site-packages\\sklearn\\metrics\\_classification.py:1531: UndefinedMetricWarning: Precision is ill-defined and being set to 0.0 in labels with no predicted samples. Use `zero_division` parameter to control this behavior.\n",
      "  _warn_prf(average, modifier, f\"{metric.capitalize()} is\", len(result))\n",
      "c:\\Users\\Leonardo\\anaconda3\\Lib\\site-packages\\sklearn\\metrics\\_classification.py:1531: UndefinedMetricWarning: Precision is ill-defined and being set to 0.0 in labels with no predicted samples. Use `zero_division` parameter to control this behavior.\n",
      "  _warn_prf(average, modifier, f\"{metric.capitalize()} is\", len(result))\n"
     ]
    }
   ],
   "source": [
    "cm, report = evaluate_model(model, test_loader, class_names)\n",
    "\n",
    "f1 = report['weighted avg']['f1-score']\n",
    "accuracy = report['accuracy']\n",
    "\n",
    "print(f\"F1 Score: {f1:.4f}\")\n",
    "print(f\"Accuracy: {accuracy:.4f}\")"
   ]
  },
  {
   "cell_type": "markdown",
   "metadata": {},
   "source": [
    "**Future Goal**: try to improve score on real Dataset"
   ]
  }
 ],
 "metadata": {
  "kernelspec": {
   "display_name": "Python 3",
   "language": "python",
   "name": "python3"
  },
  "language_info": {
   "codemirror_mode": {
    "name": "ipython",
    "version": 3
   },
   "file_extension": ".py",
   "mimetype": "text/x-python",
   "name": "python",
   "nbconvert_exporter": "python",
   "pygments_lexer": "ipython3",
   "version": "3.10.12"
  }
 },
 "nbformat": 4,
 "nbformat_minor": 2
}
