{
 "cells": [
  {
   "cell_type": "code",
   "execution_count": 1,
   "metadata": {},
   "outputs": [],
   "source": [
    "import os\n",
    "import numpy as np\n",
    "import pandas as pd\n",
    "import matplotlib.pyplot as plt\n",
    "import torch"
   ]
  },
  {
   "cell_type": "markdown",
   "metadata": {},
   "source": [
    "### **Download Dataset**"
   ]
  },
  {
   "cell_type": "code",
   "execution_count": 2,
   "metadata": {},
   "outputs": [],
   "source": [
    "import os\n",
    "from functions import download_and_extract_zip\n",
    "\n",
    "# URL of the zip file on Google Drive\n",
    "url = 'https://drive.google.com/file/d/1iePsqUVQjv_fVZQzFy7pntcTUtGmb_wx/view?usp=sharing'\n",
    "\n",
    "# Check if the 'PlantVillage' folder exists\n",
    "if not os.path.exists('PlantVillage') or not os.listdir('PlantVillage'):\n",
    "    download_and_extract_zip(url)"
   ]
  },
  {
   "cell_type": "markdown",
   "metadata": {},
   "source": [
    "# **Training and evaluating Models**"
   ]
  },
  {
   "cell_type": "code",
   "execution_count": 16,
   "metadata": {},
   "outputs": [],
   "source": [
    "import importlib\n",
    "import model_fun\n",
    "importlib.reload(model_fun); "
   ]
  },
  {
   "cell_type": "code",
   "execution_count": 3,
   "metadata": {},
   "outputs": [],
   "source": [
    "from model_fun import load_data, SimpleCNN, train_model, evaluate_model, load_model\n",
    "\n",
    "device = torch.device('cuda' if torch.cuda.is_available() else 'cpu')  # Use GPU if available\n",
    "num_classes = 38"
   ]
  },
  {
   "cell_type": "code",
   "execution_count": null,
   "metadata": {},
   "outputs": [
    {
     "name": "stderr",
     "output_type": "stream",
     "text": [
      "Epoch 1/1: 100%|██████████| 1358/1358 [01:37<00:00, 13.99batch/s, loss=0.613]\n"
     ]
    },
    {
     "name": "stdout",
     "output_type": "stream",
     "text": [
      "Epoch 1, Average Loss: 1.5448\n",
      "Validation Accuracy: 77.57%\n",
      "Validation Loss: 0.7146\n",
      "Maximum number of epochs reached.\n"
     ]
    }
   ],
   "source": [
    "image_width = 32\n",
    "train_loader, val_loader, test_loader, class_names = load_data(image_width)\n",
    "\n",
    "model = SimpleCNN(num_classes, image_width, num_layers=5, first_layer_filters=64).to(device)  # Move model to device\n",
    "\n",
    "train_model(model, num_classes, train_loader, val_loader, epoch = 1)"
   ]
  },
  {
   "cell_type": "code",
   "execution_count": null,
   "metadata": {},
   "outputs": [
    {
     "name": "stdout",
     "output_type": "stream",
     "text": [
      "F1 Score: 0.8324\n"
     ]
    }
   ],
   "source": [
    "cm, report = evaluate_model(model, test_loader, class_names)\n",
    "\n",
    "f1 = report['weighted avg']['f1-score']\n",
    "accuracy = report['accuracy']\n",
    "\n",
    "print(f\"F1 Score: {f1:.4f}\")\n",
    "print(f\"Accuracy: {accuracy:.4f}\")"
   ]
  },
  {
   "cell_type": "markdown",
   "metadata": {},
   "source": [
    "## **Model trained on downscaled images vs fullscaled**"
   ]
  },
  {
   "cell_type": "code",
   "execution_count": null,
   "metadata": {},
   "outputs": [
    {
     "name": "stdout",
     "output_type": "stream",
     "text": [
      "F1 Score with downscaled images (32x32): 0.9602\n"
     ]
    }
   ],
   "source": [
    "model = load_model('plant_disease_model_32_3layer_32initial.pth', num_classes, image_width=32, num_layers=3, first_layer_filters=32)\n",
    "train_loader, val_loader, test_loader, class_names = load_data(32)\n",
    "\n",
    "_, report = evaluate_model(model, test_loader, class_names)\n",
    "\n",
    "f1 = report['weighted avg']['f1-score']\n",
    "\n",
    "print(f\"F1 Score with downscaled images (32x32): {f1:.4f}\")"
   ]
  },
  {
   "cell_type": "code",
   "execution_count": null,
   "metadata": {},
   "outputs": [],
   "source": [
    "model = load_model('?', num_classes, image_width=256, num_layers=3, first_layer_filters=32)\n",
    "train_loader, val_loader, test_loader, class_names = load_data(256)\n",
    "\n",
    "_, report = evaluate_model(model, test_loader, class_names)\n",
    "f1 = report['weighted avg']['f1-score']\n",
    "\n",
    "print(f\"F1 Score with original images: {f1}\")"
   ]
  },
  {
   "cell_type": "markdown",
   "metadata": {},
   "source": [
    "## **Analysis of mismatched classes**"
   ]
  },
  {
   "cell_type": "code",
   "execution_count": null,
   "metadata": {},
   "outputs": [],
   "source": []
  },
  {
   "cell_type": "markdown",
   "metadata": {},
   "source": [
    "## **Heat Map**"
   ]
  },
  {
   "cell_type": "code",
   "execution_count": null,
   "metadata": {},
   "outputs": [],
   "source": []
  },
  {
   "cell_type": "markdown",
   "metadata": {},
   "source": [
    "## **Multilabel test with missing classes**"
   ]
  },
  {
   "cell_type": "code",
   "execution_count": null,
   "metadata": {},
   "outputs": [],
   "source": []
  },
  {
   "cell_type": "markdown",
   "metadata": {},
   "source": [
    "## **Test on real Dataset**"
   ]
  },
  {
   "cell_type": "markdown",
   "metadata": {},
   "source": []
  }
 ],
 "metadata": {
  "kernelspec": {
   "display_name": "base",
   "language": "python",
   "name": "python3"
  },
  "language_info": {
   "codemirror_mode": {
    "name": "ipython",
    "version": 3
   },
   "file_extension": ".py",
   "mimetype": "text/x-python",
   "name": "python",
   "nbconvert_exporter": "python",
   "pygments_lexer": "ipython3",
   "version": "3.12.7"
  }
 },
 "nbformat": 4,
 "nbformat_minor": 2
}
